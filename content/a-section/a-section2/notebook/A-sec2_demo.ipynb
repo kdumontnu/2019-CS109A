{
 "cells": [
  {
   "cell_type": "markdown",
   "metadata": {},
   "source": [
    "# Advanced section 2 - Regularization\n",
    "\n",
    "This notebooks shows, in code, the effects of the regularization methods. We also show the instability that can arise in OLS."
   ]
  },
  {
   "cell_type": "code",
   "execution_count": 6,
   "metadata": {},
   "outputs": [
    {
     "data": {
      "text/html": [
       "        <script type=\"text/javascript\">\n",
       "        window.PlotlyConfig = {MathJaxConfig: 'local'};\n",
       "        if (window.MathJax) {MathJax.Hub.Config({SVG: {font: \"STIX-Web\"}});}\n",
       "        if (typeof require !== 'undefined') {\n",
       "        require.undef(\"plotly\");\n",
       "        requirejs.config({\n",
       "            paths: {\n",
       "                'plotly': ['https://cdn.plot.ly/plotly-latest.min']\n",
       "            }\n",
       "        });\n",
       "        require(['plotly'], function(Plotly) {\n",
       "            window._Plotly = Plotly;\n",
       "        });\n",
       "        }\n",
       "        </script>\n",
       "        "
      ]
     },
     "metadata": {},
     "output_type": "display_data"
    }
   ],
   "source": [
    "# Imports\n",
    "import numpy as np\n",
    "\n",
    "import matplotlib.pyplot as plt\n",
    "from mpl_toolkits.mplot3d import Axes3D as a3d\n",
    "\n",
    "from plotly.offline import download_plotlyjs, init_notebook_mode, plot, iplot\n",
    "from chart_studio.plotly import plot, iplot\n",
    "\n",
    "import plotly.graph_objs as go\n",
    "init_notebook_mode(connected=True)\n",
    "\n",
    "from copy import deepcopy\n",
    "\n",
    "%matplotlib inline\n",
    "%matplotlib notebook"
   ]
  },
  {
   "cell_type": "markdown",
   "metadata": {},
   "source": [
    "## Create regression problem\n",
    "\n",
    "To exemplify the estimators and their behavior on different types of data, we create a basic 2D regression, as well as a 2d regression with highly colinear predictors. Let's start with a normal regression with random predictor values:"
   ]
  },
  {
   "cell_type": "code",
   "execution_count": 7,
   "metadata": {},
   "outputs": [],
   "source": [
    "## Global variables for plots\n",
    "\n",
    "# True betas:\n",
    "b_true = np.array([3,7]).reshape((2,1))\n",
    "\n",
    "# Samples and Y noise\n",
    "N=100\n",
    "sigma = 5\n",
    "\n",
    "# linspaces\n",
    "lsp = np.linspace(-1.5,1.5,20)\n",
    "lsp_x, lsp_y = np.meshgrid(lsp,lsp)\n",
    "lsp_mat = np.column_stack((lsp_x.flatten(),lsp_y.flatten()))\n"
   ]
  },
  {
   "cell_type": "code",
   "execution_count": 8,
   "metadata": {},
   "outputs": [],
   "source": [
    "# Generate random data from the true betas\n",
    "X = np.random.rand(N,2)*10-5\n",
    "X = (X - X.mean(axis=0))/X.std(axis=0)\n",
    "eps = np.random.normal(scale=sigma, size = (N,1))\n",
    "y = np.dot(X,b_true) + eps\n"
   ]
  },
  {
   "cell_type": "markdown",
   "metadata": {},
   "source": [
    "## Plot regression problem"
   ]
  },
  {
   "cell_type": "code",
   "execution_count": 9,
   "metadata": {},
   "outputs": [
    {
     "data": {
      "application/javascript": [
       "/* Put everything inside the global mpl namespace */\n",
       "window.mpl = {};\n",
       "\n",
       "\n",
       "mpl.get_websocket_type = function() {\n",
       "    if (typeof(WebSocket) !== 'undefined') {\n",
       "        return WebSocket;\n",
       "    } else if (typeof(MozWebSocket) !== 'undefined') {\n",
       "        return MozWebSocket;\n",
       "    } else {\n",
       "        alert('Your browser does not have WebSocket support.' +\n",
       "              'Please try Chrome, Safari or Firefox ≥ 6. ' +\n",
       "              'Firefox 4 and 5 are also supported but you ' +\n",
       "              'have to enable WebSockets in about:config.');\n",
       "    };\n",
       "}\n",
       "\n",
       "mpl.figure = function(figure_id, websocket, ondownload, parent_element) {\n",
       "    this.id = figure_id;\n",
       "\n",
       "    this.ws = websocket;\n",
       "\n",
       "    this.supports_binary = (this.ws.binaryType != undefined);\n",
       "\n",
       "    if (!this.supports_binary) {\n",
       "        var warnings = document.getElementById(\"mpl-warnings\");\n",
       "        if (warnings) {\n",
       "            warnings.style.display = 'block';\n",
       "            warnings.textContent = (\n",
       "                \"This browser does not support binary websocket messages. \" +\n",
       "                    \"Performance may be slow.\");\n",
       "        }\n",
       "    }\n",
       "\n",
       "    this.imageObj = new Image();\n",
       "\n",
       "    this.context = undefined;\n",
       "    this.message = undefined;\n",
       "    this.canvas = undefined;\n",
       "    this.rubberband_canvas = undefined;\n",
       "    this.rubberband_context = undefined;\n",
       "    this.format_dropdown = undefined;\n",
       "\n",
       "    this.image_mode = 'full';\n",
       "\n",
       "    this.root = $('<div/>');\n",
       "    this._root_extra_style(this.root)\n",
       "    this.root.attr('style', 'display: inline-block');\n",
       "\n",
       "    $(parent_element).append(this.root);\n",
       "\n",
       "    this._init_header(this);\n",
       "    this._init_canvas(this);\n",
       "    this._init_toolbar(this);\n",
       "\n",
       "    var fig = this;\n",
       "\n",
       "    this.waiting = false;\n",
       "\n",
       "    this.ws.onopen =  function () {\n",
       "            fig.send_message(\"supports_binary\", {value: fig.supports_binary});\n",
       "            fig.send_message(\"send_image_mode\", {});\n",
       "            if (mpl.ratio != 1) {\n",
       "                fig.send_message(\"set_dpi_ratio\", {'dpi_ratio': mpl.ratio});\n",
       "            }\n",
       "            fig.send_message(\"refresh\", {});\n",
       "        }\n",
       "\n",
       "    this.imageObj.onload = function() {\n",
       "            if (fig.image_mode == 'full') {\n",
       "                // Full images could contain transparency (where diff images\n",
       "                // almost always do), so we need to clear the canvas so that\n",
       "                // there is no ghosting.\n",
       "                fig.context.clearRect(0, 0, fig.canvas.width, fig.canvas.height);\n",
       "            }\n",
       "            fig.context.drawImage(fig.imageObj, 0, 0);\n",
       "        };\n",
       "\n",
       "    this.imageObj.onunload = function() {\n",
       "        fig.ws.close();\n",
       "    }\n",
       "\n",
       "    this.ws.onmessage = this._make_on_message_function(this);\n",
       "\n",
       "    this.ondownload = ondownload;\n",
       "}\n",
       "\n",
       "mpl.figure.prototype._init_header = function() {\n",
       "    var titlebar = $(\n",
       "        '<div class=\"ui-dialog-titlebar ui-widget-header ui-corner-all ' +\n",
       "        'ui-helper-clearfix\"/>');\n",
       "    var titletext = $(\n",
       "        '<div class=\"ui-dialog-title\" style=\"width: 100%; ' +\n",
       "        'text-align: center; padding: 3px;\"/>');\n",
       "    titlebar.append(titletext)\n",
       "    this.root.append(titlebar);\n",
       "    this.header = titletext[0];\n",
       "}\n",
       "\n",
       "\n",
       "\n",
       "mpl.figure.prototype._canvas_extra_style = function(canvas_div) {\n",
       "\n",
       "}\n",
       "\n",
       "\n",
       "mpl.figure.prototype._root_extra_style = function(canvas_div) {\n",
       "\n",
       "}\n",
       "\n",
       "mpl.figure.prototype._init_canvas = function() {\n",
       "    var fig = this;\n",
       "\n",
       "    var canvas_div = $('<div/>');\n",
       "\n",
       "    canvas_div.attr('style', 'position: relative; clear: both; outline: 0');\n",
       "\n",
       "    function canvas_keyboard_event(event) {\n",
       "        return fig.key_event(event, event['data']);\n",
       "    }\n",
       "\n",
       "    canvas_div.keydown('key_press', canvas_keyboard_event);\n",
       "    canvas_div.keyup('key_release', canvas_keyboard_event);\n",
       "    this.canvas_div = canvas_div\n",
       "    this._canvas_extra_style(canvas_div)\n",
       "    this.root.append(canvas_div);\n",
       "\n",
       "    var canvas = $('<canvas/>');\n",
       "    canvas.addClass('mpl-canvas');\n",
       "    canvas.attr('style', \"left: 0; top: 0; z-index: 0; outline: 0\")\n",
       "\n",
       "    this.canvas = canvas[0];\n",
       "    this.context = canvas[0].getContext(\"2d\");\n",
       "\n",
       "    var backingStore = this.context.backingStorePixelRatio ||\n",
       "\tthis.context.webkitBackingStorePixelRatio ||\n",
       "\tthis.context.mozBackingStorePixelRatio ||\n",
       "\tthis.context.msBackingStorePixelRatio ||\n",
       "\tthis.context.oBackingStorePixelRatio ||\n",
       "\tthis.context.backingStorePixelRatio || 1;\n",
       "\n",
       "    mpl.ratio = (window.devicePixelRatio || 1) / backingStore;\n",
       "\n",
       "    var rubberband = $('<canvas/>');\n",
       "    rubberband.attr('style', \"position: absolute; left: 0; top: 0; z-index: 1;\")\n",
       "\n",
       "    var pass_mouse_events = true;\n",
       "\n",
       "    canvas_div.resizable({\n",
       "        start: function(event, ui) {\n",
       "            pass_mouse_events = false;\n",
       "        },\n",
       "        resize: function(event, ui) {\n",
       "            fig.request_resize(ui.size.width, ui.size.height);\n",
       "        },\n",
       "        stop: function(event, ui) {\n",
       "            pass_mouse_events = true;\n",
       "            fig.request_resize(ui.size.width, ui.size.height);\n",
       "        },\n",
       "    });\n",
       "\n",
       "    function mouse_event_fn(event) {\n",
       "        if (pass_mouse_events)\n",
       "            return fig.mouse_event(event, event['data']);\n",
       "    }\n",
       "\n",
       "    rubberband.mousedown('button_press', mouse_event_fn);\n",
       "    rubberband.mouseup('button_release', mouse_event_fn);\n",
       "    // Throttle sequential mouse events to 1 every 20ms.\n",
       "    rubberband.mousemove('motion_notify', mouse_event_fn);\n",
       "\n",
       "    rubberband.mouseenter('figure_enter', mouse_event_fn);\n",
       "    rubberband.mouseleave('figure_leave', mouse_event_fn);\n",
       "\n",
       "    canvas_div.on(\"wheel\", function (event) {\n",
       "        event = event.originalEvent;\n",
       "        event['data'] = 'scroll'\n",
       "        if (event.deltaY < 0) {\n",
       "            event.step = 1;\n",
       "        } else {\n",
       "            event.step = -1;\n",
       "        }\n",
       "        mouse_event_fn(event);\n",
       "    });\n",
       "\n",
       "    canvas_div.append(canvas);\n",
       "    canvas_div.append(rubberband);\n",
       "\n",
       "    this.rubberband = rubberband;\n",
       "    this.rubberband_canvas = rubberband[0];\n",
       "    this.rubberband_context = rubberband[0].getContext(\"2d\");\n",
       "    this.rubberband_context.strokeStyle = \"#000000\";\n",
       "\n",
       "    this._resize_canvas = function(width, height) {\n",
       "        // Keep the size of the canvas, canvas container, and rubber band\n",
       "        // canvas in synch.\n",
       "        canvas_div.css('width', width)\n",
       "        canvas_div.css('height', height)\n",
       "\n",
       "        canvas.attr('width', width * mpl.ratio);\n",
       "        canvas.attr('height', height * mpl.ratio);\n",
       "        canvas.attr('style', 'width: ' + width + 'px; height: ' + height + 'px;');\n",
       "\n",
       "        rubberband.attr('width', width);\n",
       "        rubberband.attr('height', height);\n",
       "    }\n",
       "\n",
       "    // Set the figure to an initial 600x600px, this will subsequently be updated\n",
       "    // upon first draw.\n",
       "    this._resize_canvas(600, 600);\n",
       "\n",
       "    // Disable right mouse context menu.\n",
       "    $(this.rubberband_canvas).bind(\"contextmenu\",function(e){\n",
       "        return false;\n",
       "    });\n",
       "\n",
       "    function set_focus () {\n",
       "        canvas.focus();\n",
       "        canvas_div.focus();\n",
       "    }\n",
       "\n",
       "    window.setTimeout(set_focus, 100);\n",
       "}\n",
       "\n",
       "mpl.figure.prototype._init_toolbar = function() {\n",
       "    var fig = this;\n",
       "\n",
       "    var nav_element = $('<div/>')\n",
       "    nav_element.attr('style', 'width: 100%');\n",
       "    this.root.append(nav_element);\n",
       "\n",
       "    // Define a callback function for later on.\n",
       "    function toolbar_event(event) {\n",
       "        return fig.toolbar_button_onclick(event['data']);\n",
       "    }\n",
       "    function toolbar_mouse_event(event) {\n",
       "        return fig.toolbar_button_onmouseover(event['data']);\n",
       "    }\n",
       "\n",
       "    for(var toolbar_ind in mpl.toolbar_items) {\n",
       "        var name = mpl.toolbar_items[toolbar_ind][0];\n",
       "        var tooltip = mpl.toolbar_items[toolbar_ind][1];\n",
       "        var image = mpl.toolbar_items[toolbar_ind][2];\n",
       "        var method_name = mpl.toolbar_items[toolbar_ind][3];\n",
       "\n",
       "        if (!name) {\n",
       "            // put a spacer in here.\n",
       "            continue;\n",
       "        }\n",
       "        var button = $('<button/>');\n",
       "        button.addClass('ui-button ui-widget ui-state-default ui-corner-all ' +\n",
       "                        'ui-button-icon-only');\n",
       "        button.attr('role', 'button');\n",
       "        button.attr('aria-disabled', 'false');\n",
       "        button.click(method_name, toolbar_event);\n",
       "        button.mouseover(tooltip, toolbar_mouse_event);\n",
       "\n",
       "        var icon_img = $('<span/>');\n",
       "        icon_img.addClass('ui-button-icon-primary ui-icon');\n",
       "        icon_img.addClass(image);\n",
       "        icon_img.addClass('ui-corner-all');\n",
       "\n",
       "        var tooltip_span = $('<span/>');\n",
       "        tooltip_span.addClass('ui-button-text');\n",
       "        tooltip_span.html(tooltip);\n",
       "\n",
       "        button.append(icon_img);\n",
       "        button.append(tooltip_span);\n",
       "\n",
       "        nav_element.append(button);\n",
       "    }\n",
       "\n",
       "    var fmt_picker_span = $('<span/>');\n",
       "\n",
       "    var fmt_picker = $('<select/>');\n",
       "    fmt_picker.addClass('mpl-toolbar-option ui-widget ui-widget-content');\n",
       "    fmt_picker_span.append(fmt_picker);\n",
       "    nav_element.append(fmt_picker_span);\n",
       "    this.format_dropdown = fmt_picker[0];\n",
       "\n",
       "    for (var ind in mpl.extensions) {\n",
       "        var fmt = mpl.extensions[ind];\n",
       "        var option = $(\n",
       "            '<option/>', {selected: fmt === mpl.default_extension}).html(fmt);\n",
       "        fmt_picker.append(option)\n",
       "    }\n",
       "\n",
       "    // Add hover states to the ui-buttons\n",
       "    $( \".ui-button\" ).hover(\n",
       "        function() { $(this).addClass(\"ui-state-hover\");},\n",
       "        function() { $(this).removeClass(\"ui-state-hover\");}\n",
       "    );\n",
       "\n",
       "    var status_bar = $('<span class=\"mpl-message\"/>');\n",
       "    nav_element.append(status_bar);\n",
       "    this.message = status_bar[0];\n",
       "}\n",
       "\n",
       "mpl.figure.prototype.request_resize = function(x_pixels, y_pixels) {\n",
       "    // Request matplotlib to resize the figure. Matplotlib will then trigger a resize in the client,\n",
       "    // which will in turn request a refresh of the image.\n",
       "    this.send_message('resize', {'width': x_pixels, 'height': y_pixels});\n",
       "}\n",
       "\n",
       "mpl.figure.prototype.send_message = function(type, properties) {\n",
       "    properties['type'] = type;\n",
       "    properties['figure_id'] = this.id;\n",
       "    this.ws.send(JSON.stringify(properties));\n",
       "}\n",
       "\n",
       "mpl.figure.prototype.send_draw_message = function() {\n",
       "    if (!this.waiting) {\n",
       "        this.waiting = true;\n",
       "        this.ws.send(JSON.stringify({type: \"draw\", figure_id: this.id}));\n",
       "    }\n",
       "}\n",
       "\n",
       "\n",
       "mpl.figure.prototype.handle_save = function(fig, msg) {\n",
       "    var format_dropdown = fig.format_dropdown;\n",
       "    var format = format_dropdown.options[format_dropdown.selectedIndex].value;\n",
       "    fig.ondownload(fig, format);\n",
       "}\n",
       "\n",
       "\n",
       "mpl.figure.prototype.handle_resize = function(fig, msg) {\n",
       "    var size = msg['size'];\n",
       "    if (size[0] != fig.canvas.width || size[1] != fig.canvas.height) {\n",
       "        fig._resize_canvas(size[0], size[1]);\n",
       "        fig.send_message(\"refresh\", {});\n",
       "    };\n",
       "}\n",
       "\n",
       "mpl.figure.prototype.handle_rubberband = function(fig, msg) {\n",
       "    var x0 = msg['x0'] / mpl.ratio;\n",
       "    var y0 = (fig.canvas.height - msg['y0']) / mpl.ratio;\n",
       "    var x1 = msg['x1'] / mpl.ratio;\n",
       "    var y1 = (fig.canvas.height - msg['y1']) / mpl.ratio;\n",
       "    x0 = Math.floor(x0) + 0.5;\n",
       "    y0 = Math.floor(y0) + 0.5;\n",
       "    x1 = Math.floor(x1) + 0.5;\n",
       "    y1 = Math.floor(y1) + 0.5;\n",
       "    var min_x = Math.min(x0, x1);\n",
       "    var min_y = Math.min(y0, y1);\n",
       "    var width = Math.abs(x1 - x0);\n",
       "    var height = Math.abs(y1 - y0);\n",
       "\n",
       "    fig.rubberband_context.clearRect(\n",
       "        0, 0, fig.canvas.width, fig.canvas.height);\n",
       "\n",
       "    fig.rubberband_context.strokeRect(min_x, min_y, width, height);\n",
       "}\n",
       "\n",
       "mpl.figure.prototype.handle_figure_label = function(fig, msg) {\n",
       "    // Updates the figure title.\n",
       "    fig.header.textContent = msg['label'];\n",
       "}\n",
       "\n",
       "mpl.figure.prototype.handle_cursor = function(fig, msg) {\n",
       "    var cursor = msg['cursor'];\n",
       "    switch(cursor)\n",
       "    {\n",
       "    case 0:\n",
       "        cursor = 'pointer';\n",
       "        break;\n",
       "    case 1:\n",
       "        cursor = 'default';\n",
       "        break;\n",
       "    case 2:\n",
       "        cursor = 'crosshair';\n",
       "        break;\n",
       "    case 3:\n",
       "        cursor = 'move';\n",
       "        break;\n",
       "    }\n",
       "    fig.rubberband_canvas.style.cursor = cursor;\n",
       "}\n",
       "\n",
       "mpl.figure.prototype.handle_message = function(fig, msg) {\n",
       "    fig.message.textContent = msg['message'];\n",
       "}\n",
       "\n",
       "mpl.figure.prototype.handle_draw = function(fig, msg) {\n",
       "    // Request the server to send over a new figure.\n",
       "    fig.send_draw_message();\n",
       "}\n",
       "\n",
       "mpl.figure.prototype.handle_image_mode = function(fig, msg) {\n",
       "    fig.image_mode = msg['mode'];\n",
       "}\n",
       "\n",
       "mpl.figure.prototype.updated_canvas_event = function() {\n",
       "    // Called whenever the canvas gets updated.\n",
       "    this.send_message(\"ack\", {});\n",
       "}\n",
       "\n",
       "// A function to construct a web socket function for onmessage handling.\n",
       "// Called in the figure constructor.\n",
       "mpl.figure.prototype._make_on_message_function = function(fig) {\n",
       "    return function socket_on_message(evt) {\n",
       "        if (evt.data instanceof Blob) {\n",
       "            /* FIXME: We get \"Resource interpreted as Image but\n",
       "             * transferred with MIME type text/plain:\" errors on\n",
       "             * Chrome.  But how to set the MIME type?  It doesn't seem\n",
       "             * to be part of the websocket stream */\n",
       "            evt.data.type = \"image/png\";\n",
       "\n",
       "            /* Free the memory for the previous frames */\n",
       "            if (fig.imageObj.src) {\n",
       "                (window.URL || window.webkitURL).revokeObjectURL(\n",
       "                    fig.imageObj.src);\n",
       "            }\n",
       "\n",
       "            fig.imageObj.src = (window.URL || window.webkitURL).createObjectURL(\n",
       "                evt.data);\n",
       "            fig.updated_canvas_event();\n",
       "            fig.waiting = false;\n",
       "            return;\n",
       "        }\n",
       "        else if (typeof evt.data === 'string' && evt.data.slice(0, 21) == \"data:image/png;base64\") {\n",
       "            fig.imageObj.src = evt.data;\n",
       "            fig.updated_canvas_event();\n",
       "            fig.waiting = false;\n",
       "            return;\n",
       "        }\n",
       "\n",
       "        var msg = JSON.parse(evt.data);\n",
       "        var msg_type = msg['type'];\n",
       "\n",
       "        // Call the  \"handle_{type}\" callback, which takes\n",
       "        // the figure and JSON message as its only arguments.\n",
       "        try {\n",
       "            var callback = fig[\"handle_\" + msg_type];\n",
       "        } catch (e) {\n",
       "            console.log(\"No handler for the '\" + msg_type + \"' message type: \", msg);\n",
       "            return;\n",
       "        }\n",
       "\n",
       "        if (callback) {\n",
       "            try {\n",
       "                // console.log(\"Handling '\" + msg_type + \"' message: \", msg);\n",
       "                callback(fig, msg);\n",
       "            } catch (e) {\n",
       "                console.log(\"Exception inside the 'handler_\" + msg_type + \"' callback:\", e, e.stack, msg);\n",
       "            }\n",
       "        }\n",
       "    };\n",
       "}\n",
       "\n",
       "// from http://stackoverflow.com/questions/1114465/getting-mouse-location-in-canvas\n",
       "mpl.findpos = function(e) {\n",
       "    //this section is from http://www.quirksmode.org/js/events_properties.html\n",
       "    var targ;\n",
       "    if (!e)\n",
       "        e = window.event;\n",
       "    if (e.target)\n",
       "        targ = e.target;\n",
       "    else if (e.srcElement)\n",
       "        targ = e.srcElement;\n",
       "    if (targ.nodeType == 3) // defeat Safari bug\n",
       "        targ = targ.parentNode;\n",
       "\n",
       "    // jQuery normalizes the pageX and pageY\n",
       "    // pageX,Y are the mouse positions relative to the document\n",
       "    // offset() returns the position of the element relative to the document\n",
       "    var x = e.pageX - $(targ).offset().left;\n",
       "    var y = e.pageY - $(targ).offset().top;\n",
       "\n",
       "    return {\"x\": x, \"y\": y};\n",
       "};\n",
       "\n",
       "/*\n",
       " * return a copy of an object with only non-object keys\n",
       " * we need this to avoid circular references\n",
       " * http://stackoverflow.com/a/24161582/3208463\n",
       " */\n",
       "function simpleKeys (original) {\n",
       "  return Object.keys(original).reduce(function (obj, key) {\n",
       "    if (typeof original[key] !== 'object')\n",
       "        obj[key] = original[key]\n",
       "    return obj;\n",
       "  }, {});\n",
       "}\n",
       "\n",
       "mpl.figure.prototype.mouse_event = function(event, name) {\n",
       "    var canvas_pos = mpl.findpos(event)\n",
       "\n",
       "    if (name === 'button_press')\n",
       "    {\n",
       "        this.canvas.focus();\n",
       "        this.canvas_div.focus();\n",
       "    }\n",
       "\n",
       "    var x = canvas_pos.x * mpl.ratio;\n",
       "    var y = canvas_pos.y * mpl.ratio;\n",
       "\n",
       "    this.send_message(name, {x: x, y: y, button: event.button,\n",
       "                             step: event.step,\n",
       "                             guiEvent: simpleKeys(event)});\n",
       "\n",
       "    /* This prevents the web browser from automatically changing to\n",
       "     * the text insertion cursor when the button is pressed.  We want\n",
       "     * to control all of the cursor setting manually through the\n",
       "     * 'cursor' event from matplotlib */\n",
       "    event.preventDefault();\n",
       "    return false;\n",
       "}\n",
       "\n",
       "mpl.figure.prototype._key_event_extra = function(event, name) {\n",
       "    // Handle any extra behaviour associated with a key event\n",
       "}\n",
       "\n",
       "mpl.figure.prototype.key_event = function(event, name) {\n",
       "\n",
       "    // Prevent repeat events\n",
       "    if (name == 'key_press')\n",
       "    {\n",
       "        if (event.which === this._key)\n",
       "            return;\n",
       "        else\n",
       "            this._key = event.which;\n",
       "    }\n",
       "    if (name == 'key_release')\n",
       "        this._key = null;\n",
       "\n",
       "    var value = '';\n",
       "    if (event.ctrlKey && event.which != 17)\n",
       "        value += \"ctrl+\";\n",
       "    if (event.altKey && event.which != 18)\n",
       "        value += \"alt+\";\n",
       "    if (event.shiftKey && event.which != 16)\n",
       "        value += \"shift+\";\n",
       "\n",
       "    value += 'k';\n",
       "    value += event.which.toString();\n",
       "\n",
       "    this._key_event_extra(event, name);\n",
       "\n",
       "    this.send_message(name, {key: value,\n",
       "                             guiEvent: simpleKeys(event)});\n",
       "    return false;\n",
       "}\n",
       "\n",
       "mpl.figure.prototype.toolbar_button_onclick = function(name) {\n",
       "    if (name == 'download') {\n",
       "        this.handle_save(this, null);\n",
       "    } else {\n",
       "        this.send_message(\"toolbar_button\", {name: name});\n",
       "    }\n",
       "};\n",
       "\n",
       "mpl.figure.prototype.toolbar_button_onmouseover = function(tooltip) {\n",
       "    this.message.textContent = tooltip;\n",
       "};\n",
       "mpl.toolbar_items = [[\"Home\", \"Reset original view\", \"fa fa-home icon-home\", \"home\"], [\"Back\", \"Back to  previous view\", \"fa fa-arrow-left icon-arrow-left\", \"back\"], [\"Forward\", \"Forward to next view\", \"fa fa-arrow-right icon-arrow-right\", \"forward\"], [\"\", \"\", \"\", \"\"], [\"Pan\", \"Pan axes with left mouse, zoom with right\", \"fa fa-arrows icon-move\", \"pan\"], [\"Zoom\", \"Zoom to rectangle\", \"fa fa-square-o icon-check-empty\", \"zoom\"], [\"\", \"\", \"\", \"\"], [\"Download\", \"Download plot\", \"fa fa-floppy-o icon-save\", \"download\"]];\n",
       "\n",
       "mpl.extensions = [\"eps\", \"jpeg\", \"pdf\", \"png\", \"ps\", \"raw\", \"svg\", \"tif\"];\n",
       "\n",
       "mpl.default_extension = \"png\";var comm_websocket_adapter = function(comm) {\n",
       "    // Create a \"websocket\"-like object which calls the given IPython comm\n",
       "    // object with the appropriate methods. Currently this is a non binary\n",
       "    // socket, so there is still some room for performance tuning.\n",
       "    var ws = {};\n",
       "\n",
       "    ws.close = function() {\n",
       "        comm.close()\n",
       "    };\n",
       "    ws.send = function(m) {\n",
       "        //console.log('sending', m);\n",
       "        comm.send(m);\n",
       "    };\n",
       "    // Register the callback with on_msg.\n",
       "    comm.on_msg(function(msg) {\n",
       "        //console.log('receiving', msg['content']['data'], msg);\n",
       "        // Pass the mpl event to the overriden (by mpl) onmessage function.\n",
       "        ws.onmessage(msg['content']['data'])\n",
       "    });\n",
       "    return ws;\n",
       "}\n",
       "\n",
       "mpl.mpl_figure_comm = function(comm, msg) {\n",
       "    // This is the function which gets called when the mpl process\n",
       "    // starts-up an IPython Comm through the \"matplotlib\" channel.\n",
       "\n",
       "    var id = msg.content.data.id;\n",
       "    // Get hold of the div created by the display call when the Comm\n",
       "    // socket was opened in Python.\n",
       "    var element = $(\"#\" + id);\n",
       "    var ws_proxy = comm_websocket_adapter(comm)\n",
       "\n",
       "    function ondownload(figure, format) {\n",
       "        window.open(figure.imageObj.src);\n",
       "    }\n",
       "\n",
       "    var fig = new mpl.figure(id, ws_proxy,\n",
       "                           ondownload,\n",
       "                           element.get(0));\n",
       "\n",
       "    // Call onopen now - mpl needs it, as it is assuming we've passed it a real\n",
       "    // web socket which is closed, not our websocket->open comm proxy.\n",
       "    ws_proxy.onopen();\n",
       "\n",
       "    fig.parent_element = element.get(0);\n",
       "    fig.cell_info = mpl.find_output_cell(\"<div id='\" + id + \"'></div>\");\n",
       "    if (!fig.cell_info) {\n",
       "        console.error(\"Failed to find cell for figure\", id, fig);\n",
       "        return;\n",
       "    }\n",
       "\n",
       "    var output_index = fig.cell_info[2]\n",
       "    var cell = fig.cell_info[0];\n",
       "\n",
       "};\n",
       "\n",
       "mpl.figure.prototype.handle_close = function(fig, msg) {\n",
       "    var width = fig.canvas.width/mpl.ratio\n",
       "    fig.root.unbind('remove')\n",
       "\n",
       "    // Update the output cell to use the data from the current canvas.\n",
       "    fig.push_to_output();\n",
       "    var dataURL = fig.canvas.toDataURL();\n",
       "    // Re-enable the keyboard manager in IPython - without this line, in FF,\n",
       "    // the notebook keyboard shortcuts fail.\n",
       "    IPython.keyboard_manager.enable()\n",
       "    $(fig.parent_element).html('<img src=\"' + dataURL + '\" width=\"' + width + '\">');\n",
       "    fig.close_ws(fig, msg);\n",
       "}\n",
       "\n",
       "mpl.figure.prototype.close_ws = function(fig, msg){\n",
       "    fig.send_message('closing', msg);\n",
       "    // fig.ws.close()\n",
       "}\n",
       "\n",
       "mpl.figure.prototype.push_to_output = function(remove_interactive) {\n",
       "    // Turn the data on the canvas into data in the output cell.\n",
       "    var width = this.canvas.width/mpl.ratio\n",
       "    var dataURL = this.canvas.toDataURL();\n",
       "    this.cell_info[1]['text/html'] = '<img src=\"' + dataURL + '\" width=\"' + width + '\">';\n",
       "}\n",
       "\n",
       "mpl.figure.prototype.updated_canvas_event = function() {\n",
       "    // Tell IPython that the notebook contents must change.\n",
       "    IPython.notebook.set_dirty(true);\n",
       "    this.send_message(\"ack\", {});\n",
       "    var fig = this;\n",
       "    // Wait a second, then push the new image to the DOM so\n",
       "    // that it is saved nicely (might be nice to debounce this).\n",
       "    setTimeout(function () { fig.push_to_output() }, 1000);\n",
       "}\n",
       "\n",
       "mpl.figure.prototype._init_toolbar = function() {\n",
       "    var fig = this;\n",
       "\n",
       "    var nav_element = $('<div/>')\n",
       "    nav_element.attr('style', 'width: 100%');\n",
       "    this.root.append(nav_element);\n",
       "\n",
       "    // Define a callback function for later on.\n",
       "    function toolbar_event(event) {\n",
       "        return fig.toolbar_button_onclick(event['data']);\n",
       "    }\n",
       "    function toolbar_mouse_event(event) {\n",
       "        return fig.toolbar_button_onmouseover(event['data']);\n",
       "    }\n",
       "\n",
       "    for(var toolbar_ind in mpl.toolbar_items){\n",
       "        var name = mpl.toolbar_items[toolbar_ind][0];\n",
       "        var tooltip = mpl.toolbar_items[toolbar_ind][1];\n",
       "        var image = mpl.toolbar_items[toolbar_ind][2];\n",
       "        var method_name = mpl.toolbar_items[toolbar_ind][3];\n",
       "\n",
       "        if (!name) { continue; };\n",
       "\n",
       "        var button = $('<button class=\"btn btn-default\" href=\"#\" title=\"' + name + '\"><i class=\"fa ' + image + ' fa-lg\"></i></button>');\n",
       "        button.click(method_name, toolbar_event);\n",
       "        button.mouseover(tooltip, toolbar_mouse_event);\n",
       "        nav_element.append(button);\n",
       "    }\n",
       "\n",
       "    // Add the status bar.\n",
       "    var status_bar = $('<span class=\"mpl-message\" style=\"text-align:right; float: right;\"/>');\n",
       "    nav_element.append(status_bar);\n",
       "    this.message = status_bar[0];\n",
       "\n",
       "    // Add the close button to the window.\n",
       "    var buttongrp = $('<div class=\"btn-group inline pull-right\"></div>');\n",
       "    var button = $('<button class=\"btn btn-mini btn-primary\" href=\"#\" title=\"Stop Interaction\"><i class=\"fa fa-power-off icon-remove icon-large\"></i></button>');\n",
       "    button.click(function (evt) { fig.handle_close(fig, {}); } );\n",
       "    button.mouseover('Stop Interaction', toolbar_mouse_event);\n",
       "    buttongrp.append(button);\n",
       "    var titlebar = this.root.find($('.ui-dialog-titlebar'));\n",
       "    titlebar.prepend(buttongrp);\n",
       "}\n",
       "\n",
       "mpl.figure.prototype._root_extra_style = function(el){\n",
       "    var fig = this\n",
       "    el.on(\"remove\", function(){\n",
       "\tfig.close_ws(fig, {});\n",
       "    });\n",
       "}\n",
       "\n",
       "mpl.figure.prototype._canvas_extra_style = function(el){\n",
       "    // this is important to make the div 'focusable\n",
       "    el.attr('tabindex', 0)\n",
       "    // reach out to IPython and tell the keyboard manager to turn it's self\n",
       "    // off when our div gets focus\n",
       "\n",
       "    // location in version 3\n",
       "    if (IPython.notebook.keyboard_manager) {\n",
       "        IPython.notebook.keyboard_manager.register_events(el);\n",
       "    }\n",
       "    else {\n",
       "        // location in version 2\n",
       "        IPython.keyboard_manager.register_events(el);\n",
       "    }\n",
       "\n",
       "}\n",
       "\n",
       "mpl.figure.prototype._key_event_extra = function(event, name) {\n",
       "    var manager = IPython.notebook.keyboard_manager;\n",
       "    if (!manager)\n",
       "        manager = IPython.keyboard_manager;\n",
       "\n",
       "    // Check for shift+enter\n",
       "    if (event.shiftKey && event.which == 13) {\n",
       "        this.canvas_div.blur();\n",
       "        event.shiftKey = false;\n",
       "        // Send a \"J\" for go to next cell\n",
       "        event.which = 74;\n",
       "        event.keyCode = 74;\n",
       "        manager.command_mode();\n",
       "        manager.handle_keydown(event);\n",
       "    }\n",
       "}\n",
       "\n",
       "mpl.figure.prototype.handle_save = function(fig, msg) {\n",
       "    fig.ondownload(fig, null);\n",
       "}\n",
       "\n",
       "\n",
       "mpl.find_output_cell = function(html_output) {\n",
       "    // Return the cell and output element which can be found *uniquely* in the notebook.\n",
       "    // Note - this is a bit hacky, but it is done because the \"notebook_saving.Notebook\"\n",
       "    // IPython event is triggered only after the cells have been serialised, which for\n",
       "    // our purposes (turning an active figure into a static one), is too late.\n",
       "    var cells = IPython.notebook.get_cells();\n",
       "    var ncells = cells.length;\n",
       "    for (var i=0; i<ncells; i++) {\n",
       "        var cell = cells[i];\n",
       "        if (cell.cell_type === 'code'){\n",
       "            for (var j=0; j<cell.output_area.outputs.length; j++) {\n",
       "                var data = cell.output_area.outputs[j];\n",
       "                if (data.data) {\n",
       "                    // IPython >= 3 moved mimebundle to data attribute of output\n",
       "                    data = data.data;\n",
       "                }\n",
       "                if (data['text/html'] == html_output) {\n",
       "                    return [cell, data, j];\n",
       "                }\n",
       "            }\n",
       "        }\n",
       "    }\n",
       "}\n",
       "\n",
       "// Register the function which deals with the matplotlib target/channel.\n",
       "// The kernel may be null if the page has been refreshed.\n",
       "if (IPython.notebook.kernel != null) {\n",
       "    IPython.notebook.kernel.comm_manager.register_target('matplotlib', mpl.mpl_figure_comm);\n",
       "}\n"
      ],
      "text/plain": [
       "<IPython.core.display.Javascript object>"
      ]
     },
     "metadata": {},
     "output_type": "display_data"
    },
    {
     "data": {
      "text/html": [
       "<img src=\"data:image/png;base64,iVBORw0KGgoAAAANSUhEUgAAAogAAAH4CAYAAADJgxzmAAAgAElEQVR4XuydB5gdVfn/3002m05IoQgIBIHQQyBAQi/SQapUpQoBxPoTRGyU/09FkR8IIp1QpAUpApogaAIBQgSCSu81lBB6etn/85nkXc9OZuacmTt7793c9zzPPtnsnTlz5jvnznzmbadJrJkCpoApYAqYAqaAKWAKmAKOAk2mhilgCpgCpoApYAqYAqaAKeAqYIBo88EUMAVMAVPAFDAFTAFToJ0CBog2IUwBU8AUMAVMAVPAFDAFDBBtDpgCpoApYAqYAqaAKWAKpCtgFkSbHaaAKWAKmAKmgClgCpgCZkG0OWAKmAKmgClgCpgCpoApYBZEmwOmgClgCpgCpoApYAqYAoEKmIs5UCjbzBQwBUwBU8AUMAVMgUZRwACxUa60nacpYAqYAqaAKWAKmAKBChggBgplm5kCpoApYAqYAqaAKdAoChggNsqVtvM0BUwBU8AUMAVMAVMgUAEDxEChbDNTwBQwBUwBU8AUMAUaRQEDxEa50naepoApYAqYAqaAKWAKBCpggBgolG1mCpgCpoApYAqYAqZAoyhggNgoV9rO0xQwBUwBU8AUMAVMgUAFDBADhbLNTAFTwBQwBUwBU8AUaBQFDBAb5UrbeZoCpoApYAqYAqaAKRCogAFioFC2mSlgCpgCpoApYAqYAo2igAFio1xpO09TwBQwBUwBU8AUMAUCFTBADBTKNjMFTAFTwBQwBUwBU6BRFDBAbJQrbedpCpgCpoApYAqYAqZAoAIGiIFC2WamgClgCpgCpoApYAo0igIGiI1ype08TQFTwBQwBUwBU8AUCFTAADFQKNvMFDAFTAFTwBQwBUyBRlHAALFRrrSdpylgCpgCpoApYAqYAoEKGCAGCmWbmQKmgClgCpgCpoAp0CgKGCA2ypW28zQFTAFTwBQwBUwBUyBQAQPEQKFsM1PAFDAFTAFTwBQwBRpFAQPERrnSdp6mgClgCpgCpoApYAoEKmCAGCiUbWYKmAKmgClgCpgCpkCjKGCA2ChX2s7TFDAFTAFTwBQwBUyBQAUMEAOFss1MAVPAFDAFTAFTwBRoFAUMEBvlStt5mgKmgClgCpgCpoApEKiAAWKgULaZKWAKmAKmgClgCpgCjaKAAWKjXGk7T1PAFDAFTAFTwBQwBQIVMEAMFMo2MwVMAVPAFDAFTAFToFEUMEBslCtt52kKmAKmgClgCpgCpkCgAgaIgULZZqaAKWAKmAKmgClgCjSKAgaIjXKl7TxNAVPAFDAFTAFTwBQIVMAAMVAo28wUMAVMAVPAFDAFTIFGUcAAsVGutJ2nKWAKmAKmgClgCpgCgQoYIAYKZZuZAqaAKWAKmAKmgCnQKAoYIDbKlbbzNAVMAVPAFDAFTAFTIFABA8RAoWwzU8AUMAVMAVPAFDAFGkUBA8RGudJ2nqaAKWAKmAKmgClgCgQqYIAYKJRtZgqYAqaAKWAKmAKmQKMoYIDYKFfaztMUMAVMAVPAFDAFTIFABQwQA4WyzUwBU8AUMAVMAVPAFGgUBQwQG+VK23maAqaAKWAKmAKmgCkQqIABYqBQtpkpYAqYAqaAKWAKmAKNooABYqNcaTtPU8AUMAVMAVPAFDAFAhUwQAwUyjYzBUwBU8AUMAVMAVOgURQwQGyUK23naQqYAqaAKWAKmAKmQKACBoiBQtlmpoApYAqYAqaAKWAKNIoCBoiNcqXtPE0BU8AUMAVMAVPAFAhUwAAxUCjbzBQwBUwBU8AUMAVMgUZRwACxUa60nacpYAqYAqaAKWAKmAKBChggBgplm5kCpoApYAqYAqaAKdAoChggNsqVtvM0BUwBU8AUMAVMAVMgUAEDxEChsjZrbW1tLaEb68IUMAVMAVPAFDAF6kCBpqamhuejhhegjHlogFiGitaHKWAKmAKmgClQHwoYIIoYIJYwFw0QSxDRujAFTAFTwBQwBepEAQNEA8RSpqIBYikyWiemgClgCpgCpkBdKGCAaIBYykQ0QCxFRuvEFDAFTAFTwBSoCwUMEA0QS5mIBoilyGidmAKmgClgCpgCdaGAAaIBYikT0QCxFBmtE1PAFDAFTAFToC4UMEA0QCxlIhogliKjdWIKmAKmgClgCtSFAgaIBoilTEQDxFJktE5MAVPAFDAFTIG6UMAA0QCxlIlogFiKjNaJKWAKmAKmgClQFwoYIBogljIRDRBLkdE6MQVMAVPAFDAF6kIBA0QDxFImogFiKTJaJ6aAKWAKmAKmQF0oYIBogFjKRDRALEVG68QUMAVMAVPAFKgLBQwQDRBLmYgGiKXIaJ2YAqaAKWAKmAJ1oYABogFiKRPRALEUGa0TU8AUMAVMAVOgLhQwQDRALGUiGiCWIqN1YgqYAqaAKWAK1IUCBogGiKVMRAPEUmS0TkwBU8AUMAVMgbpQwADRALGUiWiAWIqM1okpYAqYAqaAKVAXChggGiCWMhENEEuR0ToxBUwBU8AUMAXqQgEDRAPEUiaiAWIpMlonpoApYAqYAqZAXShggGiAWMpENEAsRUbrxBQwBUwBU8AUqAsFDBANEEuZiAaIpchonZgCpoApYAqYAnWhgAGiAWIpE9EAsRQZrRNTwBQwBUwBU6AuFDBANEAsZSIaIJYio3ViCpgCpoApYArUhQIGiAaIpUxEA8RSZLROTAFTwBQwBUyBulDAANEAsZSJaIBYiozWiSlgCpgCpoApUBcKGCAaIJYyEQ0QS5HROjEFTAFTwBQwBepCAQNEA8RSJqIBYikyWiemgClgCpgCpkBdKGCAaIBYykQ0QCxFRuvEFDAFTAFTwBSoCwUMEA0QS5mIBoilyGidmAKmgClgCpgCdaGAAaIBYikT0QCxFBmtkzpRoLW1VebPny8LFy6ULl26tP0wvKampjoZpQ3DFDAFTIGOU8AA0QCxlNllgFiKjNZJHSgAFM6bN0/mzJkjCxYsWAIIAcauXbtGP/wOMOq//G4AWQcX0YZgCpgCFStggGiAWPEkogMDxFJktE5qqABWQ4AQOKTxO7DoAh/b8LN4zieOVgFS/zWArOFFtUObAqZAYQUMEA0QC08ed0cDxFJktE5qpIC6lHErqxUQUIwDom94cYDk/3GLorqs1QKp/9fjmgXSp7J9bgqYAtVQwADRALGUeWaAWIqM1kkNFAAC586dG1kGXRdxEUD0Dd+1PipMpgGka4mMWyF9x7HPTQFTwBSoVAEDRAPESueQutsW+d2smQKdRAHXpZwUO9gRgOiTJgkgn376adlggw3adnWTZtLc2L7j2OemgClgCvgUMEA0QPTNkaDPzYIYJJNtVCcKAGJYDdWFnOTW/fTTT6N4xJ49e0pzc3PNRv7Pf/5TNttsM30Ra/s3xAJpAFmzy2YHNgU6vQIGiAaIpUxiA8RSZLROqqAAyScfffSRvP7667L++usvESMIePHZ1KlTpVevXjJ79uyo5A0Q2b179wgYe/To0fbT0QAJIA4fPjwoOzrJAomkLgBrxrXGQPKvubCrMPHsEKZAJ1PAANEAsZQpa4BYiozWSQcq4CaizJgxQ1555RUZOnRouyNiVfzPf/4TgeGXvvSltrhENsLaSOkbgJGfWbNmtf3uAiTwGIfIbt26FT6zPIDoO0gcIJO2V1hMSqJRuPQdxz43BUyBzq+AAaIBYimz2ACxFBmtkw5SQGsbqksZuHv++edl2LBhbUecPn26PPfcc7LWWmvJ8ssvH1kN+QGKQlocIF2IjANkHCJxYadlLz/22GOyySabBI8jZKxp2yQBJJZUxjtgwIBoNwVIN4kmXg+ykjHYvqaAKVAfChggGiCWMhMNEEuR0TopWYF4bUNNRgEQn3322Qi8ALuXXnpJPvnkE9lwww0jGKLlBUTf0DVb2rU8KkQmAaRCJNAKyNYqDvK1116LLKpAcx4LpAGkb0bY56ZAfStggGiAWMoMNUAsRUbrpEQFgBmSTHQ1FNdCh6sYV/J6660X/Tto0CBZY4012lnxygZE36kxXnVhuxD5/vvvRy5rxt/S0rKE+xqQxIXdUfUTXUAMOQe2cetBxvdJskC6f1Mrpe9Y9rkpYAp0rAIGiAaIpcwwA8RSZLROSlIgrbahdk+s4eTJkyOoAhL79++/xJGrDYhpp/7EE0/IRhttFC3tlxYDqau/kESjCTRuHGQlAJkHEH2XL74Kjf5f9+P/bhKNLWfoU9Q+NwU6TgEDRAPEUmaXAWIpMlonFSqQtCJKvEvA75lnnpFp06bJtttuG1nfkpouuxcag1jh0FN3nzJlSlQH0ZfooqV7klzYSQDpxkFmAWSZgBiiUdJyhlwvQF6bLWcYoqRtYwpUpoABogFiZTNo8d4GiKXIaJ1UoEBobcOnnnpKVlllFXn77bdl5MiRqUfsbIDok071iWdg838sqrQkFzYg3bdvX1lhhRV8h+iwz+O1IEPWw1aITCrj01Hu+A4TwDo2BWqggAGiAWIp084AsRQZrZOCCmAVVCtZ0qooAMUbb7wR1TYkEaV3797yyCOPyJZbbln3gPjkk09G1jPgrSObC5AuRFIzks9IkmEMSS5s/t6R0OUCok8DW87Qp5B9bgqEKWCAaIAYNlM8WxkgliKjdZJTgaxEFO0K6xhWQ8BmyJAhUSwf7eGHH+4UgPivf/1L1llnnahIdy0aRcPRjixmIDzJhe1aIONFxPl/pQCZBxB9GuUFSFuNxqeofb60KmCAaIBYytw2QCxFRuskhwJa2/Chhx6KQC/JgvXhhx9G5Wy0tqHbfWcBxH//+98R2NYaEH0uZoX1JBc2yTU0Yh3d5Bn93QeQZQKib4qlASR1M7kONFsP26eifb40KGCAaIBYyjw2QCxFRuskQIF4bcNJkyYtYQkEHl9++eVoST0ygLW2YWcFxLXXXjvxHALkqngTtSD6ANF3IBcg4xCJBZLPAciklWiA5M0339x3iA79XCHVljPsUJmt8zpSwADRALGU6WiAWIqM1olHgaRElLglEBcoQDFw4MBouby02DifBVFL5dQ6i5k6jWuuuWZkeatFKwsQfWOPA6S7pCGgT7FuBch4HCTW1Y6MgWTsoVbMpGLi/M0dX9pyhlrip6PPxXct7HNTAAUMEA0QS/kmGCCWIqN1kqFAWm1DF/TefffdyHKYVtswjwWxXgCR+EmKeANItWgAIgC24oor1uLw0TF1PWqSkeIxkIAkLmzXAhmPg6wUIOmbJQ8322yzijWw1WgqltA6qJICBogGiKVMNQPEUmS0ThIU8NU2BBBxPxIjhqsypGYgh+ksFsRaAyLZ38QI1hoQfXCm88S1POrvCpBkYie5sAHILEsxLwsULB8+fHiHf0ezAPLVV1+V1VdfvV0MpBYTt/WwO/zSNNwBDBANEEuZ9AaIpchoncQU0EQU/k0qX8PmEydOjB6Y1Db84he/GOxq7CyA+PTTT0dQQGmeWrTOAogh2pCFrdDoxkHGATIOkbi2ySbfdNNNQw7TYdtgSWUMfBdsOcMOk9k6XqyAAaIBYilfBgPEUmS0ThYrEE9ESatt+Oabb0aWQ6xLyy67bC79OgsgsorIqquuKn369Ml1fmVtvDQBok+TOEAqRAKQM2fOjAqGJ5Xx8VkgfccN/TwkDjJeRFz/r8fg/1nLGaol1eIgQ6/K0rudAaIBYimz2wCxFBmtE5HIMsKDmpVM0qyGuJKxrOH6nDFjhgwbNsy7FF1cXAPEsOnWSICYpgjzEVc/RdaTyvjwN+Yt7l63jI8Lk2UkO4UAYshVda2PcYDU/W05wxAll+5tDBANEEuZ4QaIpcjY8J2kJaK4wmhtQzJ7Kb1C8gAP7rx1AgFEltpLs5Soe7vWlhTqOOI+x3pVi2aAKFFsK5bcjTfeOPMSkEST5MJ2ATIpBpK/hQBkWYDom0dZAMkLGcA8YMCACIjTConX+nvjO0f73K+AAaIBon+WBGxhgBggkm2SqoAvEYUd2YYMZQARINSyLyQPrLvuurnLwFA/keSWtAdzvQDic889JyuttJIss8wyNZlBACIxeF/4whdqcnwOWi0wSjtBXMxch6FDh1akQRwgXRc28w3gSnJhK0DWWgdOnkoB6EHYg4JkvIwP27nFxOOJNGmegYrEtZ1LV8AA0QCxlEllgFiKjA3ZidY2BPRwFSdZHniQUtuwf//+UW1DF+pYq5iVUvImcTz66KNRwD+ZrUmtXsrcEGMJnNUKEInzRKNGB0SuA0XXO7IRVpHmwmY+Ege53HLLLQGRWM91CcmOHB99s545Y8GqndbyLmeoAKn1IQ0gO/oqhvVvgGiAGDZTPFsZIJYiY8N1wgMRdxUPlKQVURDkvffek5deeimyEuLWijfAkTqBeZM4sMZgESKOMakpuNbaVQaYUGKmX79+NZkfBogS1V588cUXOxwQfRd48uTJsv766ydCJNDGi1NaDGRZAPnWW29Fx8GqXbTlBUhbD7uo0pXtZ4BogFjZDFq8twFiKTI2TCdJLuV40gjwCBxhUaG2YRrIsdLIaqutltvC5otdrBdAfOGFF2T55ZfPnaVd1mQyQFwEiLykENpQy+ZzMasFMqkWpAJkfBUa/X8oQFYjJjUEIImF1HhOA8iOmZUGiAaIpcwsA8RSZGyITtJqG7qA+Pnnnwvgt/LKK3trG5LNzHZ5y9z4YhfrBRCxXA0aNChyr9eiGSBK5Np95ZVXoheVWjYsiJWsSR0HSDehhs8ArbQYSAXI1157LVrVh5eWWjW+mxp6oZ4DW86w/KthgGiAWMqsMkAsRcalupN4bcN4cohmFePCAkqw1oRk7pLlSzZzkvs5S9ApU6bIkCFDUpewM0BcpJ4BokSllAAj3Lu1aszHspb7SzsHIJEElKTlDBUgSbQh3pcXFhcm02J5O0qvrALyWavR6HjS1sN24yA7auydpV8DRAPEUuaqAWIpMi61nYTUNnzooYciWCNjlnjDUJcXloSBAwdGVrY8jZUxSHhJi12sF0DEtQn85gXgPFpkbQsgci0qiTmrdCw+12ql/fv2x6KNa5U1vmvVADQSsmq5mgvWf75v+j11QVIBkoSZpDjIsgESDwOlrrSaQZ7rkgcg1X09YcIE2XXXXfMcptNva4BogFjKJDZALEXGpbKTkNqGH330UWQdwUKTF0SI0cOaQXZnnkZyy+DBg1OtlPUCiJT2wX0OBNeilZGUUOm4aw2In332maADLy61aljumLObbLJJrYYQHTcrJpbvuuu2djOytfB9WgxkXoAElgH2tNjkSkSKAyR1MPfcc8+o3FIjNQNEA8RS5rsBYikyLlWdhNY2JLbrgw8+iEpnDB8+PPeKKFjYcEXjZs7TWBmDtZvTsoMNEBepaYAo8umnn0blXdZZZ508U6zUbXX1IEpB1bJVUpeT73iSCxtLZBwg4yAZB0hiiKlCEOppqEQzXmCPOOIIGT9+fCXddLp9DRANEEuZtAaIpci41HSicMUDIa2mGdYF3ERYx3D1csMvsiIKgImbKW+dPl9yS70AIudHDcS8LvSyJpMBosgnn3wSFYgmZrVWraxi3ZWOvyPXBleATKoFiQWVe4mC4/vvvx/VP+W7z09eC2QeHQizOPXUU+Xuu+/Os1un39YA0QCxlElsgFiKjJ2+k3giShoccnMnOxeLjLpOfUkjaeKQPEDcIpnMeZovuaVeAPHVV1+N4iTzutDzaJG1rQGiyMcffyzM2bXXXrssWXP3Uy+ldrC8U3eUOMRqNxcg+f5SH1Rd2gqQxEAmLWfIPaJow2p67rnnys0331y0i065nwGiAWIpE9cAsRQZO3UnABWuOOK1sHYlFZjGjUQMEw+7eG1DYooIOs9b8JrkAQLJs1Z2SBKWmz7QlRbbx1inTZsWxThhoaiGKytpnAaItV9qDxcjYRBYrGrV6qXUDnGQgDIQVsuWFJfqAmR8Tew4QMYhEgtkWlH8xx9/XK699lq56qqrgk+Z42+77baRS51jH3jggXLmmWcK3+dDDjkkWjKUeNLrrruuQ+IogweasaEBogFiGfOIlTBaS+nIOumUCmhtw+nTp0crnyRle2ptQ5JQWMc1fjP2JY2kCYP7h+lHn3laVnKLLu2HNUID7906cZql6WZrpq3pnGdMSdvWuu4cFkSuVV4LbaXnrftXo7yLb6w8zPnhBaZWrR5K7XDuHZkckkfbIolLmjCX5MJmRSfmuVogAUiuOWDOfe2RRx6RCy+8MHiIzFuuGS+89L311lvLBRdcIOedd57sv//+ESSecMIJURzliSeeGNxvNTc0QDRALGW+GSCWImOn68R1KXNzxYIIsLkFhdnm7bffjsqE8Pe0NYV9SSNp4tA3N+DVV189l364uElQiRf8xVJEKQ/izUh+cUHWLTSsJT74FysBDx+sEPHgeiCSh07RJftef/31qM+8STi5xMjYGH1pjQyIAAJuZmJla9XqIZOacydWmDWpOzLmL0TjIoDo65d7Fd9ltT5Seuv222+PrH6EGPAd4AWXew3Wv6OPPtrXZfQ5kAkg/uEPf4iyoYlnRT+g84wzzpBx48YF9VPtjQwQDRBLmXMGiKXI2Kk6SUpE4SHGzZQHCA1wIxkE9ywlQrIeKr6YwDRx3nnnnchlTVxUnkb5GAr+EsdE43zIiAYEGD+uZTJH84AdriTXOqEQyUOH/omDilsf+T9/TztONZY2y9Kt1oAIeAMlZLjXqvHSQKJKLQGxHjKp0Z9yVMBRR1nMQ65xta3KY8aMiaDuhz/8oXC/warPd3vnnXfOHC4vlNSt5L7yzW9+U0455RQZMWJE9H8aL9O777678HJcj80A0QCxlHlpgFiKjJ2mk7TahrhUsMxtvPHGEWgBh4BbSIZx0YLXuLRxX+d9eAOyWOYYm2ZUU0+RfoA1Le5d1kXR/pIAUkFU4x3d+CjgBIhUkC1rPKH9GCBKFH8IoOV9CQnVOGS7ekiUYZxY7oD1PC9OIeeXZ5tqFw0fPXp0dD/49re/nWeYbdty7fbbbz8566yzIqujC4h77LFHVM2hHpsBogFiKfPSALEUGeu+E19tQ+AHKAS0SPCgbE1otmOay9cnCq4frDt5Ewg0+xkYI2HFzahWiyIW0Go1173luq85N4AceHTB0Y1/7MgEGgNEieYyLyEUVq9Vq4dEGQXEzTbbrFYyRMfle4nVrVo1IS+66KIoxOOYY44pfN4kqHAvPOecc8zFXFjF6u/YVP1DLn1HNEBc+q5p/Iw0ESWrtiEu5smTJ0cZxQBbHjdU3OUbqijWHWLE8taoI7aP/bBGALLxrMx6KXOjZWbckh7uEmf8zjUBEtPiH/Nch7jutQbEaluLkuYdLyHEkeWNcw2dwyHb1UMcZL0AIi+iJJlpKEuIfpVsA9RxrIMOOii4G14qCB2hzivf0V122SVyUV9zzTVywAEHtCWp0O9JJ50U3G81NzQLolkQS5lvBoilyFiXnYTWNuSGiJuYRkB23obLl2SOvEvtkWmImznPMmjEBAKyWOGIEUpyl9UbIPp00QQa1/qowfacC/GfSfGPWCaz3IUGiBLNL7RcbbXV8k7r0ravBzd3vQBitUv+/OxnP4viDXEHhzaqMhx55JHRCygvcMAl/VD4XsvcYAG9/vrro/tePTYDRAPEUualAWIpMtZdJxo3p8tgJYEENz/AkJs2aylT8HrkyJG5zwWLHlawvPUMie8BYjh2SMMSg0uZ+odY3NKsQgqI9FnLeKuyAA23XFr8I+eaFP8IUGI94/O81yXkWoRsQ+LPv/71rwjka9VIUCBONG8ppTLHWw9WzHoBxGpndP/gBz+Qww8/PKpr2EjNANEAsZT5boBYiox11UlaIoo7SJJSCLDG/Yl1BZB6+OGHZcstt8x9LkXrGZI8oCV0sg4K5PD2DiDi1sHyiCUxK64MKGC/WgIiawBzLToS0PRFAOtj3AIJ+NMo+ZMUA9nR5U4ARKwxZM7WqpG5yjhYu7tWrR6smJw7lvfNN9+8VjJExyUuFz2qtbINdQq///3v13QO1kJwA0QDxFLmnQFiKTLWRSe+RBQdJJYtrH5Y7qgnqK0oIBatZxgvrZMkIiAIyFKDkWLHxORhFQJws7KfGwUQsyYegIoFmdVx1GXtQqRbQDwJICuJf2Rc9QCI1YB035e/HiCVewNZzLUGxGoXLj/iiCOi5JJqAalvLlTrcwNEA8RS5poBYiky1rwTdatmlbLggf3MM89EY2XFlLgFqSggFq1n6JbWSRKQhwk1Frm5u+sZY4EALrNWx6gHQKw1GITAka42kxT/qAk0SavPAJQ+62y1M1aT5lBZbv5KvuAh16GS/kP2rYealIyz2lnlrHxCcokvDjhEw860jQGiAWIp89UAsRQZa9oJ4McPkDhp0qRENzGuHcrYELeXdrMsCoghwJYkEFACAMZdkHGXcjxLmYcMpUOyrAL1AIi1jn8rA0xCCognWR+Ji2TfapY0SZpjmkleS0CohzHUgzWX61Ntd/uuu+4arXZCmEUjNQNEA8RS5rsBYiky1qSTJJdyHPLYhrqB3JiJ38uqbVgUEEOALc19DEC4SQyAHXFr3NDTyu2ElMepF0DERV6rDNoyADFrYuv8i1sf+T/WQ6xWnD916OJWSMqIVKMRH4ulPKTge0eNpx7GwPcB7wGF8GvZOnpOxs+N5BS8Kh0db1tLTZOObYBogFjKnDRALEXGqneSVtuQNUK32GKLKFZP4/eyYMsdeFFAJHkESKRgdZ7GQ4ssVy3ei1WQh1jcpRzvM6Q8Tj0AYrWtJXGdNAaxVgkazD9dkSeehY1FCxd1Uv1H/lZWAXGSoIDRWgJirZdcZF5Uu/5g2n0AayrXtlrXA0BkuUdfOESe+1Zn2NYA0QCxlHlqgFiKjFXrJF7bMJ5IQKYiLltKyFDCxgdb7sBduMxzQoAd8XbENeZpQMLjjz8eBc5TSxHIxMqJtSmrhRxPLVi1fDDUurxJrWMgfVYrtTAmxT+6CTRJMZChCTT1AN7GQrMAACAASURBVGdY8LHcL7/88nm+HqVuW+36g2mDJzmOFwCsyh3duFdut912BogdLXSd9m8rqZRwYQwQSxCxSl2E1DbEncLDiIcuq4zkKeT66KOPRu7evO4Y4htxo22wwQa5lAAQgFIeGH369AlewSXkePUAiNUOyI+LXw+ASIzp0KFDc80L3VgLiCfVgNQC4knxj8x5fTEAzgDMagBJ2klSogkrvptoVUiQCnZiuUFgOe9LXAWHTNwVLahIQGZ9RzfmCBbEJ598sqMPVXf9mwXRLIilTEoDxFJk7PBOQmobYiUAuKi7h+Uwr/UMuORhToJBnhZSriapP1zFjz32WBQXlce6Qv1ELBEAcFozQJTIqlvLGoC4mClsXhQQfXOQc0uKf9TwAuYx84AXJoBELZG4nPN+N3xjyfqcpShZto0C77VqfGcIOcgbBlL2eF966SUZMGBA9NPRjXsmFkQDxI5Wuj77NwtiCdfFALEEETuwi9Dahtz8sZbw8GPpOixyeRvuXmojxrOGff34ytXE99fEGVywPMDzLu+HNYSHbhZ41AMg1nqJtaUdELPmpVrbmSdYxPleqCWSuQEgYml0LZD6e14Luu/7UU0oShsLYRlYtGtdD5CwF4rzu/VXffoV/ZwX5n333Td6aW60ZhZEsyCWMucNEEuRsUM6SUtEcQ+mtQ15IAJ3WGxISihyA+ZNm8zh3r175zqftHI1SZ1g3aHwNcfgYZVWlidrACFAWg+ASPIOsaBZBb1zCZ1z41oDYj0kRqS5NPm+YOFMin/kO0WMIwCZFP+YN4HmhRdeiCzkWBFr1apdoDrtPAk54P5U5AU2r3a8gI4aNUruu+++vLt2+u0NEA0QS5nEBoilyFhqJ/FEFKwdSS4xrW1IGZWVV145GgM3YN7Q+/fvn3tMlJdh+bq8NcM0W3r48OGZxwSWyGqlwLXGhBXJnA4BUgPERS5mdKjVOsT1AIhF3btaQDwp/lELiKfFP8YTaKppNUv7Atbamq3joqzVGmuskVluK/eNK2UHEt9+9rOfyR133FFWl52mHwNEA8RSJqsBYikyltYJcAgAKRQmgSHbEIMHAJD161r8eBgR61QkCJybdxHrIxAyZcqU1GW8XJcycYNuLcYigMhDG9B06yfGL0A9AGKtrTa1LtRdD4DYUe5dEmiS4h95WdIEGrU+4t7lpY3vJXGRVYt/nD5deh5xhHR95BFZ2KuXvPXTn8qAUaNKu1cV6YiX0CFDhuRKnityHPbhfnbhhRfKDTfcULSLTrufAaIBYimT1wCxFBlL6UQTURSakh4kcRdt3FrBA5EswTxJHzr4otZHHpYkuIwYMWIJHQA1XMo8LHkwxMdbBBDj9ROTxMdNyLiq9jBOGARggOUGt30tWq0BEYBiPmYlE3W0Li+++GL0slTEol50bBo3rNZHXuaY/8xHN4Em7r7m/8Q/ljVne+61VwSHTfPmRaeysEcPmXXvvbKwhsWyeZGk2kE1CqVTleGWW26Ryy67rOil7LT7GSAaIJYyeQ0QS5Gxok5clzIPB4KqR44cucSDgpg2YgyzahsSc8WDpkgh2qLWR8bPmLfccst2OiS5lONCFQFE4I/it9RPTGv1Aoi1TAwwQBSph/i/uFtV101Pcl+7CTRJAJkn/rHPgAHSNH9+21dkYUuLzD3jDJl38skV3a8q2ZmqBdRpDa1jWcmx7r//fnnggQfkvPPOq6SbTrmvAaIBYikT1wCxFBkLd6IPC6yH6laO1yPkMywxxBxijcnKMsZawUOEUjd5G9YWkluKWB9d0FMXOIDSEcv7ZVks9Zx1fepqPIjSdAaQCZSvVeZorQGRLFJiAGtpQayH+D8s6MTd+grA6zzSAuJJAJlUQNyNhXTne+/VVpMuH330X0Ds2VPmnH++zD/00Ly3htK2x9NArHJZVtKsgf35z3+OFgs466yzSht/Z+nIANEAsZS5aoBYioyFOuFmj8UAoHITUXjL1iLXPGR5wFBklwQS342VgtX0VyQxAesj8YHES+VtCoicDxYTMkCpueYDNPZLspZmHZ/zI/uZ/bIsiJqNmvdcytoeoAfScK3XotUDIDKn8hZQL1MrLO4rrbRSFHZRq8ZyknwX8hStzxprUgFxYJIfTaCJioNPnCir/uQnIgsXSmvXrjJvjTVk3vjxIt2710qKKBRFl9bs6EEQe8h38NRTT+3oQ9Vd/waIBoilTEoDxFJkzNWJr7YhcTpABTc3HrCUrwktkUE9RALlgcm8TesoakZ0nv0BPcapa++GQiagh6vYB5Lxsfhc0/VgQax1cWIAkblAlnstWj0s70ZcLdb0vJn5ZepF+ShWMMlbgL7oGJj7an1snTJFWh55RD7u2lXe3XZb6dKjRxT/l+S+rkYB8WoC4hVXXBFB+UknnVRUyk67nwGiAWIpk9cAsRQZgzsJqW3IA0WtikBXnoDu9957TygkXaT2HktxYaEkkzlPY6wTJkyIXN8+l3K836LL+xkg+q8QcwFQqBUgUq+Slw7mcK3aM888E1nTq1F3L+0ciZfle1F2Ae48mmq5H1Ywwcqf5L4mgYaWVP9RE2jyHDNp22oC4gUXXBBd+yOOOKLSYXe6/Q0QDRBLmbQGiKXI6O0ktLYhViduotzYiFvyuZTjByYpguzZInFvb731VpRpmQco1KVMSZcddtghtyWw6PJ+PkBU931ey6T3QubYgCUI0ZSVbWrRDBAlsmgzn2sJiKxQxHKSeRJMyp4vodncGhNNBnq8jA+WSe5HvAgm1YAMOb9qAuIvfvGLKN7xgAMOKFvOuu/PANEAsZRJaoBYioyZneiyX1p2Ja22IRY8XMTUNcQtVmS9UkANMCgCJdRV5KFAIduQpoW6cWdTlDaexRzSR9Hl/ToDIGLJ5ZriXqxFM0BcBIirr7567tWByrxe1UzMSBt3Wck6mkCTVAOSz3ghS3JfY5Xkvkd8dbViEE8//XTZe++9ZZdddinzcnaKvgwQDRBLmagGiKXImNqJ1jaMJ6K4O+DaIbGDGyuWP9xB1G0jMSVvI3P27bffLuTWAyiwemG5zGqcC8kwHEcLdRdJNuEYGm/pFs8OOefOAohkldfKxVprQKw1IDOPqrlyR9q8rabVLG0M1YrF1ASapCUMuW/g2ua+5lohue91RAHx73znO/KNb3yj0ItryD2onrcxQDRALGV+GiCWIuMSnfgSUXQHrW1IMWUtLwMgYkUMTfRwDw7gYc0D3PK2EPc0biYeusRFkpmpbiXqIG6xxRa5XcxkeBIvmdcFmAWIPKTIXsVd71oz+L2jHkZJWtc6Bg9A5EGNBa0WrR4AMW+JmY7QqR4AsR4sqbwI61KbCpAaC5lUQNx1YxdJoDnuuOMEK2KRe2FHzINq9mmAaIBYynwzQCxFxnadAIe65FbaOspYFgFBLH7x2oaVZBMDJcQbEfOUt/nc0wAXcIhLOV6Iu2iySdH1n9MAkQcP0Mlaz1gqePDE46m4NjQNxo+7xMpKJqh1Fi81GBlDIwMi8wurfFbt0Lzfk7zb1wMg1gMo+1bW0VCcpPhHt4B4Uvxj0nf2sMMOExJVQkNmuK54RkhqoQIA7vLjjz9esERybzz44IOjpCu+T6zQUs3VefLOOQNEA8S8cyZxewPEUmRs6wQLGyCFBYsVA5LiDbkB8uBiCTBuXvFtKqllGLJOcdoZp7mnk1zK8T54CPKmnrfWW9H1n5MAEQsoK2cQ80fdOx4qaUkq8WB896GkxYjV4qgPJP6vsVQhs6bWhaJrDYi1TtLhGpVdgzDkuid9N6oVd5c2vnrQoVKLsr54J8U/ugXEb7755qgs2D/+8Q/51a9+JcOGDQt+QSAOmx/u3cxf1nu/4447ZPTo0VFM+GmnnRb1SSLgOeecU2Q6VGUfA0QDxFImmgFiKTJGZWm09h5gAgAmPRR4M8VyCMSkvYGSqILlq4jlh2NTJqfIAwmwJWbOXflCXcq8oZP4kpapSCkPPg9dLUJVpwwJ1si8b+PxlVvQlJu2QqrGfhbNYnZjqVx4VMswMVNJAOlaMnwWk3JmXnovBogSfReqWYMw6WrUgwWxmmsgp83Ijq4LyneeF2SW2MOLMmbMmCgMhkoCfG8J22HZvawlOuNj32effeTkk0+OfsaPHx/dqwDI7bffPlqlpV6bAaIBYilz0wCxchnjtQ35Pw+FESNGtHUOcBAoDsD5FquvpJZhyDJ0aWfMGz5L+ql7Wl3KgCqrUWQ1HsTEUXITztOwtOIKHjhwYJ7dRJNi0BP3GYWQOb5aYysFxKzBxNfSdQFSV2/B6kjcFJneuswa1seiwJpLnMUb1xoQmT8kMhXJqC9yvkn71AMY1QMg1kOpHV7gPvjgg+h7Wo22zTbbCOetL7Xc3/g99CUWd/K2224bhdVQdgwPizZeaDmfem0GiAaIpcxNA8TiMsZrG+rDn7+TtKFlX3BVADEUoKZ8ja+2YUiySNqo48fOc3aADhCLS4a3bn6wJoYkkBSNJeQtHNdN3oxt9AU8NOidmEO3dSQg+jRV6yPXHYss56dLoXF9dCWLuAUyT0F03xj4vB4AEWs4VpxatXooUj158uRcVquO0KoeSu2QkAdkFSniX0QTAJEXBN/9NqlvYHK77baTH//4x7L//vtHLmsDxCJXoXb7NNXu0EvPkQ0Qi11LtSIBIkmJKGrh0nIwoaDFaHzJIr4R+0rApO2PGwbQw33Km3aWSzneR9FYQlxB/fr1a8vg9p2bfv7AAw9EK1MMHTo00WpZS0DUMaInFlLGqE0D8TV7U62P/OsWIo7DIxbJvNZHAJGkpSLLLoZeh6ztOtqlGDLGerCc1QMg1sMYqvnCwvcMwOMFIS8g4pXYa6+9ZNddd5Xvf//70TRj6VNzMYd84+pnGwPEEq6FAWJ+EUNqGz700ENCbT/citxcQlYZ0JHglgQscUUXaUUBkTdkLA3EbOVdj7loLGHekj7qqudhg4U2LTu1HgCROFJ0yZNRrnFUcYDk/zz0gGKFRxcik8qAYInGElIrQGQeE3PL/K9VozAzCQd54brM8daDi7keAJHYPV6C8i7lWeRa8F3BPUzoS57GfkceeWRk9T///PPbdj3llFOiMBhNUuEl/te//nWerqu6rbmYzcVcyoQzQAyXMbS2ITcPHkxYjuKuz5Cj8VAHnFzLU8h+uk1eQOS8iBVj1Q8AZeutt85zuGjborGE1GwEon0xjhyDrGAsnGxLnGZW1nQ9AKIuQ4jLvqxGn24Wp1og3TIgCo4AKn8nBjLPC0pZY60HQATOyEStFSDy3arm6iFp164eAJF7DC3vy2eR+QiI7rTTTpEFMU+bOHGi4JrG46NzhiX7qPF60EEHRfdI4hFJgCmy0lWesVSyrQGiAWIl86dtXwPEMBnjiShJbgutbUjwMg/nrbbaKrd7g9Hw0Ae4ioJFHkDkRoqVi/MhVowHapEl8ygvU2T1FwLBsYoRm5nVtIQNq5IQD+Rbok+vV173UthsCNtKE2iwYFWjxZdBI+YLqAYO+Qyd3ZI9Wv+xI1ax4HwBREC+yLrgZelV69g7LN5YsYDUWrZ6sGICV8y1IgsA5NWO8IZDDjlEHnzwwby7LhXbGyAaIJYykQ0Qs2WMJ6KkFb4G6khE4a2SIGwKR1NqpojlBrjEUsZC80VaKCBq8gxvxApoofvGx0X2M5nEeS2mPDTQNM3thP70DWxgMeQBQ/Mt0VcPgAh8cx2rBYjxaxJ3MTOeJOsj841rgCXXBUj9vcgcZiyELBAKUGtALFLyqcj3LmmfWs8BHVM9ACIvg4Td6IpRZWmc1A/JURS4Hjt2bEcepm77NkA0QCxlchogpsuoCQVYAdLAkL2xkgAxJHWo24EbMi5iBZo8F4vj4ZbCrVGkhSx7R4YycIYrBbDTVhQQX3nllSg2Lr7Cim/8jIPzXW211ZbYVEGZJBbcpK410FdWpx4AsdbWozwxiG4R4nghYs4DSIxbH33LFhogSuRJyBuH6vvOFPm8HgCRsBms/3lLWhU5X5LfcA3feuutRXbv9PsYIBogljKJDRCTZQxJRNE1f3kI4Pp0YbBo4WhGU0mpGvYn3girVdLyU4yZBxbHIBklvk1RQCy6PCBv+mT7xhMpsBiSGe2uUe1eKV9ZnXoBRCydRS3BlX7BAUSsxHmWGks7JvMmvgQa/9c1dOPWR+CRxBrCLapV9y5p7LUGo6RM9kqva9796yUOEmijnBWQ2NGNF8grrrhCrrnmmo4+VF32b4BogFjKxDRAbC+jJqJQD5AHa1ptOh68AAwB17hH47FuLG3F/q51Ls8FKwpqHAPrI5bB+LJ3JL9oPUbGnRSfV/S4Pldx2rmT5UopFq2Nhv5agxELLC6ppKbFa1lSL6lpGaJaxiACqbwo1AoQKUpMLFYZgJg1d+PLFmoGNt8RADJpxRmskfx09PWpNSDWejUdrlutLdk6d4irJsEs7Tub5/7o25Zkk7vuuksuvvhi36ZL5ecGiAaIpUxsA8T/yujWNuTBTpmZeBkVBRjK0MTds+4FAWCI6yv6tlwU1BhDUnweGYS6jF4WtBY9bparOGuiEqMGxOBC5kFG4WugAetmVuwb2wG5afrWAyDW2nJTLUBMu766cgaAqtDolu+JL1sYd2EnWcDz3vRqDYgkCRF+UbRkVd7zTdq+I7Lpi4yL7yyrMuVdbanIscaNGxd5Uuq5FE2R8wrdxwDRADF0rmRuZ4C4SB7ghBspD3UABQtgfOk4vdHiSibjNwtgipZ90YtVFNTYn7FjkWMFFHUpY83CDe576GqB77yWnTRXsW+S6qoxwDTj5t+Q1Waw8JINmbaGswGiRMuaVcOCmHaNKffED/Cf1jTO1y0YrhDpLlsYh8fQZQtrDYhY7Xkx47tXq1YPbm7OHe+FLjvZ0VrcdtttUYz1T3/6044+VF32b4BogFjKxGx0QEyrbcjNjMQJdYdgDSF2D/AKKdNQdIWQMgBRVzUBYDmPUOji2JMmTSqUfR13FYdOTkqx8AAFELCykJAS0nwAXg+AyHnUElA6AyD6rrUWDo/HP2rhcF22MMn6yEtOLfXn3HCzY12v5XrU9eDmRgviAvEMFEnc882T+OfXXXddZLXWlVDy7t/ZtzdANEAsZQ43OiASI5WUpYyFipItWKhwEfGwpcxK6ELvRbN6XUAcOXJkoRgtxo6lEOtclhs8aQLxQGXlj7zrAuMqJrEkT0ICEAfAYmWi9mKeB4ev7qIBYu0tiMA/L1ZZFsRKbmL6cpdkfdTC4XxG3Fu8fE+1CmdjwWUFkVquJkOML0lktbRicp0J2yGuuGjZpDxz5ZJLLoleNo8//vg8uy012xogGiCWMpkbHRB5kGCliDcAhFgZXKfEuWE5zPNQwSrGjdBXADrtIlJHkeSGvDdTYBcrIICXlsmcNXF8BajT9gWgAYLQByFgjksZ4OZBD8jmaT4LrQFifQAipW40ASnP9S1jW77XvPDw0uJaILEsaeFwLRbuLl+YtGxh0fHUQ6mferBiqjWde1re8JUi2v/2t7+N6m8edthhRXbv9PsYIBogljKJGx0QASpineKNMipYtgCXInW7cCvRL0HZRVqROopYChg3ljjANG/RasbpK0Cddi5oRT3IEFcaD00C1rmBY9nBupEXEH1rOBsgLgJErLq1AjReGGoJiAolaYWyeTl0k2b0d7dweDwDm/ma56WN7wU65LGsF7lfZO1TD0se+q5F2ed85plnRmsxf+UrXym7607RnwGiAWIpE9UAsT0gAozPP/98BIdAVlHAw61EBmPRh3PeOoocj3WNieMDDIoUrWZCuQkueSYYIECmdJYbC2gj+xurLO56StgUXXfa58I3QJQITGoJaLWOgawESpg/AGMSQGJ9BBKTyvfEly2s9TVAA80mryWkVnIt8tyHdNsf/vCHcuCBB8qOO+5YZPdOv48BogFiKZPYAPG/gKh1AolZwp0MLBYFRM3OLbrMWCioabFurCHAIbGHlbi3NcElNFlEJyGxVlpGJ2liagkbdMXKqFYYIBogz7vuNFZHHsZcq6RWCiDOmCEye7bIgAEiTU2Fvm+1TJKoNZx0ZkD0XWy8Ay486uozbuFwAJJ5r/cR/p/H+ugbQ+jntZ4HOs5qfhdOPvlk+eY3vymbb755qExL1XYGiAaIpUzoRgdEXTEF6xdlEYAsMpeLZuXqRcnjck26kCGgpi7leLFurHQAEmss521karNcXlr5mLT+siyBOk4KisdjMnnI4m7edNNNcw3VB8EVAWJrq7Scfrq0XHqpSJcusnD99WXm7bcvAsWcrZoPxfjQag0GPkDku8d18v2wXct990m3Z56ReV/8oszcc09pbWqK9qPF9+dv2jeZs1ir047BtgBcUj/uPm6fSX3p8fQaqPWR+wDwSFwj5WY0IU6zrwFGfudlh5e7tHHyYgWU+rSiH83w1m15eeNvgwYNivbXmGuOp7Uos/qlpFC8z7Ttd9555yjJLalV87tw1FFHydlnnx1lTTdiM0A0QCxl3jc6IHKD5CHCzZLahlonsFILIHE/gFrRArm+On8ALG5WXLpxa1/RmoRMKF/5mLRJl2YJJC6ReEEF7/j+ut5y3tVGfBBcCSA233qr9Dj5ZGmaOXMROHTrJvN33llm33TTEqfPGtwAcNoDE+BmXhGY7wMidV1qPc6kPhVkAIus7dhXVzIhycrtSwHB/RuxdVxDH4BgBXPPNw5Weo5AD+5t4Ch+fAU79kUXBZC0ubXrP/4hI594QrrNny/zmpvlxcGD5Y/77Zdq1aUQPOdO47uQZmXW73pSDHJ8LLw0Alq+RmIb+mjjd/p3v6Oafc015MWK68g2wCOfKTQyPnRcoVcv6ffWWzK7Vy/5IOMlJU3LpDG4GuU9p7TtWYeerOGkZD7OixWe0uJBfWPI+/lBBx0kl156aaGX5LzHqsftDRANEEuZl40OiIAcMTpYzdzG34jrK/oGWjS2TsdAFjU3XN763cYDGIgDbIGupHI0QBnHLxL/SHYwD3TWTM3T4pZAxklfjAMLTlrZHB6OJMbkdQX5Vm6pBBC7f//70nLFFe11X355mfHSS+3+Bnyw1qsLPHHN2IbYL4WvLE2JyQSosvpjf13n2LcdwAEo+VbzAUh4qHMt2hoF44Fjx7UOgACSjNHX1ArPC0DW8X3g1XPWLDn9ooukebGVj+PO6dZNLj/sMHk79p3lM85DrXU+QPQdW88x9LqwPdtyrbUx//kuxJeXyzq2Js5xPVZ8/335zp13SpeFC6V54UJ5ePBguW6bbaTbYoujQiTXEAhNgtj4GLiOWBq5h/gaxfbZP6Ttv//+0ctQUqv2cn977rmn3Hnnnbk9ISHn2Rm2MUA0QCxlnjY6IHLzbvdgXKyqL6bOJz4PUayAlJop0rC6cXN2M5F58JClDMziPk4rF1GJ9dOXHZx2Llq2BgsBDx7GCeCyzFpWWQseHLieRowYkUsmn5UUeEq6riEH6XbRRdL9rLOkifjDxZC0cOONZeaECQ4/tcro0aOjl4isxjgB9RCoisNFWr9xK1XadkADc4HrkNXisLLVP/8pu06YIF0XLJAX1lhDbtxnH5nb0hJBTh4rGvM1CxBDLHj9P/5YvnvlldLiwOus7t3lhn33lZcGD17itIAkXvqi69baGl2fJAsioKvuVd+cCNU7SR8AnXG4gJgI5CmDOOXyy2XZ6dOly+LPgeM/7rGH/Hv11dssj1qqCzjmWAqN/MsPL298pktshl5HDsnLSMjcJczlyCOPTJWy2sv9bb/99vLII4/kqq3qmwed6XMDRAPEUuZrowOiWpriYhZNntB+XGAqcqHISMb1pg83XMrqqvUlkFQS/xg/bujYcZFRQ5GkHNyq1EOMWz+T+kJ/buQUys7TePDz4AJA0/otCogkpvTabTfp8sILi9yYXbrIzHHjZKETz4S77N577/UOGVjxXS86CX1oh27HywVwiEZpgNht3jxp7ttXZs+Z02a1HPLyy3LY7bdLy+LST/O6dpWnhwyRP+2/f3SuIe5YhQpcm1yDNAtiyLlgOTv1ssukzyefSNfFMYcA4rknnCAze/Zspz+WQ1743JhCvjdx7wA7VQJ9SRcdAFO3v/s5QM0Lkrv+uQuxWRMIuPv5L34RWQ61ze/SRe7dbjt5cIst2u2qfar1keukrmuNH1TXNfcVxqQAyb9JL3Eh10cHcfjhh0crT6U1xoBXBG9CNdo222wTeSaqUXOxGueT9xgGiAaIeedM2oN0UaR3g7Y0QMS6wCofeWPjVEYeVBS7ZjWUIo2EGW5uvJn7XMrx/kNKzqSNyZf8kbYfD6YHH3wwckGyWkLoijP0V2TdadzoWGfSVumoxIIYneO8edJ14sQoDnHBiBHSOnBg26kDPsQ38dDLagALsZK+pRnZTuPSsvoLtTypC1FjAOOAuPy0aXL0mDGyzGefRZbBG/bZR15cDNp73nefbP3YY+2G8XmvXnLhT34SZD10oSILEEPd5IDXoM8+k6+OGSMrfPCBfNy3r9z0la/I+8stJ/Obm9uNMw40fAeZJ3FADHWbcmzgiZc9X0uDPgCRfjgmDdeuZjb7+uR8jvntb2W5mAXxxn33lee/9KW23ekTIEwq+M9GzAPmGBZqfniBdAFSk1/UPb/aJ5/I1x54QPrPmCGvrLKK3Ln77jKne/fU4WIhP/jggzNPhxduYqaLxmT7tHI/57tEDUQDxDyqLX3bFqs7sfTpUNEZmQWxNfEBwE0cK9EWsTf1ULGLWsa0f7KqecByMwcweDsPfRsGnLAEFnlb98X2JZ0/Dxgykcla3WGHHXKtOFMUEH1L+1USg5h2jZvefVeaXn9dxr34ovzzjTe8U4EHPHCfliShHYQmDIRadBRWdPUQFxCxyJ32+99L7xkz2tyWc7t1k98ef7x82revbDNpkuz84IPSzYn5A8bO/8Y3vLGRdqYjigAAIABJREFUcZdxFiCGWvDi4LXOiy/KwXfdFbmcP1x2WRl90EEyvX//xLhMgIl54gJ6SFKMXpdQS18WoGFBBuwVEEOvIVY+wHTQtGly/A03SPP8+ZHLf/LGG8vdX/5yuwQdX5/EU9MfltwskESvHh9/LKeNHi3d586N5se8Ll3kxeWWk3N23bWd6xrg5HrT79FHHy3LL7985vehmqu5KCCSfNiozSyIZkEsZe43OiAiYlKwdqWAVxR89KICFrhRqQ/oSzKITwQezCSIpJWbyJo4vti++L4EsBNvCMBifczrKi6qk29pP9cyHArWWbo0X3ed9Pif/5GFzc2yYPZs+RNxYBklNNRKlZVFy/EApZAEllCLmwsrAGLXDz+UPV96SfrMnCnPrLWWvLfCCvK9Sy9tcyEzBly2Y/bZR15Ya60IDE684grp+/nn0oRLt6lJbjrmGHl5hRUiQFQt4//ymSZz0CefMzcAEkomudcAuNAMbP4evz78n/40G1aTcfp/+KF843e/E1zjtIVNTfLpssvKH37wA+nKdVmcBaz98X8siFjhtXHsuEUwaX5w7HjpmrT5oeeT9DmlhviclwD+dUvVuNu7CUf8roDINl3nzpWB06fLrJ495ZNllol20+253no+8T60f8aAZZ/EM66Jbqc6u/1t+NRTst/YsdE80IbOP//e92T24kQmzkEtkHzvt9pqqwgW3fWutYi4LlsIKHMtitaFzfOwM0CMvn8Nb0BreAHyfGnStjVAlOgGm5QRWsT16epcZH8eShSOxi3EgzUtKzDr2hetLUifeeo/aqkdLWFT5HyLAiIPPWLs0vTBYkEspLvihbvyRZ51tZveeUd6Dx3alrTCmCm3cuFpp8msHj3aXQqdRxyXhygWWeo/ug9h3YZ/FS6SHtbuPm4pmKS5qn8DOLXES9NHH8mp11wjvefMieLY5jY3y7htt5XdJ0xolxWMBfHSww+XqSuuGI0TAFv/+ecjK927G2wgb3Tr5r3VJCV9JJVXyeO2jVtWN3z2Wdn/r3+VHg68EJP3u9NPl2kJy2UCiLxIaKIX1wSdQ+IofVY5FcQH7mq9A55DXduh1lXGENInXgjuJZrEknUx133hBTn47rvbAeKCpib52Q9+IAu7dm23K1A4atSoKMYWTd31rvV3XbZQ5zfWXPd72BGFw3nh33333aPkt0ZtBohmQSxl7hsg1g8gYkki7pEHGjd+Hm5FABHrDO6VIjXHgC7gNGtZLiCWgHPGyxrKWsKmmoCYVYZIwRXteADpw8p9gCmc6cPK/VddpfoF6zppkvQ88EBpcurgzW5piaDq3RVWWOJ76LomsyyIoRASul0cLDadNEm+8uCD0uK4i2f26CF/33FH2eXee9tK2Dy5/vpyx267LXEeoTGP7JgENVirgDQ3SSfUbZvU3+A33pAjx4yR7k5G8/yuXeV/f/QjmZ0AiEALLxIKiKE6+qDPFcoHc8xT4JmELbc+YtbNu+xsdtUgBIx7dukioy67TAZ89FEUZsDLw8ObbCLjdthhiSETfrPTTjt5n0N81/geYEXEG+KuQOMuWxi3QMaXLfQeaPEGADEZ1ePHjw/dZanbzgDRALGUSW2A2LGASJJKiLUf9wtFlyl8zU2UmynWp6y1jdMmQNHSMfTns8zxds4ygDzwBg8e3O7cqgmISfrwIMK1jgXNXT0jSX9NYonDI/9HP6wtCo19Pv9cBu+0k3Rx6sZhjfvlySfL7JgFMZ6EkAaIHZGYEi84PXLiRNnj4YfbZcFSJuXcn/9c+r78snzhvffko2WXlVexcCZ4pEJhLs2KFQdEXzKFO58TIam1VQ65805Z5+WXo01xgd+7777y0JprJn4VACJggfg4tNFyML4bpw/6dP+Q2FGOz7koGPmOHQqx9BNagobrgPb8+BrHn/XBB7Ll449L/08+kVdWXVX+ve66S8wPYO7EE08MTkbj/gYYJmU6u8sWuvCooT9cO87VBUh+j7/I6bmR4MdazHfffbfvdNt9fswxx0T7MF9YyYrG9SMBh6U9WXb1lltu6RS1FQ0QDRBzTf60jQ0QSVidl5gBCPCEAl6SvpMmTYqseFluFNcah6tWb+KVJJpUEj+ZZZnjZkltRyxzA52sXj33agJivE4l1xBwBWrIbAYKNXQgBNDj1w9IdOHxxTPPlD1uu01waXZduFAu3W47eXrNNZeoOccDVl289JkGiKEgkGe7OdOmSZ8ZM+TjZZaRBc3NsszUqfL9G26Q7outa0DtsxttJDftsov33hEKVOoyXki2d9eu7Qprxws05zmX1HqLra2y1muvyTKffirvr7qqTB00qK2sTfykmBPMZx74Ia5Y9g+BvghOA4tN88KFWzWk5FIl7vesC8p8BKjSitXrvj179JAhjz8ug19/PUoAenj4cJmXApUko+Wp0MD3gHtdfKlN30TUWOIk97X7Isf5Md9I7uMeetNNN8nNN9/s677d5w888EA0T4444og2QDz11FOjMlGnnXaa/OpXv4rm0znnnJOr31psbIBogFjKvDNATAdEytSwRnDam6rvAhADQ8mXtDd3bnokePAA4+3UBZlK6zAWhTUezLomtZ4fN2kSULACcD7cjJNa0WMWAXEeBpTNwFLIAxDXPOU23MLilQCie35YdrEc9Jo1S/qx8s6yy8rnzc3tChVjBeEBzHXjhUCLFaMn15fPNO4x1EIVWsyZvoc9/rjsRa1Gkiu6dJGrDj5YXhowQFZ6+WU5/NFHo7E/u/bact/uu8vMBHds/HqGAtVKXbrI/ldeKV94//3ouHd9+csyediwqDsXEEPPOY9b2wecCohYukPcu6HQx7n5jq16AhS8tITEvIb2mQck6ROrOi90vvvYPg8+KJtMnhzFnlL/kuzwi446KnrZIPt9syeflBWmTZMPBw+WkZdeKt0ySt/E5xPeEMbty+j33VOTXuTU6kglhRtvvDGqF0sVB47F/YBaqST7HXfccd7usRTutddebYBIPVdc1ZRKImmQAtzEiNd7M0A0QCxljhogpgMihZ9x8aYBke8CUIeLGwwupnij/AY3bpbyI4A83iqtw1gU1uJLBAI+uFuAXCyHWQ86Cl4TlxTyMHTPt8h+mqmNdUZBUUuJaN9lACLnf9lll0VxmVnNXeLNXSoNqyvusfnUVWS93W7dong9ttFSIfybZGUOharV58yRoy+8sF1m8owePeSno0bJDKdQdqUu4/j5MyeOufJKWWXq1LYi1lgprzz0UHlj5ZXbAWKoOzQUkkKWvwMQuW6sOjRr5kzZ8rHHZNhTT0U1/Sg2zRjdFqpPyAow2u8qL74om7zwgszv0SOyyH3cr1/iNMrTZ+g4FXh5uSODWZN0GIAmjWgWee/mZjn17LMj67i2OS0tMma//aLs9q/feKOs9vrr0Rxb0KOHLNxzT5l99dW+W2Db54yB+6j7Ahe8c84NJ0yYEBWxv+CCC6JENu4PvKjtEmA5jwMioQHud597NdBf780A0QCxlDlqgJgOiCR6kKzBg7pIwzqI9cJdRcFdo5gEjzTroq5MUrQOY1FAdC2XWsIG62bIm39Riyv7UZA8T0Yj46ROJdcmba3nMgARt9PEiRO9l99dB9d9+OJaGzl/vhz+pz9Jz9mzZUafPnLV/vvLa/37R5AIxGiIA/vp6hbMGeaKQmRSORgGxfz50r/+JV+54w7p4cRIkmX9m5NOkvebmtpWtHEzpd0xuienyTvxkjFJ2zO27512WlSfTxtJIxN22UUmb7NN9FDmHICTpAQJt2yOQgv/ulnerlXdLc8CkOuKKWkXh5csrMtYz7YcPz760SX7SL649sQTZdqKK0bHY+65K7C4WumYdCzxWE/3c3fsGzz3nOw1ZkwEVZSKoSj5JSedJJ8shkQ3Gx2AdtdwdnXQ89Nx8m+8BA9/c/Xkd4Vt5iBglvXitmzXrvKDX/6yHSCSiEU5pw8GDJATrruuXXJQa48eMuPxx6V1cYa+7wsCpDGekNWVfH35Pr/nnnsiz8wvfvEL36ZLfG6AmFuyut3BytyUcGkMEBctH5b0sMFyhvXBXUc1j+S4PKjBpnUM1aXMAzOe4BHvt9KVWIoCopbIAQhx0wCxLuBmnb/PpZ627+TJkyMXkC9GSvcHqLDOMlaW1EqLMXTBK891022JH7v66qvb6uu5D2r396zki09ffVV+e/vt7UqzYN371Te/KfMTysfoXOQBDzBozTmFA3edXY6L1XTA66/LCddf386CCAD96MQT5bNZsyJACo2tC7VOqQv6RxdeKMvMmNEmL0kwt++2m/xr/fUjOANKtAyK7xqEjjHUysh3mjHw/Tvtoouk3+eftw2B5aMe2GILGbs4OzeoT+oT9ujRBvTdZ8+O+iTmE/iLN9ZRHjB9etufKRfzwIgRkfXSbVnxni1z58rODzwQufDfXmEFmbznnjLds4IPfbslfQBEXKRp3xM99+P++Ef54tSpUfYydkQsrRRQH/jxx3L0zTe3m8Ot1O8cP14WDhniu6zR54RpEMvnWxc8qDPPRoSDEA5z+umn5+7OXMy5JavbHQwQS7g0BojpgEhCBm/eRW9qFLsGBnlA4+qgNEyaSznpUhaFPPoqui9WF/bloQoc+uKW3HEXdcljCeRYPCh9TeMNyYbkwZdVyqdSQCSeCUj2tax4vb5Tpsj3xo+Xno51D8vMH77+9Wi5uKSWBiuu6xpwRC/cX7xMfHXKFNn12WcFCx5uwmv32EOeWn31KNGGl5yQGLzQZeAADdyF9L3Wq6/K1/70p7bkFGopXnHooVE8ItcKbUKShELd6Xni79CHpAWsVj+8+GJZ1ilThEVvwmJY88V6rvLOO3L4bbdFSxN+MmCAXLPffrLie+/JAWPHyoIuXaJs6uv3319eGjy47XLiAv/Wuee2OyYfPrTppnL3zju3u+xpYNy0cKGcdO21Udwf0IZV+J0VVpBLvva1dslASXMotNSSq2f3OXNk37FjZfW33pJP+vaV23bfPZqj1MX8wSWXRMXWu2CpbG6W1lVWiSyIElAjk/ERt0c4SMi65L7vm+9zXupo3/72t32bLvF5HBBPOeWU6P6tSSqEjPz617/O3W+1dzAXs7mYS5lzBojpgAjQEXMC5BVpxBjysOchrqVXQkpN6LGKQh77F4nrwyJHJjAP/u222y7owe7qkhVzmaXfE088Ieuuu663ZIbWN8SlzMOf422++eapXVcCiLwc3H777d7L7rN6LXzuOTn77rvbWfdIAMCCODMhNtUHKzqgeJkcLIz933tP+n78sby5zDIyvXv3aIUgQBJYicc8qit79bffll0mTIgKIz+z6aby9w03TCx54woRB9iBH30kq731lszs2VOeX2MNae3CIm2LVijCze+zQLvA6RM81MLJ/OA7py7mzaZMkb3uv3+Ru1cksvhdePTR8mH//pkZzj1mz5ZT//CHNsBnX0obNc+b166+JJbT//32t2XeYmACeEf+9a+y9aOPSvfFLng3PlPPMwuMgVAsw27dRyzDFx15pEwbNChVqrhFO6sWZ6ie/T/+WL752GPS8403ZOF668nsSy6R1pVW8l2uts/5PlEwPh4nHNxBjg0vvPDCyGLKEoB52qGHHholpGhx9TPPPFP23XdfOeigg6LEPV60xowZU9hgkGcslW5rgGiAWOkcivY3QJTo4ZkUI0XcDLFB3GyKNN6aSUbBXUsmXYglxT1OJYCY123rlrBh3EWWzAMuySTO+xDwxXoCP8A6MZEabxiyVnZRQARsSExxy9UkXf8QaxZQe/TTT8uIJ58U3JpYm/6+5ZYyYcstE6dUqCUtxCUK8DNGBQb00CXS+Be35U//+tc2gJnT3Cz3Dh8u47fcMrIcJ8Ws5Umm4BrhJvcBYsi5IFaeOoocE6s9llMtybTBs8/KsKefltndu0fnOG3gQG/5m9XefFOOvPXWdhZgQA8LZA+nYDeA+Pujjor61JcGrvXm48bJNq++GgHp2O23lxe+9KV21z2rKDZ1KkfFAJHjXHzkkfJ+BiDG9UwDxDwry7BE3oEHHljkNhjtQ7gO98CkhL3CnabsSBka7hOAXaM2A0QDxFLmvgFiOiCSecdNNG/tLi4MDyduisAhmcxFWiWAGOq2Bb5wqwCyWsKm6HEpNYPrN2/MZhZYYoEi4Nytb4iWITGaRQHxvvvuEwDb10KsLwAi0Lzcc8/JwA8/lPeWW07eSrG8hIJSSAYvY3dj8JLOZbe//122nTxZ3FidD3v3llMPOSQCSTTmpcbNtibcIlrjObbsWrx/IAkwoWUBYh7gDNVHIRtABlDTQkRCLJeDpk+Xb119dTsLMG58YB+3rzbcv//vW9+SeT16RCCrRZ4pjZKWIOKzPlNa5uSrr5blPvwwWhoRyzNg+Psjj2yz0sZ1T1oFBje7ux617hMyf9mWFwVKxCTVPvV9R/RzvsPcB0PCSEL7TNvuZz/7mey8886yxx57VNpVp93fANEAsZTJa4CYDojcWIEMsnhDGw9VArLJ4NSMvTz7u8cpUh9Q9w9x9wIBQB1uTW7eajEqCojxpJxQzdLAMq2+If2GFAP3AWLTu+9Kj2OPla7/+pcsXGUVmX355dHSeVdddVVi4XT3fNAMeOV6ZzXcVSGZm3nq/4UuxQZ8Eayf9mDHtbzdI4/IIofwovZhv37ymxNPbPu/rjjDXGF+YJFDV+ATwGLcLkByTF21g5cktskCxFDoC4ViBq4ldbS4choghh5733HjZOOnnopqAeI+nzh8uMzo1Ut2mzBhUcznggVy6557yn/WXTd6kWGVH20AIrF3ce9BiPWZPkiE2WfiRBn09ttRkgpJNSSPaHP75XedG27WOTUIecl1t+W6xTOf0+Yxpb5Y27iSxv2IhQBCE9EqOdb//M//yNe+9jXZdtttK+mmU+9rgGiAWMoENkBcZI1KWukA6w8PRCxAIQ2LBW/KPJBxp/BwzrN//BisxEKMXd66gvTjc/cqfJFNHXehFwXEokk9SWDpxhumuax949SM4ETX/sKF0gttX3lFmubPjyxCsswyct3Pfy6vff55uzpxSQ9jIEjnjFuuhG3d4wFJAIq68+KlXbRv7S/pc/dvPGA5L/1b/NjaH8fDesZ11hjaeN/LTp8e1U/sNndulHxAfNvf9t5b/rPZZu0AUc/HLQXDBgqPWqpHXdh8n3SM7INFj3Hrj87neH/x+e+eW9Kxk7TCQoX1TrPAgcQkQGYM8VIxevy4pj26d5eVnnpKBk6fLu8vv7y8uviFcdmPP5Z+H30kHw4aJJ/26RNd4wi65s6V3rNmRRD55jvvtLPeKZQBzYRMqI5Z19O1SKZdb/pJS5ZKsiD6rJeqBdfshBNO8IYJ+O6PeDQ22WSTQvcyX9/xzxkvkMjxGrUZIBogljL3DRDTAZGHO7F5IS5iLEXE7rnL0LE/RVWJ3ynSKBuz8cYbF3rrxr1NUHhS1iCuP9zKxOkkwZcPvNLOhfPnYRxiMXP7cMEyKd4w7Xi+cWYBYtM770jvoUOlySkZMr93b7l+jz3kec8LQfRw//TTaLk3Ystm9eyZOETAiDhW3yoWoYkpedyxWJKYe0BIlmtw9dmzZfh990U1FJ/YYAN5JiUcIhQo3ExokrO4ngq1LkACnVjw+JuvYHiopS9uhQWQgcWkQvSh7tU8cY+Mc7l//1u+dtttUSY5Gc7nb7edfLLppu3mR57rGDpODpBWjDweg5jkhk77jhGLzOohlTbuZdQ6zRuHXeS4X//61+U3v/lNVMO2UZsBogFiKXPfADEdELPWJXatDbiUeRhqdq1+BlxiRSRDt0grWjaGYwFduLbchyMWE0rv4BrF3ZNWwsYHXmnnQtY2DzSWlsvTAEugEghJijfsCECUTz+VPoMHS5ObaNDSIld/9avyekbxXyCk34wZctS110q/Tz+N3I6PDhsmd3/5y+2yf3kQYs0i+xELYla5oDITU9BKgQo4ygLEUFAIdYe6x+Z3wizYN+klBIDlO+MmzSS5rgE0ABrQRMMswIjDVBog5oW+1HWhnYnJte762Wdy6oUXtss6ntXcLL8++eQo81lbHuDlfJMS6OLfibQ+0Q03t1voPnQZRa4R1riiK0m5YwQQs0pS5blf+Lbdb7/95LrrriucXOjrvzN8boBogFjKPDVAXOQqA5riDfccljZq9CU1XMrEzwFhuKHjDy9ikd58880Ixoo0X3ZvVp9xa56WsCFgnkSSrAdt0dhH1kAFdgDTPI0MZR5CxErF11PO6scHslpkOs1F3/KTn0jLFVeIzJwpC7p3l1dXXFGuPuSQzBpzPIgPuuQSWf3NN9uWlyOzlBi0p9ZZp224Cisk/2QBYigshMKca53yAWIomIZaseJxgmmAyNxz3aZJ11jBkfPmRSurYDgWSF2+0I0JBRD5Xmuh+ryAFqo5/fJy0+/55+XYm25qV1B6ZrducvVhh8lbiyshZBXFjusQqnsWwKMHL6kaRhIKh4xlp512ipbOLKNVExB33XVXGTduXMVu8TLOu1Z9GCAaIJYy9wwQ0wHRXXYuLjarbGCNc13K8W3i6xrnvWBFs4I5DlZNHloAoY4VS2ZI0e8iNRQ5JkWleQCGLMvnagEIA9ObbrpprhI5lQKiYJW6+26ZMWGCPPDmm/L4hhtGBZ7TmrqCf3LeedLLKXzN9uNHjJBxi11xrpsVQOQFIik4H2skP0kvJ/ExhMKcC5xZgBgKpnmsbfHkGa4p5xe3IFZ67HjBcCyPjJPvm5t1rTGG6K9Z16E6on/otrpd388+k1MuuaRddvPcrl3l3BNOkM/69o0uaR5XvWaS++4bWSCJVoS66EtbaIITfY4aNSpXofyscVYTEElO4Xh5ivz7NO5snxsgGiCWMmcNENMBkQcskEbsjDasjVjKcD/HXcrxC0KAPK7eosHSzzzzTPTmnxRD5bv4xL4BNFgOiY9krKGuIkq8MOa8N9i8ZYE03hCIIlkmbzmhigFxcbmc0aNHC0kxvqYg8K2rrpIV33+/LfuXJdReHDxY7vnyl6N1a10I4OGMBSsJEEMtRKFAFbd4pQFinozpUKBJGmMSIKID4OZbR5lrEXrefXv2lNWmTJE+M2bIayuvLG8MGBBZHDXjWtdtBh7V0uguWZjkug49b8bpQheFsXd+8MEo/pA4xFuHDpX/LF45JRQ485y7L54RHXhB5EUxVE+Ov/dee8kmjz4qXe+9V1pXXlnmnn66tAaGjjR98IE0U2Seupt77imtq60WAVu1XMwsv0nWdDXiHX33jFp9boBogFjK3DNAXCSj1i1zReUhxo1txIgRbdsQI8cDf8011/TegLAMkU1c9MZYNOmDwQKIxB6RoECSTJ5M6NAaivEJiDsd6GPFAV9z6xtqaZSkWm1Z/ZQBiFzfv/3tb77htnu4svTZ8X/8o3RZsKAt3owsaFbRGH3CCfJa795t/aUBYmiZnDwwFweQNEAMBdNQoEkbYxIghkJK6LGJAT3+5ptlxalToyLktFv32EP+s956kUWR77AmagF9vNjFC4a7GdcKjhwfkE0rGK4XOOl8lp82LapdOG3AAJkyd25bFnOo9U5d9fFJqcDjZm+72dDu9rot54qLHguiuvX1szSA4p4x6vnnpWX0aGmaOXPR0nqDBskMaoMuu2zmd6Vp6lTptdVW0sT63JSAammRGWPHyuQ5cwrfB71fTmcDtMGCaIDY1PBLETe8AHm+OGnbGiCmA6Jba0/dtGQ0h2bphhRzzrqGuIl5AOVN+iB2kgQXxlkk/jF06bv42EPrRjI+QBvIxrKR1/Kox/UBInDAAzINjgGIG264IdPF6z5M3RIj3WfNkkMvv1xWfOedNhmoiPj8RhvJnYce2vY34r94oYgXCAY8kpIP4qVb2C6pBFNcex7+cVc1gAikufOH/tBFi2Bn3Bcit2xaKRh3P6yCSW5yYIzjaR3EtO3iY9CEFF9yBttt9NJLsvvNN0dLBWqb09Iivzr99KjED+MHELmO/MQtl+411fnCmImfjGddu1ZHzgXNNaZQjx0vQ0NcLS8+GvvnXt/4tvr/UDgOcf9zXZgDxPaGJNtwHgcdeKBsPHJkuwSu1t69Zfb//Z/MP+SQzMdO9+9+V7pdc400LS4iDrLP32Ybefjsswt7UvI85xQQCVtp5GYWRLMgljL/DRAXyciNNKnG2EMPPRRBDG/hedy09OkCZpGLRUwflqY8S/0BaQCXFufFdZu3+WoopvWHxRK3OjUgs7bhvNwSO3ksj26/vmQaHyDeeeedQg1GX0uzep14zTWyqgOI9PP84MEy+uCD27rEvc/+7hrcoe7L0CSJNAsegAgkuS80ofARaunLSroATIAqjkkr69i9Z86UfcaNky9MmxaVGRo0bVq7dZFZBu8np5win86YEX0HOZdQq2may5Z+4pZHzp1zTCsYTl98Jwid4PeQWNM8SSQh84g5QCw1LwkhLxoksB1+yCHSZ9CgNsiL7mW9esns3/5W5h9+eObXpcdhh0m3u+9ut838ddaRSZdfHq3U1NGNFwLWkTdANAuiWRBL+LYZIKYDIjfXBx54IFpJhTfwPG5avTQ+K1fWJcxjWePGSLwjDwGshlg8sZCFFvl2x1E0OQZrGUCCZTDeNN6QuDCywt2YvFDLY7xPXzJNFiCSnY710NeyIG2LJ56QPf7+97Zl2Cg0/afdd5d/r7deKiB2RGJKGvzEATEUPnxxba5mWZBCGRvNMA4FTp9LHbf+d6+8Uvp//LE0L641iJtZHwbEg05dYQW5+Kij2tbSxmUamvAROs54LGW8XI9mXQOFHJ9rEV9xJn4/0dJIxA37WujKMu563L4+Of5RRx0VvZCywhAJXE2zZi1a1q9vX5nx+OPeOMTmG2+UHt/7XuSajsCyZ0+ZMWqU/PurX02tBuEbV57PgeF9991XuDc0cjMLolkQS5nxotXNAAAgAElEQVT/BojJgIjFEOACMipZsqkSQMQ9xfF5q89qWO2w+mE11BI2lRTpLrpkXtoxNd4QV2tSOaAQy2PS+T/66KNRAlHausBpgMjfr7jiigiifS0zbqy1VbaZPFm2fOwxka5d5R+bby6TY6s3YEEEotTFHAogodtlxTK6gBhSWka1CD22DzgVEDn/UAuaz9JHctAJ113XrtYgaxSTFNIyf768veKKcu0BB8jnffpELlXOm6x6Xlx8rXeXLjJnwQKZH2B8CdWIlyY8EFyLuAUyvtY1yWgAHSDpW+s61BoLqPKiGC/1k6QFVQ6oIRi1uXOl5eyzpfm++6T1C1+Q2eecI60hhadbW6XlN7+RlvPPZw1TmXfooTL9jDPkjalTZT3nxcl3LYp+TsIb2desp97IzQDRALGU+W+AuEhGXbcXSxcJHsADblDi8UYSjxPw0Ei6IJUAYgg46Qou3HzdbOdKinQXXTIPzbhBu4XBdUk/rIppsZQ8RItYO8m2HjZsWOpKM2mAyDUZP3689/vjgxXtIAuU0ITPAcSOSEzJOrYLiKHnEurWDrF2KSBikQqJfwuJqVtu+nQ5efRoaXEKnGO5/f2RR8q0gQPb1bDkmAA+wJW1RB1LDbL6yZqvvx4tufjIppvKPTvt1K7wuTtZQle+4ZjMf2AyranrGljkh5c931rXwB6W+JAGaHKP8FVCwJp5/PHHB5XBCjmuuw3XgdVcKAnW0Y17989//nO54447OvpQdd2/AaIBYikT1ADxv4CoaylzQwdouGlipaI+X96SL3pxfHFyWRcR2CLGKWnJKAVZjY2MJ0HwcMZ1u/766+eeJxSu5oGia/iGdhBfeQbAjccbJvWVdZ5ZxybbGoh34/vc7ZMAEV0uv/xybzxWqJuVOQKAJGXBMxYXEH0WNx17mnWqef58WfaTT+RzEgZ69PDW1MNyy8MZCxpahJSWCbVMhQAnWtMfc9MtYJ12TUNi6qhdefyYMbLyG29EFsO5zc3y5koryZWHHrpEgXO+O/TpCw054J57ZOizz0q3+fOjoQGcd+68szyx0UaJQw29jswL4mtDCscn6cl3XOew68LmfJhvwF88ccbNugZkuT8kFQuPnxhlrXbbbbfQr3qu7bgvAKnVWPqO8Jjf//738sc//jHXGJe2jQ0QDRBLmdMGiItkxIqFa5WSMC4YVbLcHf1OmjQpKu/gcxklXUzgArdt/M0bCwNZwDyouOkmPQCxXCic5Z0obpHtPPvqyjFAKZCZFG+Y1B8PD841cc1rHoT/7/9Jl4cfloVDhsiCs88WGTgw6sZ3bYASHo6uPmPGjBGWBPS1UBeiD5Q4LyCJORXi5kyzMq707rvRKh1dFyyI6uv9daed5LERIzITHxQQSRoKseCFnnMoPAOIFGYPgcNQ6OK69WlpkU3Hj5eV33svijd8cIstZEHXrktcUqCKl76kpf7cjX/whz/IwE8+abf/lPXWk1u+8pUl+gwFaHbEeolFyweIbmF19otnsrvlbbhGOo/QlXuB67p2M9TZlpg89geUOY7eh1yPCCB73HHHeXXyfWfSPuc7wFwoEg+d95jcb2+99Va59NJL8+66VG1vgGiAWMqENkBcJCMJIbhu4sWkK1nujn6ps+crqJ12Ibmp4ppxY3d40D/11FPeJemAM0Bo4403zj1PimRPcxAeXBQR58GcFm+YNJhUdzgrneyzj3R54AFpmj1bWltapPWLX5R5jz8u0qNHVOsMqORBnNTigIgeLMHla/ESNPHSJPpw5WGrVrn4Q12PAeADKIyRbbLKnLBP4rFF5Du//KX0dtyK1Fy8+vjjZdriJdySjq8ZrOpezHKzuhCiY4/3qftjEQS8kuryudoyH7Q4dZrm2ieQ4mbZJpWAoS9c4Ao9ClNpfetSf5pFHd9Oz++466+XlV99ta3wOTGNE0eOlL9vv/0S14tzR9e066h/53pzfF5+FBDT9AfeQgCeFx3mXEg2MjrxwsY1YI7qfvwez7reeuutZccdd4zufT5rq++7k/Q5HgKuGcl+Hd3uv//+KLHwvPPO6+hD1XX/BogGiKVMUAPERTICNUkuOGDsi1/8Ylux3byi+yAmq7/4WtAkreCyAjjTHnraHw9wLKK4x/O2PNnTbt88CLBsMr48tRuTQDjq9733pGXttaXJWdautW9fmXfLLdK6ww5RKQssqGlauIDIQ/Wyyy6LHppZzYUQn24hVi/gFy18Nf04VpqLtcfs2fLj3/0uytptu74tLXLnrrvKkxkhBJwz80DrEGadj88SqvuGxiiyPfF0QFEawGufocf2ZTi750efzGOsZlnHp8/lp0+X466+WprQt6lJPuvdW35/1FEyp3v3dpKFWljZSQFRr3+a9qHxjOyf9/hAmSbquHPAdV0D5l/96lej+clc4TP+xnWO/xQNsyHUhP65j3Z0+/Of/ywsMHDWWWd19KHqun8DRAPEUiaoAWI2IBZN2NCLAzBRizDkIR2/oGoFpCyMZlTjvg25UQMHAFSRVVyK1CXkIYD1kIfLFltskWtuqmt6iaLe774rLUOGLAmIN98srTvuGMEo7tM0F6IWCeZhPXHixMzSF8BBa1OTLNOvX5A1JwQOEYFrCIT4ljnEcpOW6csKIT/7v/+THk4xaOLkrjj00Cj+Lq1h7SIO1VfYPauWYbzvUBcrMAOg0bcP0Dj3EKtYKEhqCRpcmz5AVOjCOrvGG29EruoXBg+W+d26tTv1PHCqfXJOxN9lvSyFzqM8SxS6Lxpp62Hrye2yyy5LLCXKuIH7+I9aIpnLcXhE57REPuYgLe9KSbluIos3pnQV53zqqacW2X2p2ccA0QCxlMlsgLhIRm5+SVYe3JK4S/MmbOjFKVoyhv01aQZLGIkGvIGHZlPHlwnMM1ny1CV06xsSK8n55oXS1HhJXMx77SVdHnpokYuZbNRVVpF5Tzwh0rNntE42ZX2SskQBM0r/8CAjvpSsRnR0a9Hxe6+FC+Vrd90la7/6qizs0kXu33ZbGe8BXF9iiqs17kiOyziyms86tNarr8rht90W1aSjFiCZtmN32CG1S2CTYwMoPkAMhRTfGHUwClNYlBUm0gYaCn0hGc56DB0n554FqHn6TBonSUNffvBBWe2tt6IM6rHbby+z+/RpA319QUm7d4TCNucVqn28nJFbizJ+DQg9IHM5T3w095UkeORcNbM9Do+EWXAdfLGYee5RaduSgMacO+mkk8rortP2YYBogFjK5DVAzAZEgsy54eVZzcS9MM8991wElxTLzdvefffdCIIArpA6Zm7/laziwnEBLF9Qeby+IQ8PEkfyWhAz4yVnz5auZ5whXR55RFqHDJH5v/iFyKBB0akCo6xSoWvt6vlr6R8skjyYbrzxxsiahSaaDaqB/Ufdf78Mf+01aVnsvp3T3Cyjd9lFnlt77dR6dKEPayw5b7zxhteKFmrB6ztzpqzy8cfyQUuLTFusQdqcYozogDUl6+UmFA6zLJzxMShMAWhZgBh63nkAyXXZ+o7vy5oGAPcdO1Y2eOEFmdfcLH/ZYQeZsuGGi063tVWOvvlmWf2tt6Js6vldusgnyywjV3//+zJ9cZFoTRJKA/TQtZnRKW2lp7j28bmZBckUlC6zNiEvQryUxAFS3dxJbmv+FuIRCb13nn/++VGs49e//vXQXZbK7QwQDRBLmdgGiNmAWDQeTy8OFkgemHli8gAZ3LXc3HkwbLXVVoWuddEajCFlZ3Q9ZWIA9dyKrj3NAwUXOqU28rRnnnkmAnc3CYPrxfhJzuHBg5uduKS09qMLL5RlYjXlxm+wgdwwcmQEk/xgGaEvfnioa5B/1oNNgQrrpc/NGgppodY2jRPUtZjTADGklqHqFnpsF/oqBTQ9dh5Lm6sl8X8KJfHrH7ISyX5//ats/PTT/10pp7lZrjnwQHll9dWlz+efyw//8AdpXrzmMP3PbmmRG7/6VXlhcawd+lPfM+nlMPQlg359IKvnluQGT9OA7w2rpoR6JPJ8L+Pbci9j/nDOoa5rrg/XDit/njH+7//+b/RCfcABBxQe8tixY+U73/lO5FX6xje+Iaeddlrhvmq1owGiAWIpc88AcZGMWjIiLmoed2vSBclrgQQIsRryUAC+WDJqyy23LHStiwJiZtkZkWh92aT6hkWtlkUTalzrLNcPiyIPE6wiABoPo4suuiizqPC3rrpKVnr//TZ9yWC9f+utZcLIkW1/c4P6cUtildNixnyWVIsOKMBygosvKw4u9OEfL4WSNSEUqHwuzlDoy+OKDQW0PNAXammLgzZwxL5J8Z8hxz/9d78TrLZue3CzzeQvO+0kfWbMkB9efHE7QCSp5dr99osAMgLG2bOjuRcHxDzW2JBxZkG8llmKa3DYYYdVJauYsfGSjBU1q1h3Edd1Utb16aefLnvvvbcQW1mkMQ5Knf3tb3+LvBPAJh6IMi2tRcaVdx8DRAPEvHMmcXsDxGxADHW3pl0MXIxAS0gGH+BB1rRrlSsKeYyn6L5Yfjhvd0UU+nPjDclUTrKgFTkmIEO8YN7YRbIVefgCWVgKiXFaddVV2ywO9957b9RvUgkX/dtKb74ph199deQyJEnl87595coTT5S5sQxWzl/Lu+i1pg8XHjkPfhQOtKyNWh4BLYVJ9tUft06gWwrFtZy4x3b/rtvr39ztGAuAioU3vh3j0Jp5jDfJSqP78CD2rQ/Mtlh8gHJtwAl/c5NU3LI2bsxvWgmYLDiMl+HB2qT6M4Y0OKJPdyWS+LnrWL5z8cUy6MMP285nPsspbrONPLD11rLhf/4jB/z5z9KltTVaB5ql/j7u108uGjVK5jc3R3qTRYxu1ILUxt/dWob6vYrfP/Tc4pq627vj5noyj+KVGIj/06UedXsSuw4++OBSnh8hnfAiRwx11ooyWf2kua7drGusflhseSHHdY4F0Vf/MumYvJCfccYZbeWwfvnLX0ab/ehHPwo51brZxgDRALGUyWiAmA2IPmua7yKEWiDJHKaMzdChQ9s9UIsAl46p6L5JWcW+9ZQrOSagUCR2EcsEUIDG1EN0Y72wcl511VXe7Figre/06TL4lVeE2oLPrLVW9G+85bH6xK1ouq9b1FhBgYca5+Amz8SBJdSKFHcxZlkQQy2Xoe5vxgxIAoirv/mmsCTeSy0tMnXw4CUSdELdq3k0T+rTXcWG67nq22/LThMnSvcFC2TSRhvJkxtskPn13fCdd+TAP/4xKk6+sGtXmdmjh1xw7LHRajYnXH99m+uZ5flm9uol5x13nMx0kpHQAohxLWehRcYZWKj2bJumKYCIpVhXG+I6HXPMMdH60NVqWPaJC/SV5ioyHr5HfK9YEpWqBrfffnsE5Lzk4t7nZeDss8+O6jyGNIpsA5us1U677rrrotW08ER0pmaAaIBYynw1QFwkIzca1/qg4saXj8srus8CyRs/sXQcnxI28YzCopDHOIsu8xfPKk6KN0zToch4i8YuYjXEjUutR/fhg5ZXX311BI6+5eVCYSXUHRsHL2AbKIg/HHlgM98ARHclDGAZPTRTGnAEFDgPdxm1JP3jY0wDxJD4O/p3oc8371XHXcaPl60ef7zNYvnAsGHyd9Y1XtyY3/QbUhcy9Nqk9cnLnVrPWIlmlAN1lAm6i9VoUgrJa3zmsq+/LkNeeSVafm/KBhtESxyOfPxx2f0f/2hbmo9TW9jUJD+mtIqzZjsWRK6vC4ih5xTPRs7SPyuJhXhcjs88opG49ZWEFWJ817eSzwmZYelSXyZ/JcfQfQ899FC58MILo9JiNLUUh8IpKy1RTN8FRNZ8p8/O1AwQDRBLma8GiNmAWMmSdfTMGzyQSVxLvPEAwQVKrAs/SW6+IsClx8FdQkZx3tUR3Kzi0PWU9ZhFxps3dpHtWQ4Q+OZBgHZuw5pwzz33RH/KAsRQC01otm2SxSutDp3PggckAlG6nq5mXys8xuMeeQDymeuuTgPEUItkKMyoVaz39OnyP5ddJt2cxA1iOn87alSU4UsL7TNP3GNanwAin9HXPmPHyognn2w3T6YNGCDnHX984n00a5wbPPecHHjPPdJ93ry2fWd17y5nfe977friewT8awWC0HmURye2zZpLJElhWQei+Rk1alTuigiVPmh4kSOGL23N9Er7d/cHfm+55ZbCZcnMxVzm1ahtX4R+WKtQAQPEbEAE4oh1GzZsWCGl05aR480eFylv9PEyLe6BikIeffDmy7jVehB6ArjFiIXkwcNDLi3eMKm/IoBIP6H7AUpYJLCCcV4AFPFN2rheF198cVssXBogptUy7Dp/vnzlb3+TDZ5/PrIa3bPjjvLaZptF7ipfS7Iy6nJvbjxUKJimuSPVreaW7EELxshLhrqr+Z1rSRazWqZDAS2PK1T7XOWdd+TYG29sV9B7VkuLXHnoofL2F74QXSugNWRtZh9A67XIgi7XvbrPuHGyxZQpUbygtvcHDJD/SwBEX1HsLgsXRue58rvvLuqvtVVu3ntveWbIkHZThOvB/NPvd+g5+Y7vHsQH+7xEEYPKfCfGd+edd/ZN49I/54WN0Jk89RaLDmKnnXaSCRMmFLZW8p3iZZ4l+yjsjWYU38a705maWRDNgljKfDVA/K+MuIPiTWPvhg8fXkjveDyfWr/4O+Dle6suCnkM9rHHHhNWYeEhmqcBhSx6TxFqaiHmKTMRCnrx8YTsR0wX1ggSUbh5J5Uguuuuu6JttKUBYprLmLp3w556qi2+jHjEKw86SF73LBOWBipxQMzjOgyFORc43VqPwCHArAkpQALj1LI9GvuY9OAOPbZbd7Blzhw57eKLpafzPQIQf/XNb0ZJP6FgHOoC5xpnQReAiPWO81z1o4/k2KuukpbFVr+5zc3RUoVPaF1DZ0KGhBMAieu+9JL0mztXXlphBXl/ueWW+IoBiMAwWvpAzt05VHv28fWLB4B4Q9y7J554onfZwzz3idBtWY+e+2ee+0ho3/HtttlmmygeMa/XxO3nL3/5i3z3u9+N4J54zR//+MdFh1Oz/QwQDRBLmXwGiNmAWMmKJPTMQwJ3KHX5FDZ5ABGTE3LDJHmDt1ffUm1Jk6HIOtAADcHegAY327ytaNyjDxBx0xOriRbqsotniPP/a6+9ti3+jbEnAWKW+5I1j/s4pU1Y/fjBLbbIXLWE46TBT3wt3FT4aG2VFVl5ZM4cmbrCCtLcv3/bWsZZ1yBrVRfcm2Qxax1EYAqLdrxYuNZ6BBQ15hGw0dqPWcePn/cqU6fK1//0p6gMzKc9e8pV++wj06gb2KdPkBWWY4WWtfHBkRt/x7kv88ILssNDD0XwP3noUHlq3XWXOLU8ru34tWRJxG0mTZL1XnpJPuvVS27bfHN5b3H9P99YdSB5jh+i6dSpU6Naodtvv33heqp57wHx7QHEvBUKih6Texb3vZB7a9FjdIb9DBANEEuZpwaI/5UxabWCvPFx8YuiNf6wxJHNh/siz7J9WMPYJ2s927SJQHwjxw0t96DxhlgdcTGPdGoBhk42LI88DPK6k7IAkexufoBsF5T5GwCIpROgGT16dFTaxG1JgIgVLclazH7fuuACGfDRR21dUNpk/Pbby0MZsJxUikQ7wFJMAybUkhcv6cI60AffdJMMXrzcH+sBX3/88fJOv35e2bNgivkMWGNBAjwAxrRyMhxIwZGHq8bPaTKJwiL9qAsbSxcWyqRG5u97H30UWfi4ZvESNGknptZD34kP/+c/ZStW12ltlYe32koeS7DwE39HRitj0JIovn5Dj8/8Zs65eu42dqxs8sQTkZWSpJU53brJOUceKT2/9KVUneLjCYVj9tNEp6xz4jvCEpjHHnts7lATn1ahn1cLELkW2267rQHiogSzhg/Ba3gBQr+gWdsZIGYDIp/6rFtZ+vKQBpp4QMZL2IRcP6x5JGLwkMvbgDzqL2bFONInDzriId14w6LnXNQlnnQ8xkX8JxoSqxmHTqwjfEYJDTSmuG28xQHRFwe2zosvyqF33ikss8bazBE4NTdHNe6IM3t3+eXbHcJXioUkJ1pkwVpmmSjrOt42/fe/Ze+//a0t6QG4mLr88vL7o4/OvOS+4tmuBTHE2qTj1DG7B0dHt0yPgiP6q+VRE2cUILFWclxeiJLOO35yPi11e0IA9h037r/u4m7d5I5dd42yjN2GBRFAzAJZd/s8ru2ka3nWuee2y2ye27Wr3LHVVvLMDjukvpC4x3fd9b7veogbnD7I5Gc1kKIx1L5xhHxebUB0Q0xCxrc0bmOAaBbEUua1AWLHASIPVSCNbEpcPHmtaowMqyPxdnnXYmZflq+jeHTWCgZp9Q2LAmLRuMf48YARLKCMncK+SS/EWDyJSyRL85JLLkl8CLuAGAoguEk3ev11GTZ5svRkLejWVsHVzEoZvznhBJnl1LrzPaiBLSwbuPnc4szul3fX8eNl+0mT2n2fk7Ji4194X6waGmJBRL+QJJssd3X82O55o3Hcba2le4BYLLaqvcY9Jl1Pn5Y6huNvuEEGv/FGuyG9vOqqcsVhh7X7GxZEXh7c4t3rPf+87Pn3v0dw+Z911pG7d9opqnFIC3UDp8WbnnnuuW2xq/QHII798pflkcAEt1CIR0vuJWjsa8w56gBWEpPnO4bv82oBInOQJBViEBu9GSAaIJbyHTBA/K+M3HCTMiyLwBI3Zqx/WPCIjSu6XJ67nFzeC64rjbgFpN0+sOqQEeyu3KKfFzln9uXmzAoseWueuccDZtCOOM2sNawBALbFYkB8YlJzATEUQHhQd506Vb5/2WXtHvhA24377CMvrrFGdKiQsiWaqICb1wUVd6wbPvusHPCXv7RZEBc0NckbK68sl33ta6mXPARm1IJIGaA0l7p7gFB9gLykVTvig+XFiBcU112t4OjWeoyvce2DmWNvv13WfP75tsMB78+tuaZcd+CB7YaABZHj63d61bfekmNvuqnd2sqPbbSR3LXLLrliJNOs0Lv94x8ycrGLmWvI2sy4mOc5K6mkXdBQOGT/0OvEtoSnHBjTJe99pJLteTnipbEaMYjczw455BB58MEHKxnyUrGvAaIBYikT2QAxDBCJxwsN64iXsCkKW4wM1y8PhCxQSpsIJMfwMEtaNUHjDXF7JxWRLTpmYA3gDC1M6wIpGv9/9s4DTKvifPvPVroSxBIRURRFjRqNUhRsoGJDUayJvYCx5RNLzD/GGKPGaIwlSmIHBWIBe0OsoGKN0YgGRTEYA4qCImVhy3f9xn2W2eGUmbNnF9Qz17XX7r7vOVOemXPmnvtpgArGjB1kmlodOcPQPv/887HPggJEHzBHJRovrvSrrwSHlfJa4Mc3BZuyWw47zIA3is+mrtkcEkFPXZ1Rmf7krbdMyraFbdrIDT/9qXyZYIOYZPeo/QWMwRD7zEWautoWcBpzqdfCniL3OE99jfVIP7kOhxo9pGm4HjvDjIY1WmvWLDnxjjukQj2SKyqMvD5ZZ51G6wDZIydl7gc99ZT0f/ll+cZw4JuCM8mlZ5xh+ugDohOBeV2d9H31Vdn8vffk6/bt5ZEddpA5bdt62Q/72h76gnPGxsGAw1pLgLO4B5Dnj3cCweybu2BycsYZZ5hMKN/3UgDEAiDm8gwUAHG5GOMYRFIt8YKLyj1sTwKnZcANGyMARzfGrGCLusktyiaHijK0RN3Lpjx9+nTDZtHHuDFl7XNWm0niPQJkcTIBtKaF/0EWxHhDtawAYMOPPpIdXnrJxKZ7oVcv+WCDDRq8mH3AHHXa7MzeTz4pvd54w6gjCXczs0sXue3QQ03O5jRbRp0rzZTi4yi0Nrl058+XL1ZfvUHtGTXnvgCNe5En+arTim+dIXZ6GmInai6x8US1vtFHH8lXnTrJ/bvtJvMsQBwV61EDh1Nvt6++kp1mzDCq01e23FI+/+EPG5lw0CYOGrDnCs7xYN7t+ecbgf7PO3aUG889V9SZKE1OvkCO9jnAAHzT2HTftUTffOeJa3/2s5+ZZ6RXr15pw2q273mncohrCRtI3r2XXHKJkC7v+14KgFgAxFyegQIgLhcjG1CU16tPqBmYGrWZc2MHZgVb9Cwq1p/vxLv3JvXRrTNrn30dY+z2kDnBbXFmIIxNmopR733ooYeMYwogAHB4pKM+HHPwwTK9WzdvMLdCIOe6Otl8+nRZb/ZsAUj8Y8stjeNKiK0eTBjMWJqjkC9ICAlgDTBhDaSxzyGgz0e1zfwAiGfOnNmQycRdX0fec4/0mDnTOHWgjl3curXJuEIqu7ii4MyO9WjbPrKONMYjNrvqpAJYM+kOFy6UX9x8s7TGrrS2VpaVl8vdQ4bIu5tu6pX6z3eOFMgxfvqcFKIqJC6mLwtO+5hnHHzwwS2m3o2bM7zHOZAS87W5C+FtyL9ONIPveykAYgEQc3kGCoCYDhDT1KYAgKQQNlljA9IzWBBYP4JDh5ZZs2YZBwnuTbI3jKo3awYXbAFhO5McY+z22EAA1oBX0gL6MIfcj/MF+VE1zt9Px4yRHu+/32goH2y4oYw68kjDLKXl/tXcu1FqRjc0DCApLryL3QEAGipzO90a37umCvzPjx5OokwZtA++bQNKYLI1zE3S2okKlxLVB+q07Sjda7SPfI7MMWMAGLuB2suXLpVfXnKJlNbVNXSrqrJSHhwyRN7ZYouG0DFu/YA8dcyIkxF9AMAzPwTKBqAx9zr/HZculf7Tp0vb6mqZ3rOnzOvZ03xnH0rscdhyo03XRjmqH6quZu4BykkMYlLIJbduEypoyRLZ8bnnZKs33jCs9lODBsmHG2/caHq579BDDzXMcUupd+PWF/OAJoMoBM1dsD0kxeZ1113X3E2t8vUXALEAiLks0gIgpgPEOFaMjQQHFDZC1KJxG4GvijpqQrGrAbRo8vmQSdd72dg//PBD00cfezTayNrnEKca1HrIljhtsC0hAVBTGkUAACAASURBVMHHjRtn7gUEwTwePW6c9Pjgg8YAsVs3uWv4cC/1oS875BvImHzEm//3v7Jw3jx5Z+21pcKyj6tYulT2ffJJ44lL+JwnDzpIPqqoSJ1a1ldIPD/kC0BMYhB9VZa+HuAMQtX0dqo7e3Col3/7pz8Z73AtOHTcvc8+K6Sr0+99+8n1ynJqkGgbaCnjqMHBAbwaH1JjPdp2j3zG/SGOIWrOgHqfv+MyGQGiqTvt8MKYlOXd7bnnZKeXX26UEQbv7VlWukme83322ceMq6XUu3GLl+eTQy62kM1dsD3EY/qPf/xjcze1ytdfAMQCIOaySAuAuFyMGq7DFSzhYrCPI6aaFl7qsIa85Hn5JYWwyRr6hbbw1OUli8ootGB/BPBig0qyN4yqlxetry2gfT/qJNjDtGDggGr6prEhQ7K+AELvvvtuA5wBQQCgHjNmyOH33LPcQ7WiQu495BD55/rrJwaHpu/qmAKLaRdj0/jqq1B+8vz228vMrl291NWtliyR0+64Q9oR87CuTqpLS+WvRx8tn9evn+P+/nfZYNYsAUQS8xD16pUnnSSLrPA5UXPiq95VMMUaJRZhHEDUnL81S5bID7780oTvieuDL0CzVeBdXnlFjpw61eRmfm/DDeXuffeVpZWVZmgHPvKIbP3OOwboIJ+vOnSQq44/XpbVf2+PPwSc2ramAEQ7T7crU/dQ4MZ6VI9rDStjh+rRmI8AvI7z58tBjz4qnb/4Quast57ctfvusqhtW8MeI7c4VjwEdOrcn3vdddKxPramjmfydtvJIwMHmn/p1/Dhw027PB88KzxjK6vwfPIOw5u6ucuECRPMgf38889v7qZW+foLgFgAxFwWaQEQ0wGi60lsh7DBUzCthIAfty42GZiITTfdNK2ZRt8DdgCmgACM1H09sLUSwtVsvvnmwSn+kjynqVsdefAwxS5JAQWqMEBwmjMH48IxhY3HzhRC3Zu+9570e/FF46QypXdvmbXttl4BmqM26o1mzpSjbMBZXi53Hn20TIvIuetOzF6TJ0tfgqPX1JivAIEzunUzHtDkK/7N1VcbGzgtsGf37L23vN2zZ+wc+zKcCvoU3CQBRMZd8cEHcuLYsdKKgNe1tfJ0377yVL9+jfrhy5pykwLJdWfPlpNuv11a1ctgWVmZ/Lt7dxlz0EGm7lbl5bL91Kmy0YcfyhcdO8qT/frFglNfIOXa8yUBRF+wrWOCiY2K9Vi5dKlcfv/90qE+XiZg97Mf/ECuPu44mfvFF4Z5jAKIITK1Qe+Iv/1NOluZfrDffK5PH5m4885Grn369JHddtvN/A07yvPI4XBlFdYfP1kOuKF9vv322w3DfuaZZ4be+p27vgCIBUDMZVEXADEdINrewJyGZ8yYYWxq2Ax9SlbPXupmY4JtA6z5FrU3xBYQFiGLeifN7jKuL0le12ywyIINj1A4Nmj1ldGkSZME+0gKIAjwTKw7tyhQiXI6sq9dwTGl/svjUFl/9FGjaqdvvLHc6hFT7siHH5bN33qr0b2AhiuHDZPyZcvkt1deuYJ6lSwt7/boESlWQF/r2lo54J57ZLMZM4T0f4/tvLNMjUgvZ4OpJAZRHR7O+OtfDfOloV+WVlTIbUOHyofdujX0xZc9tDOB7PziizLwueek3FIjLy0vlwvOOsvU6wt4mxJ+Jwkg+nojpzmGGOeo8eOljcU+V5WXy/8NHiyftGplMijZP8o84kTjk10GWdkhjbacNk2GPvKIYco1ePs1xx1nTBW4DvZQTV04yKrphu+7I+/rMDPgMJjFRCa0LyNHjjQJBU466aTQW79z1xcAsQCIuSzqAiAuFyMG6FHZCVBbAGYwuFbmi5e+b2lKNhQ2ETxRfVkAO74hYyHVFrZ9ocUXsLn1siEhG7K/2AXZ4YxC3uQotZ+P9zNeqTfddFODM0ccQLRZtDSAGMcknTB2rGzkZOuYvuGGcuuhhyaKEuDxoxdekH2efHK5nVhZmbyxxRZy7957m3v3J2fv229/Ez6nrEzmr7aasMlXx6wpQN8eY8YIAbWVlQRsjTnwQJleH7Sbel2wmwQQDSu1YIFc/Mc/NnIWoT+P7bKLvLD99qavIUybzXT1+sc/ZO9JkxoYROoi5uAlp59uAIyvLaUvOI3y7o4DiL51+gDZrp98IsePG9cQ5Jx7APCXnXyyfLBoUUMGJGV0+Y2qmvFT3DiPjMM2V4nq68bYE0+bJjj2YPowr2NHUxfMIQyilpa0/4t7KDhQM1ae++YuV1xxhbFnPvzww5u7qVW+/gIgFgAxl0VaAMR0gAjoASQCeuLSviVNRojjhlsPLAAq7h//+MeJ8x0V35ANAueULCEmfABbVIeQE8X2ukbFhB0nrGtcuBcf7+dRo0aZedACAIKhcGNEumng4gSXxGJtNn26HPbAA42ybowdMkT+vdFGqQBx8cKFMnjiRNn+jTfMtdPXXVfGHXpog31dSV2d7PTuu7Luv/9t1KvP9OkjVTHhXZTB+uVVV0mHRYsatT1lu+3k4XrbM75wYz3GAUT7OtemDZUlAaenbL+9vLn55sY5wsdj25Uljjin3HST/GDRIimrqZGasjLjhPKvzTbzBp1NBZJRADHEntEHHJfU1spJY8ZIlzlzTMgegPu0TTaROwcPNrZ3hGBy7ZNV/m6sR1Vha7geTVOoQBIwGWfrDJCEPbTjmmKGgR1yqHlKLhtLfSXMAe8mH1OcprZ74YUXyk477SSDBw9ualXf+vsLgFgAxFwWcQEQkwEiKl6YL0JG+LJ47sQ0JRsKp2/A07bbbhs73xrfECcaG8D6gsuoiqMcc3wWHB6LbHTkwKXYXt5J8eBoD2eKuKDOpAR84IEHGqmlaQdWURlJO1QNm6+GjokKWwJQiApbYo9xs3fflR2xaSwtlcl9+8q/N93U2FDG2XMqoNDv8dat+vprmV9TY8al97LRAwLc8Dl221oHAJE18PPrrpM1P/tsOTguK5Nndt1VXujf33ym6l3+1nZgq7BhdQE0IEOZ1fU+/lgOHzVKAK3Y01Gw4UTV/Nxee8nUeiYxadwa1kY9g7UP82bNkt0+/ljaLV0qH3TvLv9bf33DmLFebRm6det3Gp4ozX7WHo99LWvPPqjQDqBLtQR2u1Hjs+u158a9tqK2VrZ9/nlZY84c+aRrV3kDmZWWGvYe5zYbtDF+nxzK2gbgXDPi8FvnzVVbk4OYd4Q9ft5dzD/mHCur8D7gWUtyFsqrb+eee65JK6g2mHnV+22spwCIBUDMZd0WAHG5GHkpqycrf6PahQUgnzJsXNaTOCweG32Wl6SCv7h0WUnxDQEWqLezpLlKy+Mct/g0tA4qJZhTQAMq7iQvb+pKao9xXH/99Sanr11gJlCp2+psl/WJUzH7qhl9M7DEBbCm72zytge8r/2d3fYG//mPHHv33QJjVVdaatS11x57rGEeXecMlRGyx0bTTrUYNe62ixbJ3k89JT/+17+kzBLwgvbt5ZJTT019z8Q5kQDe8WhXc4wQ9s5XRnQubo5cBjEkTV1I+3FribWJ7O0Yiz4pEhlTUkB03k22xzV93RcP8aVLzeGAwwLtqMkMh0Y+8w1AnzrhARfwDqXtqHSfAdV4XXrqqafKKaecslIzx3h1tAUuKgBiARBzWWYFQFwRILKxomKFbcCmBVVNqKOIPTlqwwjQDC1sBIScsW2LtA42QA0VExXfEMYBZ5MsuVizsp6otACtyAzWDOP0NAaI8SS19+ijjxqPbLe4ADFqo44CiLYzRdJ8hGRMiQMJAESArTKjPmpL+hQF+nAmIdYjoWLe6tmzIWRMHEBzASIASbOQuOMeMHmySUNn5yn+um1bufj00xOXbBLo0kwmCnayeiMndSBJni5A9D0UxAHuqH4krSXeGThQ6frPA3RG9YGMKcoSMr84puHBjPyxmeY9pjaf/I3ZAADS/mku8IjTGnJH1d7c5ZhjjpGLLrooyKGvufu0suovAGIBEHNZewVAbAwQsZfDQQMGTJmpptjyUTuqJsCaql1DJo4XPl67O+ywQ8NtvvmUk8BlWh94sbORRHkIJ90LY6Be3mkp3ux6uIfN3m2PTZ70WVHqWD5Dttg3aUBjV32n/9sboC9I8wUUSbZybNZs0gBEgEKjbCR1dfLjt9+Wzcjf3b69PNu3r/lN8W07ycvXBYhJda45d66cMmpUg7MFKubJvXrJpHoVdtycJ9VpA8QQ9s4XSNKnJBtJGyD6HgpCZM+1SQyz3X4IexoSAgcVOjmXo4rrIKIaEsAjPzDb/AY88k5hjljLLoBMY/+T3geE2YE9txn0tHdP1u8ByjfeeKPR+HzfSwEQC4CYyzNQAMTlYkRFQ1o8nCk47WvhRYoKNGvCeVg1WCRyNGcpdl7kOHvDqHqjwKVv+3HeyEn3AwhQKxNqItQxJkoNT/9vvvlmw97GFdIJsiFEgQqAGYAfYEZdbHT0DdCmNlwKLN36QzbpJMBpA0S3j7s+/7zsPHWqAWU1paUmYPafTzxRqldf3agQ0zyw08CMDRB9HD7W+9//ZNDTT0vbZcvk9Z495flevaSuBIvE6JJWpw0QfQFvSK7ptDoBaD06dpT9Jk6Udb/4Qj7u3Fke3H13ExA8roS0n2Z+YAPEtL7a/QlhGo8++ugVIgZoXTw3rAEfwKTMsoJGG0ACHpGLMo42gLTtK6NkynuTQ19aLnLf91LSdXvvvbc8+OCDDZ7jedT5ba2jAIgFQMxl7RYAsbEYOU27KtE0O8C0icDTFoPxrNkEFCCG5lOmXza4TOun/X2IWpzNBYCHvRvMK4bxIXEbaTcKkKJWRr2cVACI2IayodksI/LmMzK6KHuoac00vZqGHlHwaINGbOei1oLbl7SNH4AIA42jiKveJd0c4FALHrAPDxgg7+68s1eMPM3LHOfsYgNEX9Y0DfTY40+rEwYL5hTAk3dYG81ukuTwMWfWLLnskUfkB199JeU1NSZjy9xOnUxIIew4o0rafNr3pHl4K0D0BZ1kZOkzbZpIVZX8c7PN5PMf/ECGPvyw9Jg5U5a0aiX3DRrUyIuedX9QfeDxqLHArlPckFMh7wG9Fjkr82gzkBxiOHjZ6moFkDxPOJ/B8NsH7izt+9yz8847mxShISHIfOr9Nl5TAMQCIOaybguA2FiMauhtf9oUVS31wGKxWWYJWK0gD/V0kr1h3GLIChB91eLIBntNXsrYawKGAG2wsCHFBaQwrjimaLy4uLoUIGooFsASgBwwiN0T/yuAStr8Nc0iGyFjwYYSgOWCR41bp3l7ASpJIIX1BLDHUcANjPy7yy9viGvI+IhB+OSgQfKsZ+aLNIDCmNSLNS4oM57La8ybJ1+3aydfd+hgnKnSZE5ffVguBYiwR66DUdR8hqiBfdTQlW++KedNmmRS/WmpqqiQ648+Wj6NsIkLYY19gCTPEODM59pO8+bJabfeamJj4lG+rLxcPll7bekye3aj2JcjjzpKZq+1ljn0nHjiibFe/4yXZ4N16nqxhzyXPtfynKgzlg0e9XPmivViq695jnxsk33a12v69+8vZK3Ku96QPqwq1xYAsQCIuazFAiCmA8SmqGqpHbCRBTRxL+qdZ555xniDhuZTVnBp2y/6LhrUU7zsATZxhU0BJxg2QVVjZbXXJBwGgEYD6hLShtA2SS97vgMMAgQ1pA3qfJgtNiU2UVXTAj5s4BNXrzJTbG4U5l69QQGC+sP36vTBJgy40N8aqJv71WEA1bbb5r733SdbvPWWAQV1hJaprJSbTj9d5q2+euI02eF8ki5k7Kh5mZ8olvGHs2bJ4bfdZgAJsQqnDhggk+tTtqWtE1XbJ13HGgoBJxoCRuUUFXqG9pgj5iSt1Lz+upx9//0N4XsMCK+okFtOO03mWSkTtZ2ksDZ2W1zPXNsmAFHrCXtcDnY+fR10772y9SuvNHISYoQ2z0kA7mf22ENe7tfPHMZ23333RBG0pAdxXEcIEYadJLKy1dca6ojn0lZZ8zfPUijIY06IgVgAxG9mogCIBUBMez96fV8AxHSA2BSgxb3YwmGsnRbs2p0wVW1zP+qTLJ6GWRlE2B/AXlwOVUAvzCGsqG2AnjX2oobHweuZjW306NGp6xdAwbWED0JWylixyWhhc2bzSFOH6vU+bA/XKttl5+dVlbUyj4AIBZywJ8o+alulNTWy+3PPyebvvy94DD+9//7yfr2TStLg7UwxaQARkB+Z37quTn517bWNgm/jmHLj4YfLx+uumyh7H/aOCpgP5sbHljJEtZ00R8h03U8/NYD7H9XVcsGzz8oPYeHqg1j/p0sXufmww9hBG40xjY21L/YdP2saIOeTUu+w+++Xrd95p1GfyOFdaqcqrKiQBwcOlDe3394ExU7LW47ZB9dgZrGyCoANbUKU2pdnk0Ob6zTDoUoPQa7DDM9dFHhUgMiBNUu5++675be//a1Rib/88suynZXG8tJLLzW20Dx311xzjey5555ZmmjRewqAWADEXBZcARAbi5FNPurEnxVoUXuWeIRqb4jdIh7FxDJMMwiPWhD0u2/fvsEn8iS7STY+gNnWW29tTv924WXPSzYpsHdUP9WRB8aFdHowX2kFoECcRxhEVKnEWoN9sAtzySYJ2E0rISpGH8AJUGTOkBcbmwY6VgbKtnnke/5X5jKpr74gFnCKXKO8ySvqc0LbAAT16wO77y6vb7VVbPMh3sgcFhhXmhfsCt7dCYNPcoxpvWSJDL/9dun41Vemhk9XW01GHXGE9H3tNQMa/7vOOiZrTU15+Qot+MwnN/naE3ItNrlq5pC29rb95BPZf+zY5Zl7sN/r3t3k3ibgenV5uXzZoYNce9xx0muXXcyBMa0QGQDmOi74fNr9eXyPHTHvgtDDLc9IHHjkO0whWAvMh+aNJwYigDRL4Z1FH4cNGyak7FOASJICUvcBGnmOBw4cKNOnT09d01n6kOc9BUAsAGIu66kAiM0PEAEGvLh69erlNWdufENesqiXeSmGFkLk9O7dO/gFHWU3yYuZlyOqojh1N6d/VMP2CdynzwBCQDG/n3zyydRbdENX5xY8JeOAiDqnpFXqY1dHHb7XsXnBbAIUXBZHmUf9DThVpolxuJkyFJiE2OmxgSKfyCDFdXXy62uukXaLFzeIBQYRdg2WLa74glP6jw0e4CQNIPrWSZ+SgNyQRx6Rbf/1LymvVz8vLS2VV7bZRh5KUcX6zifth/SVZ8gnvIuGwPnRa68J8SjLamvlla23lqf69ZP1//tf2WjmTFnUpo28tuWWUtGxo5x88sle7wJiiwJQMU9ZWYUYrrwLQlXGSf3VcD28hzjIXnfddWado87G1IX1juYDJ57TU+J4uu3ssssujQAi7CHlvPPOM79hD2EaOXSvyqUAiAVAzGV9FgDRHyBmYeKoHRYL77q0l0pcfEPAJS87l63zWQCcfAnPE+rZN3/+fLPBkwWFApAhPiSbKS/fuBd+KBjWMfCix1Fl0qRJDdls4san6ifsFgFVScG42dDxaE4rvipOwA4/mnEnqV7aBhzSflJMSJcVs9XWNpBk3MhfHWkUREYBMMaDGYAyq1H97Pbxx3LMXXcZdSs2iOR2nrjLLrFDSgtrY9/I2DlMAIyTACLf+QL4tDn6+ahR0tUJiTSja1e56ac/jR1TSFDsEIaZvjJ+n+xJviprBgGD5XvQbMkQM3ECBiBmCdSf9ry63/OcESj76aefNqARkx7eX8RGDCkuQCQ7C0kKNNbk8ccfL3vttZdJ6bcqlwIgFgAxl/VZAMTGYmRDjrKZAmihKsmi5qWFNBV1UnxDgBkgKEuoiKzsIypZTuUwhZzUOZ2j/k1zOsjq8c0L/o477vCy10IObL4wqqgx4+K8AWjou5oMtFm82Nj8dZ43Tz7s2tUEpq6tz8nM5g/7mVZ8N3MFU4A5mKQkgOir3gR0ANxdZxnNgczaVNDItawp2k4Kdt6Z+HYffSQL2rWT+R07Jg7ft586dpxUGHeSetFXnj5AbvDEibLdP/+53Ou3rExe3G47eWzXXWPH5ds+Ffiyh3qAwTQkDSCGAGTUxahA0xhZHWxLhphZ2QCRwyW5mB966KHYuQZcY3Lhlosvvlj2339/87ELEFFbc7C3ASLxFpPCC6W9Q1ri+wIgFgAxl3VWAEQ/gPjaa68ZNg0VX5aSBBBte8Mog3Ls7IglliXYbFb2UZ1NAF8Ev8bQ3Kf9rB7fyHfUqFGpBvVsvjADgER+NFB21JwAaAC6JktEdbX84uabZXVi4tXWCjEH/73RRjJ2yJDIINtR9TH3gC4fr1QFU4C3JIDoCzrS0v5pjEXaAzjDWtJXftQ5xlVb6/8+wDhEDatjV/vHOIBIP+Nsfl35+8iJkD3Hjxsn68ydi/u5fNipk9xx5JFSXVER+ciG2BOGOLHQV03PmQYQQwAqIEYZfZ93EO8NDnVRaTh97s/jmpZiEAHDV155pfz9739vUrcLFXOTxLdK3Rwf4n+V6uaq3ZkCIPoBRDWEzvqyjQOIafmU6R0vP+xqfOyZ3NUG80cGlzSPR/c+nE0AbYAIvK9D7B/T2FK3LUDN1VdfbcCeay9nq7IBMjBobKqwVBSYA8JouCpvDSINowl42vj99+Xgu++WVlZMPLKXXPWrX8kix7HF7p9dr4ZhcftvX6MG9KqCZmyovOKAAuApLtC1HeYlrm23LwrGALH8ANJoW1lH+sXfGmZEs2TYYXpoS5ktrd8nrA3XAro0LiRrG/bSBoi2rGjDdcqJCm3DZ2mhbVSGleXl0m72bKmtq5O3lyyR9bp2XUG+2gfNUezOn9sHnVMbSEfNmX6mMtA4iHE7gMpU77PrdOuHiUWFGmLLhy0w5iD6rKyMnailACKaEjQQeBs3pbgAEZB9xBFHNDipDBgwwOSN92Vxm9KXptxbMIgFg9iU9dNwbwEQ/QAiIV00pVsWwbugiY0ZGyE89dLiG6JOxdA8S7iKLP2mb9yH2jdLeJ1QgEicR2wPYV3iVLGE+mGDhp2x7SmxQyTOn71x2nmZFSj1/OADIZSIHTSZzBrXnHeefFZTkzqlafZvWoFro6jBqqMcRXzZo6R8y27HbaaNtgGnUSpm9UYGoEXZPHIvMuU61l7VokXShuwjbdvGqoxdNTAqZsYdxSD6ypPx+bCHXKeqXc0tjMNTnHo9xJ4whD3VOWXdEeYnySTDd1yM7bDDDkuMSRq1gDkcEmYn5HCX+iAEXADIBbi1hA2ivkM4aGYp9957r5x22mnmeUGVz6H48ccfN1WhgiYfPO+Vq666ytggruqlAIgFQMxljRYAsbEYNaOGK9ymsHjUZYebCcmnzL2Eq4ARS7Ili1sMof2mb7CleJ/yssRAO7SEAERA6A033GBsBVGLRgEpPmfThyl0s5bA0rAJ2yDE3ngVIJLS7swbbpD2CxdKWX2miv8QUsfD2Fy9TH0cU1zQFwcQ81avMkeuh3MSQPQBPcpi9XnhBdn3+edNQO2POnWSP+22m3xdH9fRVl+zZgDyWpIAoq/KNqucksZO/3zGr6DT1z7VDgGU1n6Iww9qYlis0JIUgzC0rizXq2NbaMirLG1hewhjeskll2S5/Tt3TwEQC4CYy6IuAKIfQEStwOaf5GyQNCF4MRPLECDEi4z4hr6MYFSeYt/Jh6Vk4ybcRVrBXo++9ejRw9zj43kdVWcIQBwzZoyJ8wjwAyzaIBiAAgsEQENNHhVwGDUmoFJVPu7GSx3KhnVYsED2efJJWWP+fJm53nry7J57ytce7KEv0xcFZuKAgi9A8XUMYR5cVi6ubcCZm7s6bm1sOWeODL3jDpPthQLrioMP4XDsrDJ2thkF1IB62BjkokHDqSOEOfNlGt3g4UnMrS84De2ry94meZD7zius6LHHHpvpcIiJCEzYylKHcqDigEq81OYud955p3lX/OpXv2rupr4V9RcAsQCIuSzUAiD6AURADOAjzYs3blJQtQAuYby22mqrIMNxbPMAOjBooYVwD4CRyFh4VmWow2Aq6RubclZnE6r0BYgEoR0/fvw3wKPeVk/lywaP/Rx9QW5x3uWwVABtdThwN38bINqyawroi5uDKDADcHJVnb6gh3ZYc4C5tBIFOOMAoi84QZZ9J06U3aZMaZTyjYDavx0xolGXbHCEzAGPjJuxqgobWQBW1NHLDhQepYb27ScdceeTNjlwRK1733p9M9bQPiDYzuOe5Jzk2z71br755nLAAQekTX/k980RgzCkI6xb3j+Y0DR3ufXWW00ToXEPm7tfK6v+AiAWADGXtVcAxMZiVCbEFS7OEGxieBOHFuqcMmWKiWPIiT40VI6dhi607TRgy2bONahxt/n6a2n9+9+TG1BqjjlGpmy5peyw446hTXoBROwJR44c2ZDhBDCjqdnctHlJbBsgEnYUmUYxU1EAMcSmzxfMxfXRtUXzCdeiAvdl2uI8nKPAaRpzSVBmWFaceaZttZXMaddO9ps0qSHDB337vGNHuWL48IZ1ERe8G/AOI2zbh9I+wM0N1UNfdRyqtmb8GsInaRFG2RPGAbS08Wc5RHCPWy/ji4t/6ctgAlBPOumkzIGuW8pBJG5uMDfgvQnIbe5y7bXXmsM7bGtRilzMrIHCizmHJ6EAiH4AEeaPlz72QCFF7Q35zUmaTS+0AJx42aJmDS2kxGOjiQK2gDJUyrAfPRctklYDB0pJPVtV17atvH/UUbL+VVeFNtnI3jLu5ieeeEKmTp3a8DUAAUCBQ4QyP2z8aQANgIg6HKYNIOLaKEYBRF+QkNa2dj4pBI0LEH2Zy5AQLHF1ugAxLcj3urNnyzDUydXVZmiEAnr5xz+Wrngjf/aZ1JWUGDvEWw85RD7q2rVh7uLk5ALENMcQPZwB7rhWYz6qF3NUmB7mPApIRwG0EHCe1ld7XUcxgjzvOF25ZiS+oJ/6yUCyxx57BD9/egOxJlR4RgAAIABJREFUW32DamduJOFGTEI0H3Vz1G/XedlllxlVdmhg7Obu18qqv2AQC4CYy9orAKIfQMwC0tgg8AbG3hB1G9622GSFlqS8yGl1xamnsQ/DGQXgyE/ZiBFSdt11jU5diwlRMnNmWhMrfJ+W3g9Zjh49uiGeIBs34AAwCzAiLIt6ItvhTTT8iDJS/K8AkY2XMblhQLhG4xYqQFBVIP/HhQ3R77jfDnsSFYYFMBHnwML1HC7wgI8aiwrPbcPOyxwX+oV7tZ9qZ6mhU/gN0EI+rDsKdWp4G/53Q6ns9PjjsuNzzzVaAwvbtZOrzzlHNnrvPWm1ZInM6tZNvuzY0bTL/cyTHarGDtnCuDW8D9dr4HJ3rPq/3R+3XlVT03/7b8bE2LneDhTOnAMwUTFrvb7gHNmEALk4gAhAsm1/QwAqh7bhw4cHmaK4D+LKBogwqNhhYtPc3OX88883YJog1kUpGETzbiwWQtMlUADExjJkM4na7HnRwWyR8s6ncHIG8Ki9IcGmYRNgu0JLVF5k3zqi1NNsnMT3QvWjeVrLzj1Xyq65xjBEWhZ16SJlM2b4NtVwnTrkRKnSkS8BsQGudkG+bto8nw0d4I1qCUDgAh4FQTZ4YuMFSKYVn7apI41pok8waQAlX+YyJN9yEpCxGcS0fjKWXZ9/XgY8/7zJBaxl3mqryR9//vNIcdlhZaIuYO0xN1wX4hgTCs5wrnJV1gokmW9AJL+RgYbuibJ51MMC8rcPGzboNhtPPTi2x+WOHxMKWH8AYly9NlB224D5S0vNmbaGVzZA5H3JuyaL5iNtbO73Z555phx55JGy0047hd76nby+YBALgJjLwi4Aoh9A5DTMRp9mTxMX39DXWSRqUmEiAVRkMwktsHVsoATMpcDqYBeELaQdQLdk+nSp2GEHkYULDUisa9NG3jntNNnod78LbVKwfULdw4bsFljLBx98sOFjVcG6afN8s5aoA0hcdhNbxZwX6LPHlAb6FCDCouDBHgViXRn5OjFoMPC4Om2A6AO68PL+xS23GKaQUEComO8bNEj+EbPu0uQJQFQG0XdMPkBW5ZUke1XxElwexpH1xEELIMn/yAyVu+0oo7aP1GuH64l7AJIYQQAm2Yj0QBiSUg+VPexh1PMT8jCubBtEnk3WfKhZTsgY9VrkNWLECJMOtSgFg2gOcsVCaLoECoDoBxABWR9++KFhBONKUnxD7gUEpaXeiqqbzQoP4yzhIlQ9DUAh4DYv7LjA3CXTpknZ5ZeLkJ7uqKNkSufOhsWIU8PGySEuLSFejddff73pA0VVoKjd2RTttHlpwEvbpk76F5cCUQEisodJjMqz7Y7Dt21f0ANQAqDruJOeWt+2qSPO2aHz55/LxjNnyuLKSnmqY0dZv2dPA1Z8Spe6OtnqqaekdVWV/GuzzeS9DTeMvM3HRlIBog841UZ8r01T1/Isqoo3DnSyFuxQPfwNSGSeXJW1/m8/C0l9ZV3yo9mP0sC0LeQ999zThMRqalnZAJEDNc94XK70po7Pvh/28PLLL28RdXae/W6uugoGsQCIuaytAiCuKMao3LRsGsQU3GabbSLlbtsbRsU3hLVjc8nysmSjIZ5YltMxrAkvahgNNinUPb6ADycSsiCExlGLy//88MMPy+uvv27kR38Ar8hKwZ0CRF+QxKZNHdwfl05MASJjj4qj6E6mr2NKmnrVrhc1m4/taUhA7jhw0v2jj+Tou+82uYjrSkvl8zZtZNRpp8lXHvEe81YDAxCxb2WefIKMh7SfBrh4hjnUoeL1BZ3MmYYVssGjso7KPDIeV2XtmlPwzLLGMeEIYUUBlHgux+Wv9n3pwx7zrOHosrIK2gqK2sA2Zz+GDBkit99+e+YwZM3Zt5VRdwEQC4CYy7orAOKKYrTjmem3yg5GpY1y7Q2jJiarFzR1JbWdtggAh8Qb3GKLLYKD7cJAoIq2U9ultcf3UfmfSYl32223GdUejCigiRAo9sYKQOzWrZs3oAAkaBgfwIWWbrNmyVqffSZzO3WSD7p1MwDSh71LY6XssfuCDsbH3KfFoaTuNNCj7SfF5xvx179K5/nzG7q6tKxMHt9lF3lh++1Tp843/IqvjSTPxWabbWa8eX2KLyPrw16qDSAHMp+5p3++cwp4BEja4Xo057c6yqhNLAAR0OdzOKEPAB1k1tTSkllM4vrKoRhwnCUDVOj4cVAhMkJozvnQdr4t1xcAsQCIuazVAiD6AUQ2AACTnXouJJ8y3qSo+bIYbNM2gbZ79+4dNOc4fsA8svFnUVnFqYrTOkHoHICehvRBTjfffLPxqNW0eVE5egGIAFmfzVTZJjZpAIsCxN2efVb6vfTSNwxaSYm8us028sRee5k8zmnFF6DZKdXS6kQGOCilmRaEsExJ/Tz/z3+WttZYcTd5tm9fmbjzzold9QVHVOLLsqoDUZ5qfV8gpzaABJf3Ua+HsLdJc6Ue1rQJ88ja1EDnts2j2jvaByTWyDHHHJO2pLy+51CJI1qcxsOrkiZeRAYonsus2adCmu/fv7/wvgrVdoS08W26tgCIBUDMZb0WANEPIMJ8Eb5lBxw5LFYPdqB79+6patumhKpx206beK7HgxoHFULs8DdMYGiJUxWn1cPGZIf0AVg/++yzBiDyAket7IaY4X9YRhgf1+lCVeK2alxDxqiKGbV0+wUL5KQ//EHK6+P40c9lFRVyw6mnypeWNymfa13aFv3SkDb2+PR7u20NwWL3Uz1S7XrVMxUmJcm0gHvtfL9u37QermPcbj/t0DJD77xTNp0+XcrrVcpVZWXy9yOOkA/qbQltz1nGqf8zfgCNXVeUHNjwfQAX98IcAmbTSghz65ubWb2Qud6n+B4OfAEqLDnAGBU7qm6KgkdVWetvxs+aOvDAA42tKuwkclava5/+u9cwfmyOk2yms9Qbcg9205hWZIncENIO1/br18+E7fI1nwmt/9t2fQEQC4CYy5otAOKKYuTFHeUVqynk0uwNoybG1ws6blJ909fRb1TKbPSwccokZGEQ33zzTQN+Q9U2sJawBmwMbJRkOQCkUk8SYIDx9MkZbbNdyBU2hrrXnjNHThw9WlovXdogxiWtWsktQ4fKR/WxAG352puJr41imuewXb+qTG1v3qj59WXkuDft2sqqKjn8/vulx8yZUg043HZbeXfXXRPfFb7sYZTdpQv0tSFADgBBA7S7YVxskK4y1XvteXEPBxqmKOrQYNeJWlltAOP6qO1FHQ5cIG1fGxdSyW5fWXBl0e3DhD0+/ZznZcCAAYZtpO/8hvVWBywAowJHfqeBR+rA/CJL5INcNhYRIX89z7OG0sqrXrceZEh4Gw60BUD8RjoFQCwAYi7PWwEQwwAiIRvs+Ia+k8CGwX1Z85L6AETAIKdoNhtUvLwsAbu8OLNkVCDIN8yXDwtkywFnHphVmMJx48bJ008/bcCibSfoyo2NFOYxzYkHMMiGoMGZsWVkg4dBrFi2TM6+5hppa8U5XFJZKX885RRZ0rq1adJm33RzjrK9iwIp3O9rp2eDriSAqADAJ99yGji0Zdq+XTv5asECwyIn5Q+PUpeW1tTIBrNmmYwqAOvFbdqYqn2BpAJZGKw01bqPPaGOy9dGkevVgckHnISMy7cPsIaol33sd1kDxx9/fKQqFjAK0LWBI+BPA54DFm3gyPqkTVjelkpzF/cOVNOKLNmjfN+r+kwDEHn3FaUAiA0HzWIxNF0CBUD0A4i8qJ955hkDfDiVh+ZT5oXNiTqLqpcepgFEACi2fwTytlm4KNtJ31UDEwm4iN1kCahcWrpCdYwTUInK+K9//atx0EiK6aZOF4QCQjWdxAK4qkDYXNSuAETKD2fPliPvvFM6fP21LK2okId2311eT1Cvq3qTTTgKPNqDU+/qOPCo17r2bEkA0RecRLF3cfOoQJLxoNZPAohu++XLlsmwMWOk8xdfmOprS0tl5JFHyvy11zb/21lT4tpXOaUxp6Gg0xecs54AVDxzaQDR1+GGvvqCQ67luQPI6bpMeuY4NO63336+j2XDdQoelXHkNz+qAeF7HERsAAl4bCmWjQMfB2rk1pyFce68884FQLSEXDCIBYOYyzNXAMR0gKhexKhLeRFlCUEBAOGFmUXVmwYQAQGok4iT6L6MQ+0XbWnEZn/5/HOpOPRQKXnhBeKCSPXVV0vtz37WcCuqRWQ1duxYszmlGY4r6ANQJgHEKPUuAJENT1mKDl99JafdeKO0qqqS0ro6WVZeLmOGDpX3u3ePfF7SQuooaFQ1pHqrUpmthrRtEF11dRxQCmHPfG3kbCAZBRArli6Vgx9+WHrOmGHsMx/ebTd5fcstG2TTf+pU2X3KFKmot+PEyeU/XbrIuFNO8XIesu0JGfdWrVqZXM5ft28v72+wgXEc0hICztLmyZ5cZIX3Ps9tWnihkHp9ASoyAKACptPMM1gDw4YNC2bp017+Gt6Kw5kNIAGPvL/imMe0ekO+58CqNpUh94Vey0EA729sxIvyjQQKgFgAxFyehQIgrihGXuzqeWnbG8JwEYswlD2khaaoehUgukGrAQCAMfqIMXqcOiuNfYxbSDCBbLBuXMeKvfeWksmTpWTZMnMrWVeWPfaY1PXubWw3SfGF/SLANY2tsGPfEQ4GtisuDZrtEap9hjlFDoACfu/x1FPGi5lMIFpmr7mmXHviiSsMk3nkHh8v2yiApuDRti/TvMy2swdysFWtKhNf9tBVqyc9+HY/owDiIQ88ID8ia049ACRbym2HHCIfrr++qXbII49IrzffbNTElx06yGWnnuqVBcZuf50XX5STn3++ARTO6NZN7jjooIb/fcFZFg9jDihpADGEEfSdKwTHtXjks77S2DNMPwYOHJjLu9yuBIDIj2ZQsr9jvWsgb1VdAyJ57yl4dG0efVTl7iBQ+ZJ5qqkZYdKEgxkFmVQmTZqUdun35vsCIBYAMZfFXgDEeIDoxjfMGvaFFgBO5CjOml/VDVrNyxwbQUATauUkIJYVIAI+2eDcOGaVq68uJVYolbrycqm58EKpOuMMEwMR+6vHH3880eZQpW5v0sgbxiOKcYxj0GiLDU8B4pCJE2X7115rNKnzVl9drjjllBUm2hegaPBknwcOxki9VplzHG/YdF1Vp82epamsfcGJy0hGAcTzr7qqkY0mMPoZKwzONm+9JQdMnCiV9eC/urRU3uvZU0YPHpw6/Ebt19XJb668UtrU18PNVRUVMm7//eXfG28cpK71ZU8VnHFo0DAzSQxiCCMIQPIJ9q3mEnjXc08SQGQNnHzyybFB3lMFnnCB5jbHySyk2OBRVdbKhjI2m3lUEBl3YCZQNwfXLAfqkD6jPbngggvkvvvuC7ntO31tARALgJjLAi8A4opiZCPA/g4vQtveMCoAdMgkZAVqtGHnN+aFzemcGG8+WQqythuXHrASB5g5cxqGXte2rSz+4x/l5S22MDZHDz30kAkO7YIiF8RquBitCBUzANFlKzS0S5RnOWCAecIJhvq7f/ihHHDLLcZhhYId4ms77CDP7bXX8v7W5+G1mUM3dAwXq9pYQ9C4KmWtUNlCPGzpC//TV5hDNlQFKTbjCDgAxOi9OjZtw3agUfvINDbWBZJRAPHskSOlkxW4ellZmYmROKVXr2+GU1cngydOlF7//KfUlpTIZ+usIzcefHCDk0/Serfbx9HlossvF9tCtaq8XB4eOFBeqc8D7uOYExJz0majNcxMnIOVL+hmvCEAlWurSTE3e7Ys6NxZKldbLVZku+66a+YDY9p7pznyIKtdpesww+cKHpkDBY5EMyCxQNq6TRtL2veosq+77joZM2ZM2qXfm+8LgFgAxFwWewEQVxQjzBkgccMNN2z0csvq1astZAVq3M9pnAwLgAXAK6qbNAP8praLFyTgTEOVaH2ljz4q5Ucc8c2/paVSvdFGMuWyy2TzbbYRNqabbrrJsHpJ7A3gUL2stV4AFUDPBYhJmzmADFUajCqgi999Z86UIa+8IpU1NfL6FlvIE7vtJnVlZQ0THeI5rCxj5dKl0veVV6Tjl1/KjA02MHmKxbKns23vGDtjod9RTgpxzGWchzVA0t1kmRc7fAtjdxku6sMWTw8RXL/xjBly6J13SklNjdSWlcnC9u3lb8OHy7J6T2Vth3A5xJOs6tBBai11vQoxDexz3TFXXCHrzJ9vbEEp2DyOGj5c5q+/vjG5iCo+9brAnHGqGlrr5eDAWnCfEQXgABrX4UZBOX2w54K69TBhmxO4f7Omd3z6adnpuecE5rUa9f2RR8qna6+9QnxJmEVsD7Oobn1e/Kw/1gOHyJYoyNIFjrCoaoNsq6z17zTbZN9+o12555575G9/+5vvLd/56wqAWADEXBZ5ARBXFCObQZS3JidiGC48mbOUpgBE2EvUl7x0cUaJyz0c1S/ade0XffoPo4csCJnjlpJ33jF2iPNKSuSdTTeVrbff3qiS8FrmPjbqJAAbxcpgS6S5a7W9JDsxZd0UKMH0wRzRtv2jmzubMT/MH0Cbv5M2KYCBcU5ZtEhOueUW+cH8+VJRU2NYyed79ZJJVnYSBbG0yzhoIyqsT4g9nQ0ko+wdbYCicrKdZZRBtO0fkdEan3xigGJVZaW8sfnmsjQmmHQIyxYVgqdq+nT55TPPSOd586SmtFQm7L23vLXVVgbMxQFEe52FOLG47bMOWB9RIVZCGUHfVIGbzZsnh918swkPRMHBZ/7qq8vlJ5+8wvOz9957Z45o4PPsYq7B+N3Dnc+9eV2D1gMGkXep7SijQJL+8c5QL2sFjj6ObXYfsT2cMmWK/OlPf8rU9bPPPlsefPBBYytJpqtbb7214XB76aWXmixQvAeuueYa2XPPPTO10dI3FQCxAIi5rLkCIPoDRA3fkjV1VFaAyIuUe1Fh4iQTevLGu480faHe12wyMHQwqW6xHWQArLzon334Yel84YWy/syZ8kX79vLI4MEyd401VriXDUDVpvaXsI9s3pr9Io7ps9kdX4cP7tHwH/ymfc25TR2ARTYIBZH8hgEFHGz+7rsy9MEHpZXFegF4LjjnHKkrLTX3MEcwfQB41kdcBg9fcKLg1AdIAY7UWUflyXiZO+JEcqhR4AjoBDxRklR/rDG+9wlrEwfi1Xsbz+lq4leWlASpaxtAHwykxdaucFgpKWmUiYbvsQNlzC5ADPEcD0l/CJjd+sUXZe8nn2wAiPQD7vTX55xjwgVpIQzVCSecEPw8hrzwOaSxhtLiUIbUGXqtAsSk+1jfLvPI/woebZU1fyNn9/13//33m6wxv/vd70K7aK6fOHGi7LbbbuYddu6555rPLrvsMqOpOfzww43THWsZZyLaCX3/ZupUE28qAGIBEJu4hL65vQCIK4qRl1PUxoxNHi+opLhySZOShcmjH7CHbNQ9evTIlLaKFxw5WUPVWXH5o2HkULezgfbs2dMACYziq/r1k66zZhmWDfaE4NRXnXyyLGrbtpFY4pwDAFcAGGRMSfIctgFOiJ1aFCum8w1gVOaRMfE/m0G/mTPliClTpLUFELHPu/Dss40akT5rnukoG0odfAjg8GXv4hhJGBtU7+r0A1gCyCk4jFqnNmD0zSxDPXFOPG54n5Dx09e6zz6Tn957r2zw8ceG7ZwwaNA3qn2nRMlKHYVcFb+vXGnC14lJr13rrbfkyPHjGx0kFrRrJ5ecdlqjHg8dOtSkwGzOgnkI8nYdzJqzTbduH4CYBh5d5lHBI888YI1DO4c9xnrxxRc32WP63nvvNepq7BlhDynnnXee+Q17+Nvf/rbZ7EbznJsCIBYAMZf1VABEf4DIS5dNNC3bR9zE4MVMHERfrz42c8LFoPaACdLsJKET/+qrr5oMLr55abX+qPzRsFI4yACSbfumO2+6SX56+ulSRvDs+kIWkwn77SfTevZs+CyJQQNkAgw0lRhANM6RxAYzvhu5r9cqnVVvZNpvM2+e/PK224xnLzzQUjx711pLrtx7b8NQMU/IRcFhHDPnmwklBEhFAR76A/MJOLDZDhvI2WF47L8ZO+3beZltMO7+nTSfLkAMAWf09Wc33STr//e/Ul6/pgjJ89ef/Uz+t846DespjumEUWUebIAYItc4ljvq2WtYVzj4PPGE/OTNN40NImvl1kMOkf+st17Dbbw7jjzyyNBHOPj6mTNnGhOHrNqO4AadG1hTvHdQMeddVBtAxiZUy5MnTza2tqwFDnWMGYb24IMPDm6agOWHHnqo/OxnP5NTTz1V+vTpY/6mkO1mr732EgD+ql4KgFgAxFzWaAEQ/QEinrlsnHjqZikhQA1wxgmZMBFscu+//775DQgJLaTaIxROUqq7qDo///xzozKFJaTAygBY3WwtsIkP3n23nH/55Y0AIqzPXQccIP/u0cPcz6l/w/fflwPuu0/aLFkis7p0kb8PGSKL6jMt2AAxyiPXdiLQ/urmvNqCBbLltGlSUlcnb/fsKfM6dlxhSL4AMQrI/XDOHDngkUekw4IF8mG3bnLfnnvKorIyY1sFGFEHGZheVVmruhpggrrax2uXTvsCXuoHwNre3QBD+sQ6sU0KQsAZIF0ZOFud7wpU1eC2GtoGxzZAtD2M09av9vX3l13WKJ4lHteP7bKLvGCBjjiAypzQPztQdYgMfME8Y3FV7GvOnSvVBAffYANZ5ngxAw6zHjDT5GZ/T+gXxuuT2zykXt9rWZccJLMmBvBth+uuuuoq805GtqxX3lmaRUbrQT0My+8WWMf999/ffMzfvKMnTJhgnuFTTjnFsIU2QMR29KCDDgrp3kq5tgCIBUDMZeEVAHFFMfKSiYp5hvMB7AyMXpbiA9Rom5zN2OORlk+DzMaFnPHpR9bwPPPmzTMnczymeemizgGw2psuzNno0aMN+Blw773yo1dfNUwbm/lXnTrJ6P/3/4walrLm/Pny08svbwhBgx3fnC5d5I5TTzXfM2aYGzZ9XvC2Y4btkGIzXsin3ezZcvzIkUKaOAAi7d16wgnGe1QL7KkN0KKcPriWzwFeLoPmypnrNJ0bm7ANjOgroMl2lOF7VGHq7WzbOtrpz0KCN7tOLMwXbcKg2P0BKPHTFHtCHb8tNwVntrOMLSfWjtrAsWaw0UwrGkeQcbgxG4mjeN+gQfLGFluYapIYQYAydelaDQGoIeAw7lrWMg5XtlkHauWWYp84UKJxyOpQlzZPad8zfxwcMW1p7gKwI+D4gQcemLmpUaNGGQe7J598suEgXaiYM4tzlbhxec6mVaI7385OFADRHyDCcMGqwaBlKbBvOHzE5WcFWJCOj80dUGYzQE1Rb2cNzwMLQ7v0F3BsA1YdPwGxsXE0pa5OfvLPf0q3Dz6QT1q1ktcHDmzwkGWD3gwj/scfb2SjZWz5zj1XasrKjM0cTJx6GVOlDQxdmSsjNPT++2WradMa2CaU3O917y6jDzvM3BLicJGkMtX5ABCxFugrfbDDzdCegjP9rcwl/7v2joA2PYxgekCd/LYdZnTcNuizY0jyOfNDgTm0r1PAa4NDm4mNCtWian0N92LLXa/X2JQu0Nb/MYkAQJOFB3BuH7iQgb227T4gK40Pufk778iB991nQD9OHp917iw3Hn20WSsUZTqjACoA0c5kEgK8fQOjIx/GBvB3C/NByCb6sPpXX8naX3whA084QTpqvMmoFwiHkxtukPJHHpG6ddaRqv/7P6nLGKYG7QMHhbRUg1neYz73IBPVgPhc35RrfvWrX5lc1nvssUemah577DE588wz5dlnn22UNYp38RFHHNHgpDJgwABzSC6cVDKJucVvKgBiDiIvAKI/QGTTQ20GeMtS8IrDdi8q/Iva9mE3hm2fa8fWFPV21vA8qBlhPdlkCBjuekHDEN1yyy2NVJzIBfYAIK0G8uqNvME//vGNN/DSpQ3ig2kEIOKlCgMGONQNPwkc2mnyjh43Tjb58MNGU/LxD38oI4891nzm6znsY6OmMQ5hxpK8gLUzupmkpfNjzLBRAE+beVRgx3htlTXAlDVDga3iO9aV2ycFZ3VqG5rgDRyigk2K5WgzmawZ+qYBxF17R3vSVGVuA751P/1UNpw1Sxa2aSP/6tmzARzGMYI6fp5V6kOm9NVlL11Qr8Be61VwHHWdXhuVDUfb53ll/f/o7bdl3wkTpI4QS3iWn3uuLDvzzMjXR+VvfiOVN9wgJYsWmbiddauvLoteeUXq1lwz+HVDHnXWaFSYn+DKMtyAmQNqbt4bzV1OP/10OfHEE2WHHXbI1BTpCDXYPhVgdwibSIGd5B3H84cqGxvEb0MpVMyFijmXdVoAxGgx6uZrfwtgQtWLmjVLwagaVsG1C4KpIxsAtn58H1XiPIp9+hHXbtK9gBSCc/N7xx13XAF4sIkTL4yN0C2AGlTS6u2tAI3sGieOHi1rffaZCcIME/TI7rvLq9tua6rQTZxNOsre0G7HBig/eeMN2feJJxrSwxGn8Kl+/WRy376xHrZRY0+z/dMYh2y8Jj5iRABpt15f0BXHcpbV1EivV1+VNebOlZlrrSUv9OghFa1aGTCt8To1pZuttlYwv3rbtjLw7383DCsheZ7r00ee6t9/hbAxIWroOFtO5MHBgN+qdk+TqQ0YudYN16Py5DobrMEIAkLiCgDRmB+0axfL8rn3hsSotFXhcc9rl44d5Td/+UvjsDdt2sjCKVOkrt4u1763PaYBFhtJjvOqSy+VZccd5/OYN7qGwygHTdscJLiSJtzAu5JQOwT3b+6C88ivf/3rzO/l5u7fyqi/AIgFQMxl3RUA0R8gsiEBtrLa1UQ5mgD8OGmjvk1yIonyKPZdAKEOLowTA3OM6WGnogzNAY8PP/xwZBcALqjYAFJs0rY3MoBnq3/9SzosXCgfde1qfrRwHTaeqoKPY+hWACh1dbLLCy/Iji+9ZLJ2vLzNNjJx111N3L0DiVl2AAAgAElEQVQoMFNWXS0V1dWN0selqSA5MCAL1HawnD72dL6qSsYfxXKW1NbK8WPGSJf//c+ADIAvYV4eGDLEqDVZOxoWyA7Ro/aTjGn/KVNk13feaQAp1PHAnnvKP5xDji/LSl+jZKpqd+ZM0x6GqPajZGU7yNh/u3Z/LnikDwBo2FNYPECnTwmRQdq1xna3slLOuO22RiYVdautJotvu01qBg5coUvt11yzcY7z1q2l6pJLZNkJJ/h0v9E1mJWQhznUMS24oZgbUPHzDmjucD40T6zCa6+9NjJea17j+bbVUwDEAiDmsmYLgBgtRg2ibH/LZzh8ZA3dYDuasKkB3Ni8NNB00oTCzABQspzIAaBswD7xG9lYYR9QDbG5oGLGANwuAMjrr78+1isX1bCmePNl0Nj0ATyMU+3vbDs8VdUm2X258otir3aZMkV2g8FBNdu5s9x2+OGyqH37FQIta12tFy+Wnm+8IctgRLbeWmo33rjBwzftAUwDnQ1tAATqczjbdXb973/l2LFjGwGM6rIyuXT4cHl/wYLYbC3UoZ7Uw6+5xti/2eWV9deXkQMGNKis6SfXa/q+pHFFzSdrOUrN7Tv3tOcrK3Xy0UDrrg2l9h17VurkRz3LVS5R44sNoF1XJ5t88IF0/uILmbPmmibNok/cTdb/ep07y6//8hdpXW8KQLuwggtffVXqrIOR9qfVmWdKxZgxUrJ4sTncCKrxl1+WunXXTVtqK3yPvTPgTGOKBlfQxBuQPz+ob5u7DB48WO66665G9oPN3eaqXn8BEAuAmMsaLQCiP0CE4SL4KzYqWYo6mgDUUCkDwHiJ+9iyoTJDnbtFvQdnSPt4RQOw0tJuYV/JtbCZAMqaqiqZecUVsslqq0ltnz5SVx9ehLRUMIxxhU2bvuLM48O0KZjRTR85u4wYoJPrsLMDTGnmEzb2qAwxUZlINpkxQw6fMKFBFU2supldu8r4k0+OZJnaLlwop954o9ngy3CUKCuT2488Uj6w4vDFySBNtWrfFweOus+cKT8dP74RwCAW4HmDB4tssEHi5q/g7Lg77pANyald3yBjhmG9f8CABltHgLiqrLnMdZLRlIRRMmVeYIpYL7ZDRIPto4caPsRrOA10svZgr3CQAZzEqaxV/vrsUa+G9rHn5oDHHpMfv/22lNbWGkeZF7fdVl7cf/9UVlJD/BzUubP85MIL8bYSqamRJddfL9VxcfRqaqTyT38yTiq1a68tVb//faQq2ufZ5/nEVlqjIPjck+c1aDzQBkRlYcqzHerCeeS5555baWA47/HkUV8BEAuAmMc6KjKpxEgxikFk8yFtXVZjaEAT7BuOCOQ3DkmD1RT7x1mzZhm7MDuwtT1sZTNpA/tKw6ZUV0v5oEFS9+qr33gHEybl6qvlo113lfHjx5vboxwO9DMC9bJBo+5U713bK9Z2RIHlsIFkFCvEZwAU5gUgSb38DTukablsGzxs4KjTBt8Dnn1Wdn3+ebG925a0aiUXn332Co42tNf/8cdl9zfeaAjUzJj/u/bacv3xxyc+eyFp8pKAZKuqKjlz5Ehpu3ixUZ0TFmh2hw5y9QknGDvEuGLbE6796ady0ujRBuBQqlq1kmuPP14Wtm9v/nfBKeNWz2rbWQYZA+SQucqZQwfAks9dZwhf0BfCCPvYSXKQYn1wGKLPdoxIe73af0cFBkc2a37xhZxOgPT63Mp8BoN7+SmnyFdOdiB3LnjWAWjDhg0z9rYlH39sPJOlXu65vLwTKsEEpOFZbu7GIurn0MA8ROVxz7s7/fr1MwdWn4N23m2vqvUVALEAiLmszYJBjBaj5u11v82aT5l6UCnDIpJPOTT8RFPsH5NyKsPWwWYC0mD89CVb+uCDUn7MMVJixa6ra91a/nLZZTLn009T1x7AIcpb270RkEEffB0+bJbHdlpQhw0ADJ8DDtVzWNnGfu++K/s//XQDg0hfvlhzTRl5xhkrbC6oTA994gnpO21aoy5/2bGjjKzP12pvSLbXq47JHWvUGPVaGzzrfVzfce5c2Wf8ePN7ZqdO8vihh8qyH/ygEUC3wTp/qz2fttdh/nzp8e9/m+we7262mSxu06bhfsCR62Fst691I0OAow3ONRg1fWccChyxz+P5seM7xi2YNFs++760a1lzmkkjJFWgZs3Rsarcus2aJcfcc4+0sbzuCf5+3U9/Kp+utVZD16KACQBx+PDhJoPRyigEfOY9E5p/Pa++8s4BnKdpLfJorwCIK0qxAIgFQMzj2SoYxBgp5g0QYfFg1XBwyKImZhMHyG233XbB885pHmDl2gNpaB2YTDe7Q+mtt0r5WWc1BoglJfLbc86RmvrA13EdAXRgb9mlS5fYvqrTAQxaUn5grcA3CwrX26yYzYjVLlkip913n3T9/HOTK7q0pESu3Gsv+bhLlwaVNUAH9Rgq0j6ffSaH3X//cu/o8nJ5beut5aE994wdl0+oHL05TV2q1yEfgBmAOy0GW4hq17d9+qHzBBgCKGIvyloGXCFjOzg413OgUfbYVlkjH7UtZSw2w+cCLft/6nAPEvo97WPvpkHC1UZQnVdcwGv/7/ZBQaKxdVy0SE7+4x+ldb1nMXar5BW/esSIhuDvUWw396LmJm/vymK1iE2KrfTKah8PZsBpiJYk+MVWr8Xo379/wSA6wisAYgEQszxPK9xTMIjRYswLILIBEpOM+jhNA9ayxFFkU37ttdekd+/ewfMe5QGtafPiQuuUTJ8uFb17G4N5s2mWl8v/1lxTrvcIuQHwIMhsXEoxBYe+2TXY5GA4fVLVpdn+4Rm80cyZ0nrpUvlkgw3kfyUlDepq2CfaYGNTEDNw2jTZ95VXBO9r4vDdt/feiQA5rX2dvKg0eVETC9Bg/MjKhw3yVe36qGujwLmG+sFTGabSLVEpEgF2ahKgams+A8jbKmtbde3WGzcuBYfUR1BulZXPocM9TETJHw/yw8ePl9UXLJD5nTrJ7QceKJ9acQl1LdtAkYMXdrwEb7YBp86fOgQFP8gBN2ArndWZLqCZ2EuxZeaZzZIaNKR95L7TTjsl2kSH1PddubYAiAVAzGUtFwAxWowAsqjgxtggAtJ8Nmv1emYzxVgbUMaLM4vaCaA5derUTPaPsCsAU/WAjkub50qi9LHHpO7oo6Xi669l7oYbys377CNfp9hQ6UYOYxoFEHVDVduzqHiTbj98QVeI7Z8LZBT4wNLBViqoURYMlbUdtNr2sFYnDl9PXMaXNibkpI4jhGpJC7TtA3ZsuYawhzou1jOqd+w7o7xjQ+Svdn/Mv23rqAczdVxCtvSV8bsOScjIjbsYMge+YBq5tW/XTr72SBXIeGAlR4wYYdaRsqtRQFLnQ00lGsw7StWlKPsrfmUDxJbKBc0ziZMKNpdFWS6BAiAWADGX56EAiGEAEdUNcRDtHKtRNcBgEGoCtS6x8yiADFI1wS5kKVntH9UDGuYyKs9zUl9oExZg7NixqV22s2ZEAUTdJKnI10bMzpiS1gFf0OPG59MYhzBQLvCJYsRcQKOghnsB8mrzqIyYq+ZLU5fbwIe83z5x/EKcPULU4Apk7TiQqLGjSpqNoH1PGkDWlITIljWADFTOau8IYOVvVN1q7+gbezJEXr7XqozOOuusxPAuqlZvTvC4sgFiS+WChmEnDuLkyZPTXg/fq+8LgFgAxFwWfAEQwwAial5sCJPiiylDB1No513GjgzVa1TgaZ/JzAoQYS450bPRsjnRfx8GlD7x4gXowkKmFRsguADRtjUDYKj3cVqdaUBC789qe4etHGMDBLugPwSc0k82KwWPGqYnyssa0Mnn1O+CR0CDxhQkHFKUN32UzHzBsWHD2rf3svvUzCKAMzzvOejEhU3xVZnTfhpAtscX1VfN1MN1ykTyGfUC0qLYXVfOIfLyWYPMEyz9zjvvbABL1sJzYrONNpi061SvfttRy36mOci68Uuz9inLfSQUgPnmndCcBWegX/ziF0I+5aIsl0ABEAuAmMvzUADEaDGqV6z7LYGyYXWiUljx0sYRhc2U4NfuZgp4iAo87TuRWQEiwAVgu8EGGxhVd4jhOjlJFRzaoUHos213BUCz7TZtgOjmVPbZcPMAElFytcEJwBnww0YW5fzh2880IImcVGWNnNTbVtXG6sShTBlqUlTdvkAuJGNJCDgDRAF6UONGAWhbvr6y4h5fNbBxFKn3sta2kCUHMGRl555W9TY2pG4MTdubHSDLHOgBL83px0dtruAQQH/aaacZRrM5ioJHl4GMaov3DAfRlrB3jGqf/O/YXNsH5OaQyfTp0+XSSy+Ve+65pzmq/9bWWQDEAiDmsngLgBgGEElhhW2dezJmE4IdZMPB1i+KoePF/tJLL0nfvn0zzV0WgAhDxmbBRhEavxEgQ45TmKM4xlEZDDs3Lp/hxYgHo21fpc4maneoQNX9rcJRz1X+jwO1fM51draMOOECLjSsDGNDNmzqUXmV+Yw61RPWBcc2QAZw6Jjs66LuoV5NhadMEf/DLgPENaMHdfKZqqltVsyVRYhq11cFSz8wk1BwqP1KA91pCzsESEap92FXkYUbQimNEUTWyu4CDtXrWQOw2zE0qV/tHdPqVXAIgOa5HjRoUJoIcv/eBYwcUukXB1m32Ixjc4LHlkr1x7vtlltukdtuuy13uX6bKywAYgEQc1m/BUAMA4h4JGOrhuOJFjZymEXARlwwar02C8iz72UT8mUANW0ensozZswIVjmNGzfOZChg80tiWqI2fVQ/ABeAjjJcto1i2uJN25j1flWDsiGmFeqETQX0sKmq12tTQE8IIxcH5OywMdSnNm+wYXynwEb/BuwooAGYq9c1crY9ZV1grWp4HW8S6NaA7rBAaSybgmlbjtRtA2Rty742CXRTlx0jk2tJX8cYAIf2vTpmBfTaj6j61czCNnmw7R1t+1L19LZjPCJ3NQ2wwSFs78knnxypWUhbl3l+DziEFce8BZm3hL1jVP8xSyGuapy9al5jxgSGnPDXXXddXlV+J+opAGIBEHNZyAVAjBajbhrutziZsNGr4wmAg9NyXLgY9/6mAES8mLEr8rEfBKARlFsdakJTBAKE7777bhPvDq/VOAYpCqCxMQMwNBaesnts7G5Yk6ixpKlsbZmGAEk2TAL4ssnb6kl3jnzr5D5fgBhnIxnlGZzGstkqa8bCGqQeV5Vqs2LqaQ0ASiuwoWqXmbbW0vqaZa64xwbTjFfT+UXZtPkyqMy/Hc8xjsHWz5lbWFTbrtQG6fwNMISVJaQM3rSwj74HuLR5CP0esw4OP2RQSZs36lbw6No92qYj9mEizt4xqp8we+RzT3PmCx2jez22hwQFv+yyy5pa1Xfq/gIgFgAxlwVdAMQwgEgAaFRUsIUwGpzYsTdkM/EpTQGIgLwo20a7XV7ugFg2Nk21xWchKQIBG9geAjzYmAFTcc4JUWpA3WDsjRLQByPmhjVhc4KhsVWosLOAy7SN1rV7TJI/Gzn2SlFp4ez7QuIDhgDJKHtCmGfX+UPZOp+wNlF12qpUmw0DxCDTNJU1Hu8KpNJARpSNYNwchNhJ2l7WmuuZ5ysKHIY4J4VcG5d+j/Epc6haBGR64IEHGraX9Y3ckDfsLv3Wn+YESxwIUb/zfkibN5/3VJSzTBRwdJ1ltO2WyuRC2k+A8fnnn+8zrO/NNQVALABiLou9AIhhABFWjsLmboMw38loCkBM86DWtHlsTptsskkjgBXS7qRJkwygpLDpqKrYHSNAmc3SZiJsxsG+PinQMferYwFAAucRjTnosmDKhFG3rxMH4JTwPqQ3ZNNOKr5slI/zgrYT1c8472lf0BkCzhRwKfvlOnGwyau9J2CGeeUeBXVx8vLtK/f7ypVrlZVkXcBgJ4H6EAYzj2tttbIemvbYY49GQanptzLo+lvjaCJnBYwKIHle09T4SWuWgyrMOOGzmlKP7zvMdpZR0Gir7PmMuISa6k+ZxzyAq9vH0aNHG1B+5pln+nb/e3FdARALgJjLQi8AYrQYeclF2bVxWgVsoGLu0aNHKsvl1g5QC7EjtO8nIT1tRoEcXpKodbAZi8p/6gsQAYQ33XRTg7oSj1E21qiwPjbwSUqZ5gvkGKvtRBHFhikgpU4AjwsgXdYRuQA4uT4pNBFt873mJU57uHwBTxSQ42ABO+t6T/s6kNC3EHCWBozUM5g5hC1GXrCPSSprBUc+TGcIc6cqewWH9D3OE9ZXvY+88rg2Chxy6CDnsi8wY80CGgGMNohkvMjJZhx5zlmTSUw6DD/vJMBhkiNR2nrO43sFjmgwKN27d28I2ePWbzuv8V1W8Hj99dcbr/ETTzwxjyF8Z+ooAGIBEHNZzAVA9AeIvNBRnbBhYduXpeDFTPiJLC9zcjF369bNgAO7YJTOd0l2kL4AkRM5AFgLKlA2Kjetmg1Q3DA2dt9CnEh8QZeqgaPsw2gb2ao6D/ADOGTzTVNZ+4ZfCQE8LpADGLKOcPxxN0Xf9kPUtWnASMEhdRICyQ3KHaey1tSHblBwDVhtr4E0gGpfiwzoA8wh6yEqnJRenzY2u96Qa6PmIQocUv8BBxyQKbe6++7QA6kNGgGRaCr08OKqrFlLmLj4BO7P8q7Kcg/xVjElISi//bw1l7PMFVdcYd57TYk9mWWcq/o9BUAsAGIua7QAiH4AEeNvHDdg53hp46GXpQAw8TDM4t03bdo0Y/toh/iA8SNrAbZHSepTH4CI5+HEiRPNsPSED4PI5qobtR0aA/bItje0NwT1YrVtuezvXXsmbc/eSGxPWPqk9wBClN1161HnIjZPgAb9hhWkr9Rnxxy0PVK5DubMp/gyorazDf3EqxxmDvbZBashIMoXSDOWJGBEnzRsDPZ0AFZV7SfJQQEyMnXV1eoEo56/miZPTQOSQDpyZd4Ah2nmACHyCrk2BBzyLB577LGpBw+fNZV0DfPEO8dmHpETByT6awNH/TvLAbSp/YTJxLkJ2+e0w5jdlq+zjGvvSB0XXXSRCU6uea+bOobvyv0FQCwAYi5ruQCI8WLU2HbYHWLnAwjjRY29DyfkLAU1MODS16nFboPsBGzkeBXzsoTpA8ClOa5QR5pqm3GNHDlyhQwbvPABBDb41HAxUc4odn9DUrr5qkx96sTRAhYDdTybqBY7nIkNbNjMlGFURsyOhaeAWQGXsjq2F2wUOFYbTWXpuJ/QOjZz6HrSumuKe/Ua/gZ4MQ6N3xe1Bl0gbYNo/ZvfrGPWIWBMnVj43L4m6m/WAnKNclpQIK+BwQEqmmEmSWXNdYzNx1YUediHhKTnMMRWk3qYM51f/lfmEFDvHuqOOOIIw7q2dOGggcMVzCEyY63bto78jaz5zmUdme+s6tykcfJ+5AdVd571R3lY2+Ys++yzj1HxH3300S09Dat0ewVALABiLgu0AIjxYuTFC2sIq0J6OnWgwJOZU3KWAkvHppIlwwBMIUAKgAibyAbtmzYPp5PevXvHvrwfffRRoz53C2CLzVsZRN1Ak9TKWocv0xai/ktig5CHxjiE6fVN54dMNXAyDJiCRxfQABoZE2NP2wR1TMrSJYXW8QXHyNVXDZ3kROM6f4SozKPat8Of2H9HhZRBHnZsR2TN//QXYKM2eMhaPdv5zgbKykorw5zEVrF240L7aJ0KiqlXUxtSJwdEQA/mADY45HrW1yGHHJLlFdCkewDbZCkBHKZpIRi36yzD/7a9ow0g0+wd4zrOIRVVN04pvraYTRJC/c0333yzPPTQQ3LXXXc1e0q/PPrbknUUALEAiLmstwIgRouRlyisG2CMFHW6CSlozGqDGKUm9p1IgCkbnsYmtPuVVge5WeNslWCSyEYQxQixITF2tXuEacI2ipKmLrTZu6T++QLEJHCkQAz5YLSu4CRNLmmMJPVquBg2ZDsDhx1AWcGMBlHWGHo4EcSFaKFvITmMfQE39caBTkCva98XooL1daQJsT3VUDb0WTPN2CF6mAO1K1UPawXASWswJGSR21/aR05RzCFtolpGxdySBZMJ3h9oDFyb4JB+IE+AsOsso8wpdbue1lG2pbTJ84BTCuCwOcP4uOO7//77TSgu4iA2RRYhcvs2XVsAxAIg5rJeC4AYL0ZUOa4qmBcrWVMIjJul2Gri0Pt5ERPvjFR+sBohJc72kc2CkzhMSVRhU+IadRhQJ4a0jZkN3Te7CXWW1tZK/xdflO4zZ8q8jh3liV12kYVWSJokVSGgByAGgNR++oJTX3AUFbxb1ai2uho2jDUD+8Tn/E0bdngeW86+7YeoSuNAr2ZswYZVTQZ8wXkS6IxaN76sKEAM2082+biNnvVn57JWkJ6ksgZo+vbBHVsSOORaWHucU1qysJ5xRAuJuZqlf4B1tXe01dbIBBBte1kzL8ocprGZWfoSdw/ZnYh7+Pjjjzdb3us8+7sy6ioAYgEQc1l3BUCMF6Oqm+wreIHCxvXp0yeT/FETAwpCAR6bIuppWIssDjJxto8AR9TLcYXNm41YM4/4hDXxdaKwvXGHPvCAbPHuu1JZXS3VpaXydbt2cvWwYbK0stJ0LW6zd0EPmxhgTO1HkybJV11LHb5ATtWh2K1qGjxlw5Cd9g8Qx5g0VE+aUX8I2IliGukDIBobVhuIhTCCyu6lLXzfTDj0CZMAGN+4QOx2W1HA12Z47Ywn9NVmHu1wSI1kXVcnO7/0kvR67TWpKSmRJ3bYQR5ZY41I5pC+UO+wYcNWyAWdJpOmfA9jz7OPWUtaHM+mtJN2L+sXDQr9wfREbVhVzm6IHtZWmilGWpvu94Dkk046yaTXiwrnFVrfd/X6AiAWADGXtV0AxHgxsuHYBtFcycswJCuJWztqYk7b6667rvf8wRriIcg9AArii4UWWE/us20fedETR8w2ynfrtWP2AbrYpHnpxwGakOwmCnrKly2T31xxhZTV1TU0X1VZKffst59M23TTWDWspqmzQY8vkAph5EJYNjZFHAhwRomKu6iOMvQdIAV7yjqzwYydVUbV2Mqipc17VF/V0cLtk6+saNMX9CeBebvv2ifWpE/6vxCQrn1Qr3FbXe16We/+9tsy+OWXpbI+BWFVWZncsd9+8kGMExqaAwJjt1QBkBH/lLR1WeyWm6Of2ieiMahtsm3vqDEeuU7tHV1nmSz2jrCVhx12mNx5551Gi1KUeAkUALEAiLk8HwVADAOIXO0TMiauVpglwEnXrl1T5w9QgFqZFy4vY1hEbALxzg0t5IumTTtdGaATwKpesXaGBP5WtR4gkZc9P4BJ3WTV01cdCgAzvPjVEN6tz26He6iLz8qqquRXf/iDlFoAcUllpUzYd195u2fPSPaOvsA+YSOm7FOaPaEtsxBw5AsQ1TMYIJbGiEWlKIwKG8OBAGCg4LxzVZVs//77Ul5aKtN69pQvOnVqtBTcvnIfoWxgrO0+hWSCCbGT9Ak2ruCQmJ7uASxuXfvOAfe7nshunbbK+qzbb5d1585tdMkrG2wgtwwa1CgtIfJCfqecckqmCAShzyvX83wADomY4MY+zVJfHvdoQH4AWlTqwyhZc48b31EZfrV3tAFklL0ja3jIkCEm0kJW7U0e4/+21FEAxAIg5rJWC4DYsgARNhCAhYNJUgEsoFZiY9S0eQAiPAYJDBta8HwEJKDOSytsoHYolSi2kP4pU8BvfgBt3Kthcei7xmmLM3LXvlQefriUPfGElFAH6sE11pAvX35Z6jp0aARg1aEBoM0mRb1RQNQeg47F/kz/jrrOvp6xK5Nsh9ywwS5/A9wJKk52FJhBF3S77QCmNSuMW5d61fI5oITNlQ21w9y5cva4cVJRXS0leAOXlcmle+0ls3/4QyMHzAC4Th1lNNcz8+46EIQwgr7qdeYyzZHGDjhNf9XhKW1NhpgDpPXBbuvkO+6Q9erTZ/J5rYi8+qMfydgBA8y8q30pc7HddtvJDjvs0MiBoznUqPRDgRjPOmGIVoWCPDBV2Xjjjb3eI2l9VntHN6sMMuf54ACLOQ9RH26//XZjd0jO66KkS6AAiAVATF8lHlcUADFeSLA3UTZ3TWEQsQPDro+XbFxR5sBNm6d2P1liMPo6x/iAw6Rlxf1sbgoa1VNSjdyVKbAZA2OntHSpVFx0kZQ++6zUrb++LPvDH6RuvfVWaApgCEjGHqslvSaTxoy3K/0iBlwac+jxSEZeglwrhw2T8nHjpKQWGCOCQr6qXz+ZeeONJi4hMuc38mft8hs2U1O2Adw1jqKyaHFA2v08DUiz2QOmNbRQFGinf2z6rGt15IkC7S5gBoQxLrdOBdK2wEKAJPV2fvttOfbuu6VVTY0Bh8sqK+X6Y4+VuWus0WgeAJ2kc1NVqq1G1UORHojUFs8ne0/UZAOQAGJoCnwOdFnXVMh9vAfp0/rrr29Y++YutEdMzKeeekrGjx/fMPfInYMFqmZsEYsSLYECIBYAMZdnowCI4QAxLaZg0sTAMsEExjmaaNo82DF3cwBYZo3B6OMcY4MGO55dLgtNxIBtBYw2a+DDOnINYwA8+8Z+zKvfSfUAeFB/4V3a3NkrKg86SMofe6xRd2q23lqqXnih0WcAaFKescYANDbTC4Cjny5Qby4mTDum8fsA9lmCxMfNQRpTHMUeK9BkLWJ6sXV1taz9xBNSV1Ehc4cMkaquXVdgrQl3FWc3rIciO2wMMgfo8RwhWzfbSdxaUZZuo402Mg5Fq0JBXtgww0SH2E43te+8L0444QQTMWLEiBENds+Y2iDrwkklXsIFQCwAYlOfv29YCN5uRYmUQByDmBRTME2UGM4TUiaKBUxLm8emg00iTFVoATCwUcXFbrPBYd6eh2l9tVlHG0DaoTVgkLAtg3ltrmwQaf20v6fPyJQ5wYGgJWRWNnasVJ5xhpQsWvTNs9u2rSw75xypPvvshq6xtj7++GOzRuIYVpcFU/MAKkHGNhMGsL21XkwAACAASURBVEkzD0iTG8w3AeebGr8vrZ2Q7zGHAPT42tKF1G1fC7hy7e/4X73X7XiDMI7ICZUqzO+qUFjneA6j5oY9bKmC3H75y1+a9Xj55ZcHpe5rqT6uyu0UALEAiLmszwIgxouRE2xUbtrXX3/dALwoL9W0SYEhRHWC04kWXsJ46MEuJm3ssGdvv/22/OQnP0lrZoXvaRP1YtSpm/YZZ3OwhsEddW5ATcpGzkaq6eDYYH1Yx6a2HXc/baOy5zc2YmkhanLrBwGjr7pKKv70J5HaWqk+9lhZdtFFIqjoRQww5JABS5eFzWQ8rDGbcUTWNlC3mUfmIy1zBgciZMW6zvK85CY7q6KWAodpfbeBOjLHPpl54wewmJfKOq0fSesc22X6AqPZUoV1+Oc//9msm1GjRrXI4aulxtZS7RQAsQCIuay1AiCGA0QACy9MDfEQMhEuC8hJmewIFEBnEhOl6qdevXqFNGmuRRVKW3iO2sA0zhml9PHHpfzOO6WOWH1nnCF1KyHnrIJD+uzGjfRhHdVBRlmaPFg+5IVakjpZAy0GDlNmnAMGTB0HjzTQFrx4EswDkIfrlIRsNOsMZgGAw5YMpJw0vlUFHNp95CCKtzLqWxh+d20rq64qazfeIP9nORCkrQO0FcyvOsmlXZ/X96NHj5YHHnhA7rvvvmaz6c2rr6tqPQVALABiLmuzAIjhADEqZIzvZNgsIICPjcFN5xdXFy/rl156Sfr27evbXMN1BLUFcKG+oiQ5o5T9/e9Seeqp33gUw061by9Lpk6VOgtcBncg8AaANKotNqdQQ/00W0fbuzpEhQrLimc589Vi6jYsQEpKYqXHPM6YMcN4kK8M20zaB7i4rCP/s96wo8ML2mbDmgPM+CyvVREcqn0fKmUfm7oQlbWy7lkORtg6A0w5tLbkIeiRRx6Rq666ymRJWZlBwX3W06p8TQEQC4CYy/osAGK8GHkZRwXxxU6IF3oWI3JAxmuvvWbs1mAisakL8QrM6kFte08rONTMHu4G0HqLLaR05szlTGNZmVSPGCHLLrgglzWXVglMGKotOxBv2j0+30exjmyCABxNI+Y6b+jmqikW2cRbIgdv6dNPS6vjjhOZO1dqf/QjWXrXXVLnxM5kPATlZh6xpWvJjTxJ3jjJqDMV693N+av2d1GOMs01hlUVHHIIwis3jwOHa1uK3KNCTylYx+M+St6YKuBIx/OXBVz6PItR10ydOlXOPvtsk195VbHBzDqWlX1fARALgJjLGiwAYjhARPVCHLkQYKetsKlPnjzZqAF5AYcGwM0KENm0sQcjdAaAgn7E2Ry27tFDSj/5ZDlAFJHq00+XZZdemsuaS6oEGzrABQ4NLWmzlsQ64qSBkwxqbn7YYOM21zwEVDJrlrTedtvlzijEhdxwQ1nyxhsNbCLzh2kCfWNOmwtYhY6Hg4iG/EkKQwTgdr1+NaOPGzxZWd7Qvuj1GjaquR1SQvrH/KGJgF1Ni4kaUm/UtUkHI9aNrbJGVoDDbbbZpllMFeLGwlo+7rjj5MEHH2xkBtPUsX9f7y8AYgEQc1n7BUAMB4gAGMBLFiaJ0znsWP/+/TMBoKwAkdAQbN6AiSRwiDTKL7pIKq65ZjlAadNGqiZOlNptt81lzcVVoiFjVqUYhwBDmF6y0LCZqirVh3W0x1n62mtS9tBDUte+vVQfdZRIgpdq2YQJUvnzn0vJggXLQXplpSyeMUOkUydjFwa4wAYWk4FVBRziQY2jBTaHWdXIbvBklTfsGHW6HtZp4XkUHHoFnK6rk7Lx46X09delduONpYZ5Ki/Pfc0ruOcd0pLOH1EDsVXWHM4Ah8iUAxMA33WUSZN3FmHx3B988MFyxx13GAerojRdAgVALABi01dREeYmUYZxKuaQdHk2c4g6UENe7LjjjpnmLytAJA4doKJLly4N2U1iWbDaWim/4gopHzvWAJplv/+91O6yS6b++tykdnTIpqVCxvj0C5nBbMSpum3W0WbD1MNaN9dOU6fKGsOHkztNpKJC6jp2lCUvvSQSE3CYYOGtDj5YShYuXA4QKypk8WefSU1pqbGDxLwhD7Wkjxx8rsHGFYDYnPEgXXW1hufhOY0Kz6P2fV7gUEQqzjxTym+/3RyMCCFU27u3VD3wQIOXuI8c0q5hbWCiAtjFvGRVAfdoF3g/wRxqsPekcEi2Y1KayjpJJgDS/fff39gd7rTTTmniK773lEABEAuA6LlUki8rGMR4+agBvnsFmyEMkq9qiI0NWyNUZTB4BNomZVeWkgUgAmT4AfDYzgTKgtm2YPzdHCxB3FjZxGFU2TBb2lsybePClCBL7D43cHK3PfaQ1nY6t/JymTtsmCwcMaIhgHIjWy9S7B18sJRNnixSXS1SVmbC2Sw54QTDZpLOD6C/qhQNr4OsmsODOm2cUSpUmF/WO2sZNa5r77hCP2HOAGxLly4H5e3aSdVDD0lthqgBUX1Wm1F+E8R8VQGHhN7iIOQbikjDIelh12bVbZW1HRw8ilHmPvIrn3XWWXLAAQekTXPxfYAECoBYAMSA5ZIIgopA2THiiQOIPunytEpVcaGi1E09C8jT+kKyuCR5Kmt9ru2dnVMZVsYFj3mmt1OvYLyUfcF2Los+pZK8U+e17t5dSufMadTq/GOPlY/PPLMBsLusY9vWraXjM89IxezZUrf99rJkm20MOIQ1dEP+tIRM4tpAPUj8TlSDKwMcRvXLVisDDl0gw/+se5gyXd+rzZsnPxwwwHjuayHEU9WYMVK72265iJiQPxzKViWHIp53GGnAfR4ZbpArjjFxjknYQpNogMPgmDFj5NBDD5Vhw4Zlli92iw899JCxB0dD4pZnnnnGMJQavYFczr/5zW8yt/dtubEAiAVAzGWtFgxiIng2L3S3pKXL0+tVreumzQMgEqomC4Pgm8XFBxwmLaCooMlsJoA6gIAdY1BZx5DxaIxDgHMWW85cFn9EJc2ROq9ixAgpHzWqAXzUYdN5771S27//cjBSn8PaTUWInJAroIfwOppb2SdIdXPJSOsl+DqqScBhS3q7Jo3L1+aQ9a1pCA0D9vXXsukBB0irTz6RUpy4SkqkpkMHmfXMM9J6nXUMeGrK4Qi7ZdohFFHIc9Kcc6iywqwjS0zX0L4hb+J1EsLm0UcfNfaOgHS0CLwHBg4cKKeddlpQtc8995zp+1FHHRULEK+44goDIr9PpQCIBUDMZb0XADFZjGzQbiEMC8b4vOzjCiwj8elQ27gnc2IZkg0liyE/IXJoN8nDt6ngMG1hJdkmad5ZG0C642xKjMO0vmX9HpmROg/VZO7hPZYulYpzzpHyCRMEcLjs4oulZuhQr67CxhArE+YQOSI72/ZOWTCb6W1OD2vtNICH3OAr1Wa0ulpKJ02SkvnzpXbHHWXxmmsaWaG+JXRMcPnf/0xoodI335Tqrl3lsyuvlPnrrtvAhmXNYw2Q5rC4UmXlCIODLxmhfO0zg2UZcwPP2QUXXGBiZF599dXmYAFAxEwBVTcyCi2Azn333bcAiJbgCoBYAMTQ5yjy+gIgJouRFykvNbuwMWqcN/duruU7TsdxafN8QF5cr9gAUc/EqYNoPy2MTS4LJ6ISXvS2ekltk9QjEhDDhgB4hlXF0WJVYFOQGWm96P+qpv7DdjUuPItr62hn3NC4jnZQ8DxYRwXStLUyAnM3LLulS6XVoEFS+vbb33xUWyuvX3KJrDN0aDZw6PlQhOaxxlyBCAKrEsuqGZnwoM4Sy9VTVCtcxtq57rrrTBzYsWPH5maSkAYQDzroIBOEnEw1sIlJB/usY1vV7isAYgEQc1mTBUAMB4iAIDwR8fizCwCDXMlszmzqcWo3QB7OKlkyBWAvhD0NtlVR4FTB4aqi8tM+ArRhXWEK2JRgEFR9aoMYjcnWUvZsq2rqPA4h2FRlDRautqW2ypp1y3izso7qbc68tXSGDXetl40aJZVnndUQionvYf2WvvtuLu/F0EqiTDJQv6PGRQUaFZ6npda4PRbWxT/+8Q+j0m1pW9Y777zTAEPUvXmmXkwCiLCSvAuZA7K0nHHGGYLz2Xe9FACxAIi5rPECIIYDRM2qsf3221uExlLjRICNGLmDk5gxWCGuCQ2STWMAUJxdOnbs2KjjvPjZ/OOCX+eyWJpQCcAQNgVjeNuWS+OwuanaXCCjKmvuzYt1XCmp8zxkiAkDBxBYpzwcB+wmQ1hHG6xzHxsrMlsVWNbyP/xBKn7/eymx2P26du1k8aefeki4+S8h5A/RDtAiUFzbUv5PymOd1xp3D7C8o3DoaGkv+EmTJsmll15q7A+zvPeSZiwJILr34Qz36quvGnve73IpAGIBEHNZ3wVATBYj6hhe5O6LFmeRPn36mI8BNyFp8wgpgWNGFjspN81fc9sbNnWR2bZ92Bf5sibqQa42d26A6qaG5mnp1Hm+csQ0AW/Xls4kQ/9c1lG9f/lc7e9Q1SlYbwlbxzi5lT71lLQ65JDljj/l5VLbr59UPfywr6ib7ToCTmN3iIYhyc7YBuu2168y62rPm0cea9qCkQaccThtyQIgg7nDMYUQTXmXJIDIoRSmFMDNO3vo0KFmbpoDgOc9rqbUVwDEAiA2Zf003FsAxHCAyB0aqoYNXdmeKLVvVO3Yu6FmzXKKtdP8rergUGMcAgrzjPvmE5rHBpCu9ylqPwA9NlhZ5iCXBy+iEoAFmx2skwYrbq62fOtljXGgYUNlo7VDxtjZZNyMG74HAd9+cB0ZTvAIL/n8c6nac0/577JlstGtt4rU1UntVltJ1YQJscHHQ9ppyrWahxpw2BSvZzvDiR6ONDyPZjixZQ6YjAM9zCHvKO4jOHdLFoJv42E8YcKEZmn78MMPF0LZEFmC9XnhhRca73TK8OHD5S9/+YuMHDnSAHVkdOWVV2aOQduScmtqWwVALABiU9eQub8AiNkBIp6lqE7ZDEJsamCIAJNZbIDwtOVFx0mcTWRVUCuXvP++lMyZI7U9e4qssYYRKCAOe0lU4ah1WuLE7hOah00SVgEbUGUWcnmQmliJpqlzVfBNrLZJtys4ZG0DpqPmMIl1tLNtKGDnsyxroeSDD6R1nz4N2WVqWrWSJQccICU33vhNhpp27Zo01jxuVvbXzkaSR71uHaF5rGHMYIDzPKT5jIs1TdzBW2+9VbZt5jSdPv35Pl1TAMQCIOay3guAmCxGXqxsgnZh43z66aeFAM84EYSyJXg5s1HiVRdaYJg4DQMQ6cfKtjms+L//k/K//lWkstJ4klaNHy9LevUyDB12TlnGGCoTn+thFWDoCD0Ea8j/OG1Q1NYuKTSPTxtZr1nZmUii+q0OV8ime/fuwaDONRFwPaztcEg+jknlf/mLVPzmN1JihZ2qa91aFn/+eVaxZ79vwQKpuOACKf3nP6V2yy1l2e9+J/NqalZIVZe9gWx3RuWxxoOatR7nKNNczmzY0Q4ePFguu+wyGTBgQLYBFXdllkABEAuAmHnxOGCnyKSSIEkXIKpjAy/AXXfdNXjjpClyOVOy5NIlkDMernghEguxuV7wPourdOpUabXffo08SWs7dpRn7rlHemyySYuG0EjrL+xOVOq8uNA8zHOUt29WBiyufwB+1lKWg0bamLN+r57dsNyagSJrXVH3abYNtS+1bR3jWMeKm26Sil/+UkpgC+tLXYcOsnj27Dy7ll5XTY202nlnKUXtXlUlda1aSfXGG8vkP/9ZfvyTnyTGJ02vPN8riBqAyhtnpyhnMPVqj8pj3RT7UuoltMzPf/5zOeSQQ/IdVFGblwQKgFgARK+FknZRwSAmS8gGiNiuESICI2/UNr17984E0PBuxBA9dPOFlWFTBSSyqdIfzX2q7JdmNQllNdPWSdT3ZbffLpXYhC1cuHzTLi2VT997Tzo0gzF6lj5yT9bUeajybO9q/s4rNI+GjGEzXanxBB2hAiQwDcCBqqWdGWzW0fb6ZR7Kv/xSeh93nFQsWGAyndS2aSNLzztPakeMyLosMt1X8vb/b+9MgO0q6n3dJ0QIekXKEBAVFW/03hKwihBkSkFktsIkRHBgDFygGGIqGgKSQhBiSGSwmFXAIJKEQcBAIkUAgyKThEERAbEUCoUHqCX4nnBB8upr7NDprL2m3WutPie/rkqdQPbu3evrPnv91n/8jRnBg6F35t8YMcL845ZbzJpeVYNak0d8E7VGsUwTz5r3XeASZcIqAi6+NCtRJm8+vi8POuggs+uuu5pjjz024hVpqioEJBAlEKucl56vlUAsJxBd2zzqv3HzLNvyLmv2Kr2c3ft7lbHxLQN+MLtfQsMXj/0EzofXQtLAWrvuulL/2jdHjTKv/uEPxgwMRDmf/U7SROu8vNI8WMD8uo6wD0vzuMLc/KSTRZ2YvH65ZL3fxY3igsdCncpwXT8+PGKEWe+yy8zy554zL223nXl2u+1s+EfIHP6xLb2OxcBjj5kR48ev/FD0zneaV++4wyzfbLMkkGEtJ5SCuL863Zr875wyfazpPsTn8MA7depUG1pCskjdc13UX5nfG7KiqWvIXs+dO1cxjsHJk0CUQIzyZSSBmI+RGxBP4iSH+G3zaFOFWMxreddr5rK9nHl/3Uxl3zLgu/KIR/J7KTvxyHXU+UIffvbZZvgZZ5g3hw83w9Zc0/zvTTeZNxMISPfL60RvnddjY8Mag1mlebDIEBfGjY2kgTYsvWW+KDjnrkYepWxSGYhDrPZk32Z1/ciyOiJqQkuvn/HbF3ME6fjxtoOLczGTnPXaz39uzBprdI6NcAWqJDSZKANzv4/1kiVLzPz5820hfM78DjvsYB986PhErVj+XmUU9VdGGJ5//vlWINK2FLHIT423CUggSiBG+X2QQMzHiDjEnRxml7oyKXWa3NNhgQw/BGbeqCsOiw6G3y7MiUfnrs7qpdzrhsr6SLj5f08/bTZZbz0zQAmNtdcu+vjG/91Z6FJqnYcAw9JCuRF4EuOFe5m1Is79BBlndWwc1L8/ALcg55nanKkkFbG0InFYxMePdfTrDPZrdfzniy+a/ztlinnfn/9sBjbf3Lx+2mnGZHQ2Klpf7H8nNplC+jzI1nlw7Wc93/ve98ydd95prrrqKhsCg0jlD9ZEStFUHXm1DY866igzfvz4FfPyoEWpG86vxlsEJBAlEKP8Lkgg5mPkJsUNJUwGoegsbrj3vOc9lfeB9k+ITixbvUZT4jBvsS5hIyxO7dzVYUs8rKrOTdplsox/Tam2znPuW6xgfnJSmdI8fohAXUtvr33nYcFlnKd0g+1XHBY9eIXxpaHVMTzr7iGJBylaZfbqj135yyDSG1g/+0hCSp0Wnv0sgxqHl112mbXo8YAZY+QJxD322MOceOKJZty4cfajyJImW3rs2LExPnpIzCGBKIEY5SBLIOZjRHC4wqv+K8OOJlU2AwFGRq1rwxW+F9Hgeip3XcaGtYWuUyxhxFH6CTL+DTWvaG8VTlVfm2rrPNaFqMA6V8VCF1p6EQExS/MwP+tCsNapyVl1f8q+vklxWLSGXvGl/D4SS8rZZw8R+gixpmIdi9bp/7sTrSQ7lS3WX2X+vNdiNfz6179uW+jV6QzVa+48gThhwgRz0kknrSQQ58yZY7bYYotYlzXo55FAlECMcoglEOsJRL+jSdWN4AsdV1DWFxpiDEHBSMUq51+fa1HnahyyVj/Gkb/7IsYVSHZ12PqK/8oBnWrrPNaFCCMjOJYIi1Gax62LIub05k1luHVRezGlLjfENBJ3jDjkDLv4Uj/WsZfVsUm2TkzjZg37szf5ucyNxZJuJVgOY/d2lou5v92TQJRA7O8E/fvdEoj1BGI/xa4RVcuWLbNlcvzRK1M5ykZHmATh53pOF928Q3e1iwFz8V++2zQr07fKclNtnYd4QBy22dLPuU79siVhwgZWL0IcSPyQOCw+aVhaSZTpJVrzrI5+hrUTkLGsjnyPsC6yh4t+H4uvstor+P4jtvCaa66pnIRS5pPyBOKiRYtsCz2XpDJ58mRbVULjbQISiBKIUX4fJBDzMbosyfBVFLvGxVqnHAhz3nPPPSt6gnYRb1j18BA3idWTxJo6cZfu88IOG876aGvdDR++SomYomLgvJ+6fcSEtW1ByWPoxDSWnZiut6r75l7vRAxZrsSOIsrdA0mZ0jx1P7fs+1K1HDoRhgW4qph2Z92v6Vg21rGIG3vHwwcZ57Es00Wf6f6d8BJa6H3nO98xn/rUp8q+rfTrivorw/W4444zt9xyi/2+oJWf4g9XxiuBKIFY+hcu74USiPUEIsWuuanhoqsz7r77bisQB4M4dF1ICIDnC7mpwc3Yv5n67uowuxqBQzzYY489ZpN96mSTN3UdrPvXv/61FdPrrLNOUx9TeV4Xq+aL1jKleVyYgCvCHjv0ochCV/lCI70BEYaFDhFGa8uYI8/qWNTBxxUzx2rYdkkiHhT33ntvc+qpp5rPfOYzMZForogEJBAlEKMcJwnEegKxTrFr/5MQiNtss41tgcWfFJJRskhQjodSP5T54cbVxfB7zDqLI4XLsdIhwAjM913W/bQJ6/f6nKU1NdHqLJrUpCtraUUgZcWXxizN48QhbtJRo0b1iz/a+11dSIRhlcSifhcQ1hgMYx15UOL/8UDEwykPbE3F9YbXQqjCxIkTzWGHHWYOPPDAfi9V72+QgASiBGKU4yWBWIyRL8ZwYFWj4DXWmDoDgYh7hhtCiuKQdbk+wVgO27oJlWHpWuchWmGHJTFszYaVy7d8NWX98teL+5bs9qYtrWUY+a9xJVD6DQ9wc+aV5ukVJpBVhD1VccgDCbG2CNa2LXR5e4toxWLOT8I8nHjkv53V0U+UiRXryJr4DIThdtttZ6ZMmVKrqH7Vc6vX1ycggSiBWP/0eO+UQCzGmCUQEQN0DqC0RNXBDZbK/9xMsQT41q9+WmNVXUev17tC09wUiO2L7VLsZ51lW+dlWb8QSoywvyz8++XOA8NTTz1lLa1tFynO4+liNDfddNNWSqD0Ks2DQIS7n6hBJQASP1KyHCIOCQ8gbtSvV9nPmY31XtrnEdYStmcMrY7uYcklJ/nhGY5/lQc+mEybNs1a688880yJw1gb2uA8EogSiFGOlwRiMUa+lPkS9gddC8jkw1pUZfhlbPgC94tS83fi8PwYJCce23KbIqwoAo5w5eZdp/1eFR5lXxurdR7z4G4Ni4FncS/b0/eFF16w1lbqWnblhs/iiGUVsZOCu9svzYMbHqEPKx4+qC8YdpKJaf2qcsbc2cflndIg65ywCvayyu+ki3UME2XKWh35fTnrrLNsYhPJICk9LKa0P6mtRQJRAjHKmZRALMaYJRARGbgT6XladpQtY+OXKnFCBjGZ1UM5ZlFq11WDuKuUXGtttc7L4s7/W+/++82Gd91lBkaONP88+mgzYvRoaw3jZkmMJpbksBVj2TPR1Ot4gEHsdNFZI++anFvZr79YpjSPE5Bwr2L9KsuXM4b7FusvZYlSGiTEEfPMGYsl0Iqsjt/97netFdW5tW+66abSsatZ7Mg4pmcy8x1xxBG2E4o/5s6da62Urp4iWcq8TqMeAQlECcR6Jyd4lwRiMcYsgegKM9OMvmjEylT23aZOOIZFqX1LTJUbKfNQLqZVlx9W2ZdeMoZM37XWysTYdeu8NX7wA7Pm1KlmgL7Ja6xh/vUf/2Ee+eEPzcvvepdBtLM+khhcqABWRyxiXQ6XKDMYxGEeJz/T18XbYQnLav3YTy1N9wCC+PrYxz5WyULX9D5jnaakFg+iVX6f+1mXy5K+8cYbzZIlSwzhCVgQ2QPCAc4555zcNqHhZ/O99fGPf9zOxYMn35nz589fqRc9AvGBBx6w9Q01+icggSiB2P8pequN2sq+0yizDq1JsHrwpekP/ps4QjKR84YTh66fcxX3UFmKRT2Us4pS+3M7a1OsJIYy6x545hmz1oQJZuDZZzmE5vWZM80bxx670ltTaJ034j//0wx7/vkV61r+jneY12fMML/bbz/r8kNQhC5r5672EwbaasvmEmWwNsXqi1tmP4te49r61aknGM6dVZoH8cJnuOSksqV5mItYSH6HSDhr4veziE2vfyeulbhDxGHbDx0k0WHlw/LninDDisQ8x7bsdVHzlbI4tONjzJo1y/6kXZ4bEohlaZZ7nQSiBGK5k1LwKgnEYoxZApF3uVqGvWbgC7XLnsruRpoV50hSBl/03BD50kcc4lJq6wY5YuutzcBvfmMG/i28l7/znea1m24yb269tcWZSuu8tTfayAz89a9vC8Rhw8z/+Z//Mc9MmmSZ9XL5sf6wpiMWR16PcAzbssVwHf7tb38zTzzxhHVFDlVxWPTbWrU0D9Y59oVkrLbOftE18O88fPz2t781Y8aMaT2ulYL4hx9+uLn55pujJOpcd911Vmheeuml9tKvvPJK+3DtWwsRiAhGLJRYG88999xaTQjKsF0dXiOBKIEY5ZxLIBZjrCMQuxaHRVfFNXFzJIZu5MiRhiLKvoDxrY4u3q5oztL/vny5WXuddVaIQ963fK21zOtnnGHeOOYYuxbKjLTZoq7X2t8xfboZftll1sXM+NeIEeaJyy83H95rr1qCAgGDcAyTBvqtLfjXv/7VPPnkkzZRJqUs6piWw9LnK+OFfmke98AEM9YXVhLg7MOwK8FIchHxo10IfZKHPve5z5l58+ZZ13KMce2111rroS8QaY13/vnnr5geayn7QHLSJZdcYlv43XHHHTE+frWcQwJRAjHKwZdALMaIy5Abezh6WRD9TOUYlqHiFVZ/BVm33CCJU/NLvDgB41sdcaFyTVndTOrGRa298cZm4IUX3rbMvetd5n8vvdS8vNNOabXOe+MNM/yMM8zw664z/1xzTfPcV79qNvzCF6KLh7C2oKvtyNlz1l4/vtQXMK7EDuKQG2wqw7Wpo1xM2+3g/mxJTAAAIABJREFUihiQFYw7nqzg8Mwj3sPYXmfx5We/JZHy1uZqVnYRP4onYZ999jHnnXeeGTduXBHC0v9exsXsT8Z+vPe977VWVI16BCQQJRDrnZzgXRKIxRirCMSymcrFn9rMKxAiWJqwnOS5SMNPzyoPg4jkehElYZxjUbmXYUuXmrU+9zlj1ljDmDffNP8aP968+J3vmMcefzyJsiz+9bvaeNSB66L8CXsVhgm4GncIdEQF1laKJyNgUngoSVkc0hkIMYQIy2Plx/Y6iy8/w5JIfm3HfqyO7Cmt/bpo0cgDCeKQuMO99tor6pcPvHAb33777TZLmSQVLJR+DVk8GRtuuKH93BtuuMHMnj3b3HvvvVHXsTpNJoEogRjlvEsgFmPsJRB5Mt5qq63sTSZWpnLxauq/oomMYK67V3mY0PIVuu5IUBn2wANm+XrrmRf/+7/N7/5daDql+DnXco3YqI022qg+/AbeSUcZanGS+IFb3mX6sidZor2tRIc2xeGw224zw5580rz5X/9l3txpp0LKlIyBG+7butbvvBIxWTGmZUrz8BDw4IMPWiFFLHCbg9/fz3/+82b//fc3kyZNauSjFy9ebDuw8PvEZ5x88snmlFNOMWPHjrWClPjDhQsXWuss1sOLL77YFgTXqEdAAlECsd7JkQWxMje+1LjphYM4GjIM+VJLvacyNyDK2Ky//vqtCR2YhZYvhAxWFj9JA3cedd5gWWR5rLx5fbzB1YWkjE2b/XjLLBmRQ7wYbuVQ+PVKTuJ6ikR7mc/Oe02b4vAd06aZ4XPn0gfOmOHDzRuHHWZenz275/JgRs1KmNUVh0V8+K7ws9pdvGleaR7eg+WQ2pBtd5VhXUceeaS1pk6fPj166EQRL/17MwQkECUQo5wsWRCLMfYSiDzxk/2IqOGLNsWeylydS/rAPYpA7Hr49e2w6FC3z8XOEVsXuqubjPnqxQKrysMPP2ytc6nFz7ni3AidqmzCVngIeCfawxhTRHwVIYU4hBmW1qaZDTz9tBkxZowZePXVFVu4fMQI8+pDD5nlH/rQKttKPUHiDt0DXdu/A71K83DO4P/ud7/blpNxD07RE8MyLpg1zZgxw3o/yBruxz3eNk99Xj4BCUQJxCi/IxKIxRh7CUQybXnq50s9VXHo2q0hZNddd93ii23pFVmt87IyTbtoP5hSFnW4HVjAsITFtoL1asnWy/IVWnqdOKQQMp14mh7Dli17q47mK6+8LRDXWce8unixWR50NyLekELPXdQTzOPgYlv5vcSt7EIE+OkSw8IHpliF2PldIxmFVoyUnanyIND03mr+/glIIEog9n+KVCi7FEO+yLG8+IMvWMrE4Objy9U9+buSGTFb4JVaZMaLXF08MjWxyqUy6rTO6xXn6BdG9tux1bWGcGNG+FM0ue1YsKL94ay9+OKLfcXPFX1G+O+hu9ola7Afzl2NiCFEgAQErId12Vda2z/+YdYmRu1vfzMDfI/x5ve+1/zz8ceN8c46mfoUwk4tfAGutPbje6NX4lPWA5NLkoF9WIi9SmkekkQoP0MLvZTCOiqdAb24JwEJRAnEKL8esiAWYwwFYpip7MpkYK3r1QLPb8XWRpYpN2xcagTjp1T6JHaiDJarsCA1Ig+RUtVl6qytZFeSsZzS4GGEcjbEiqVi7YE94QEUdHZF12O1fizDfuCRR8xalBx65hnrVn5twQKz/JOfXPFW11UGcZjS74CrJMAZrdvar1eoABfvl+RxD03+mbn11lvNnDlzbG1CXNt1R1F/ZbKyDz74YLNs2TJba/Xqq6+2HheN5glIIEogRjllEojFGJ1ArJqp7JfJcOIRMRMWRXZf4lXjyXqtHDHhynjEmrOYUvEr2mydV7X9IMKGDhJYWxHzKQ1qVlITjrW18XBR9tqdWxnLoStRwnt7se9VEokkm76sjnQLHcCO+PZwnUhSKxzOCnF3E8bQRPeWXqV5sBbSvYRkKxJiiDmkTSj7Vod9mf7KF110kU2Mo/D1ggULbPkaRKJG8wQkECUQo5wyCcRijM7NFitT2Xcd+VbHujUF3RUwL+40ntyxgqUkJlJpnZeV4YuYwPKLNYU/fpIMlqc6N9DiU1XuFYgJzghdLVLaT5d5G4rDvKvKK4mEhStMTqobpuF6iyMOUyqZBBse3lyB7jbPFd9dv/jFL8xpp51m9txzT/sA+fjjjxuSxHbZZRdrUawyyhS/3m233WwPZoQoDxPEphIi0eZ1V7mmofRaCUQJxCjnWQKxGCPihj+MJpNR8m6gWFnCG6gvXrgBYAEjDmn06NFJfQmnnPThupC4unhZBaldbbtG2w8Gx5Cz8Pvf/95amhD7Kd1UEYdkK2ON8i2Hxb9JvV/RK1SAd1Tp4OPCBLroRFJ0/WSf8wfh2rbYRwjut99+5oorrrCf7w++O6qup0x/ZR5qcEOTuMSgmDtWTLK1NZolIIEogRjlhEkgFmOcP3++mTVrlnU9krzAH9xDFHLFglL1y7X4E1d9RdhNgxshopXP5gaKFYwCs8T41LW81FlX0XsQXLiZUsuiZt2UPsF9yw0zL1A/q/0goQJVxUsRK/fviMOnnnrK7i9dNYa6OMzjkuUy9Tv4+Ika/C6Q+IE4TC1MwJXZGTNmTOsxpCSr7b333uZb3/qW+fSnP132GOa+rkx/ZR5siHP0BSK1Y4lH1GiWgASiBGKUEyaBWA4jN21EGDcg/hCYzx/KjmDJI9gc4Yho5CeZiW3E/zkBRsYtn+dKZLgkDZccg/Wr7TZsjleKcX1YVPiD5bBuh5HY7Qc5iS6BAWHEWVqdxWHeb2ZobSdZhsQsfhd9a3ubdQV7rZdMagR/F2V2eJDZd999zeTJk83EiRPLfdmVeJVczCUgdfgSCUQJxCjHTwKxP4zcqPgSfuKJJ6yLF/FIbA+WKW7uH/3oR631zIlH3CxYq2Lc+LEiPvroo5klWfxi1M5t6ifI+MIR8Rg7MxbXLfGQCLDU4sCaLhdTt/0g7+PsYAmj5VqMM9Lf6X773c6tjEs5ta4yuOFxefN7Rj9q1uqHCrhuJqHF14nHJh/kXLJMF5nUeB0OPPBAM2HCBHP00UfHOgp2njL9lS+88EJbZ9ElqVx//fXmmmuuiboOTZZNQAJRAjHK74YEYhSMq0zi+rU++eSTK1kdiSvjy/VDH/rQSu5qBIEruF1mRa6EB3E+VdxpZa1eTkDWsa5RyJlg/CLXbZnrjP0aehdjbeoqIzivkwn/hgWMWoLwb9vi24t1yuKQhCyycsvUrcw6+66uIA9tfowp7PtNUHLxkF0ky/CAePzxx9uQE3oeN/GwUdRfGeF+0EEH2f0h/IVMZh6YNZonIIEogRjllEkgRsFYaRIEIkIFF7WzOmJt42aFhca5qfnJH6wi/hc87h2sTFjnSEqJMbKye7HCIFrCBBnESy8rKNY54q1YW5OWmarX7OL6EBTE9bURN1p2jS7BCF5+R402SiIVrTFlcUiMJuKD8A4ESN3hHuayEpT8Ivh+Ifai80PZJKyaXYRXcD3f+MY37IMQVryitdblpvelS0ACUQIxyumUQIyCMcokCIVnn312lThHvujJ/MNKwt9xK1NPrK2uFS5Bxi/Jg9AKS5PgVsZqQJJASjcl17mFTYJhE9aUugfAFQ5HdGdZV1xJJL+OZlvtBxGHdJWhPElqbmXOJOIQZk1mxeYlKPXqG+6sms7lXfds1H0fLt27777bWuxSekirez16X3UCEogSiNVPTcY7JBCjYGx0EkQCAfhf+cpXbKzjlltuaX9Sy4y6fS6zGmsjNyVu5m0INFeaBPGCS9lZGxFgYRuwrtylCDDiQrmZE/+ZmjgkRgsLcdUOE87qBXu/kwxWtV5WryrX7sThBhtsYDP1UxqcO8Thhz/8YbP++ut3sjTfXe3z53eAhyQsmvxxVsd+3dVlL5LyM5SyWbRoUTTvQtnP1uvSISCBKIEY5TRKIEbB2Pgk06dPt7GLlKpw4o+bFLGIYWY12bnckIhr9DOrESGxLQpZrfP8BBln+cLlxnqr1LTrFyrrQIDRNq9Xv9t+P6Pu+xFglP+h5AfxqDEH5wQroy9cqrQfTFkcOpc3ohXLZkqDtT344IO2rAsPJP4eIBr9vuF+O7xYD3M//elPrWuZ0jLrrrtuSmi0lpYJSCBKIEY5chKIUTA2Pgnu27L1wxBi3JzCzGp6M3Mzwi3n4hsRkBTWrtPurGrrvLwEmSx3XZ0EGbcRTuSMGjXKuuJTGm5tWL9cjbg21pfVAo9zwv93/BHwPGAQCxtbuPZ7jSm7vGFIzCHcehUPz3JXuwcn//w78Vjl/GNRPfbYY81PfvKTaMXL+90vvb87AhKIEohRTp8EYhSMg2ISV34lK7OaG1xWZnWvotvEWWEBQ+D0200jL0EmzC7FZVdUJgg3H7FzuNpTi51zFjCsX6m4bh1/4ltJlnJFw3kAKOrg09bB53w6i2tqgh9+WKqx2tUR1S7ONEySyeKPeERM+uECVEb44he/aH70ox9Zr0GMQe3GAw44wJbrwvNAeRoSqMJBOAOJOAyufeHChTE+XnP0SUACUQKxzyP01tslEKNgHPSTcDOi76/LrOYnQhILByLLz6zGfU3h3Xnz5jVuASOmLiu7FFe5s7S4kjzcOBGHWHK4qXUVn9brMMCYtVXpX9zWwepl1YQ/rmo/Qcl18AnjTHmYiOUu9a/bhTEQq0ncYUoDcUeIB9feRAmXsIMSvws8nP385z83VDOAB67l008/3eyzzz42tCTGOOGEE2wM5YknnmjOPPNMQzeW2bNnrzI1v3ucDY20CEggSiBGOZESiFEwDtlJuDlTusbFOXJTuv32220yDDdFlyDj2g+SUVolGaIuOBdnFxZERtAiJLi5OeHYlHCpsnYnXLF+pRg7h3UOd3xZl7dzl/rCEfaMmHGmCDBKQWE5Ti2OlLVhceVn24XNYU3bOsQbD0PsB2tBvG+11Va2OHU/g9/npUuXWu8A/aPHjx9vQ1bCIYHYD+Xm3iuBKIEY5XRJIEbBuFpMwg3pyCOPNFdddZWtJUi9Q1fH0bUfJFaSpJAws5obTRPWJQceKxcihxs1LlJfuGT1TXaFqGN3kMk6CK4kS4pWTR4AcMdXEYd5hz2Mc3SJMvz/XuECveZDeGHJ5n3EyaY2qGXK9XXRL5ukF1rnHXHEEda97AaccQ/3W/oHdzkJcG7gXsaKGA4s+RQC5yfWRqyYGt0TkECUQIxyCiUQo2BcLSYhvogC2HluPm7q3EjCzGqsELiAszKr+xVprmPFJptsYsVp1nAJMqFw5IaKW87vosHfqyQI5G0+Fh3cyli/EGEpDScOERNNx/WFcaZOOCKew3qa8GdPCHHgoYJC2G1YpavsDVZ1hFgXHXmwnh966KFmhx12MF/+8perLHul1+68886GrkfhmDlzpjnkkENKCUQSmghBITxlxx13tN4FyklpdEtAAlECMcoJlECMglGTFBBwmdX0GsbqiGWIP2RWY31wmdXO8lg2s5rECuar27EiFC5OQHITDi1eWB2rZHsTK4Y45FrKZqC3dZDaFIdF1+TH2bl4R/aV4dcSRDh2VU/TvwYedviD5axJq3gWN/Zt6tSp1kKIkGtKOJd1MftrRLTuscce1rKp0S0BCUQJxCgnUAIxCkZNUpOAE2hhZjUWCeKqcMs60UjcI9Ykl1l96623WivO3nvvbf9f7OEnyDjhyP9D0IYWxzCzFBcg4hCLaT9t4GJfE/OlJA6zro+sXPix78Ta+Ukyfj3NMEkmdo3PrLW9+OKLNrN38803j15TtGiv+V0hUYRuS5deemmj4nTatGn2ocYlqfB7NmfOnJWWiKfA9aymaP8222xjfvzjH1uXu0a3BCQQJRCjnEAJxCgYNUkDBLDiIRbCzGosc9yY6C5z1FFH2aB8sqzpKtOURcW/vDBBBvHImvhsV4aHtWE5pBNJ21amvK1IuVwM6yauD56bbrppz73MqqeJiIxh9c1jhyDiQWbMmDHRQhCq/NpcfvnlZsmSJYZuKbFCIHp9PrHE+++/v+2QRPmaa6+91j7oPPDAAzYBBoFKOz9+/zjfnKspU6aYww8/vMol6bUNEZBAlECMcrQkEKNg1CQtEuAGSfYmrjZioJy7GmFBnJ/fPQarI5aQNoQjFk8sLbjRuZm6TF/QYOF0WdXOVdpv7GVV5E4csrY69fqqfl7V1yNGEGF14/pcnc+wLJKz+voWR/YitPrmrReXN3G1WA5jlZKpwof434svvtgWwuY6NEQgj4AEogRilN8QCcQoGDVJSwSIWcRKQVFgytn4AwGUlVmNaOO1YWY15WZiWvcQJmRSh8kyWR1MsHghIBEpvnBEPDbhKk1dHOI2xX1LElTMPXHnI6ssEm5sHhxcWR63D2Gco9tX1taFOKPm4YwZM2wLvdTCFVr6tdfHVCQggSiBWPHIZL9cAjEKRk3SIgHEThUR4TKrXUkeZ3EkgxOB5gtH/k6WdlXrnsukxjWKq7vMyOugkZUg4zqclJk7FM4I11Qth1iB2QsEWFXuVVmEr/f7hjvLI+KdvcFSyB/i64h9JTGkadduuD46tFBaatGiRaVrVPbLRO8f/AQkECUQo5xiCcQoGDXJICSACEDYhZnVuDqx4lGuw3WQQTjy31lZzFi+nnrqqdqZ1CE61kVmr1+SB/GSlSCD1QsR08uFnrrlkFhNSsbgum1bHOYdWfbglVdesRZhwhaw9rIH/PTbDzq3dd4e1P3VwFpOu7sFCxYo8aMuxNX0fRKIEohRjr4EYhSMUSYhEPzUU0+1MXUUpR47dmzmvGT2YqXihoqQIXBcIx4BZ9nzM6sRkSTM8G9+ZjWC4eyzzza33XZbZq/aeKt6ayaEY9j6DlcpZyHM6kW0YDWl6HFqLeq4FsIBEEFdZAQX7Ysrbs5DQViiKKv9o2s/6LLb3V7U7eLDQ8dnP/tZc+GFF9rsYA0RqEJAAlECscp56flaCcQoGKNMgjDEdUpm4FlnnZUrEBGF/XZLiLLo1WwShIPLrCYmjIQZrIxYm+ixzN8pbUNyDFbHtjKrs1rfEXuJcEQghmV5qrjom9hi3LaUMkIctu22LboeWD700EM2kadKP29nZfSTZFz7QQSj3zucv/eymGI5piPJ1772NVtXMMYo+/B5yy232OLbXAtdWihzozH4CEggSiBGObUSiFEwRp2EvqcSiFGRRp+MEh/HHXecueGGG6x1jhsqrmnXQYaf9K7lZo/I8DOrEZFNZlbjViZ2DWFIhxRESpjZy2uyeiY3kSATwke40jcYcVg3rjL6hv57QlcjkvJEdAiJMXolKbkuPohFaisi2nmw4FzRPo/C07FGmYdPzjAPN5TSoSf3lltuaebPny/3dqxNaHEeCUQJxCjHTQIxCsaokxQJRNq20RuVuDOsjQSxa7RLAAsu/aWxGuYNRABxdn7PatzVlHPJyqzut26iE4fMjSu818hLkMlqPRhLyNHfl+vvqlxM3l7BxAnrNsoA+V18sNxR+J2YR6zRJMUgFvmDUNt2222jHPC875Z77rnHhrhgGWfMmjXL/jzppJOifLYmaY+ABKIEYpTTJoEYBWPpSfL6n9IRhFEkEF3/U2K4dtllF3P++eeb7bffvvQa9MLuCSAOsKRlZVZjUQozqxEsRUkciMNHH33U9qPOE4dFIqlXjJ3rIOOX5amSnOFqCdKijuzxlAb7gZWN6+milzCfjxDD3Y734O9///uK+p5wP/jgg6PgyvtuIVwCoUoRbMaVV15p7rvvPnPBBRdE+WxN0h4BCUQJxCinTQIxCsaokxQJRP/DeOLnhv3Vr341yhoUqxQFY+1JXPZsmFlNpi/iAfHiu6v5bwQEsZGnn366Oeyww2xf6yaG3zPZuazpIINr1I+vI97RtUN068AqhnhFHDbRFrHf68XljYsVtm0UVffXy55/+9vftpbVK664olIJJ3+efh8++d3HeugLRJLleADVGFwEJBAlEKOcWAnEKBijTpInELkxYyki+YG/Y0E85ZRTzO677x5lDYpVioIx+iTOJUxco4tzRFCQ6MF5cL2LyXwlxhEXZZVOIf0suCg5A/c0WbmILxKruk6QCa+V+D9iRSlw3rY4dJa6G2+80fYxjuXK77WfcjH3c9IHz3slECUQo5xWCcQoGKNMQsLD8ccfb2+mJBhgbeGJHpcyGYWLFy+2ggARwKA7BMHsJ598cpTP9yfRjSQ60kYmxKr3pS99ySYVjBs3zrqsEY5YxLDu8f/DzGoszm0IIYQrbnQeOqgl6Er0IHYRr2FmdRsJMuEm0MGFjOpPfvKTnQhXWuede+651rXLvjQ98n6v+T4hSeX222+3sbXEPs6bN88KZ43BRUACUQIxyomVQIyCcchNolilwbGluP+wJGeVI8GyR51BP7Oa2o5Yy0iG8eMcEZF0WokpHMmefuSRR6zA8LvLOGtoWAic9TaZIBPuKN1b/vSnP9kHsaL4ziZOw7333mtDQ3gIREA3Oco8fPL5PIROmTLFutsnTZrUyMNnk9epud8iIIEogRjld0ECMQrGQTWJYpUG1XblLrZq20Em4z2IozBBhgxjLNdhz2rK9FR1C+Pyfvjhh20Wbtgzu9cFIRxdgowvHrE8+t1LnOWxSoJM+JlYDf/whz90VqQb0Y4AW7hwYe2EoqFzinUlsQlIIEogRjlTEohRMA65Sbp2MeOapM0Y8WFk5F5zzTWZnUqw/Gy22WaWP5m+3HA16hFAoP3lL39ZRThSpgdRhvsRS6NrP0iNxSzLG51eKBfD6ynHFGO4BBlfOOJC5/NDV3WYIBN+PkKYWM6u6jDi1p44caL54Q9/aF3bGiIQm4AEogRilDMlgRgF45CbpOtYpRNOOMG6PHGdnnnmmbZu4OzZs1fhTNwWokGjOQIus5pYQqyO/OQPQgfL3ujRo1dkVuMqpRPHD37wAyskmx69EmRwlYetB/lv3PFcQ1eldnjwoZzVOeecY3bYYYem8Wj+1ZSABKIEYpSjL4EYBeOQmSSVWCXcnEuXLrXFqJ977jlbGxKrTzgkELs7eghH4gyJa0R0Pfjgg1YYYjnk/1PQ3W87SGZ1P27hKleKGx1Lpt9BhlI7rAs3Om5v3/LYRgwi6yHBbOrUqSsSzapck14rAmUJSCBKIJY9K7mvk0CMglGTRCbATRxXoBu4KrEihoPMV6xB/MTaSA9bjfYJYMWlbzDWQ/aAjFgyqZ3V0WVW4yrOyqxGrMVMkAkJuJjIT3ziE/ashK0HwwQZVww8Vp9orpuKA1gP1fmo/fO5un2iBKIEYpQzL4EYBaMmqUEgL1nmkEMOKSUQXVcZyv/suOOOtkRHF50walz+kHoL2cC//OUvCwU6Qoy4UiccSdbAAolge9/73rdKZrVrKdkPLBJfHnroITs3Dx5Zw29754vHMEHGCUfqFZYVtFgzjznmGFubcsaMGaXf1881672rNwEJRAnEKL8BEohRMGqSyATKupj9jz300EOtFYsEAI3BRQARRShBmFlNyzlEYliSp2xmNZZMXN88NIwcObIWlKzWg1kJMojHsDg5wpNuR7i2zzvvvMrZ4L0WXLbjEQlelBjChY7llB7iGkOfgASiBGKUUy6BGAWjJolMYNq0afaG7pJUCO6fM2fOSp+Cy5nEA+LaKFuyzTbb2G4UuBH7GRQtxlWKtYsC5WGNQcQBvXGXLVtm13j11VerVEk/wHPei8Bib11yDBZHrI/0IcctHZbkwX3tSvLg9mZveGig7mPsgfgMXdW4shG7Z599tk3eQRhiXSW2N2b/6TIdj7heBCKikA42GqsPAQlECcQop10CMQpGTRKZAOVW9t9/f/PMM8/Y8jVYTMhq5mZ3ySWX2H6xd999tznqqKOsIOCmTIHfww8/vK+VIApJrFiyZImNlaObxPz581cSnRdddJH51a9+ZdexYMECe/NHiGi0RwDh+PLLL69wVfuZ1bh/sRiS1LT11lvbM0J/6rY6tSAccWlfd9115q677rKuZWoucrZI3CFDf6uttooCq6hvuwRiFMyDbhIJRAnEKIdWAjEKRk0yRAjcc8891iVIdwvGrFmz7M+TTjppxRXutttu9jVYLBEDxM7RHrFsTNoQQZXkZSAcsepRQ3OdddaxgowEGQQa+8N/Y3WkgDc/sfI1kVlNLOw3v/lNe45YB8PFX5JBHcuiVyQQuV4Xx4lQVoJMksc2+qIkECUQoxwqCcQoGDXJECGA1QcXMxZKxpVXXmnuu+8+c8EFF6y4wk033dS+BgsjA2sVr4l10x8iKDu7DMQ7ySUzZ85csQaEI/+PzGrXetBlViPyKfrt96zGilw3s5rQg8mTJxv6LPPwUHf02/GIz3VJXLjkd9llF0Nrxu23377ukvS+QUJAAlECMcpRlUCMglGTDBECuLKx+vgC8f7777c3VjfoLcxrfIHIa+omQQwRdMlcBuEJVfpKY9nDwhhmVlO3kDqcYYIMmdC9rMVkZBOfev3111vrZNOjyILofz7CmUQa+j9rDG0CEogSiFFOuARiFIyaZIgQkIt5iGxkhMsgrhULXJhZTewjAjQUjrx+3333NZdffrnZYostIqygeIo8gYirnTWRxczfsSCecsopZvfddy+eWK8Y1AQkECUQoxxgCcQoGDXJECGAuxH3IjFkH/jAB2ySyrx58wxWQzcuvPBC22vYJalgLaJXdOxRlE09d+5cQ7Y362Qcd9xxNutao1kCuKuJOXWuan7irqaczve//31bDLvpUabjEbVB6dzC4FxTqPvkk09uemmaPwECEogSiFGOoQRiFIyaZAgRWLx4sc2IxvU4adIke1PF8jJ27Fiz1157GUqZHHTQQTZTFUsSmcxkycYcZbKpEYhkdfvxkTHXoLmqEWDP2mjZV21VevXqSEACUQIxyrmXQIyCUZOIQFQCZVzdEohgmdsUAAAJzklEQVRRkWsyERgyBCQQJRCjHGYJxCgYNYkIRCVQJpsagUj5nVGjRlm3+LnnnmuzcTVEQARWbwISiBKIUX4DJBCjYNQkIhCVQJlsarJ1yUqljh/xkMRB3nHHHVHXoclEQAQGHwEJRAnEKKdWAjEKRk0iAlEJlHEx+x9I/BvxkPQujj2Iw7z55psN/Y8fffTRVaYnaYPWhMRu0voQy+aYMWNiL0PziYAIlCQggSiBWPKo5L9MAjEKRk0iAlEJlMmmfu6552ydPgZZrbNnzzb33ntv1HUw2c9+9jNrqaS+X5ZARBhSJ5KfFAxHLPJTQwREoBsCEogSiFFOngRiFIyaRASiEyjKpib+cOHChbbHMNbDiy++2HYDaWL88Y9/NHvssUemQKSFG/X4vvCFL9iPpj7g0qVLV4jXJtYz1OakXNFNN91kXB9pyuVQkDscRaWPhhoXXU89AhKIEoj1Tk7wLgnEKBg1iQgMaQJ5AhHheOKJJ5px48ZZBjvttJO1ZlIWSKMcgVtvvdXsuOOOVuxPnz7dvgmG/ihT+qjcp+lVQ52ABKIEYpQzLoEYBaMmEYEhTSBPIE6YMMFmU/sCcc6cOa11Exlq4AkXIIv9qquuWunSqsalDjUuup7yBCQQJRDLn5acV0ogRsGoSURgSBOQi7m97d1zzz3NAQccYA488MCVPrRM6aP2VqlPSpmABKIEYpTzKYEYBaMmEYEhTSBPIC5atMh2c3FJKpMnTzb3339/dB5F2dTEPdLmbuONN7afTV9kOuCkMnbeeWfz/PPPr7KcmTNnrmjPx9/pjkP7xoGBgZVeW6b0USrXqnV0S0ACUQIxygmUQIyCUZOIwJAlQPIJ4uull14yG2ywgTnttNPM66+/bq/36KOPNpS5oQ80CRSUuSHBoon4w6JsatZ41lln2ZI8g3FcccUVtp4lfcDhGA65mAfjrnazZglECcQoJ08CMQpGTSICItACgTxL5mAWiIjrqVOnmjvvvNN2xskaZUoftbAF+ohBQEACUQIxyjGVQIyCUZOIgAi0QKBIIO63337mgx/8oHn/+99vrYmbbLJJC6vq/yNGjx5tXnvtNTNy5Eg72dZbb22tiX/+85/NEUccYd33jKzSR/1/umYYagQkECUQo5xpCcQoGDWJCIhACwTyBOLLL79shg0bZot6I6Qo2P273/2uhVXpI0QgLQISiBKIUU6kBGIUjJpEBESgBQJ5AjH8+I985CM24WO99dZrYWX6CBFIh4AEogRilNMogRgFoyYRARFogUCeQCRDmCQasn/Jop44caJ5+umnV8kGbmGZ+ggR6JSABKIEYpQDKIEYBaMmEQERaJhAUTY1pXZoN0g3krXXXtucc845Ztttt214VZpeBNIjIIEogRjlVEogRsGoSURABERABEQgCQISiBKIUQ6iBGIUjJpEBERABERABJIgIIEogRjlIEogRsGoSURABERABEQgCQISiBKIUQ6iBGIUjJpEBERABERABJIgIIEogRjlIEogRsGoSURABERABEQgCQISiBKIUQ6iBGIUjJpEBERABERABJIgIIEogRjlIEogRsGoSURABERABEQgCQISiBKIUQ6iBGIUjJpEBERABERABJIgIIEogRjlIEogRsGoSURABERABEQgCQISiBKIUQ6iBGIUjJpEBERABERABJIgIIEogRjlIEogRsGoSURABERABEQgCQISiBKISRxELUIEREAEREAEREAEUiIwkNJitBYREAEREAEREAEREIHuCUggdr8HWoEIiIAIiIAIiIAIJEVAAjGp7dBiREAEREAEREAERKB7AhKI3e+BViACIiACIiACIiACSRGQQExqO7QYERABERABERABEeiegARi93ugFYiACIiACIiACIhAUgQkEJPaDi1GBERABERABERABLonIIHY/R5oBSIgAiIgAiIgAiKQFAEJxKS2Q4sRAREQAREQAREQge4JSCB2vwdagQiIgAiIgAiIgAgkRUACMant0GJEQAREQAREQAREoHsCEojd74FWIAIiIAIiIAIiIAJJEZBATGo7tBgREAEREAEREAER6J6ABGL3e6AViIAIiIAIiIAIiEBSBCQQk9oOLUYEREAEREAEREAEuicggdj9HmgFIiACIiACIiACIpAUAQnEpLZDixEBERABERABERCB7glIIHa/B1qBCIiACIiACIiACCRFQAIxqe3QYkRABERABERABESgewISiN3vgVYgAiIgAiIgAiIgAkkRkEBMaju0GBEQAREQAREQARHonoAEYvd7oBWIgAiIgAiIgAiIQFIEJBCT2g4tRgREQAREQAREQAS6JyCB2P0eaAUiIAIiIAIiIAIikBQBCcSktkOLEQEREAEREAEREIHuCUggdr8HWoEIiIAIiIAIiIAIJEVAAjGp7dBiREAEREAEREAERKB7AhKI3e+BViACIiACIiACIiACSRGQQExqO7QYERABERABERABEeiegARi93ugFYiACIiACIiACIhAUgQkEJPaDi1GBERABERABERABLonIIHY/R5oBSIgAiIgAiIgAiKQFAEJxKS2Q4sRAREQAREQAREQge4JSCB2vwdagQiIgAiIgAiIgAgkRUACMant0GJEQAREQAREQAREoHsCEojd74FWIAIiIAIiIAIiIAJJEZBATGo7tBgREAEREAEREAER6J6ABGL3e6AViIAIiIAIiIAIiEBSBCQQk9oOLUYEREAEREAEREAEuicggdj9HmgFIiACIiACIiACIpAUAQnEpLZDixEBERABERABERCB7glIIHa/B1qBCIiACIiACIiACCRFQAIxqe3QYkRABERABERABESgewISiN3vgVYgAiIgAiIgAiIgAkkRkEBMaju0GBEQAREQAREQARHonoAEYvd7oBWIgAiIgAiIgAiIQFIEJBCT2g4tRgREQAREQAREQAS6JyCB2P0eaAUiIAIiIAIiIAIikBQBCcSktkOLEQEREAEREAEREIHuCUggdr8HWoEIiIAIiIAIiIAIJEVAAjGp7dBiREAEREAEREAERKB7AhKI3e+BViACIiACIiACIiACSRGQQExqO7QYERABERABERABEeiegARi93ugFYiACIiACIiACIhAUgQkEJPaDi1GBERABERABERABLonIIHY/R5oBSIgAiIgAiIgAiKQFAEJxKS2Q4sRAREQAREQAREQge4JSCB2vwdagQiIgAiIgAiIgAgkRUACMant0GJEQAREQAREQAREoHsCEojd74FWIAIiIAIiIAIiIAJJEZBATGo7tBgREAEREAEREAER6J6ABGL3e6AViIAIiIAIiIAIiEBSBP4/VfTB7TbRsyYAAAAASUVORK5CYII=\" width=\"648\">"
      ],
      "text/plain": [
       "<IPython.core.display.HTML object>"
      ]
     },
     "metadata": {},
     "output_type": "display_data"
    }
   ],
   "source": [
    "# 3D plot with Axes3D. 3D plotting with this is suboptimal, as it does no actual 3d rendering.\n",
    "\n",
    "def plot_scatter_axes3d(X,y,b_true):\n",
    "    # y surface from true betas\n",
    "    y_noiseless = np.dot(lsp_mat,b_true).reshape((20,20))\n",
    "    fig = plt.figure(figsize=[9,7])\n",
    "    ax = fig.gca(projection='3d')\n",
    "    ax.scatter(X[:,0],X[:,1], y, color='red', alpha =1, zorder=y)\n",
    "    ax.plot_surface(lsp_x, lsp_y, np.dot(lsp_mat,b_true).reshape((20,20)), color='black', alpha = 0.5, zorder = y_noiseless)\n",
    "    plt.show()\n",
    "    \n",
    "plot_scatter_axes3d(X,y,b_true);"
   ]
  },
  {
   "cell_type": "code",
   "execution_count": 14,
   "metadata": {},
   "outputs": [
    {
     "ename": "AttributeError",
     "evalue": "module 'plotly.tools' has no attribute 'set_credentials_file'",
     "output_type": "error",
     "traceback": [
      "\u001b[1;31m---------------------------------------------------------------------------\u001b[0m",
      "\u001b[1;31mAttributeError\u001b[0m                            Traceback (most recent call last)",
      "\u001b[1;32m<ipython-input-14-dfaa5ef69971>\u001b[0m in \u001b[0;36m<module>\u001b[1;34m()\u001b[0m\n\u001b[0;32m      1\u001b[0m \u001b[1;31m# 3D plot with plotly. Plotly is a much better approach for 3d plots, but it requires the user to have an online account.\u001b[0m\u001b[1;33m\u001b[0m\u001b[1;33m\u001b[0m\u001b[0m\n\u001b[0;32m      2\u001b[0m \u001b[1;33m\u001b[0m\u001b[0m\n\u001b[1;32m----> 3\u001b[1;33m \u001b[0mplotly\u001b[0m\u001b[1;33m.\u001b[0m\u001b[0mtools\u001b[0m\u001b[1;33m.\u001b[0m\u001b[0mset_credentials_file\u001b[0m\u001b[1;33m(\u001b[0m\u001b[0musername\u001b[0m\u001b[1;33m=\u001b[0m\u001b[1;34m'kdumont'\u001b[0m\u001b[1;33m,\u001b[0m \u001b[0mapi_key\u001b[0m\u001b[1;33m=\u001b[0m\u001b[1;34m'i4Xt#86CxWnbWk3}'\u001b[0m\u001b[1;33m)\u001b[0m\u001b[1;33m\u001b[0m\u001b[0m\n\u001b[0m\u001b[0;32m      4\u001b[0m \u001b[1;33m\u001b[0m\u001b[0m\n\u001b[0;32m      5\u001b[0m \u001b[1;32mdef\u001b[0m \u001b[0mplot_scatter_plotly\u001b[0m\u001b[1;33m(\u001b[0m\u001b[0mX\u001b[0m\u001b[1;33m,\u001b[0m\u001b[0my\u001b[0m\u001b[1;33m,\u001b[0m\u001b[0mb_true\u001b[0m\u001b[1;33m)\u001b[0m\u001b[1;33m:\u001b[0m\u001b[1;33m\u001b[0m\u001b[0m\n",
      "\u001b[1;31mAttributeError\u001b[0m: module 'plotly.tools' has no attribute 'set_credentials_file'"
     ]
    }
   ],
   "source": [
    "# 3D plot with plotly. Plotly is a much better approach for 3d plots, but it requires the user to have an online account.\n",
    "\n",
    "plotly.tools.set_credentials_file(username='kdumont', api_key='i4Xt#86CxWnbWk3}')\n",
    "\n",
    "def plot_scatter_plotly(X,y,b_true):\n",
    "\n",
    "    # y surface from true betas\n",
    "    y_noiseless = np.dot(lsp_mat,b_true).reshape((20,20))\n",
    "    \n",
    "    data = [\n",
    "        go.Scatter3d(\n",
    "        x=X[:,0],\n",
    "        y=X[:,1],\n",
    "        z=y,\n",
    "        mode='markers',\n",
    "        marker=dict(\n",
    "            size=5,\n",
    "            color='green',\n",
    "            line=dict(\n",
    "                color='rgba(217, 217, 217, 0.14)',\n",
    "                width=0.5\n",
    "                ),\n",
    "            opacity=1\n",
    "            )\n",
    "        ),\n",
    "        go.Surface(\n",
    "                x=lsp_x,\n",
    "                y=lsp_y,\n",
    "                z=y_noiseless,\n",
    "                colorscale='Greens',\n",
    "                opacity=0.8,\n",
    "                showscale=False\n",
    "        ),\n",
    "\n",
    " \n",
    "    ]\n",
    "\n",
    "    layout = go.Layout(\n",
    "        title='2D Regression',\n",
    "        autosize=False,\n",
    "        width=700,\n",
    "        height=700,\n",
    "    )\n",
    "\n",
    "    fig = go.Figure(data=data, layout=layout)\n",
    "        \n",
    "    return fig, data\n",
    "\n",
    "print(X.shape, y.shape)\n",
    "\n",
    "fig, data = plot_scatter_plotly(X,y,b_true)\n",
    "print(len(data))\n",
    "iplot(fig, filename='2D Regression - normal data')"
   ]
  },
  {
   "cell_type": "code",
   "execution_count": null,
   "metadata": {},
   "outputs": [],
   "source": [
    "# Regression types to use:\n",
    "regr = ['OLS']\n",
    "colors = ['Blues', 'Reds']"
   ]
  },
  {
   "cell_type": "markdown",
   "metadata": {},
   "source": [
    "## Calculate regression coefficients for OLS (normal data)"
   ]
  },
  {
   "cell_type": "code",
   "execution_count": null,
   "metadata": {},
   "outputs": [],
   "source": [
    "from sklearn.linear_model import LinearRegression, Ridge, Lasso, ElasticNet, RidgeCV, LassoCV, ElasticNetCV\n",
    "\n",
    "\n",
    "def fit_regression(X, y, regr=['OLS'], verbose=True):\n",
    "    betas=[]\n",
    "    if regr == 'all':\n",
    "        regr = ['OLS','Ridge','LASSO','EN']\n",
    "        \n",
    "    for r in regr:\n",
    "        if r == 'OLS':\n",
    "            # OLS fit\n",
    "            regr_ols = LinearRegression(fit_intercept=False)\n",
    "            regr_ols.fit(X, y)\n",
    "            beta_ols = regr_ols.coef_ \n",
    "            if verbose:\n",
    "                print(f'OLS coefficients: {beta_ols}')\n",
    "            betas.append(beta_ols)\n",
    "        \n",
    "        elif r == 'Ridge':\n",
    "            # Ridge fit\n",
    "            regr_ridge = RidgeCV(fit_intercept=False)\n",
    "            regr_ridge.fit(X, y)\n",
    "            beta_ridge = regr_ridge.coef_\n",
    "            if verbose:\n",
    "                print(f'Ridge coefficients:{beta_ridge}, regularization coef: {regr_ridge.alpha_}')\n",
    "            betas.append(beta_ridge)\n",
    "        \n",
    "        elif r == 'LASSO':\n",
    "            # LASSO fit\n",
    "            regr_lasso = LassoCV(fit_intercept=False)\n",
    "            regr_lasso.fit(X, y)\n",
    "            beta_lasso = regr_lasso.coef_ \n",
    "            if verbose:\n",
    "                print(f'LASSO coefficients:{beta_lasso}, regularization coef: {regr_lasso.alpha_}')\n",
    "            betas.append(beta_lasso)\n",
    "\n",
    "        elif r == 'EN':\n",
    "            # Elastic Net fit\n",
    "            regr_EN = ElasticNetCV(fit_intercept=False)\n",
    "            regr_EN.fit(X, y)\n",
    "            beta_EN = regr_EN.coef_ \n",
    "            if verbose:\n",
    "                print(f'ElasticNet coefficients:{beta_EN}, regularization coef: {regr_EN.alpha_}')\n",
    "            betas.append(beta_EN)\n",
    "    \n",
    "    return betas\n",
    "\n",
    "print('True coefficents:', b_true.ravel())\n",
    "betas = fit_regression(X,y.ravel(),regr=regr);"
   ]
  },
  {
   "cell_type": "markdown",
   "metadata": {},
   "source": [
    "## Plot fitted planes (normal data)"
   ]
  },
  {
   "cell_type": "code",
   "execution_count": null,
   "metadata": {
    "scrolled": false
   },
   "outputs": [],
   "source": [
    "def plot_fitted_planes(betas, colors, names, data=[], return_traces=False):\n",
    "    \n",
    "    for i,b in enumerate(betas):\n",
    "        y = np.dot(lsp_mat,b.reshape((2,1))).reshape((20,20))\n",
    "        data.append(go.Surface(\n",
    "                    x=lsp_x,\n",
    "                    y=lsp_y,\n",
    "                    z=y,\n",
    "                    colorscale=colors[i],\n",
    "                    text = names[i],\n",
    "                    showscale=False\n",
    "            ))\n",
    "\n",
    "    layout = go.Layout(\n",
    "        title='2D Regression',\n",
    "        autosize=False,\n",
    "        width=700,\n",
    "        height=700,\n",
    "    )\n",
    "    \n",
    "    if return_traces:\n",
    "        return data\n",
    "    \n",
    "    fig = go.Figure(data=data, layout=layout)\n",
    "    return fig\n",
    "    \n",
    "fig = plot_fitted_planes(betas, colors=colors, names=regr, data=deepcopy(data))\n",
    "iplot(fig, filename='2D Regression with different estimators - normal data')"
   ]
  },
  {
   "cell_type": "markdown",
   "metadata": {},
   "source": [
    "## Create regression problem with colinearity"
   ]
  },
  {
   "cell_type": "code",
   "execution_count": 9,
   "metadata": {},
   "outputs": [],
   "source": [
    "# Generate random data with high colinearity between predictors\n",
    "x1 = np.random.rand(N,1)*10-5\n",
    "x2 = x1 + np.random.normal(scale=0.2, size=(N,1))\n",
    "X_colin = np.column_stack((x1,x2))\n",
    "X_colin = (X_colin-X_colin.mean(axis=0))/X_colin.std(axis=0)\n",
    "eps = np.random.normal(scale=sigma, size = (N,1))\n",
    "y_colin = np.dot(X_colin,b_true)+eps"
   ]
  },
  {
   "cell_type": "markdown",
   "metadata": {},
   "source": [
    "## Plot regression problem with colinearity"
   ]
  },
  {
   "cell_type": "code",
   "execution_count": 10,
   "metadata": {},
   "outputs": [
    {
     "data": {
      "text/html": [
       "<iframe id=\"igraph\" scrolling=\"no\" style=\"border:none;\" seamless=\"seamless\" src=\"https://plot.ly/~robbert.struyven/10.embed\" height=\"700px\" width=\"700px\"></iframe>"
      ],
      "text/plain": [
       "<plotly.tools.PlotlyDisplay object>"
      ]
     },
     "execution_count": 10,
     "metadata": {},
     "output_type": "execute_result"
    }
   ],
   "source": [
    "fig, data_colin = plot_scatter_plotly(X_colin,y_colin,b_true)\n",
    "iplot(fig, filename='2D Regression - normal data')"
   ]
  },
  {
   "cell_type": "markdown",
   "metadata": {},
   "source": [
    "## Calculate regression coefficients (colinear data)"
   ]
  },
  {
   "cell_type": "code",
   "execution_count": 11,
   "metadata": {},
   "outputs": [
    {
     "name": "stdout",
     "output_type": "stream",
     "text": [
      "True coefficents: [3 7]\n",
      "OLS coefficients: [10.18864184  0.20719093]\n"
     ]
    }
   ],
   "source": [
    "print('True coefficents:', b_true.ravel())\n",
    "betas_colin = fit_regression(X_colin,y_colin.ravel(),regr=regr);"
   ]
  },
  {
   "cell_type": "markdown",
   "metadata": {},
   "source": [
    "## Plot fitting planes (colinear data)"
   ]
  },
  {
   "cell_type": "code",
   "execution_count": 12,
   "metadata": {},
   "outputs": [
    {
     "data": {
      "text/html": [
       "<iframe id=\"igraph\" scrolling=\"no\" style=\"border:none;\" seamless=\"seamless\" src=\"https://plot.ly/~robbert.struyven/14.embed\" height=\"700px\" width=\"700px\"></iframe>"
      ],
      "text/plain": [
       "<plotly.tools.PlotlyDisplay object>"
      ]
     },
     "execution_count": 12,
     "metadata": {},
     "output_type": "execute_result"
    }
   ],
   "source": [
    "fig = plot_fitted_planes(betas_colin, colors=colors, names=regr, data=deepcopy(data_colin))\n",
    "iplot(fig, filename='2D Regression with different estimators - colinear data')"
   ]
  },
  {
   "cell_type": "markdown",
   "metadata": {},
   "source": [
    "## Add a small perturbation to the colinear data and fit again"
   ]
  },
  {
   "cell_type": "code",
   "execution_count": 13,
   "metadata": {},
   "outputs": [
    {
     "name": "stdout",
     "output_type": "stream",
     "text": [
      "True coefficents: [3 7]\n",
      "OLS coefficients: [3.59464312 6.79142214]\n"
     ]
    },
    {
     "data": {
      "text/html": [
       "<iframe id=\"igraph\" scrolling=\"no\" style=\"border:none;\" seamless=\"seamless\" src=\"https://plot.ly/~robbert.struyven/14.embed\" height=\"700px\" width=\"700px\"></iframe>"
      ],
      "text/plain": [
       "<plotly.tools.PlotlyDisplay object>"
      ]
     },
     "execution_count": 13,
     "metadata": {},
     "output_type": "execute_result"
    }
   ],
   "source": [
    "# Perturbation is just a bit of small uniform noise:\n",
    "perturbation = np.random.rand(X_colin.shape[0],X_colin.shape[1])*0.05\n",
    "X_colin_pert = X_colin+perturbation\n",
    "y_colin_pert = np.dot(X_colin_pert,b_true)+eps\n",
    "\n",
    "print('True coefficents:', b_true.ravel())\n",
    "betas = fit_regression(X_colin_pert,y_colin_pert.ravel(),regr=regr);\n",
    "fig, data_colin_pert = plot_scatter_plotly(X_colin_pert,y_colin_pert,b_true)\n",
    "fig = plot_fitted_planes(betas, colors=colors, names=regr, data=deepcopy(data_colin_pert))\n",
    "\n",
    "iplot(fig, filename='2D Regression with different estimators - colinear data')"
   ]
  },
  {
   "cell_type": "markdown",
   "metadata": {},
   "source": [
    "This clearly shows how unstable our estimates are in OLS. As expected, in this case, the inverse Gram Matrix $(X^TX)^{-1}$ (proportional to covariance) will present very large diagonal values:"
   ]
  },
  {
   "cell_type": "markdown",
   "metadata": {},
   "source": [
    "## Condition number and eigenvalues"
   ]
  },
  {
   "cell_type": "code",
   "execution_count": 14,
   "metadata": {},
   "outputs": [
    {
     "name": "stdout",
     "output_type": "stream",
     "text": [
      "Inverse of Gram Matrix for colinear data (propto covariance matrix of betas):\n",
      "[[ 2.82282151 -2.81781707]\n",
      " [-2.81781707  2.82282151]]\n",
      "Condition number of Gram Matrix:\n",
      "1127.1277155550463\n"
     ]
    }
   ],
   "source": [
    "print('Inverse of Gram Matrix for colinear data (propto covariance matrix of betas):')\n",
    "print(np.linalg.inv(np.dot(X_colin.T,X_colin)))\n",
    "\n",
    "print('Condition number of Gram Matrix:')\n",
    "print(np.linalg.cond(np.dot(X_colin.T,X_colin)))"
   ]
  },
  {
   "cell_type": "code",
   "execution_count": 15,
   "metadata": {},
   "outputs": [
    {
     "name": "stdout",
     "output_type": "stream",
     "text": [
      "Matrix X[:5] =\n"
     ]
    },
    {
     "data": {
      "text/plain": [
       "array([[ 1.75683671,  0.65680951],\n",
       "       [-1.60918975,  1.54938769],\n",
       "       [ 0.20357474, -0.48327303],\n",
       "       [ 0.72870872,  1.21985667],\n",
       "       [ 0.15826972, -1.14201238]])"
      ]
     },
     "metadata": {},
     "output_type": "display_data"
    },
    {
     "name": "stdout",
     "output_type": "stream",
     "text": [
      "Eigenvalues =\n"
     ]
    },
    {
     "data": {
      "text/plain": [
       "array([1.77284892e-01, 1.99822715e+02])"
      ]
     },
     "metadata": {},
     "output_type": "display_data"
    },
    {
     "name": "stdout",
     "output_type": "stream",
     "text": [
      "Eigenvectors =\n"
     ]
    },
    {
     "data": {
      "text/plain": [
       "array([[-0.70710678, -0.70710678],\n",
       "       [ 0.70710678, -0.70710678]])"
      ]
     },
     "metadata": {},
     "output_type": "display_data"
    },
    {
     "name": "stdout",
     "output_type": "stream",
     "text": [
      "Max(eigenvalues)/Min(eigenvalues)\n"
     ]
    },
    {
     "data": {
      "text/plain": [
       "1127.127715555074"
      ]
     },
     "metadata": {},
     "output_type": "display_data"
    }
   ],
   "source": [
    "eigval, eigvec = np.linalg.eig(np.dot(X_colin.T,X_colin))\n",
    "print(\"Matrix X[:5] =\")\n",
    "display(X[:5])\n",
    "print(\"Eigenvalues =\")\n",
    "display(eigval)\n",
    "print(\"Eigenvectors =\")\n",
    "display(eigvec)\n",
    "print(\"Max(eigenvalues)/Min(eigenvalues)\")\n",
    "display(max(eigval)/min(eigval))"
   ]
  },
  {
   "cell_type": "code",
   "execution_count": 16,
   "metadata": {},
   "outputs": [
    {
     "name": "stdout",
     "output_type": "stream",
     "text": [
      "\n",
      "Compare to non-colinear data:\n",
      "[[ 0.01033188 -0.00185174]\n",
      " [-0.00185174  0.01033188]]\n",
      "Condition number of Gram Matrix with non-colinear data:\n",
      "1.4367237004517126\n"
     ]
    }
   ],
   "source": [
    "print('\\nCompare to non-colinear data:')\n",
    "print(np.linalg.inv(np.dot(X.T,X)))\n",
    "\n",
    "print('Condition number of Gram Matrix with non-colinear data:')\n",
    "print(np.linalg.cond(np.dot(X.T,X)))"
   ]
  },
  {
   "cell_type": "code",
   "execution_count": 17,
   "metadata": {},
   "outputs": [
    {
     "name": "stdout",
     "output_type": "stream",
     "text": [
      "Matrix X[:5] =\n"
     ]
    },
    {
     "data": {
      "text/plain": [
       "array([[ 1.75683671,  0.65680951],\n",
       "       [-1.60918975,  1.54938769],\n",
       "       [ 0.20357474, -0.48327303],\n",
       "       [ 0.72870872,  1.21985667],\n",
       "       [ 0.15826972, -1.14201238]])"
      ]
     },
     "metadata": {},
     "output_type": "display_data"
    },
    {
     "name": "stdout",
     "output_type": "stream",
     "text": [
      "Eigenvalues =\n"
     ]
    },
    {
     "data": {
      "text/plain": [
       "array([117.92257778,  82.07742222])"
      ]
     },
     "metadata": {},
     "output_type": "display_data"
    },
    {
     "name": "stdout",
     "output_type": "stream",
     "text": [
      "Eigenvectors =\n"
     ]
    },
    {
     "data": {
      "text/plain": [
       "array([[ 0.70710678, -0.70710678],\n",
       "       [ 0.70710678,  0.70710678]])"
      ]
     },
     "metadata": {},
     "output_type": "display_data"
    },
    {
     "name": "stdout",
     "output_type": "stream",
     "text": [
      "Max(eigenvalues)/Min(eigenvalues)\n"
     ]
    },
    {
     "data": {
      "text/plain": [
       "1.4367237004517126"
      ]
     },
     "metadata": {},
     "output_type": "display_data"
    }
   ],
   "source": [
    "eigval, eigvec = np.linalg.eig(np.dot(X.T,X))\n",
    "print(\"Matrix X[:5] =\")\n",
    "display(X[:5])\n",
    "print(\"Eigenvalues =\")\n",
    "display(eigval)\n",
    "print(\"Eigenvectors =\")\n",
    "display(eigvec)\n",
    "print(\"Max(eigenvalues)/Min(eigenvalues)\")\n",
    "display(max(eigval)/min(eigval))"
   ]
  },
  {
   "cell_type": "markdown",
   "metadata": {},
   "source": [
    "## Analyze loss surfaces"
   ]
  },
  {
   "cell_type": "code",
   "execution_count": 18,
   "metadata": {},
   "outputs": [],
   "source": [
    "\n",
    "def OLS_loss(X, y, beta, lbda=0):\n",
    "    y_hat = np.dot(X,beta)\n",
    "    return np.sum((y_hat-y)**2,axis=0)\n",
    "\n",
    "def Ridge_loss(X, y, beta, lbda):\n",
    "    y_hat = np.dot(X,beta)\n",
    "    return np.sum((y_hat-y)**2,axis=0) + lbda*np.sum(beta**2, axis=0)\n",
    "\n",
    "def LASSO_loss(X, y, beta, lbda):\n",
    "    y_hat = np.dot(X,beta)\n",
    "    return (1 / (2 * len(X)))*np.sum((y_hat-y)**2,axis=0) + lbda*np.sum(np.abs(beta), axis=0)\n",
    "\n",
    "def EN_loss(X, y, beta, lbda):\n",
    "    ratio=0.1\n",
    "    y_hat = np.dot(X,beta)\n",
    "    return (1 / (2 * len(X)))*np.sum((y_hat-y)**2,axis=0) + lbda*(ratio*np.sum(beta**2, axis=0) + (1-ratio)*np.sum(np.abs(beta), axis=0))\n"
   ]
  },
  {
   "cell_type": "code",
   "execution_count": 19,
   "metadata": {},
   "outputs": [
    {
     "data": {
      "text/html": [
       "<iframe id=\"igraph\" scrolling=\"no\" style=\"border:none;\" seamless=\"seamless\" src=\"https://plot.ly/~robbert.struyven/14.embed\" height=\"700px\" width=\"700px\"></iframe>"
      ],
      "text/plain": [
       "<plotly.tools.PlotlyDisplay object>"
      ]
     },
     "metadata": {},
     "output_type": "display_data"
    }
   ],
   "source": [
    "# linspace for loss surface\n",
    "L=40\n",
    "lsp_b = np.linspace(-20,20,L)\n",
    "lsp_b_x, lsp_b_y = np.meshgrid(lsp_b,lsp_b)\n",
    "lsp_b_mat = np.column_stack((lsp_b_x.flatten(),lsp_b_y.flatten()))\n",
    "\n",
    "def build_surface_fig(loss_values):\n",
    "    \n",
    "    data = [\n",
    "        go.Surface(\n",
    "                x=lsp_b_x,\n",
    "                y=lsp_b_y,\n",
    "                z=loss_values,\n",
    "                colorscale='Viridis',\n",
    "                    opacity=0.7,\n",
    "                    contours=dict(z=dict(show=True,\n",
    "                                         width=3,\n",
    "                                         highlight=True,\n",
    "                                         highlightcolor='orange',\n",
    "                                         project=dict(z=True),\n",
    "                                         usecolormap=True))\n",
    "        )\n",
    "    ]\n",
    "\n",
    "    layout = go.Layout(\n",
    "        title='Loss surface',\n",
    "        autosize=False,\n",
    "        width=700,\n",
    "        height=700,\n",
    "        scene=dict(\n",
    "        xaxis = dict(\n",
    "            title='Beta 1'),\n",
    "        yaxis = dict(\n",
    "            title='Beta 2'),\n",
    "        zaxis = dict(\n",
    "            title='Loss')\n",
    "        )\n",
    "    )\n",
    "\n",
    "    fig = go.Figure(data=data, layout=layout)\n",
    "    display(iplot(fig, filename='2D Regression with different estimators - colinear data'))\n",
    "\n",
    "build_surface_fig(OLS_loss(X_colin,y_colin.reshape(-1,1), lsp_b_mat.T, 100).reshape((L,L)));"
   ]
  },
  {
   "cell_type": "code",
   "execution_count": 20,
   "metadata": {},
   "outputs": [],
   "source": [
    "# # OLS\n",
    "# loss_values = OLS_loss(X, y, lsp_b_mat.T).reshape((L,L))\n",
    "# fig, data = build_surface_fig(loss_values)\n",
    "# iplot(fig, filename='Loss Surface')\n",
    "\n",
    "# # Ridge\n",
    "# loss_values = Ridge_loss(X, y, lsp_b_mat.T, 100.0).reshape((L,L))\n",
    "# fig, data = build_surface_fig(loss_values)\n",
    "# iplot(fig, filename='Loss Surface')\n",
    "\n",
    "# # LASSO\n",
    "# loss_values = LASSO_loss(X, y, lsp_b_mat.T, 100.0).reshape((L,L))\n",
    "# fig, data = build_surface_fig(loss_values)\n",
    "# iplot(fig, filename='Loss Surface')\n",
    "\n",
    "# # Elastic Net\n",
    "# loss_values = EN_loss(X, y, lsp_b_mat.T, 100.0).reshape((L,L))\n",
    "# fig, data = build_surface_fig(loss_values)\n",
    "# fig['layout'].update()\n",
    "# iplot(fig, filename='Loss Surface')"
   ]
  },
  {
   "cell_type": "code",
   "execution_count": 21,
   "metadata": {},
   "outputs": [],
   "source": [
    "from ipywidgets import interactive, HBox, VBox\n",
    "\n",
    "def loss_3d_interactive(X, y, loss='Ridge'):\n",
    "    '''Uses plotly to draw an interactive 3D representation of the loss function, \n",
    "    with a slider to control the regularization factor.\n",
    "    \n",
    "    Inputs:\n",
    "    X: predictor matrix for the regression problem. Has to be of dim n x 2\n",
    "    y: response vector \n",
    "    \n",
    "    loss: string with the loss to plot. Options are 'Ridge', 'LASSO', 'EN'.\n",
    "    '''\n",
    "\n",
    "    if loss == 'Ridge':\n",
    "        loss_function = Ridge_loss\n",
    "        lbda_slider_min = 0\n",
    "        lbda_slider_max = 1000\n",
    "        lbda_step = 1\n",
    "        clf = Ridge()\n",
    "    elif loss == 'LASSO':\n",
    "        loss_function = LASSO_loss\n",
    "        lbda_slider_min = 1\n",
    "        lbda_slider_max = 150\n",
    "        lbda_step = 1\n",
    "        clf = Lasso()\n",
    "    elif loss == 'EN':\n",
    "        loss_function = EN_loss\n",
    "        lbda_slider_min = 1\n",
    "        lbda_slider_max = 150\n",
    "        lbda_step = 1\n",
    "        clf = ElasticNet()\n",
    "    else:\n",
    "        raise ValueError(\"Loss string not recognized. Available options are: 'Ridge', 'LASSO', 'EN'.\")\n",
    "            \n",
    "    # linspace for loss surface\n",
    "    L=20\n",
    "    lsp_b = np.linspace(-10,10,L)\n",
    "    lsp_b_x, lsp_b_y = np.meshgrid(lsp_b,lsp_b)\n",
    "    lsp_b_mat = np.column_stack((lsp_b_x.flatten(),lsp_b_y.flatten()))\n",
    "    \n",
    "    # Get all optimal betas for current lambda range\n",
    "    precomp_coefs=[]\n",
    "    for l in range(lbda_slider_min,lbda_slider_max+1,lbda_step):\n",
    "        clf.set_params(alpha=l)\n",
    "        clf.fit(X, y)\n",
    "        precomp_coefs.append(clf.coef_)\n",
    "                \n",
    "    f = go.FigureWidget(\n",
    "        data=[\n",
    "            go.Surface(\n",
    "                    x=lsp_b_x,\n",
    "                    y=lsp_b_y,\n",
    "                    z=loss_function(X,y.reshape(-1,1), lsp_b_mat.T, 0).reshape((L,L)),\n",
    "                    colorscale='Viridis',\n",
    "                    colorbar = dict(len=0.75),\n",
    "                    opacity=0.7,\n",
    "                    name=r\"Loss function\",\n",
    "                    contours=dict(z=dict(show=True,\n",
    "                                         width=4,\n",
    "                                         highlight=True,\n",
    "                                         highlightcolor='orange',\n",
    "                                         project=dict(z=True),\n",
    "                                         usecolormap=True))\n",
    "            ),\n",
    "            \n",
    "            go.Scatter3d(\n",
    "                x=[p[0] for p in precomp_coefs],\n",
    "                y=[p[1] for p in precomp_coefs],\n",
    "                z=np.zeros(len(precomp_coefs)),\n",
    "                name=r\"Trajectory Beta 1 and Beta 2\",\n",
    "                marker=dict(\n",
    "                    size=1,\n",
    "                    color='red',\n",
    "                    line=dict(\n",
    "                        color='red',\n",
    "                        width=0\n",
    "                        ),\n",
    "                    opacity=1\n",
    "                    )\n",
    "                ),\n",
    "            go.Scatter3d(\n",
    "                x=[0],\n",
    "                y=[0],\n",
    "                z=[0],\n",
    "                name=r\"Beta 1 and Beta 2 with constraint\",\n",
    "                marker=dict(\n",
    "                    size=10,\n",
    "                    color='orange',\n",
    "                    opacity=1\n",
    "                    ),\n",
    "                ),\n",
    "            go.Scatter3d(\n",
    "                x=[3],\n",
    "                y=[7],\n",
    "                z=[0],\n",
    "                name=r\"True Beta 1 and Beta 2 = (3,7)\",\n",
    "                marker=dict(\n",
    "                    size=10,\n",
    "                    color='blue',\n",
    "                    opacity=1\n",
    "                    ),\n",
    "            ),\n",
    "        ],\n",
    "\n",
    "        layout=go.Layout(scene=go.layout.Scene(\n",
    "                    xaxis = dict(\n",
    "                        title='Beta 1'),\n",
    "                    yaxis = dict(\n",
    "                        title='Beta 2'),\n",
    "                    zaxis = dict(\n",
    "                        title='Loss'),\n",
    "            camera=go.layout.scene.Camera(\n",
    "                up=dict(x=0, y=0, z=1),\n",
    "                center=dict(x=0, y=0, z=0),\n",
    "                eye=dict(x=1.25, y=1.25, z=1.25))\n",
    "        ),\n",
    "            width=1000,\n",
    "            height=700,)\n",
    "    )\n",
    "\n",
    "    def update_z(lbda):\n",
    "        f.data[0].z = loss_function(X, y.reshape(-1,1), lsp_b_mat.T, lbda).reshape((L,L))\n",
    "        beta_opt = precomp_coefs[(lbda-lbda_slider_min)//(lbda_step)]\n",
    "        f.data[-2].x = [beta_opt[0]]\n",
    "        f.data[-2].y = [beta_opt[1]]\n",
    "        f.data[-2].z = [0]\n",
    "\n",
    "    lambda_slider = interactive(update_z, lbda=(lbda_slider_min, lbda_slider_max, lbda_step))\n",
    "    vb = VBox((f, lambda_slider))\n",
    "    vb.layout.align_items = 'center'\n",
    "    display(vb)"
   ]
  },
  {
   "cell_type": "code",
   "execution_count": 22,
   "metadata": {},
   "outputs": [
    {
     "name": "stdout",
     "output_type": "stream",
     "text": [
      "(100, 2) (100, 1)\n"
     ]
    },
    {
     "data": {
      "application/vnd.jupyter.widget-view+json": {
       "model_id": "8e284f3a41e3458c986cc58884d9482f",
       "version_major": 2,
       "version_minor": 0
      },
      "text/plain": [
       "VBox(children=(FigureWidget({\n",
       "    'data': [{'colorbar': {'len': 0.75},\n",
       "              'colorscale': 'Viridis',\n",
       "…"
      ]
     },
     "metadata": {},
     "output_type": "display_data"
    }
   ],
   "source": [
    "print(X_colin.shape,y_colin.shape)\n",
    "loss_3d_interactive(X_colin, y_colin.ravel(), loss='Ridge')"
   ]
  },
  {
   "cell_type": "code",
   "execution_count": 23,
   "metadata": {},
   "outputs": [
    {
     "name": "stdout",
     "output_type": "stream",
     "text": [
      "(100, 2) (100, 1)\n"
     ]
    },
    {
     "data": {
      "application/vnd.jupyter.widget-view+json": {
       "model_id": "101d731391e143428b508df21023fe1a",
       "version_major": 2,
       "version_minor": 0
      },
      "text/plain": [
       "VBox(children=(FigureWidget({\n",
       "    'data': [{'colorbar': {'len': 0.75},\n",
       "              'colorscale': 'Viridis',\n",
       "…"
      ]
     },
     "metadata": {},
     "output_type": "display_data"
    }
   ],
   "source": [
    "print(X_colin.shape,y_colin.shape)\n",
    "loss_3d_interactive(X_colin, y_colin.ravel(), loss='LASSO')"
   ]
  },
  {
   "cell_type": "code",
   "execution_count": 24,
   "metadata": {},
   "outputs": [
    {
     "name": "stdout",
     "output_type": "stream",
     "text": [
      "(100, 2) (100, 1)\n"
     ]
    },
    {
     "data": {
      "application/vnd.jupyter.widget-view+json": {
       "model_id": "effb804b68c4440db9b90dadac812895",
       "version_major": 2,
       "version_minor": 0
      },
      "text/plain": [
       "VBox(children=(FigureWidget({\n",
       "    'data': [{'colorbar': {'len': 0.75},\n",
       "              'colorscale': 'Viridis',\n",
       "…"
      ]
     },
     "metadata": {},
     "output_type": "display_data"
    }
   ],
   "source": [
    "print(X_colin.shape,y_colin.shape)\n",
    "loss_3d_interactive(X_colin, y_colin.ravel(), loss='EN')"
   ]
  },
  {
   "cell_type": "markdown",
   "metadata": {},
   "source": [
    "## Bayesian Interpretations of Lasso And Ridge "
   ]
  },
  {
   "cell_type": "code",
   "execution_count": 25,
   "metadata": {},
   "outputs": [
    {
     "data": {
      "application/vnd.jupyter.widget-view+json": {
       "model_id": "ff5a09b6755346e39e6e4b31f4ae526c",
       "version_major": 2,
       "version_minor": 0
      },
      "text/plain": [
       "VBox(children=(FigureWidget({\n",
       "    'data': [{'name': 'Normal(mean = 0, scale = σ²/λ) = RIDGE',\n",
       "              't…"
      ]
     },
     "metadata": {},
     "output_type": "display_data"
    }
   ],
   "source": [
    "from ipywidgets import interactive, HBox, VBox\n",
    "import scipy.stats\n",
    "\n",
    "def interactive_dist():\n",
    "    '''Uses plotly to draw an interactive 3D representation of the loss function, \n",
    "    with a slider to control the regularization factor.\n",
    "    \n",
    "    Inputs:\n",
    "    X: predictor matrix for the regression problem. Has to be of dim n x 2\n",
    "    y: response vector \n",
    "    \n",
    "    loss: string with the loss to plot. Options are 'Ridge', 'LASSO', 'EN'.\n",
    "    '''\n",
    "\n",
    "        \n",
    "    \n",
    "    # linspace for loss surface\n",
    "    L=20\n",
    "    x = np.linspace(-0.6,0.6,1000)\n",
    "    \n",
    "    y =  scipy.stats.norm.pdf(x, 0)\n",
    "    y_2 =  scipy.stats.laplace.pdf(x, 0, 2)\n",
    "                \n",
    "    f = go.FigureWidget(\n",
    "        data=[\n",
    "            go.Scatter(x=x, \n",
    "                       y=y_2,\n",
    "                       name=r\"Normal(mean = 0, scale = σ²/λ) = RIDGE\"),\n",
    "            go.Scatter(x=x,\n",
    "                       y=y_2,\n",
    "                       name=r\"Laplacienne(mean = 0, scale = σ²/λ) = LASSO\")\n",
    "\n",
    "        ],\n",
    "        \n",
    "        layout=go.Layout(\n",
    "            title='Normal and Laplacienne Distribution with interactive λ (assume σ²=1)',\n",
    "            xaxis=dict(title='Beta',),\n",
    "            yaxis=dict(title='pdf',range=[0, 15]),\n",
    "            width=1000,\n",
    "            height=500,)\n",
    "         \n",
    "    )\n",
    "\n",
    "    def update_z(lbda):\n",
    "        f.data[0].y = scipy.stats.norm.pdf(x, 0, (1/lbda))\n",
    "        f.data[1].y = scipy.stats.laplace.pdf(x, 0, (2/lbda))\n",
    "    lambda_slider = interactive(update_z, lbda=(0.5, 30, 1))\n",
    "    vb = VBox((f, lambda_slider))\n",
    "    vb.layout.align_items = 'center'\n",
    "    display(vb)\n",
    "    \n",
    "    \n",
    "interactive_dist()"
   ]
  },
  {
   "cell_type": "code",
   "execution_count": null,
   "metadata": {},
   "outputs": [],
   "source": []
  }
 ],
 "metadata": {
  "kernelspec": {
   "display_name": "Python 3",
   "language": "python",
   "name": "python3"
  },
  "language_info": {
   "codemirror_mode": {
    "name": "ipython",
    "version": 3
   },
   "file_extension": ".py",
   "mimetype": "text/x-python",
   "name": "python",
   "nbconvert_exporter": "python",
   "pygments_lexer": "ipython3",
   "version": "3.6.2"
  },
  "varInspector": {
   "cols": {
    "lenName": 16,
    "lenType": 16,
    "lenVar": 40
   },
   "kernels_config": {
    "python": {
     "delete_cmd_postfix": "",
     "delete_cmd_prefix": "del ",
     "library": "var_list.py",
     "varRefreshCmd": "print(var_dic_list())"
    },
    "r": {
     "delete_cmd_postfix": ") ",
     "delete_cmd_prefix": "rm(",
     "library": "var_list.r",
     "varRefreshCmd": "cat(var_dic_list()) "
    }
   },
   "types_to_exclude": [
    "module",
    "function",
    "builtin_function_or_method",
    "instance",
    "_Feature"
   ],
   "window_display": false
  }
 },
 "nbformat": 4,
 "nbformat_minor": 2
}
