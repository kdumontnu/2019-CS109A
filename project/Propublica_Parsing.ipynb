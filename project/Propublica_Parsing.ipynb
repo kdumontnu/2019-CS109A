{
 "cells": [
  {
   "cell_type": "code",
   "execution_count": 1,
   "metadata": {
    "colab": {},
    "colab_type": "code",
    "id": "wDhrmlZW7IpN"
   },
   "outputs": [],
   "source": [
    "# General includes\n",
    "import numpy as np\n",
    "import pandas as pd\n",
    "import matplotlib.pyplot as plt\n",
    "import json\n",
    "import datetime\n",
    "import seaborn as sns\n",
    "\n",
    "%matplotlib inline"
   ]
  },
  {
   "cell_type": "code",
   "execution_count": 2,
   "metadata": {
    "colab": {},
    "colab_type": "code",
    "id": "1yNxWSpS7IpY"
   },
   "outputs": [],
   "source": [
    "# My includes\n",
    "k_blue ='#19647E'\n",
    "\n",
    "sns.set_style(\"white\")\n",
    "\n",
    "# Some code to build a status bar\n",
    "from IPython.display import clear_output\n",
    "\n",
    "def updateStatusBar(progress):\n",
    "    bar_length = 40\n",
    "    progress = float(progress)\n",
    "    if progress < 0:\n",
    "        progress = 0\n",
    "    if progress >= 1:\n",
    "        progress = 1\n",
    "\n",
    "    block = int(bar_length * progress)\n",
    "\n",
    "    clear_output(wait = True)\n",
    "    text = \"Progress: [{0}] {1:.1f}%\".format( \"#\" * block + \"-\" * (bar_length - block), progress * 100)\n",
    "    print(text)"
   ]
  },
  {
   "cell_type": "markdown",
   "metadata": {
    "colab_type": "text",
    "id": "FwMnTFiuh7kN"
   },
   "source": [
    "**LOAD DATA**"
   ]
  },
  {
   "cell_type": "code",
   "execution_count": 3,
   "metadata": {
    "colab": {
     "base_uri": "https://localhost:8080/",
     "height": 332
    },
    "colab_type": "code",
    "executionInfo": {
     "elapsed": 142112,
     "status": "ok",
     "timestamp": 1574301215533,
     "user": {
      "displayName": "Kyle Dumont",
      "photoUrl": "https://lh3.googleusercontent.com/a-/AAuE7mC7in6Uw3foM0QVec2-PRpXFiKRlYNsrLYfhbr8Jw=s64",
      "userId": "11331986209772134481"
     },
     "user_tz": 300
    },
    "id": "XtnpARNo7Ipc",
    "outputId": "6fdbda49-7a19-4e69-a02e-79fc728b2a3f"
   },
   "outputs": [
    {
     "data": {
      "text/html": [
       "<div>\n",
       "<style scoped>\n",
       "    .dataframe tbody tr th:only-of-type {\n",
       "        vertical-align: middle;\n",
       "    }\n",
       "\n",
       "    .dataframe tbody tr th {\n",
       "        vertical-align: top;\n",
       "    }\n",
       "\n",
       "    .dataframe thead th {\n",
       "        text-align: right;\n",
       "    }\n",
       "</style>\n",
       "<table border=\"1\" class=\"dataframe\">\n",
       "  <thead>\n",
       "    <tr style=\"text-align: right;\">\n",
       "      <th></th>\n",
       "      <th>id</th>\n",
       "      <th>html</th>\n",
       "      <th>political</th>\n",
       "      <th>not_political</th>\n",
       "      <th>title</th>\n",
       "      <th>message</th>\n",
       "      <th>thumbnail</th>\n",
       "      <th>created_at</th>\n",
       "      <th>updated_at</th>\n",
       "      <th>lang</th>\n",
       "      <th>...</th>\n",
       "      <th>suppressed</th>\n",
       "      <th>targets</th>\n",
       "      <th>advertiser</th>\n",
       "      <th>entities</th>\n",
       "      <th>page</th>\n",
       "      <th>lower_page</th>\n",
       "      <th>targetings</th>\n",
       "      <th>paid_for_by</th>\n",
       "      <th>targetedness</th>\n",
       "      <th>listbuilding_fundraising_proba</th>\n",
       "    </tr>\n",
       "  </thead>\n",
       "  <tbody>\n",
       "    <tr>\n",
       "      <td>0</td>\n",
       "      <td>hyperfeed_story_id_5c9baa3ee0ec08073500042</td>\n",
       "      <td>&lt;div class=\"_5pa- userContentWrapper\"&gt;&lt;div cla...</td>\n",
       "      <td>0</td>\n",
       "      <td>0</td>\n",
       "      <td>League of Conservation Voters</td>\n",
       "      <td>&lt;p&gt;BREAKING: Trump’s Department of the Interio...</td>\n",
       "      <td>https://pp-facebook-ads.s3.amazonaws.com/v/t1....</td>\n",
       "      <td>2019-03-27 16:52:25.625455+00</td>\n",
       "      <td>2019-03-27 16:52:25.625455+00</td>\n",
       "      <td>en-US</td>\n",
       "      <td>...</td>\n",
       "      <td>f</td>\n",
       "      <td>[]</td>\n",
       "      <td>NaN</td>\n",
       "      <td>[{\"entity\": \"Endangered Species Act\", \"entity_...</td>\n",
       "      <td>https://www.facebook.com/LCVoters/</td>\n",
       "      <td>https://www.facebook.com/lcvoters/</td>\n",
       "      <td>NaN</td>\n",
       "      <td>League of Conservation Voters</td>\n",
       "      <td>NaN</td>\n",
       "      <td>0.647945</td>\n",
       "    </tr>\n",
       "    <tr>\n",
       "      <td>1</td>\n",
       "      <td>hyperfeed_story_id_5c9bb2a2413852086735771</td>\n",
       "      <td>&lt;div class=\"_5pa- userContentWrapper\"&gt;&lt;div cla...</td>\n",
       "      <td>0</td>\n",
       "      <td>0</td>\n",
       "      <td>Indivisible Guide</td>\n",
       "      <td>&lt;p&gt;The Mueller investigation is over. Special ...</td>\n",
       "      <td>https://pp-facebook-ads.s3.amazonaws.com/v/t1....</td>\n",
       "      <td>2019-03-27 17:28:14.096849+00</td>\n",
       "      <td>2019-03-27 17:28:14.096849+00</td>\n",
       "      <td>en-US</td>\n",
       "      <td>...</td>\n",
       "      <td>f</td>\n",
       "      <td>[]</td>\n",
       "      <td>NaN</td>\n",
       "      <td>[{\"entity\": \"Americans\", \"entity_type\": \"Group...</td>\n",
       "      <td>https://www.facebook.com/indivisibleguide/</td>\n",
       "      <td>https://www.facebook.com/indivisibleguide/</td>\n",
       "      <td>NaN</td>\n",
       "      <td>Indivisible Project</td>\n",
       "      <td>NaN</td>\n",
       "      <td>0.350635</td>\n",
       "    </tr>\n",
       "    <tr>\n",
       "      <td>2</td>\n",
       "      <td>hyperfeed_story_id_5c9bb4fa461731e29426627</td>\n",
       "      <td>&lt;div class=\"_5pa- userContentWrapper\"&gt;&lt;div cla...</td>\n",
       "      <td>0</td>\n",
       "      <td>0</td>\n",
       "      <td>International Rescue Committee</td>\n",
       "      <td>&lt;p&gt;Zimbabwe is reeling from the impact of Cycl...</td>\n",
       "      <td>https://pp-facebook-ads.s3.amazonaws.com/v/t1....</td>\n",
       "      <td>2019-03-27 17:38:23.101377+00</td>\n",
       "      <td>2019-03-27 17:38:23.101377+00</td>\n",
       "      <td>en-US</td>\n",
       "      <td>...</td>\n",
       "      <td>f</td>\n",
       "      <td>[]</td>\n",
       "      <td>NaN</td>\n",
       "      <td>[{\"entity\": \"Zimbabwe\", \"entity_type\": \"Region\"}]</td>\n",
       "      <td>https://www.facebook.com/InternationalRescueCo...</td>\n",
       "      <td>https://www.facebook.com/internationalrescueco...</td>\n",
       "      <td>NaN</td>\n",
       "      <td>International Rescue Committee</td>\n",
       "      <td>NaN</td>\n",
       "      <td>0.999909</td>\n",
       "    </tr>\n",
       "  </tbody>\n",
       "</table>\n",
       "<p>3 rows × 24 columns</p>\n",
       "</div>"
      ],
      "text/plain": [
       "                                           id  \\\n",
       "0  hyperfeed_story_id_5c9baa3ee0ec08073500042   \n",
       "1  hyperfeed_story_id_5c9bb2a2413852086735771   \n",
       "2  hyperfeed_story_id_5c9bb4fa461731e29426627   \n",
       "\n",
       "                                                html  political  \\\n",
       "0  <div class=\"_5pa- userContentWrapper\"><div cla...          0   \n",
       "1  <div class=\"_5pa- userContentWrapper\"><div cla...          0   \n",
       "2  <div class=\"_5pa- userContentWrapper\"><div cla...          0   \n",
       "\n",
       "   not_political                           title  \\\n",
       "0              0   League of Conservation Voters   \n",
       "1              0               Indivisible Guide   \n",
       "2              0  International Rescue Committee   \n",
       "\n",
       "                                             message  \\\n",
       "0  <p>BREAKING: Trump’s Department of the Interio...   \n",
       "1  <p>The Mueller investigation is over. Special ...   \n",
       "2  <p>Zimbabwe is reeling from the impact of Cycl...   \n",
       "\n",
       "                                           thumbnail  \\\n",
       "0  https://pp-facebook-ads.s3.amazonaws.com/v/t1....   \n",
       "1  https://pp-facebook-ads.s3.amazonaws.com/v/t1....   \n",
       "2  https://pp-facebook-ads.s3.amazonaws.com/v/t1....   \n",
       "\n",
       "                      created_at                     updated_at   lang  ...  \\\n",
       "0  2019-03-27 16:52:25.625455+00  2019-03-27 16:52:25.625455+00  en-US  ...   \n",
       "1  2019-03-27 17:28:14.096849+00  2019-03-27 17:28:14.096849+00  en-US  ...   \n",
       "2  2019-03-27 17:38:23.101377+00  2019-03-27 17:38:23.101377+00  en-US  ...   \n",
       "\n",
       "  suppressed  targets  advertiser  \\\n",
       "0          f       []         NaN   \n",
       "1          f       []         NaN   \n",
       "2          f       []         NaN   \n",
       "\n",
       "                                            entities  \\\n",
       "0  [{\"entity\": \"Endangered Species Act\", \"entity_...   \n",
       "1  [{\"entity\": \"Americans\", \"entity_type\": \"Group...   \n",
       "2  [{\"entity\": \"Zimbabwe\", \"entity_type\": \"Region\"}]   \n",
       "\n",
       "                                                page  \\\n",
       "0                 https://www.facebook.com/LCVoters/   \n",
       "1         https://www.facebook.com/indivisibleguide/   \n",
       "2  https://www.facebook.com/InternationalRescueCo...   \n",
       "\n",
       "                                          lower_page targetings  \\\n",
       "0                 https://www.facebook.com/lcvoters/        NaN   \n",
       "1         https://www.facebook.com/indivisibleguide/        NaN   \n",
       "2  https://www.facebook.com/internationalrescueco...        NaN   \n",
       "\n",
       "                      paid_for_by targetedness listbuilding_fundraising_proba  \n",
       "0   League of Conservation Voters          NaN                       0.647945  \n",
       "1             Indivisible Project          NaN                       0.350635  \n",
       "2  International Rescue Committee          NaN                       0.999909  \n",
       "\n",
       "[3 rows x 24 columns]"
      ]
     },
     "metadata": {},
     "output_type": "display_data"
    }
   ],
   "source": [
    "data_file = 'fbpac-ads-en-US.csv'\n",
    "try:\n",
    "  path = 'data/'\n",
    "  df = pd.read_csv(path + data_file)\n",
    "except:\n",
    "  path = '/content/drive/My Drive/DS1 Final Project/data/'\n",
    "  print('Loading data from Google Drive')\n",
    "  df = pd.read_csv(path + data_file)\n",
    "display(df.head(3))"
   ]
  },
  {
   "cell_type": "code",
   "execution_count": 4,
   "metadata": {
    "colab": {
     "base_uri": "https://localhost:8080/",
     "height": 836
    },
    "colab_type": "code",
    "executionInfo": {
     "elapsed": 142434,
     "status": "ok",
     "timestamp": 1574301215896,
     "user": {
      "displayName": "Kyle Dumont",
      "photoUrl": "https://lh3.googleusercontent.com/a-/AAuE7mC7in6Uw3foM0QVec2-PRpXFiKRlYNsrLYfhbr8Jw=s64",
      "userId": "11331986209772134481"
     },
     "user_tz": 300
    },
    "id": "Ge9CAQ8w7Ipf",
    "outputId": "48f4a43b-fce6-4409-c71c-6c732a7cdb2c"
   },
   "outputs": [
    {
     "name": "stdout",
     "output_type": "stream",
     "text": [
      "id                       post id number on facebook\n",
      "\n",
      "html                     HTML of the ad as collected by the Political Ad Collector\n",
      "\n",
      "political                number of Political Ad Collector users who have voted that the ad is political\n",
      "\n",
      "not_political            number of Political Ad Collector users who have voted that the ad is not political\n",
      "\n",
      "title                    ad title\n",
      "\n",
      "message                  ad content\n",
      "\n",
      "thumbnail                link for a thumbnail of the profile image (of the advertiser)\n",
      "\n",
      "created_at               date ad was first collected by the Political Ad Collector\n",
      "\n",
      "updated_at               the most recent time that it got an impression OR the most recent time it was voted on\n",
      "\n",
      "lang                     language of the ad. always en-US.\n",
      "\n",
      "images                   link for images included in the ad\n",
      "\n",
      "impressions              number of times the ad has been seen by the Political Ad Collector\n",
      "\n",
      "political_probability    calculated by the classifier. data only includes ads with a probability >=0.7\n",
      "\n",
      "targeting                Facebook’s “Why am I seeing this?” disclosure provided to Political Ad Collector users\n",
      "\n",
      "suppressed               value is false. suppressed ads are excluded from this data set because they were misclassified.\n",
      "\n",
      "targets                  a parsed version of targeting\n",
      "\n",
      "advertiser               the account that posted the ad\n",
      "\n",
      "entities                 named entities mentioned in the ad, extracted using software\n",
      "\n",
      "page                     the page that posted the ad \n",
      "\n",
      "lower_page               the Facebook URL of the advertiser that posted the ad (the “page” column, lowercased)\n",
      "\n",
      "targetings               an array of one or more of Facebook’s “Why am I seeing this?” disclosures provided to Political Ad Collector users \n",
      "\n",
      "paid_for_by              for political ads, the entity listed in Facebook’s required disclosure as having paid for the ad \n",
      "\n",
      "targetedness             an internal metric for estimating how granularly an ad is targeted, used for sorting in the ProPublica search interface\n",
      "\n",
      " {'desc': ' a parsed version of targeting\\n', 'example': '[{\"target\": \"Age\", \"segment\": \"18 and older\"}, {\"target\": \"MinAge\", \"segment\": \"18\"}, {\"target\": \"Region\", \"segment\": \"the United States\"}]'}\n"
     ]
    }
   ],
   "source": [
    "desc_text = open(path + 'description', 'r', encoding=\"utf8\").readlines()\n",
    "desc = {}\n",
    "for d in desc_text:\n",
    "    key, value = d.split(':')\n",
    "    print('{:24}{}'.format(key, value))\n",
    "    desc[key] = {'desc': value,'example' : df[key][471]}\n",
    "    \n",
    "print('\\n', desc['targets'])"
   ]
  },
  {
   "cell_type": "markdown",
   "metadata": {
    "colab_type": "text",
    "id": "G0spAB0yjRRi"
   },
   "source": [
    "# New Section"
   ]
  },
  {
   "cell_type": "code",
   "execution_count": 5,
   "metadata": {
    "colab": {
     "base_uri": "https://localhost:8080/",
     "height": 442
    },
    "colab_type": "code",
    "executionInfo": {
     "elapsed": 142417,
     "status": "ok",
     "timestamp": 1574301215898,
     "user": {
      "displayName": "Kyle Dumont",
      "photoUrl": "https://lh3.googleusercontent.com/a-/AAuE7mC7in6Uw3foM0QVec2-PRpXFiKRlYNsrLYfhbr8Jw=s64",
      "userId": "11331986209772134481"
     },
     "user_tz": 300
    },
    "id": "35oFLZ43cFO3",
    "outputId": "c9d18420-493a-42a6-9099-9344a386772d"
   },
   "outputs": [
    {
     "data": {
      "text/plain": [
       "id                                 object\n",
       "html                               object\n",
       "political                           int64\n",
       "not_political                       int64\n",
       "title                              object\n",
       "message                            object\n",
       "thumbnail                          object\n",
       "created_at                         object\n",
       "updated_at                         object\n",
       "lang                               object\n",
       "images                             object\n",
       "impressions                         int64\n",
       "political_probability             float64\n",
       "targeting                          object\n",
       "suppressed                         object\n",
       "targets                            object\n",
       "advertiser                         object\n",
       "entities                           object\n",
       "page                               object\n",
       "lower_page                         object\n",
       "targetings                         object\n",
       "paid_for_by                        object\n",
       "targetedness                      float64\n",
       "listbuilding_fundraising_proba    float64\n",
       "dtype: object"
      ]
     },
     "execution_count": 5,
     "metadata": {},
     "output_type": "execute_result"
    }
   ],
   "source": [
    "df.dtypes"
   ]
  },
  {
   "cell_type": "markdown",
   "metadata": {
    "colab_type": "text",
    "id": "WcRPzG94cGRU"
   },
   "source": [
    "**SET DATE RANGE**"
   ]
  },
  {
   "cell_type": "code",
   "execution_count": 6,
   "metadata": {
    "colab": {},
    "colab_type": "code",
    "id": "JZO0xBtucKzl"
   },
   "outputs": [],
   "source": [
    "df['created_at'] = pd.to_datetime(df['created_at'])\n",
    "df['updated_at'] = pd.to_datetime(df['updated_at'])"
   ]
  },
  {
   "cell_type": "code",
   "execution_count": 7,
   "metadata": {
    "colab": {
     "base_uri": "https://localhost:8080/",
     "height": 51
    },
    "colab_type": "code",
    "executionInfo": {
     "elapsed": 144027,
     "status": "ok",
     "timestamp": 1574301217543,
     "user": {
      "displayName": "Kyle Dumont",
      "photoUrl": "https://lh3.googleusercontent.com/a-/AAuE7mC7in6Uw3foM0QVec2-PRpXFiKRlYNsrLYfhbr8Jw=s64",
      "userId": "11331986209772134481"
     },
     "user_tz": 300
    },
    "id": "i3_ra4Z8cdUE",
    "outputId": "5e96c782-1d33-4204-e20c-fe6a2f084811"
   },
   "outputs": [
    {
     "name": "stdout",
     "output_type": "stream",
     "text": [
      "Date Range: 2017-07-31 to 2019-05-31\n",
      "2018 midterm date: 2018-11-06\n"
     ]
    }
   ],
   "source": [
    "print('Date Range: {} to {}'.format(min(df['created_at']).date(), max(df['created_at']).date()))\n",
    "midterm_date = datetime.date(2018, 11, 6)\n",
    "print('2018 midterm date: {}'.format(midterm_date))"
   ]
  },
  {
   "cell_type": "code",
   "execution_count": 8,
   "metadata": {
    "colab": {
     "base_uri": "https://localhost:8080/",
     "height": 512
    },
    "colab_type": "code",
    "executionInfo": {
     "elapsed": 803,
     "status": "ok",
     "timestamp": 1574302845683,
     "user": {
      "displayName": "Kyle Dumont",
      "photoUrl": "https://lh3.googleusercontent.com/a-/AAuE7mC7in6Uw3foM0QVec2-PRpXFiKRlYNsrLYfhbr8Jw=s64",
      "userId": "11331986209772134481"
     },
     "user_tz": 300
    },
    "id": "FpOaVcw_kSFP",
    "outputId": "5b6383fd-e213-4442-cd9a-dcb70ce01667"
   },
   "outputs": [
    {
     "name": "stderr",
     "output_type": "stream",
     "text": [
      "C:\\ProgramData\\Anaconda3\\lib\\site-packages\\matplotlib\\cbook\\__init__.py:1420: FutureWarning: Converting timezone-aware DatetimeArray to timezone-naive ndarray with 'datetime64[ns]' dtype. In the future, this will return an ndarray with 'object' dtype where each element is a 'pandas.Timestamp' with the correct 'tz'.\n",
      "\tTo accept the future behavior, pass 'dtype=object'.\n",
      "\tTo keep the old behavior, pass 'dtype=\"datetime64[ns]\"'.\n",
      "  X = np.atleast_1d(X.T if isinstance(X, np.ndarray) else np.asarray(X))\n",
      "C:\\ProgramData\\Anaconda3\\lib\\site-packages\\pandas\\plotting\\_matplotlib\\converter.py:103: FutureWarning: Using an implicitly registered datetime converter for a matplotlib plotting method. The converter was registered by pandas on import. Future versions of pandas will require you to explicitly register matplotlib converters.\n",
      "\n",
      "To register the converters:\n",
      "\t>>> from pandas.plotting import register_matplotlib_converters\n",
      "\t>>> register_matplotlib_converters()\n",
      "  warnings.warn(msg, FutureWarning)\n"
     ]
    },
    {
     "data": {
      "text/plain": [
       "Text(0, 0.5, 'Number of ads during period')"
      ]
     },
     "execution_count": 8,
     "metadata": {},
     "output_type": "execute_result"
    },
    {
     "data": {
      "text/plain": [
       "<Figure size 432x288 with 0 Axes>"
      ]
     },
     "metadata": {},
     "output_type": "display_data"
    },
    {
     "data": {
      "image/png": "[encoded data removed]",
      "text/plain": [
       "<Figure size 864x432 with 1 Axes>"
      ]
     },
     "metadata": {},
     "output_type": "display_data"
    }
   ],
   "source": [
    "plt.clf();\n",
    "fig, axes = plt.subplots(nrows=1, ncols=1, figsize=(12, 6));\n",
    "\n",
    "axes.set_title('Political Ads Approaching Midterm Election Day');\n",
    "(n2, bins2, patches) = axes.hist(df['created_at'], bins = 50, color='gray');\n",
    "axes.set_ylabel('Number of ads during period')"
   ]
  },
  {
   "cell_type": "markdown",
   "metadata": {
    "colab_type": "text",
    "id": "S3GEh68IDeYg"
   },
   "source": [
    "Could be nice to add the number of impressions over this time period..."
   ]
  },
  {
   "cell_type": "code",
   "execution_count": 9,
   "metadata": {
    "colab": {
     "base_uri": "https://localhost:8080/",
     "height": 34
    },
    "colab_type": "code",
    "executionInfo": {
     "elapsed": 145545,
     "status": "ok",
     "timestamp": 1574301219087,
     "user": {
      "displayName": "Kyle Dumont",
      "photoUrl": "https://lh3.googleusercontent.com/a-/AAuE7mC7in6Uw3foM0QVec2-PRpXFiKRlYNsrLYfhbr8Jw=s64",
      "userId": "11331986209772134481"
     },
     "user_tz": 300
    },
    "id": "BdW5-rsDkoiz",
    "outputId": "88dc7ffb-88af-4f09-9a77-32299ff750b9"
   },
   "outputs": [
    {
     "name": "stdout",
     "output_type": "stream",
     "text": [
      "Setting Date Range: 2017-07-31 to 2018-11-05\n"
     ]
    }
   ],
   "source": [
    "df = df[(df['created_at'] <= '{}'.format(midterm_date))]\n",
    "print('Setting Date Range: {} to {}'.format(min(df['created_at']).date(), max(df['created_at']).date()))"
   ]
  },
  {
   "cell_type": "markdown",
   "metadata": {
    "colab_type": "text",
    "id": "6AUiXTqtiAIx"
   },
   "source": [
    "**PARSE TARGETTING DATA**"
   ]
  },
  {
   "cell_type": "code",
   "execution_count": 10,
   "metadata": {
    "colab": {
     "base_uri": "https://localhost:8080/",
     "height": 85
    },
    "colab_type": "code",
    "executionInfo": {
     "elapsed": 145536,
     "status": "ok",
     "timestamp": 1574301219089,
     "user": {
      "displayName": "Kyle Dumont",
      "photoUrl": "https://lh3.googleusercontent.com/a-/AAuE7mC7in6Uw3foM0QVec2-PRpXFiKRlYNsrLYfhbr8Jw=s64",
      "userId": "11331986209772134481"
     },
     "user_tz": 300
    },
    "id": "kF8v0XAK7Ipk",
    "outputId": "bd5b719f-831b-4a35-a1ad-e5ecd34480b6"
   },
   "outputs": [
    {
     "name": "stdout",
     "output_type": "stream",
     "text": [
      "DATAFRAME STATS\n",
      "Number of ads collected: \t103129\n",
      "Number of ads with targets: \t96964\n",
      "Percent of ads with targets: \t94.02%\n"
     ]
    }
   ],
   "source": [
    "print('DATAFRAME STATS')\n",
    "df_length = len(df)\n",
    "print('Number of ads collected: \\t{}'.format(df_length))\n",
    "df_targetted = df['targets'] != '[]'\n",
    "print('Number of ads with targets: \\t{}'.format(np.sum(df_targetted)))\n",
    "print('Percent of ads with targets: \\t{:.2%}'.format(np.sum(df_targetted)/df_length))\n",
    "\n",
    "#plt.hist(df['political'] - df['not_political'], bins=20)\n",
    "#plt.ylim((0,100))"
   ]
  },
  {
   "cell_type": "markdown",
   "metadata": {
    "colab_type": "text",
    "id": "Vw6sx1oWGll8"
   },
   "source": [
    "This is an example of a target list:\n",
    "\n",
    "```\n",
    "[{'target': 'Age', 'segment': '18 and older'}, {'target': 'MinAge', 'segment': '18'}, {'target': 'City', 'segment': 'New York'}, {'target': 'State', 'segment': 'New York'}, {'target': 'Activity on the Facebook Family'}]\n",
    "```\n",
    "\n",
    "OR\n",
    "\n",
    "```\n",
    "[{'target': 'Age', 'segment': '50 and older'}, {'target': 'MinAge', 'segment': '50'}, {'target': 'State', 'segment': 'Florida'}, {'target': 'City', 'segment': 'Fort Myers'}, {'target': 'Segment', 'segment': 'Multicultural affinity: Hispanic (US - All).'}]\n",
    "```\n",
    "\n",
    "Targets appear to be inclusive. Cities almost always have their state as an additional target. There are also some targets with multiple states, but the vast majority appear to have a single target. We should be sure to check the number of impressions for any category we are ommitting.\n",
    "\n",
    "Some interesting segments, like `'segment': 'US politics (very liberal)'`. Other political segments are: `'liberal', 'moderate', 'conservative', and 'very conservative'`\n",
    "\n",
    "There is also: `'target': 'Interest', 'segment': 'Republican Party (United States)'`"
   ]
  },
  {
   "cell_type": "code",
   "execution_count": 11,
   "metadata": {
    "colab": {},
    "colab_type": "code",
    "id": "Y7_MpiWjSvVu"
   },
   "outputs": [],
   "source": [
    "df['targetted'] = df_targetted\n",
    "df['targetted'] = df['targetted'].fillna(False)\n",
    "df['city_targetted'] = False"
   ]
  },
  {
   "cell_type": "code",
   "execution_count": 12,
   "metadata": {
    "colab": {
     "base_uri": "https://localhost:8080/",
     "height": 102
    },
    "colab_type": "code",
    "executionInfo": {
     "elapsed": 4611,
     "status": "ok",
     "timestamp": 1574301315299,
     "user": {
      "displayName": "Kyle Dumont",
      "photoUrl": "https://lh3.googleusercontent.com/a-/AAuE7mC7in6Uw3foM0QVec2-PRpXFiKRlYNsrLYfhbr8Jw=s64",
      "userId": "11331986209772134481"
     },
     "user_tz": 300
    },
    "id": "pFDe-8oJ2P8p",
    "outputId": "4bf04174-a298-4c83-a61c-2bf0d2ad07c9"
   },
   "outputs": [
    {
     "name": "stderr",
     "output_type": "stream",
     "text": [
      "C:\\ProgramData\\Anaconda3\\lib\\site-packages\\ipykernel_launcher.py:34: SettingWithCopyWarning: \n",
      "A value is trying to be set on a copy of a slice from a DataFrame\n",
      "\n",
      "See the caveats in the documentation: http://pandas.pydata.org/pandas-docs/stable/user_guide/indexing.html#returning-a-view-versus-a-copy\n"
     ]
    },
    {
     "name": "stdout",
     "output_type": "stream",
     "text": [
      "4207\n"
     ]
    }
   ],
   "source": [
    "## Iterate through dataframe and build a list of unique target classifiers\n",
    "target_list = {}  # Should be quicker to use a dictionary instead of list\n",
    "region_list = {}\n",
    "state_list = {}\n",
    "city_list = {}\n",
    "skipped_targets = 0\n",
    "\n",
    "max_iter = np.inf # Set for testing\n",
    "# Only iterate on targeted indices\n",
    "for i, index in enumerate(df_targetted.index):\n",
    "  if i > max_iter: break\n",
    "  # Get target frame (this is a string in JSON format)\n",
    "  targets = df['targets'][index]\n",
    "  # Load target as JSON to list\n",
    "  try:\n",
    "    target = json.loads(targets)\n",
    "  except:\n",
    "    skipped_targets += 1\n",
    "    continue\n",
    "  #print([t['target'] for t in target])\n",
    "  assert(all(len([t.keys]) <= 2 for t in target))\n",
    "  # Iterate each target in list of form {'target': target, 'segment': segment}\n",
    "  for t in target:\n",
    "    # Add counter to target key (ex. 'Region')\n",
    "    try: target_list[t['target']] += 1\n",
    "    except KeyError: target_list[t['target']] = 1\n",
    "    if (t['target'] == 'Region'): \n",
    "      try: region_list[t['segment']] += 1\n",
    "      except KeyError: region_list[t['segment']] = 1\n",
    "    elif (t['target'] == 'State'): \n",
    "      try: state_list[t['segment']] += 1\n",
    "      except KeyError: state_list[t['segment']] = 1\n",
    "    elif (t['target'] == 'City'): \n",
    "      df['city_targetted'][index] = True\n",
    "      try: city_list[t['segment']] += 1\n",
    "      except KeyError: city_list[t['segment']] = 1\n",
    "\n",
    "print(skipped_targets)\n",
    "assert skipped_targets/df_length < 0.05, \"Skipped more than 1% of target frames\""
   ]
  },
  {
   "cell_type": "code",
   "execution_count": 13,
   "metadata": {
    "colab": {
     "base_uri": "https://localhost:8080/",
     "height": 357
    },
    "colab_type": "code",
    "executionInfo": {
     "elapsed": 385,
     "status": "ok",
     "timestamp": 1574301485321,
     "user": {
      "displayName": "Kyle Dumont",
      "photoUrl": "https://lh3.googleusercontent.com/a-/AAuE7mC7in6Uw3foM0QVec2-PRpXFiKRlYNsrLYfhbr8Jw=s64",
      "userId": "11331986209772134481"
     },
     "user_tz": 300
    },
    "id": "nDQ9YjKX7Ipo",
    "outputId": "26884561-ce50-4944-e3de-852270c25849"
   },
   "outputs": [
    {
     "name": "stdout",
     "output_type": "stream",
     "text": [
      "Target Keys and percentage of occurences in dataset\n",
      "Count | % Ads With Target | Target Name\n",
      "---------------------------------------------\n",
      "92426 | (89.62%)          | Age\n",
      "90230 | (87.49%)          | MinAge\n",
      "75579 | (73.29%)          | Region\n",
      "22644 | (21.96%)          | List\n",
      "19516 | (18.92%)          | Retargeting\n",
      "18880 | (18.31%)          | City\n",
      "18826 | (18.25%)          | Interest\n",
      "17585 | (17.05%)          | State\n",
      "9727  | (9.43% )          | Segment\n",
      "6510  | (6.31% )          | Like\n",
      "5402  | (5.24% )          | MaxAge\n",
      "4817  | (4.67% )          | Gender\n",
      "4514  | (4.38% )          | Website\n",
      "2759  | (2.68% )          | Activity on the Facebook Family\n",
      "549   | (0.53% )          | Language\n",
      "414   | (0.40% )          | Agency\n",
      "23    | (0.02% )          | Engaged with Content\n"
     ]
    }
   ],
   "source": [
    "print('Target Keys and percentage of occurences in dataset')\n",
    "print('Count | % Ads With Target | Target Name')\n",
    "print('---------------------------------------------')\n",
    "for i in np.argsort(list(target_list.values()))[::-1]:\n",
    "  count = list(target_list.values())[i]\n",
    "  print('{:<6}| ({:<6.2%})          | {}'.format(count, count/df_length, \n",
    "                                                  list(target_list.keys())[i]))"
   ]
  },
  {
   "cell_type": "markdown",
   "metadata": {
    "colab_type": "text",
    "id": "OVAkWHWmJUTK"
   },
   "source": [
    "There are some international cities and regions we have to filter, but the list is dominated by US cities/state. We have around 20,000 data points with US city + state data. "
   ]
  },
  {
   "cell_type": "code",
   "execution_count": 14,
   "metadata": {
    "colab": {
     "base_uri": "https://localhost:8080/",
     "height": 1000
    },
    "colab_type": "code",
    "executionInfo": {
     "elapsed": 4589,
     "status": "ok",
     "timestamp": 1574301315301,
     "user": {
      "displayName": "Kyle Dumont",
      "photoUrl": "https://lh3.googleusercontent.com/a-/AAuE7mC7in6Uw3foM0QVec2-PRpXFiKRlYNsrLYfhbr8Jw=s64",
      "userId": "11331986209772134481"
     },
     "user_tz": 300
    },
    "id": "Q7lJ5IbKuMf8",
    "outputId": "2b86e2dd-0730-4412-b982-e1187fdc8613"
   },
   "outputs": [
    {
     "data": {
      "text/plain": [
       "{'the United States': 52578,\n",
       " 'Minnesota': 832,\n",
       " 'Colorado': 831,\n",
       " 'Florida': 1984,\n",
       " 'North Dakota': 541,\n",
       " 'California': 2059,\n",
       " 'Ohio': 866,\n",
       " 'Texas': 1871,\n",
       " 'Pennsylvania': 500,\n",
       " 'Massachusetts': 785,\n",
       " 'New Hampshire': 90,\n",
       " 'Arizona': 637,\n",
       " 'Michigan': 963,\n",
       " 'Oklahoma': 253,\n",
       " 'Alaska': 284,\n",
       " 'Georgia': 474,\n",
       " 'Kansas': 168,\n",
       " 'Iowa': 298,\n",
       " 'Oregon': 476,\n",
       " 'Montana': 517,\n",
       " 'Nevada': 493,\n",
       " 'New York': 929,\n",
       " 'Missouri': 609,\n",
       " 'Maine': 308,\n",
       " 'Washington': 965,\n",
       " 'Wisconsin': 599,\n",
       " 'Idaho': 67,\n",
       " 'District of Columbia': 308,\n",
       " 'Tennessee': 363,\n",
       " 'West Virginia': 180,\n",
       " 'Louisiana': 51,\n",
       " 'Puerto Rico': 9,\n",
       " 'Illinois': 531,\n",
       " 'New Jersey': 196,\n",
       " 'Poland': 1,\n",
       " 'Kentucky': 88,\n",
       " 'Utah': 91,\n",
       " 'South Carolina': 76,\n",
       " 'Indonesia': 4,\n",
       " 'North Carolina': 414,\n",
       " 'Maryland': 282,\n",
       " 'Virginia': 275,\n",
       " 'Alberta': 21,\n",
       " 'Connecticut': 218,\n",
       " 'Canada': 142,\n",
       " 'Indiana': 347,\n",
       " 'Vermont': 26,\n",
       " 'Belgium': 7,\n",
       " 'New Mexico': 278,\n",
       " 'Wyoming': 71,\n",
       " 'Mississippi': 65,\n",
       " 'Arkansas': 62,\n",
       " 'Alabama': 84,\n",
       " 'Nebraska': 91,\n",
       " 'Delaware': 24,\n",
       " 'Rhode Island': 54,\n",
       " 'the United Kingdom': 22,\n",
       " 'Ontario': 94,\n",
       " 'Australia': 9,\n",
       " 'Tokyo': 1,\n",
       " 'South Dakota': 32,\n",
       " 'Australian Capital Territory': 1,\n",
       " 'Hawaii': 14,\n",
       " 'France': 35,\n",
       " 'Germany': 4,\n",
       " 'Latvia': 2,\n",
       " 'Switzerland': 3,\n",
       " 'Austria': 1,\n",
       " 'British Columbia': 1,\n",
       " 'Israel': 3,\n",
       " 'Île-de-France': 2,\n",
       " 'Mexico': 4,\n",
       " 'England': 2,\n",
       " 'Slovakia': 1,\n",
       " 'Netherlands': 1,\n",
       " 'New Brunswick': 1,\n",
       " 'Bulgaria': 1,\n",
       " 'China': 1,\n",
       " 'Thailand': 6,\n",
       " 'Yukon': 1,\n",
       " 'Latvija': 1}"
      ]
     },
     "execution_count": 14,
     "metadata": {},
     "output_type": "execute_result"
    }
   ],
   "source": [
    "region_list"
   ]
  },
  {
   "cell_type": "code",
   "execution_count": 15,
   "metadata": {
    "colab": {
     "base_uri": "https://localhost:8080/",
     "height": 34
    },
    "colab_type": "code",
    "executionInfo": {
     "elapsed": 4580,
     "status": "ok",
     "timestamp": 1574301315302,
     "user": {
      "displayName": "Kyle Dumont",
      "photoUrl": "https://lh3.googleusercontent.com/a-/AAuE7mC7in6Uw3foM0QVec2-PRpXFiKRlYNsrLYfhbr8Jw=s64",
      "userId": "11331986209772134481"
     },
     "user_tz": 300
    },
    "id": "YkgcmCG13XOJ",
    "outputId": "823b8020-e0fe-4894-862c-449ca94fadf2"
   },
   "outputs": [
    {
     "data": {
      "text/plain": [
       "1655"
      ]
     },
     "execution_count": 15,
     "metadata": {},
     "output_type": "execute_result"
    }
   ],
   "source": [
    "len(city_list)"
   ]
  },
  {
   "cell_type": "markdown",
   "metadata": {
    "colab_type": "text",
    "id": "bsaw_XdpL0TC"
   },
   "source": [
    "There are 1500 unique cities, mostly in the US. On average, a city is targeted 10 times in the dataset. "
   ]
  },
  {
   "cell_type": "code",
   "execution_count": 16,
   "metadata": {
    "colab": {
     "base_uri": "https://localhost:8080/",
     "height": 1000
    },
    "colab_type": "code",
    "executionInfo": {
     "elapsed": 4571,
     "status": "ok",
     "timestamp": 1574301315303,
     "user": {
      "displayName": "Kyle Dumont",
      "photoUrl": "https://lh3.googleusercontent.com/a-/AAuE7mC7in6Uw3foM0QVec2-PRpXFiKRlYNsrLYfhbr8Jw=s64",
      "userId": "11331986209772134481"
     },
     "user_tz": 300
    },
    "id": "2zo59qFy5jYk",
    "outputId": "104680df-444b-4942-8b3c-f99547a22ae4"
   },
   "outputs": [
    {
     "data": {
      "text/plain": [
       "{'Minnesota': 679,\n",
       " 'Washington': 867,\n",
       " 'Florida': 1039,\n",
       " 'California': 2166,\n",
       " 'Colorado': 324,\n",
       " 'District of Columbia': 529,\n",
       " 'New York': 1313,\n",
       " 'Montana': 148,\n",
       " 'Georgia': 231,\n",
       " 'Nevada': 196,\n",
       " 'Connecticut': 197,\n",
       " 'Virginia': 461,\n",
       " 'New Jersey': 284,\n",
       " 'Ohio': 468,\n",
       " 'Michigan': 594,\n",
       " 'West Virginia': 87,\n",
       " 'Mississippi': 19,\n",
       " 'South Carolina': 35,\n",
       " 'Kansas': 210,\n",
       " 'North Carolina': 502,\n",
       " 'Illinois': 672,\n",
       " 'Arizona': 435,\n",
       " 'Maine': 132,\n",
       " 'Texas': 1177,\n",
       " 'Maryland': 514,\n",
       " 'Oregon': 382,\n",
       " 'Oklahoma': 145,\n",
       " 'Massachusetts': 283,\n",
       " 'Wisconsin': 382,\n",
       " 'Missouri': 496,\n",
       " 'North Dakota': 112,\n",
       " 'Utah': 73,\n",
       " 'Nebraska': 51,\n",
       " 'Kentucky': 129,\n",
       " 'Arkansas': 43,\n",
       " 'Hillsborough County, Florida': 111,\n",
       " 'Alabama': 114,\n",
       " 'Pennsylvania': 573,\n",
       " 'Alaska': 147,\n",
       " 'Tennessee': 139,\n",
       " 'Idaho': 50,\n",
       " 'Indiana': 213,\n",
       " 'Louisiana': 53,\n",
       " 'New Mexico': 203,\n",
       " 'Iowa': 246,\n",
       " 'South Dakota': 15,\n",
       " 'British Columbia': 1,\n",
       " 'Ontario': 118,\n",
       " 'Vermont': 28,\n",
       " 'Delaware': 14,\n",
       " 'Hawaii': 43,\n",
       " 'Alberta': 10,\n",
       " 'Wyoming': 14,\n",
       " 'Butler County, Pennsylvania': 4,\n",
       " 'New Hampshire': 61,\n",
       " 'Baja California': 1,\n",
       " 'Williamson County, Texas': 4,\n",
       " 'Rhode Island': 11,\n",
       " 'Île-de-France': 6,\n",
       " 'Bangkok': 3,\n",
       " 'New Brunswick': 1,\n",
       " 'Bucks County, Pennsylvania': 10,\n",
       " 'New South Wales': 2,\n",
       " 'Phnom Penh': 4,\n",
       " 'Basel-City wohnen': 1,\n",
       " 'Northern District': 1,\n",
       " 'Quebec': 1,\n",
       " 'Victoria': 1,\n",
       " '': 2,\n",
       " 'Jalisco': 1,\n",
       " 'Dubai': 1,\n",
       " 'Orange County, New York': 1,\n",
       " 'Gloucester County, New Jersey': 1,\n",
       " 'Yukon': 1}"
      ]
     },
     "execution_count": 16,
     "metadata": {},
     "output_type": "execute_result"
    }
   ],
   "source": [
    "state_list"
   ]
  },
  {
   "cell_type": "code",
   "execution_count": 17,
   "metadata": {
    "colab": {
     "base_uri": "https://localhost:8080/",
     "height": 476
    },
    "colab_type": "code",
    "executionInfo": {
     "elapsed": 4562,
     "status": "ok",
     "timestamp": 1574301315303,
     "user": {
      "displayName": "Kyle Dumont",
      "photoUrl": "https://lh3.googleusercontent.com/a-/AAuE7mC7in6Uw3foM0QVec2-PRpXFiKRlYNsrLYfhbr8Jw=s64",
      "userId": "11331986209772134481"
     },
     "user_tz": 300
    },
    "id": "vFTX4Gwo672p",
    "outputId": "95195e84-5c4a-403d-b926-a4942077bb2a"
   },
   "outputs": [
    {
     "data": {
      "text/plain": [
       "id                                             object\n",
       "html                                           object\n",
       "political                                       int64\n",
       "not_political                                   int64\n",
       "title                                          object\n",
       "message                                        object\n",
       "thumbnail                                      object\n",
       "created_at                        datetime64[ns, UTC]\n",
       "updated_at                        datetime64[ns, UTC]\n",
       "lang                                           object\n",
       "images                                         object\n",
       "impressions                                     int64\n",
       "political_probability                         float64\n",
       "targeting                                      object\n",
       "suppressed                                     object\n",
       "targets                                        object\n",
       "advertiser                                     object\n",
       "entities                                       object\n",
       "page                                           object\n",
       "lower_page                                     object\n",
       "targetings                                     object\n",
       "paid_for_by                                    object\n",
       "targetedness                                  float64\n",
       "listbuilding_fundraising_proba                float64\n",
       "targetted                                        bool\n",
       "city_targetted                                   bool\n",
       "dtype: object"
      ]
     },
     "execution_count": 17,
     "metadata": {},
     "output_type": "execute_result"
    }
   ],
   "source": [
    "df.dtypes"
   ]
  },
  {
   "cell_type": "code",
   "execution_count": 18,
   "metadata": {
    "colab": {
     "base_uri": "https://localhost:8080/",
     "height": 332
    },
    "colab_type": "code",
    "executionInfo": {
     "elapsed": 6659,
     "status": "ok",
     "timestamp": 1574301317409,
     "user": {
      "displayName": "Kyle Dumont",
      "photoUrl": "https://lh3.googleusercontent.com/a-/AAuE7mC7in6Uw3foM0QVec2-PRpXFiKRlYNsrLYfhbr8Jw=s64",
      "userId": "11331986209772134481"
     },
     "user_tz": 300
    },
    "id": "YS1lu3UZ9kCe",
    "outputId": "1ed03530-809e-4680-e8e8-50976a3fc781"
   },
   "outputs": [
    {
     "name": "stdout",
     "output_type": "stream",
     "text": [
      "Average impressions for non-targetted ad: 1.3\n",
      "Average impressions for targetted ad: 6.7\n",
      "Average impressions for ad targetted at city: 6.9\n"
     ]
    },
    {
     "data": {
      "image/png": "[encoded data removed]",
      "text/plain": [
       "<Figure size 576x288 with 2 Axes>"
      ]
     },
     "metadata": {},
     "output_type": "display_data"
    }
   ],
   "source": [
    "fig, axes = plt.subplots(nrows=1, ncols=2, figsize=(8, 4));\n",
    "avg_targetted = np.mean(df[df['targetted'] == True]['impressions'])\n",
    "avg_not_targetted = np.mean(df[df['targetted'] == False]['impressions'])\n",
    "print(\"Average impressions for non-targetted ad: {:.2}\".format(avg_not_targetted))\n",
    "print(\"Average impressions for targetted ad: {:.2}\".format(avg_targetted))\n",
    "avg_city_targetted = np.mean(df[df['city_targetted'] == False]['impressions'])\n",
    "print(\"Average impressions for ad targetted at city: {:.2}\".format(avg_city_targetted))\n",
    "\n",
    "axes[0].scatter(df['targetted'], df['impressions'], alpha=0.2, color='orange');\n",
    "axes[0].set_xticks([0,1]);\n",
    "axes[0].set_xticklabels([\"False\", \"True\"]);\n",
    "axes[0].set_title('# Impressions vs Targetted Ad');\n",
    "axes[1].scatter(df['city_targetted'], df['impressions'], alpha=0.2, color='orange');\n",
    "axes[1].set_xticks([0,1]);\n",
    "axes[1].set_xticklabels([\"False\", \"True\"]);\n",
    "axes[1].set_title('# Impressions vs Ad Targetted at City');"
   ]
  },
  {
   "cell_type": "code",
   "execution_count": 22,
   "metadata": {},
   "outputs": [],
   "source": [
    "import geopandas as gpd\n",
    "from shapely.geometry import Point, Polygon"
   ]
  },
  {
   "cell_type": "markdown",
   "metadata": {
    "colab_type": "text",
    "id": "u3coz7xS_sOf"
   },
   "source": [
    "*The* number of impressions goes up dramatically if the ad is targetted. Although the range for impressions goes down in ads targetted to a city, the average number of impressions actually increases."
   ]
  },
  {
   "cell_type": "code",
   "execution_count": 23,
   "metadata": {
    "colab": {},
    "colab_type": "code",
    "id": "a9cCip0am1Jr"
   },
   "outputs": [],
   "source": [
    "usa = gpd.read_file(path + '../maps/states.shp')"
   ]
  },
  {
   "cell_type": "code",
   "execution_count": 24,
   "metadata": {
    "colab": {
     "base_uri": "https://localhost:8080/",
     "height": 142
    },
    "colab_type": "code",
    "executionInfo": {
     "elapsed": 422,
     "status": "ok",
     "timestamp": 1574303337904,
     "user": {
      "displayName": "Kyle Dumont",
      "photoUrl": "https://lh3.googleusercontent.com/a-/AAuE7mC7in6Uw3foM0QVec2-PRpXFiKRlYNsrLYfhbr8Jw=s64",
      "userId": "11331986209772134481"
     },
     "user_tz": 300
    },
    "id": "jZ8MR-qjpTXD",
    "outputId": "8222b811-5085-41a2-d151-76bb2ebed502"
   },
   "outputs": [
    {
     "data": {
      "text/html": [
       "<div>\n",
       "<style scoped>\n",
       "    .dataframe tbody tr th:only-of-type {\n",
       "        vertical-align: middle;\n",
       "    }\n",
       "\n",
       "    .dataframe tbody tr th {\n",
       "        vertical-align: top;\n",
       "    }\n",
       "\n",
       "    .dataframe thead th {\n",
       "        text-align: right;\n",
       "    }\n",
       "</style>\n",
       "<table border=\"1\" class=\"dataframe\">\n",
       "  <thead>\n",
       "    <tr style=\"text-align: right;\">\n",
       "      <th></th>\n",
       "      <th>STATE_NAME</th>\n",
       "      <th>DRAWSEQ</th>\n",
       "      <th>STATE_FIPS</th>\n",
       "      <th>SUB_REGION</th>\n",
       "      <th>STATE_ABBR</th>\n",
       "      <th>geometry</th>\n",
       "    </tr>\n",
       "  </thead>\n",
       "  <tbody>\n",
       "    <tr>\n",
       "      <td>0</td>\n",
       "      <td>Hawaii</td>\n",
       "      <td>1</td>\n",
       "      <td>15</td>\n",
       "      <td>Pacific</td>\n",
       "      <td>HI</td>\n",
       "      <td>MULTIPOLYGON (((-160.07380 22.00418, -160.0497...</td>\n",
       "    </tr>\n",
       "    <tr>\n",
       "      <td>1</td>\n",
       "      <td>Washington</td>\n",
       "      <td>2</td>\n",
       "      <td>53</td>\n",
       "      <td>Pacific</td>\n",
       "      <td>WA</td>\n",
       "      <td>MULTIPOLYGON (((-122.40202 48.22522, -122.4628...</td>\n",
       "    </tr>\n",
       "    <tr>\n",
       "      <td>2</td>\n",
       "      <td>Montana</td>\n",
       "      <td>3</td>\n",
       "      <td>30</td>\n",
       "      <td>Mountain</td>\n",
       "      <td>MT</td>\n",
       "      <td>POLYGON ((-111.47543 44.70216, -111.48080 44.6...</td>\n",
       "    </tr>\n",
       "  </tbody>\n",
       "</table>\n",
       "</div>"
      ],
      "text/plain": [
       "   STATE_NAME  DRAWSEQ STATE_FIPS SUB_REGION STATE_ABBR  \\\n",
       "0      Hawaii        1         15    Pacific         HI   \n",
       "1  Washington        2         53    Pacific         WA   \n",
       "2     Montana        3         30   Mountain         MT   \n",
       "\n",
       "                                            geometry  \n",
       "0  MULTIPOLYGON (((-160.07380 22.00418, -160.0497...  \n",
       "1  MULTIPOLYGON (((-122.40202 48.22522, -122.4628...  \n",
       "2  POLYGON ((-111.47543 44.70216, -111.48080 44.6...  "
      ]
     },
     "execution_count": 24,
     "metadata": {},
     "output_type": "execute_result"
    }
   ],
   "source": [
    "usa.head(3)"
   ]
  },
  {
   "cell_type": "code",
   "execution_count": 52,
   "metadata": {
    "colab": {
     "base_uri": "https://localhost:8080/",
     "height": 385
    },
    "colab_type": "code",
    "executionInfo": {
     "elapsed": 5072,
     "status": "ok",
     "timestamp": 1574303345461,
     "user": {
      "displayName": "Kyle Dumont",
      "photoUrl": "https://lh3.googleusercontent.com/a-/AAuE7mC7in6Uw3foM0QVec2-PRpXFiKRlYNsrLYfhbr8Jw=s64",
      "userId": "11331986209772134481"
     },
     "user_tz": 300
    },
    "id": "gg6aWnR8pl8-",
    "outputId": "36e48e77-77e7-45d5-9a3c-18c70f965b25"
   },
   "outputs": [
    {
     "data": {
      "image/png": "[encoded data removed]",
      "text/plain": [
       "<Figure size 864x432 with 2 Axes>"
      ]
     },
     "metadata": {},
     "output_type": "display_data"
    }
   ],
   "source": [
    "from matplotlib.colors import rgb2hex, Normalize\n",
    "from matplotlib.colorbar import ColorbarBase\n",
    "\n",
    "fig, axes = plt.subplots(nrows=1, ncols=1, figsize=(12, 6));\n",
    "axes.set_title('Number of Facebook Ads per State')\n",
    "# plot background\n",
    "cmap = plt.cm.Blues\n",
    "max_counts = max(list(state_list.values()))\n",
    "\n",
    "for state in usa['STATE_NAME']:\n",
    "  try:\n",
    "    color_val = np.sqrt(state_list[state]/max_counts)\n",
    "  except KeyError:\n",
    "    print('{} not in target states')\n",
    "    color_val = 0\n",
    "  usa[usa['STATE_NAME'] == state].plot(ax = axes, edgecolor='black', \n",
    "                                        alpha=color_val)\n",
    "ax_c = fig.add_axes([0.9, 0.1, 0.03, 0.8])\n",
    "cb = ColorbarBase(ax_c,cmap=cmap,norm=Normalize(vmin=0, vmax=max_counts),\n",
    "                  orientation='vertical',\n",
    "                  label=r'[Facebook Ads per State]')\n",
    "plt.show();"
   ]
  },
  {
   "cell_type": "code",
   "execution_count": 27,
   "metadata": {
    "colab": {},
    "colab_type": "code",
    "id": "U4AtWVowpoXq"
   },
   "outputs": [],
   "source": [
    "population = {\n",
    "\"Alabama\": 4887871,\n",
    "\"Alaska\": 737438,\n",
    "\"Arizona\": 7171646,\n",
    "\"Arkansas\": 3013825,\n",
    "\"California\": 39557045,\n",
    "\"Colorado\": 5695564,\n",
    "\"Connecticut\": 3572665,\n",
    "\"Delaware\": 967171,\n",
    "\"District of Columbia\": 702455,\n",
    "\"Florida\": 21299325,\n",
    "\"Georgia\": 10519475,\n",
    "\"Hawaii\": 1420491,\n",
    "\"Idaho\": 1754208,\n",
    "\"Illinois\": 12741080,\n",
    "\"Indiana\": 6691878,\n",
    "\"Iowa\": 3156145,\n",
    "\"Kansas\": 2911505,\n",
    "\"Kentucky\": 4468402,\n",
    "\"Louisiana\": 4659978,\n",
    "\"Maine\": 1338404,\n",
    "\"Maryland\": 6042718,\n",
    "\"Massachusetts\": 6902149,\n",
    "\"Michigan\": 9995915,\n",
    "\"Minnesota\": 5611179,\n",
    "\"Mississippi\": 2986530,\n",
    "\"Missouri\": 6126452,\n",
    "\"Montana\": 1062305,\n",
    "\"Nebraska\": 1929268,\n",
    "\"Nevada\": 3034392,\n",
    "\"New Hampshire\": 1356458,\n",
    "\"New Jersey\": 8908520,\n",
    "\"New Mexico\": 2095428,\n",
    "\"New York\": 19542209,\n",
    "\"North Carolina\": 10383620,\n",
    "\"North Dakota\": 760077,\n",
    "\"Ohio\": 11689442,\n",
    "\"Oklahoma\": 3943079,\n",
    "\"Oregon\": 4190713,\n",
    "\"Pennsylvania\": 12807060,\n",
    "\"Rhode Island\": 1057315,\n",
    "\"South Carolina\": 5084127,\n",
    "\"South Dakota\": 882235,\n",
    "\"Tennessee\": 6770010,\n",
    "\"Texas\": 28701845,\n",
    "\"Utah\": 3161105,\n",
    "\"Vermont\": 626299,\n",
    "\"Virginia\": 8517685,\n",
    "\"Washington\": 7535591,\n",
    "\"West Virginia\": 1805832,\n",
    "\"Wisconsin\": 5813568,\n",
    "\"Wyoming\": 577737}"
   ]
  },
  {
   "cell_type": "code",
   "execution_count": 54,
   "metadata": {
    "colab": {
     "base_uri": "https://localhost:8080/",
     "height": 385
    },
    "colab_type": "code",
    "executionInfo": {
     "elapsed": 4799,
     "status": "ok",
     "timestamp": 1574303352817,
     "user": {
      "displayName": "Kyle Dumont",
      "photoUrl": "https://lh3.googleusercontent.com/a-/AAuE7mC7in6Uw3foM0QVec2-PRpXFiKRlYNsrLYfhbr8Jw=s64",
      "userId": "11331986209772134481"
     },
     "user_tz": 300
    },
    "id": "7IjfoZg_rwwC",
    "outputId": "04c37237-6e53-476b-aaf1-3c92c9e06692"
   },
   "outputs": [
    {
     "data": {
      "image/png": "[encoded data removed]",
      "text/plain": [
       "<Figure size 864x432 with 2 Axes>"
      ]
     },
     "metadata": {},
     "output_type": "display_data"
    }
   ],
   "source": [
    "ads_per_capita = {}\n",
    "\n",
    "for state in usa['STATE_NAME']:\n",
    "  ads_per_capita[state] = state_list[state]/population[state]\n",
    "\n",
    "fig, axes = plt.subplots(nrows=1, ncols=1, figsize=(12, 6));\n",
    "axes.set_title('Number of Facebook Ads per State (per Capita)')\n",
    "# plot background\n",
    "cmap = plt.cm.Blues\n",
    "max_ads_per_capita = max(list(ads_per_capita.values()))\n",
    "\n",
    "for state in usa['STATE_NAME']:\n",
    "  try:\n",
    "    color_val = np.sqrt(ads_per_capita[state]/max_ads_per_capita)\n",
    "  except KeyError:\n",
    "    print('{} not in target states'.format(state))\n",
    "    color_val = 0\n",
    "  usa[usa['STATE_NAME'] == state].plot(ax = axes, edgecolor='black', \n",
    "                                       alpha=color_val)\n",
    "ax_c = fig.add_axes([0.9, 0.1, 0.03, 0.8])\n",
    "cb = ColorbarBase(ax_c,cmap=cmap,norm=Normalize(vmin=0, vmax=max_ads_per_capita),\n",
    "                  orientation='vertical',\n",
    "                  label=r'[Facebook Ads per Capita]')\n",
    "plt.show();"
   ]
  },
  {
   "cell_type": "markdown",
   "metadata": {
    "colab_type": "text",
    "id": "0e_Uyi6m6Rtd"
   },
   "source": [
    "We don't really get the full dynamic range of the color scale because Ditrict of Columbia has so many ads per capita. However, we do see that the typical swing states (Colorado, Florida, Iowa, Michigan, Minnesota, Ohio, Nevada, New Hampshire, North Carolina, Pennsylvania, Virginia, and Wisconsin) generally have higher ads per capita. "
   ]
  },
  {
   "cell_type": "code",
   "execution_count": 55,
   "metadata": {
    "colab": {},
    "colab_type": "code",
    "id": "jjui25Rk65O1"
   },
   "outputs": [],
   "source": [
    "swing_states = [\"Colorado\", \"Florida\", \"Iowa\", \"Michigan\", \"Minnesota\", \"Ohio\", \"Nevada\", \"New Hampshire\", \"North Carolina\", \"Pennsylvania\", \"Virginia\", \"Wisconsin\"]"
   ]
  },
  {
   "cell_type": "markdown",
   "metadata": {
    "colab_type": "text",
    "id": "IsqI8wSg8J-s"
   },
   "source": []
  },
  {
   "cell_type": "code",
   "execution_count": 56,
   "metadata": {
    "colab": {
     "base_uri": "https://localhost:8080/",
     "height": 51
    },
    "colab_type": "code",
    "executionInfo": {
     "elapsed": 203,
     "status": "ok",
     "timestamp": 1574303359179,
     "user": {
      "displayName": "Kyle Dumont",
      "photoUrl": "https://lh3.googleusercontent.com/a-/AAuE7mC7in6Uw3foM0QVec2-PRpXFiKRlYNsrLYfhbr8Jw=s64",
      "userId": "11331986209772134481"
     },
     "user_tz": 300
    },
    "id": "MQL5Vpjj4BBd",
    "outputId": "8f5e9f26-5085-4414-c3b5-96626d3c7a5c"
   },
   "outputs": [
    {
     "name": "stdout",
     "output_type": "stream",
     "text": [
      "Average Ads per capita: 6.822255893806249e-05\n",
      "Ads per capita in swing state: 6.054663011404162e-05\n"
     ]
    }
   ],
   "source": [
    "print(\"Average Ads per capita: {}\".format(np.mean(list(ads_per_capita.values()))))\n",
    "print(\"Ads per capita in swing state: {}\".format(\n",
    "    np.mean([ads_per_capita[state] for state in swing_states])))"
   ]
  },
  {
   "cell_type": "code",
   "execution_count": null,
   "metadata": {
    "colab": {},
    "colab_type": "code",
    "id": "LqAitkqv7O1N"
   },
   "outputs": [],
   "source": [
    "# read in House Election Data, pull party of winner in each state/district\n",
    "# Manually create CSV of \"State Name\", \"Party of Winner\""
   ]
  },
  {
   "cell_type": "code",
   "execution_count": null,
   "metadata": {
    "colab": {},
    "colab_type": "code",
    "id": "A0tmVlrC9Ngs"
   },
   "outputs": [],
   "source": []
  }
 ],
 "metadata": {
  "colab": {
   "collapsed_sections": [],
   "name": "Propublica_Parsing.ipynb",
   "provenance": []
  },
  "kernelspec": {
   "display_name": "Python 3",
   "language": "python",
   "name": "python3"
  },
  "language_info": {
   "codemirror_mode": {
    "name": "ipython",
    "version": 3
   },
   "file_extension": ".py",
   "mimetype": "text/x-python",
   "name": "python",
   "nbconvert_exporter": "python",
   "pygments_lexer": "ipython3",
   "version": "3.7.4"
  }
 },
 "nbformat": 4,
 "nbformat_minor": 1
}
