{
 "cells": [
  {
   "cell_type": "markdown",
   "metadata": {},
   "source": [
    "\n",
    "# <img style=\"float: left; padding-right: 10px; width: 45px\" src=\"https://raw.githubusercontent.com/Harvard-IACS/2018-CS109A/master/content/styles/iacs.png\"> CS109A Introduction to Data Science\n",
    "\n",
    "## Homework 5: $k$-NN Classification, ROC, and PCA\n",
    "\n",
    "**Harvard University**<br/>\n",
    "**Fall 2019**<br/>\n",
    "**Instructors**: Pavlos Protopapas, Kevin Rader, and Chris Tanner\n",
    "\n",
    "<hr style=\"height:2pt\">\n",
    "\n"
   ]
  },
  {
   "cell_type": "code",
   "execution_count": 3,
   "metadata": {},
   "outputs": [],
   "source": [
    "#RUN THIS CELL \n",
    "import requests\n",
    "from IPython.core.display import HTML\n",
    "#styles = requests.get(\"https://raw.githubusercontent.com/Harvard-IACS/2018-CS109A/master/content/styles/cs109.css\").text\n",
    "#HTML(styles)"
   ]
  },
  {
   "cell_type": "markdown",
   "metadata": {},
   "source": [
    "### INSTRUCTIONS\n",
    "\n",
    "- To submit your assignment follow the instructions given in Canvas.\n",
    "- Restart the kernel and run the whole notebook again before you submit. \n",
    "- As much as possible, try and stick to the hints and functions we import at the top of the homework, as those are the ideas and tools the class supports and is aiming to teach. And if a problem specifies a particular library you're required to use that library, and possibly others from the import list.\n",
    "- Please use .head() when viewing data. Do not submit a notebook that is excessively long because output was not suppressed or otherwise limited."
   ]
  },
  {
   "cell_type": "code",
   "execution_count": 4,
   "metadata": {},
   "outputs": [
    {
     "name": "stderr",
     "output_type": "stream",
     "text": [
      "C:\\ProgramData\\Anaconda3\\lib\\site-packages\\statsmodels\\compat\\pandas.py:56: FutureWarning: The pandas.core.datetools module is deprecated and will be removed in a future version. Please use the pandas.tseries module instead.\n",
      "  from pandas.core import datetools\n"
     ]
    }
   ],
   "source": [
    "import numpy as np\n",
    "import pandas as pd\n",
    "from scipy.stats import ttest_ind\n",
    "pd.set_option('display.max_columns', 25)\n",
    "\n",
    "from sklearn.linear_model import LinearRegression\n",
    "from sklearn.linear_model import LogisticRegression\n",
    "from sklearn.linear_model import LogisticRegressionCV\n",
    "from sklearn.linear_model import LassoCV\n",
    "\n",
    "from sklearn.neighbors import KNeighborsClassifier\n",
    "from sklearn.model_selection import cross_val_score\n",
    "from sklearn.metrics import accuracy_score\n",
    "from sklearn.model_selection import KFold\n",
    "from sklearn.preprocessing import MinMaxScaler\n",
    "from sklearn.model_selection import train_test_split\n",
    "from sklearn.decomposition import PCA\n",
    "from sklearn import metrics\n",
    "\n",
    "import matplotlib\n",
    "import matplotlib.pyplot as plt\n",
    "%matplotlib inline\n",
    "\n",
    "import statsmodels.api as sm\n",
    "from statsmodels.api import OLS\n",
    "\n",
    "import seaborn as sns\n",
    "sns.set()"
   ]
  },
  {
   "cell_type": "code",
   "execution_count": 5,
   "metadata": {},
   "outputs": [],
   "source": [
    "# My includes\n",
    "k_blue ='#19647E'\n",
    "\n",
    "# Some code to build a status bar\n",
    "from IPython.display import clear_output\n",
    "\n",
    "def updateStatusBar(progress):\n",
    "    bar_length = 40\n",
    "    progress = float(progress)\n",
    "    if progress < 0:\n",
    "        progress = 0\n",
    "    if progress >= 1:\n",
    "        progress = 1\n",
    "\n",
    "    block = int(bar_length * progress)\n",
    "\n",
    "    clear_output(wait = True)\n",
    "    text = \"Progress: [{0}] {1:.1f}%\".format( \"#\" * block + \"-\" * (bar_length - block), progress * 100)\n",
    "    print(text)"
   ]
  },
  {
   "cell_type": "markdown",
   "metadata": {},
   "source": [
    "\n",
    "## Continuing Cancer Classification from Gene Expressions\n",
    "\n",
    "In this problem, we will continue to work with the 2-class (ALL vs. AML) cancer classification problem from homework 4. The dataset is provided in the file `data/hw4_enhance.csv` and is the same as the previous HW.  Recall: **0 indicates the ALL** class and **1 indicates the AML** class within `Cancer_type`, and columns 2-7130 contain expression levels of 7129 genes recorded from each tissue sample. \n",
    "\n",
    "In the following questions, we will handle the high dimensionality of this problem directly by applying Principal Component Analysis (PCA), and then use the resulting PCA-transformed in logistic regression and $k$-NN modeling."
   ]
  },
  {
   "cell_type": "markdown",
   "metadata": {},
   "source": [
    "<div class='exercise'><b> Question 1 [20 pts]: Baseline Modeling </b></div>\n",
    "\n",
    "First step is to split the observations into an approximate 80-20 train-test split.  Below is the same code from HW4 to do this for you (we again want to make sure everyone has the same splits). Use the training data set to answer the following questions:\n"
   ]
  },
  {
   "cell_type": "markdown",
   "metadata": {},
   "source": [
    "**First step is to split the observations into an approximate 80-20 train-test split. Below is some code to do this for you (we want to make sure everyone has the same splits). `Cancer_type` is again our target column.**"
   ]
  },
  {
   "cell_type": "code",
   "execution_count": 6,
   "metadata": {},
   "outputs": [],
   "source": [
    "np.random.seed(10)\n",
    "df = pd.read_csv('data/hw4_enhance.csv', index_col=0)\n",
    "\n",
    "X_train, X_test, y_train, y_test =train_test_split(df.loc[:, df.columns != 'Cancer_type'], \n",
    "                                                         df.Cancer_type, test_size=0.2, \n",
    "                                                         random_state = 109, \n",
    "                                                         stratify = df.Cancer_type)"
   ]
  },
  {
   "cell_type": "markdown",
   "metadata": {},
   "source": [
    "**1.1** Begin by normalizing all predictors just like you did in HW4.  Use these versions of the predictors throughout this assignment.\n",
    "\n",
    "**1.2** Fit an 'unregularized' multiple logistic regression model (set C=100000) with all the gene predictors from the data set (you did this in HW4).  Report the misclassification rate on both the train and test sets.\n",
    "\n",
    "**1.3** Use regularization to improve the predictions from the multiple logistic regression model. Specifically, use LASSO-like regularization and cross-validation to train the model on the training set (you did this in HW4).  Report the classification accuracy on both the train and test sets.\n",
    "\n",
    "**1.4** Use 5-fold cross-validation to select $k$ for a $k$-NN classification model based on the full predictor set.  Choose between `k = 1,2,5,10,20,50,100,200,500`. \n",
    "\n",
    "**1.5** Provide the confusion matrix for all 3 models above and report the false positive and false negative rates (all in the test set).  Briefly interpret what you notice.\n"
   ]
  },
  {
   "cell_type": "markdown",
   "metadata": {},
   "source": [
    "<hr>\n",
    "\n",
    "### Solutions"
   ]
  },
  {
   "cell_type": "markdown",
   "metadata": {},
   "source": [
    "**1.1 Begin by normalizing all predictors just like you did in HW4.  Use these versions of the predictors throughout this assignment.**"
   ]
  },
  {
   "cell_type": "code",
   "execution_count": 7,
   "metadata": {},
   "outputs": [
    {
     "data": {
      "text/html": [
       "<div>\n",
       "<style scoped>\n",
       "    .dataframe tbody tr th:only-of-type {\n",
       "        vertical-align: middle;\n",
       "    }\n",
       "\n",
       "    .dataframe tbody tr th {\n",
       "        vertical-align: top;\n",
       "    }\n",
       "\n",
       "    .dataframe thead th {\n",
       "        text-align: right;\n",
       "    }\n",
       "</style>\n",
       "<table border=\"1\" class=\"dataframe\">\n",
       "  <thead>\n",
       "    <tr style=\"text-align: right;\">\n",
       "      <th></th>\n",
       "      <th>AFFX-BioB-5_at</th>\n",
       "      <th>AFFX-BioB-M_at</th>\n",
       "      <th>AFFX-BioB-3_at</th>\n",
       "      <th>AFFX-BioC-5_at</th>\n",
       "      <th>AFFX-BioC-3_at</th>\n",
       "      <th>AFFX-BioDn-5_at</th>\n",
       "      <th>AFFX-BioDn-3_at</th>\n",
       "      <th>AFFX-CreX-5_at</th>\n",
       "      <th>AFFX-CreX-3_at</th>\n",
       "      <th>AFFX-BioB-5_st</th>\n",
       "      <th>AFFX-BioB-M_st</th>\n",
       "      <th>AFFX-BioB-3_st</th>\n",
       "      <th>...</th>\n",
       "      <th>U11863_at</th>\n",
       "      <th>U29175_at</th>\n",
       "      <th>U48730_at</th>\n",
       "      <th>U58516_at</th>\n",
       "      <th>U73738_at</th>\n",
       "      <th>X06956_at</th>\n",
       "      <th>X16699_at</th>\n",
       "      <th>X83863_at</th>\n",
       "      <th>Z17240_at</th>\n",
       "      <th>L49218_f_at</th>\n",
       "      <th>M71243_f_at</th>\n",
       "      <th>Z78285_f_at</th>\n",
       "    </tr>\n",
       "  </thead>\n",
       "  <tbody>\n",
       "    <tr>\n",
       "      <th>486</th>\n",
       "      <td>0.574689</td>\n",
       "      <td>0.652904</td>\n",
       "      <td>0.528552</td>\n",
       "      <td>0.202384</td>\n",
       "      <td>0.504132</td>\n",
       "      <td>0.309107</td>\n",
       "      <td>0.439480</td>\n",
       "      <td>0.524446</td>\n",
       "      <td>0.723161</td>\n",
       "      <td>0.411162</td>\n",
       "      <td>0.621681</td>\n",
       "      <td>0.321146</td>\n",
       "      <td>...</td>\n",
       "      <td>0.477952</td>\n",
       "      <td>0.622254</td>\n",
       "      <td>0.516278</td>\n",
       "      <td>0.391074</td>\n",
       "      <td>0.752595</td>\n",
       "      <td>0.484137</td>\n",
       "      <td>0.683508</td>\n",
       "      <td>0.389115</td>\n",
       "      <td>0.413169</td>\n",
       "      <td>0.562775</td>\n",
       "      <td>0.538180</td>\n",
       "      <td>0.524258</td>\n",
       "    </tr>\n",
       "    <tr>\n",
       "      <th>604</th>\n",
       "      <td>0.587407</td>\n",
       "      <td>0.535608</td>\n",
       "      <td>0.249427</td>\n",
       "      <td>0.171417</td>\n",
       "      <td>0.752874</td>\n",
       "      <td>0.513878</td>\n",
       "      <td>0.655342</td>\n",
       "      <td>0.464181</td>\n",
       "      <td>0.324602</td>\n",
       "      <td>0.559483</td>\n",
       "      <td>0.674740</td>\n",
       "      <td>0.341671</td>\n",
       "      <td>...</td>\n",
       "      <td>0.435211</td>\n",
       "      <td>0.519185</td>\n",
       "      <td>0.635019</td>\n",
       "      <td>0.317177</td>\n",
       "      <td>0.700050</td>\n",
       "      <td>0.336964</td>\n",
       "      <td>0.454571</td>\n",
       "      <td>0.406687</td>\n",
       "      <td>0.339430</td>\n",
       "      <td>0.452814</td>\n",
       "      <td>0.388218</td>\n",
       "      <td>0.380795</td>\n",
       "    </tr>\n",
       "    <tr>\n",
       "      <th>341</th>\n",
       "      <td>0.446787</td>\n",
       "      <td>0.630576</td>\n",
       "      <td>0.554963</td>\n",
       "      <td>0.413946</td>\n",
       "      <td>0.662329</td>\n",
       "      <td>0.665892</td>\n",
       "      <td>0.145850</td>\n",
       "      <td>0.648430</td>\n",
       "      <td>0.478307</td>\n",
       "      <td>0.551411</td>\n",
       "      <td>0.289416</td>\n",
       "      <td>0.329466</td>\n",
       "      <td>...</td>\n",
       "      <td>0.410134</td>\n",
       "      <td>0.253019</td>\n",
       "      <td>0.439609</td>\n",
       "      <td>0.233910</td>\n",
       "      <td>0.235984</td>\n",
       "      <td>0.343672</td>\n",
       "      <td>0.733797</td>\n",
       "      <td>0.369846</td>\n",
       "      <td>0.323172</td>\n",
       "      <td>0.500478</td>\n",
       "      <td>0.457391</td>\n",
       "      <td>0.556345</td>\n",
       "    </tr>\n",
       "    <tr>\n",
       "      <th>117</th>\n",
       "      <td>0.568391</td>\n",
       "      <td>0.666018</td>\n",
       "      <td>0.735454</td>\n",
       "      <td>0.564376</td>\n",
       "      <td>0.662796</td>\n",
       "      <td>0.302675</td>\n",
       "      <td>0.513584</td>\n",
       "      <td>0.359108</td>\n",
       "      <td>0.706408</td>\n",
       "      <td>0.272227</td>\n",
       "      <td>0.395238</td>\n",
       "      <td>0.394697</td>\n",
       "      <td>...</td>\n",
       "      <td>0.474741</td>\n",
       "      <td>0.450396</td>\n",
       "      <td>0.574234</td>\n",
       "      <td>0.449615</td>\n",
       "      <td>0.426995</td>\n",
       "      <td>0.390941</td>\n",
       "      <td>0.650875</td>\n",
       "      <td>0.615891</td>\n",
       "      <td>0.251946</td>\n",
       "      <td>0.695112</td>\n",
       "      <td>0.436069</td>\n",
       "      <td>0.458655</td>\n",
       "    </tr>\n",
       "    <tr>\n",
       "      <th>516</th>\n",
       "      <td>0.532581</td>\n",
       "      <td>0.834889</td>\n",
       "      <td>0.357527</td>\n",
       "      <td>0.447480</td>\n",
       "      <td>0.631015</td>\n",
       "      <td>0.198841</td>\n",
       "      <td>0.678084</td>\n",
       "      <td>0.515280</td>\n",
       "      <td>0.487490</td>\n",
       "      <td>0.440010</td>\n",
       "      <td>0.505418</td>\n",
       "      <td>0.301920</td>\n",
       "      <td>...</td>\n",
       "      <td>0.263812</td>\n",
       "      <td>0.532818</td>\n",
       "      <td>0.539831</td>\n",
       "      <td>0.543511</td>\n",
       "      <td>0.528163</td>\n",
       "      <td>0.442338</td>\n",
       "      <td>0.578272</td>\n",
       "      <td>0.404435</td>\n",
       "      <td>0.531047</td>\n",
       "      <td>0.372191</td>\n",
       "      <td>0.751796</td>\n",
       "      <td>0.469227</td>\n",
       "    </tr>\n",
       "  </tbody>\n",
       "</table>\n",
       "<p>5 rows × 7129 columns</p>\n",
       "</div>"
      ],
      "text/plain": [
       "     AFFX-BioB-5_at  AFFX-BioB-M_at  AFFX-BioB-3_at  AFFX-BioC-5_at  \\\n",
       "486        0.574689        0.652904        0.528552        0.202384   \n",
       "604        0.587407        0.535608        0.249427        0.171417   \n",
       "341        0.446787        0.630576        0.554963        0.413946   \n",
       "117        0.568391        0.666018        0.735454        0.564376   \n",
       "516        0.532581        0.834889        0.357527        0.447480   \n",
       "\n",
       "     AFFX-BioC-3_at  AFFX-BioDn-5_at  AFFX-BioDn-3_at  AFFX-CreX-5_at  \\\n",
       "486        0.504132         0.309107         0.439480        0.524446   \n",
       "604        0.752874         0.513878         0.655342        0.464181   \n",
       "341        0.662329         0.665892         0.145850        0.648430   \n",
       "117        0.662796         0.302675         0.513584        0.359108   \n",
       "516        0.631015         0.198841         0.678084        0.515280   \n",
       "\n",
       "     AFFX-CreX-3_at  AFFX-BioB-5_st  AFFX-BioB-M_st  AFFX-BioB-3_st  \\\n",
       "486        0.723161        0.411162        0.621681        0.321146   \n",
       "604        0.324602        0.559483        0.674740        0.341671   \n",
       "341        0.478307        0.551411        0.289416        0.329466   \n",
       "117        0.706408        0.272227        0.395238        0.394697   \n",
       "516        0.487490        0.440010        0.505418        0.301920   \n",
       "\n",
       "        ...       U11863_at  U29175_at  U48730_at  U58516_at  U73738_at  \\\n",
       "486     ...        0.477952   0.622254   0.516278   0.391074   0.752595   \n",
       "604     ...        0.435211   0.519185   0.635019   0.317177   0.700050   \n",
       "341     ...        0.410134   0.253019   0.439609   0.233910   0.235984   \n",
       "117     ...        0.474741   0.450396   0.574234   0.449615   0.426995   \n",
       "516     ...        0.263812   0.532818   0.539831   0.543511   0.528163   \n",
       "\n",
       "     X06956_at  X16699_at  X83863_at  Z17240_at  L49218_f_at  M71243_f_at  \\\n",
       "486   0.484137   0.683508   0.389115   0.413169     0.562775     0.538180   \n",
       "604   0.336964   0.454571   0.406687   0.339430     0.452814     0.388218   \n",
       "341   0.343672   0.733797   0.369846   0.323172     0.500478     0.457391   \n",
       "117   0.390941   0.650875   0.615891   0.251946     0.695112     0.436069   \n",
       "516   0.442338   0.578272   0.404435   0.531047     0.372191     0.751796   \n",
       "\n",
       "     Z78285_f_at  \n",
       "486     0.524258  \n",
       "604     0.380795  \n",
       "341     0.556345  \n",
       "117     0.458655  \n",
       "516     0.469227  \n",
       "\n",
       "[5 rows x 7129 columns]"
      ]
     },
     "metadata": {},
     "output_type": "display_data"
    }
   ],
   "source": [
    "# Normalize Data\n",
    "X_train_n = \\\n",
    "    pd.DataFrame(MinMaxScaler().fit_transform(X_train.values), columns=X_train.columns, index=X_train.index)\n",
    "\n",
    "display(X_train_n.head(5))\n",
    "\n",
    "X_test_n = \\\n",
    "    pd.DataFrame(MinMaxScaler().fit_transform(X_test.values), columns=X_test.columns, index=X_test.index)"
   ]
  },
  {
   "cell_type": "markdown",
   "metadata": {},
   "source": [
    "**1.2 Fit an 'unregularized' multiple logistic regression model (set C=100000) with all the gene predictors from the data set (you did this in HW4).  Report the misclassification rate on both the train and test sets.**"
   ]
  },
  {
   "cell_type": "code",
   "execution_count": 8,
   "metadata": {},
   "outputs": [
    {
     "name": "stdout",
     "output_type": "stream",
     "text": [
      "Using all predictors from model\n",
      "Training Accuracy: 100.0%\n",
      "Test Accuracy: 76.16%\n",
      "Coefficients: [-0.0088566   0.61780272  0.15608867 ..., -0.15058379  0.36753186\n",
      "  0.31156456]\n"
     ]
    }
   ],
   "source": [
    "# Unregularized Logistic Regression - All Predictors\n",
    "lr = LogisticRegression(C=100000, solver='liblinear')\n",
    "lr.fit(sm.add_constant(X_train_n), y_train)\n",
    "\n",
    "y_hat_train = lr.predict(sm.add_constant(X_train_n))\n",
    "train_accuracy = accuracy_score(y_train.values, y_hat_train)\n",
    "y_hat_test = lr.predict(sm.add_constant(X_test_n))\n",
    "test_accuracy = accuracy_score(y_test.values, y_hat_test)\n",
    "\n",
    "print('Using all predictors from model')\n",
    "print('Training Accuracy: {:.4}%'.format(train_accuracy*100))\n",
    "print('Test Accuracy: {:.4}%'.format(test_accuracy*100))\n",
    "print('Coefficients:', lr.coef_[0])"
   ]
  },
  {
   "cell_type": "markdown",
   "metadata": {},
   "source": [
    "**1.3 Use regularization to improve the predictions from the multiple logistic regression model. Specifically, use LASSO-like regularization and cross-validation to train the model on the training set (you did this in HW4).  eport the misclassification rate on both the train and test sets.**"
   ]
  },
  {
   "cell_type": "code",
   "execution_count": 9,
   "metadata": {},
   "outputs": [
    {
     "name": "stdout",
     "output_type": "stream",
     "text": [
      "Using penalty 'l1' on logistic regression. 169 coefficients remaining of 7130\n",
      "Training Accuracy: 95.34%\n",
      "Test Accuracy: 78.81%\n"
     ]
    }
   ],
   "source": [
    "# Run logistic regression using LASSO-like regularization and Cross-Validation\n",
    "Cs = 10.0**np.arange(-5,5)\n",
    "lrcv = LogisticRegressionCV(Cs = Cs, cv=5, solver='liblinear', penalty='l1')\n",
    "lrcv.fit(sm.add_constant(X_train_n), y_train)\n",
    "\n",
    "y_hat_train = lrcv.predict(sm.add_constant(X_train_n))\n",
    "train_accuracy = accuracy_score(y_train.values, y_hat_train)\n",
    "y_hat_test = lrcv.predict(sm.add_constant(X_test_n))\n",
    "test_accuracy = accuracy_score(y_test.values, y_hat_test)\n",
    "\n",
    "print('Using penalty \\'l1\\' on logistic regression. {0} coefficients remaining of {1}'.format(\n",
    "    np.count_nonzero(lrcv.coef_[0]),len(lrcv.coef_[0])))\n",
    "print('Training Accuracy: {:.4}%'.format(train_accuracy*100))\n",
    "print('Test Accuracy: {:.4}%'.format(test_accuracy*100))"
   ]
  },
  {
   "cell_type": "markdown",
   "metadata": {},
   "source": [
    "**1.4 Use 5-fold cross-validation to select $k$ for a $k$-NN classification model based on the full predictor set.  Choose between `ks = [1,2,3,4,5,7,9,10,15,25]`.  Report your chosen $k$, and report the misclassification rate on both the train and test sets for the model using your chosen $k$.**"
   ]
  },
  {
   "cell_type": "code",
   "execution_count": 10,
   "metadata": {},
   "outputs": [
    {
     "name": "stdout",
     "output_type": "stream",
     "text": [
      "Progress: [########################################] 100.0%\n"
     ]
    },
    {
     "data": {
      "text/plain": [
       "array([ 0.8153344 ,  0.80194458,  0.86531009,  0.83539135,  0.85690673,\n",
       "        0.87517189,  0.87178276,  0.84861449,  0.83186332,  0.74546844])"
      ]
     },
     "metadata": {},
     "output_type": "display_data"
    }
   ],
   "source": [
    "ks = [1,2,3,4,5,7,9,10,15,25]\n",
    "cvs = np.zeros(len(ks))\n",
    "\n",
    "for k in ks:\n",
    "    i = ks.index(k)\n",
    "    updateStatusBar(float(i)/len(ks))  # Update timer\n",
    "    knn = KNeighborsClassifier(k)\n",
    "    knn.fit(sm.add_constant(X_train_n), y_train)\n",
    "    cvs[i] = np.mean(cross_val_score(knn, X_train_n, y_train, cv=5))\n",
    "updateStatusBar(1)\n",
    "display(cvs)"
   ]
  },
  {
   "cell_type": "code",
   "execution_count": 11,
   "metadata": {},
   "outputs": [
    {
     "name": "stdout",
     "output_type": "stream",
     "text": [
      "The ideal value for K is: 7\n",
      "Training Accuracy: 90.18%\n",
      "Test Accuracy: 86.09%\n"
     ]
    }
   ],
   "source": [
    "# Choose k\n",
    "k = ks[np.argmax(cvs)]\n",
    "print('The ideal value for K is:', k)\n",
    "\n",
    "knn = KNeighborsClassifier(k)\n",
    "knn.fit(sm.add_constant(X_train_n), y_train)\n",
    "y_hat_train_knn = knn.predict(sm.add_constant(X_train_n))\n",
    "train_accuracy = accuracy_score(y_train.values, y_hat_train_knn)\n",
    "y_hat_test_knn = knn.predict(sm.add_constant(X_test_n))\n",
    "test_accuracy = accuracy_score(y_test.values, y_hat_test_knn)\n",
    "\n",
    "print('Training Accuracy: {:.4}%'.format(train_accuracy*100))\n",
    "print('Test Accuracy: {:.4}%'.format(test_accuracy*100))"
   ]
  },
  {
   "cell_type": "markdown",
   "metadata": {},
   "source": [
    "**1.5 Provide the confusion matrix for all 3 models above and report the false positive and false negative rates (all in the test set).  Briefly interpret what you notice.**"
   ]
  },
  {
   "cell_type": "code",
   "execution_count": 12,
   "metadata": {},
   "outputs": [
    {
     "name": "stdout",
     "output_type": "stream",
     "text": [
      "The confusion matrix for an unregularized multiple logistic regresion model is: \n",
      " [[65 12]\n",
      " [24 50]]\n",
      "The confusion matrix for a regularized multiple logistic regresion model is: \n",
      " [[67 10]\n",
      " [22 52]]\n",
      "The confusion matrix for a KNN model where K=7 is: \n",
      " [[67 10]\n",
      " [11 63]]\n"
     ]
    }
   ],
   "source": [
    "import sklearn.metrics as met\n",
    "cols = df.columns#[1:]\n",
    "#print(df[cols].shape)\n",
    "#print(X_train_n.shape)\n",
    "#print(dir(lr))\n",
    "\n",
    "\n",
    "lr_yhat = lr.predict_proba(sm.add_constant(X_test_n))[:,1]\n",
    "lrcv_yhat = lrcv.predict_proba(sm.add_constant(X_test_n))[:,1]\n",
    "knn_yhat = knn.predict_proba(sm.add_constant(X_test_n))[:,1]\n",
    "\n",
    "\n",
    "print('The confusion matrix for an unregularized multiple logistic regresion model is: \\n',met.confusion_matrix(y_test, lr_yhat>0.5))\n",
    "print('The confusion matrix for a regularized multiple logistic regresion model is: \\n',met.confusion_matrix(y_test, lrcv_yhat>0.5))\n",
    "print('The confusion matrix for a KNN model where K={} is: \\n'.format(k), met.confusion_matrix(y_test, knn_yhat>0.5))\n"
   ]
  },
  {
   "cell_type": "markdown",
   "metadata": {},
   "source": [
    "The false positives rates are 24%, 19%, and 19% (12/50, 10/53, and 10/53) and false negative rates are 37%, 31%, and 31% (24/65, 21/67, and 21/67) for unregularized multiple logistic regression, regularized multiple logistic regression, and KNN where K = 25 respectively.  The unregularized data seems to have a greater error rate, and the regularized data has the exact same results as the KNN regression."
   ]
  },
  {
   "cell_type": "markdown",
   "metadata": {},
   "source": [
    "<div class='exercise'><b> Question 2 [20 pts]: Performing Principal Components Analysis </b></div>"
   ]
  },
  {
   "cell_type": "markdown",
   "metadata": {},
   "source": [
    "**2.1** Create the full PCA decomposition of `X_train` and apply the transformation to both `X_train` and `X_test`.  Report the shape of both of these.  What is the limiting factor for the maximum number of PCA components for this data set? \n",
    "\n",
    "**2.2** PCA is often solely used to help in visualizing high-dimensional problems.  Plot the scatterplot of the second PCA vector of train on the $Y$-axis and the first PCA vector of train on the $X$-axis (be sure to denote the classes via different color/markings).  In 2-3 sentences, explain why using the scatterplot of the top 2 PCA vectors is a useful approach to visualize a high dimensional classification problem.\n",
    "\n",
    "**2.3** Determine and report the variance explained in `X_train` based on the top 2 PCA vectors.  Determine and report how many PCA vectors are needed so that 90\\% of the variability in the predictors is explained, and create a plot to illustrate this result (Hint: look at cumulative explained variability vs. number of PCA components used).\n",
    "\n",
    "**2.4** Plot explained variability in the predictors on the $Y$-axis and the PCA component number on the $X$-axis. Select a reasonable value for the number of components that balances representativeness (of the predictors) with parsimony and justify your choice with 1-3 sentences."
   ]
  },
  {
   "cell_type": "markdown",
   "metadata": {},
   "source": [
    "<hr>\n",
    "\n",
    "### Solutions"
   ]
  },
  {
   "cell_type": "markdown",
   "metadata": {},
   "source": [
    "**2.1 Create the full PCA decomposition of X_train and apply the transformation to both X_train and X_test. Report the shape of both of these. What is the limiting factor for the maximum number of PCA components for this data set?**"
   ]
  },
  {
   "cell_type": "code",
   "execution_count": 13,
   "metadata": {},
   "outputs": [
    {
     "name": "stdout",
     "output_type": "stream",
     "text": [
      "(601, 7129)\n",
      "(601, 601)\n",
      "(151, 601)\n"
     ]
    }
   ],
   "source": [
    "# Create/fit the 'full'  PCA transformation\n",
    "pca = PCA().fit(X_train_n)\n",
    "\n",
    "# Apply the PCA transformation to the full predictor set\n",
    "X_train_pca = pca.transform(X_train_n)\n",
    "X_test_pca = pca.transform(X_test_n)\n",
    "\n",
    "# Convert to a dataframe\n",
    "X_train_pca = pd.DataFrame(X_train_pca).set_index(X_train_n.index)\n",
    "X_test_pca = pd.DataFrame(X_test_pca).set_index(X_test_n.index)\n",
    "\n",
    "print(X_train_n.shape)\n",
    "print(X_train_pca.shape)\n",
    "print(X_test_pca.shape)"
   ]
  },
  {
   "cell_type": "markdown",
   "metadata": {},
   "source": [
    "The limiting factor on the maximum number of PCA components is the number of samples (n) in the dataset."
   ]
  },
  {
   "cell_type": "markdown",
   "metadata": {},
   "source": [
    "**2.2 PCA is often solely used to help in visualizing high-dimensional problems. Plot the scatterplot of the second PCA vector on the  𝑌 -axis and the first PCA vector on the  𝑋 -axis (be sure to denote the classes via different color/markings). In 2-3 sentences, explain why using the scatterplot of the top 2 PCA vectors is a useful approach to visualize a high dimensional classification problem.**"
   ]
  },
  {
   "cell_type": "code",
   "execution_count": 14,
   "metadata": {},
   "outputs": [
    {
     "data": {
      "text/plain": [
       "<Figure size 432x288 with 0 Axes>"
      ]
     },
     "metadata": {},
     "output_type": "display_data"
    },
    {
     "data": {
      "image/png": "[encoded data removed]",
      "text/plain": [
       "<Figure size 432x432 with 1 Axes>"
      ]
     },
     "metadata": {},
     "output_type": "display_data"
    }
   ],
   "source": [
    "# Plot two best PCA vectors\n",
    "plt.clf()\n",
    "fig, axes = plt.subplots(nrows=1, ncols=1, figsize=(6, 6))\n",
    "\n",
    "axes.scatter(X_train_pca.iloc[:,0][y_train == 1],X_train_pca.iloc[:,1][y_train == 1], \n",
    "                color=k_blue, marker='.', label='cancer type: AMLt');\n",
    "axes.scatter(X_train_pca.iloc[:,0][y_train == 0],X_train_pca.iloc[:,1][y_train == 0],\n",
    "                color='orange', marker='.', label='cancer type: ALLt');\n",
    "axes.set_title('PCA Analysis');\n",
    "axes.set_xlabel('First-Principal');\n",
    "axes.set_ylabel('Second-Principal');"
   ]
  },
  {
   "cell_type": "markdown",
   "metadata": {},
   "source": [
    "It gives a snapshot of the highest-variance components of the underlying data, which are orthoginal to one-another. By looking at a plot of the top-two components, we can estimate how seperable the classifiers are between these top two bases. Essentially, it reduces the dimensionality of our original data-set down to the two bases that capture the most information."
   ]
  },
  {
   "cell_type": "markdown",
   "metadata": {},
   "source": [
    "**2.3 Determine and report the variance explained in `X_train` based on the top 2 PCA vectors.  Determine and report how many PCA vectors are needed so that 90\\% of the variability in the predictors is explained, and create a plot to illustrate this result (Hint: look at cumulative explained variability vs. number of PCA components used).**"
   ]
  },
  {
   "cell_type": "code",
   "execution_count": 15,
   "metadata": {},
   "outputs": [
    {
     "data": {
      "text/plain": [
       "<Figure size 432x288 with 0 Axes>"
      ]
     },
     "metadata": {},
     "output_type": "display_data"
    },
    {
     "data": {
      "image/png": "[encoded data removed]",
      "text/plain": [
       "<Figure size 432x432 with 1 Axes>"
      ]
     },
     "metadata": {},
     "output_type": "display_data"
    },
    {
     "name": "stdout",
     "output_type": "stream",
     "text": [
      "Variance captured in top two Principal Components: 0.064 + 0.049 = 11.3%\n",
      "Principal Components required for 90.0% variance captured: 231\n"
     ]
    }
   ],
   "source": [
    "# Plot variability of PCA components\n",
    "var_explained = pca.explained_variance_ratio_\n",
    "var_cumulative = np.cumsum(var_explained)\n",
    "\n",
    "target_var_capture = 0.9\n",
    "var_capture = 1 + np.min(np.where(var_cumulative > target_var_capture))\n",
    "\n",
    "plt.clf()\n",
    "fig, axes = plt.subplots(nrows=1, ncols=1, figsize=(6, 6))\n",
    "\n",
    "axes.scatter(1 + np.arange(0,len(var_explained)), var_cumulative, color='orange', marker='.');\n",
    "axes.set_title('PCA Analysis - Variability Explained Per Component');\n",
    "axes.set_xlabel('# PCA Components');\n",
    "axes.set_ylabel('Cumulative Variability Explained');\n",
    "axes.axvline(x = var_capture, ls='--', color='grey')\n",
    "axes.axhline(y = target_var_capture, ls='--', color='grey')\n",
    "axes.text(var_capture + 5, target_var_capture - 0.05, '{:.3}% Variance Captured'.format(100*target_var_capture))\n",
    "plt.show();\n",
    "\n",
    "print('Variance captured in top two Principal Components: {:.2} + {:.2} = {:.3}%'.format(\n",
    "    pca.explained_variance_ratio_[0], pca.explained_variance_ratio_[1], 100*var_cumulative[1]))\n",
    "print('Principal Components required for {:.3}% variance captured: {}'.format(\n",
    "    100*target_var_capture, var_capture))"
   ]
  },
  {
   "cell_type": "markdown",
   "metadata": {},
   "source": [
    "**2.4 Plot explained variability in the predictors on the  𝑌 -axis and the PCA component number on the 𝑋 -axis. Select a reasonable value for the number of components that balances representativeness (of the predictors) with parsimony and ustify your choice in 1-3 sentences.**"
   ]
  },
  {
   "cell_type": "code",
   "execution_count": 16,
   "metadata": {},
   "outputs": [
    {
     "data": {
      "text/plain": [
       "<Figure size 432x288 with 0 Axes>"
      ]
     },
     "metadata": {},
     "output_type": "display_data"
    },
    {
     "data": {
      "image/png": "[encoded data removed]",
      "text/plain": [
       "<Figure size 432x432 with 1 Axes>"
      ]
     },
     "metadata": {},
     "output_type": "display_data"
    },
    {
     "name": "stdout",
     "output_type": "stream",
     "text": [
      "Threshold at less than 1.0% variance captured: 18 components\n"
     ]
    }
   ],
   "source": [
    "# Plot variability of PCA components\n",
    "var_explained = pca.explained_variance_ratio_\n",
    "var_cumulative = np.cumsum(var_explained)\n",
    "\n",
    "target_i_var_capture = 0.01\n",
    "var_i_capture = 1 + np.min(np.where(var_explained < target_i_var_capture))\n",
    "\n",
    "plt.clf()\n",
    "fig, axes = plt.subplots(nrows=1, ncols=1, figsize=(6, 6))\n",
    "\n",
    "axes.scatter(1 + np.arange(0,len(var_explained)), var_explained, color='orange', marker='.');\n",
    "axes.set_title('PCA Analysis - Variability Explained Per Component');\n",
    "axes.set_xlabel('# PCA Components');\n",
    "axes.set_ylabel('Variability Explained');\n",
    "axes.axvline(x = var_i_capture, ls='--', color='grey')\n",
    "axes.axhline(y = target_i_var_capture, ls='--', color='grey')\n",
    "axes.text(var_i_capture + 5, target_i_var_capture + 0.003, '{:.3}% Variance Explained'.format(100*target_i_var_capture))\n",
    "plt.show();\n",
    "\n",
    "print('Threshold at less than {:.3}% variance captured: {} components'.format(\n",
    "    100*target_i_var_capture, var_i_capture))"
   ]
  },
  {
   "cell_type": "markdown",
   "metadata": {},
   "source": [
    "We chose to ommit any Principal Component that individually explained less than 1% of the variance. By fixing the variance at a set threshold, rather than looking at the cummulative variance, we hope to focus purely on the bases that have the most predictive power."
   ]
  },
  {
   "cell_type": "markdown",
   "metadata": {},
   "source": [
    "<div class='exercise'><b> Question 3 [30 pts]: Principal Components Regression (PCR) </b></div>\n",
    "\n",
    "**3.1** Fit three separate Logistic Regression models using principal components as the predictors: (1) with just the first 2 PCA vectors, (2) with the number of component vectors your chose from 2.4 above, and (3) with the number of components that explain at least 90% of the variability in the predictor set. How do the classification accuracy values on both the training and test sets compare with the models fit in Question 1?\n",
    "\n",
    "**3.2** Use cross-validation to determine the best number of principal components. Try out the 3 values from the previous sub-part and optionally include other values as well. For the best performing model according to cross-validation, interpret what the model says about the relationship between `M31523_at` and `Cancer_type`.\n",
    "\n",
    "**3.3** Another way to evaluate models in a classification setting is through an Area-under-the-ROC-Curve (AUC). Briefly explain what the AUC and the ROC are trying to do and how this approach differs (and may be prefered) from evaluating models based on misclassification rate (as you have done thus far in this problem set).\n",
    "\n",
    "**3.4** Evaluate all 6 predictive models (7 if you optionally found a better number of principal components in 3.2) seen in problems 1 and 3 via Area-under-the-ROC-Curve (AUC) on the test set. For the model with the best AUC, plot the ROC. Decide an appropriate strategy for breaking ties, if there are any. Briefly interpret your plot.\n",
    "\n",
    "**3.5** Based on AUC, is there one clear stand-out winner or are a lot of models similar in prediction?  If you were to predict real cancer patients, how would use these models to predict cancer type?"
   ]
  },
  {
   "cell_type": "markdown",
   "metadata": {},
   "source": [
    "<hr>\n",
    "\n",
    "### Solutions"
   ]
  },
  {
   "cell_type": "markdown",
   "metadata": {},
   "source": [
    "**3.1 Fit three separate Logistic Regression models using principal components as the predictors: (1) with just the first 2 PCA vectors, (2) with the number of component vectors your chose from 2.4 above, and (3) with the number of components that explain at least 90% of the variability in the predictor set.  How do the classification accuracy values on both the training and test sets compare with the models fit in Question 1?**"
   ]
  },
  {
   "cell_type": "code",
   "execution_count": 17,
   "metadata": {},
   "outputs": [
    {
     "name": "stdout",
     "output_type": "stream",
     "text": [
      "Using top 2 components from PCA\n",
      "Training Accuracy: 62.06%\n",
      "Test Accuracy: 63.58%\n",
      "\n",
      "Using top 18 components from PCA\n",
      "Training Accuracy: 88.19%\n",
      "Test Accuracy: 82.78%\n",
      "\n",
      "Using top 231 components from PCA\n",
      "Training Accuracy: 100.0%\n",
      "Test Accuracy: 71.52%\n",
      "\n"
     ]
    }
   ],
   "source": [
    "# Unregularized Logistic Regression - All Predictors\n",
    "pcas = [2, var_i_capture, var_capture]\n",
    "for p in pcas:\n",
    "    lr = LogisticRegression(C=100000, solver='liblinear')\n",
    "    lr.fit(sm.add_constant(X_train_pca.iloc[:,0:(p-1)]), y_train)\n",
    "\n",
    "    y_hat_train = lr.predict(sm.add_constant(X_train_pca.iloc[:,0:(p-1)]))\n",
    "    train_accuracy = accuracy_score(y_train.values, y_hat_train)\n",
    "    y_hat_test = lr.predict(sm.add_constant(X_test_pca.iloc[:,0:(p-1)]))\n",
    "    test_accuracy = accuracy_score(y_test.values, y_hat_test)\n",
    "\n",
    "    print('Using top {} components from PCA'.format(p))\n",
    "    print('Training Accuracy: {:.4}%'.format(train_accuracy*100))\n",
    "    print('Test Accuracy: {:.4}%\\n'.format(test_accuracy*100))"
   ]
  },
  {
   "cell_type": "markdown",
   "metadata": {},
   "source": [
    "The lowest 2 components don't capture enough of the variance in the data to provide a strong score. However, it may be acceptable given how simple the model is, using only two coefficients. On the other end, the 90% variance model appears to be overfit, as the training set shows 100% accuracy, but the test accuracy is significantly lower. The best result seems to be the value we chose above, which excludes any components below 1%."
   ]
  },
  {
   "cell_type": "markdown",
   "metadata": {},
   "source": [
    "**3.2 Use cross-validation to determine the best number of principal components. Try out the 3 values from the previous sub-part and optionally include other values as well. For the best performing model according to cross-validation, interpret what the model says about the relationship between `M31523_at` and `Cancer_type`**."
   ]
  },
  {
   "cell_type": "code",
   "execution_count": 51,
   "metadata": {},
   "outputs": [
    {
     "name": "stdout",
     "output_type": "stream",
     "text": [
      "Using top 2 components from PCA using CV\n",
      "Training Accuracy: 64.39%\n",
      "Test Accuracy: 64.9%\n",
      "\n"
     ]
    }
   ],
   "source": [
    "p = 2\n",
    "#for p in pcas:\n",
    "#    i = pcas.index(pca)\n",
    "#    updateStatusBar(float(i)/len(ks))  # Update timer\n",
    "    \n",
    "lr = LogisticRegressionCV(Cs=100000, cv=5, solver='liblinear')\n",
    "lr.fit(sm.add_constant(X_train_pca.iloc[:,0:(p-1)]), y_train)\n",
    "\n",
    "y_hat_train = lr.predict(sm.add_constant(X_train_pca.iloc[:,0:(p-1)]))\n",
    "train_accuracy = accuracy_score(y_train.values, y_hat_train)\n",
    "y_hat_test = lr.predict(sm.add_constant(X_test_pca.iloc[:,0:(p-1)]))\n",
    "test_accuracy = accuracy_score(y_test.values, y_hat_test)\n",
    "\n",
    "print('Using top {} components from PCA using CV'.format(p))\n",
    "print('Training Accuracy: {:.4}%'.format(train_accuracy*100))\n",
    "print('Test Accuracy: {:.4}%\\n'.format(test_accuracy*100))\n",
    "#updateStatusBar(1)  # Update timer"
   ]
  },
  {
   "cell_type": "code",
   "execution_count": 53,
   "metadata": {},
   "outputs": [
    {
     "data": {
      "text/plain": [
       "array([ -6.13378798e-05])"
      ]
     },
     "metadata": {},
     "output_type": "display_data"
    },
    {
     "data": {
      "text/plain": [
       "<matplotlib.collections.PathCollection at 0x1c81dfdb470>"
      ]
     },
     "execution_count": 53,
     "metadata": {},
     "output_type": "execute_result"
    },
    {
     "data": {
      "image/png": "[encoded data removed]",
      "text/plain": [
       "<Figure size 432x288 with 1 Axes>"
      ]
     },
     "metadata": {},
     "output_type": "display_data"
    }
   ],
   "source": [
    "betas = (lr.coef_*np.transpose(pca.components_[0:1,:])).sum(axis=1)\n",
    "display(betas[np.where(X_train.columns.values == 'M31523_at')])\n",
    "plt.scatter(np.arange(0,len(betas)), betas, marker='.')"
   ]
  },
  {
   "cell_type": "markdown",
   "metadata": {},
   "source": [
    "**3.3 Another way to evaluate models in a classification setting is through an Area-under-the-ROC-Curve (AUC). Briefly explain what the AUC and the ROC are trying to do and how this approach differs (and may be prefered) from evaluating models based on misclassification rate (as you have done thus far in this problem set).**"
   ]
  },
  {
   "cell_type": "markdown",
   "metadata": {},
   "source": [
    "*your answer here*"
   ]
  },
  {
   "cell_type": "markdown",
   "metadata": {},
   "source": [
    "**3.4 Evaluate all 6 predictive models (7 if you optionally found a better number of principal components in 3.2) seen in problems 1 and 3 via Area-under-the-ROC-Curve (AUC) on the test set. For the best model with the best AUC, plot the ROC. Decide an appropriate strategy for breaking ties, if there are any. Briefly interpret your plot.**"
   ]
  },
  {
   "cell_type": "code",
   "execution_count": 0,
   "metadata": {},
   "outputs": [],
   "source": [
    "# your code here\n"
   ]
  },
  {
   "cell_type": "markdown",
   "metadata": {},
   "source": [
    "*your answer here*"
   ]
  },
  {
   "cell_type": "markdown",
   "metadata": {},
   "source": [
    "**3.5 Based on AUC, is there one clear stand-out winner or are a lot of models similar in prediction? If you were to predict real cancer patients, how would use these models to predict cancer type?**"
   ]
  },
  {
   "cell_type": "markdown",
   "metadata": {},
   "source": [
    "*your answer here*\n"
   ]
  },
  {
   "cell_type": "markdown",
   "metadata": {},
   "source": [
    "<div class='exercise'><b> Question 4: COMPAS [30 points] </b></div>\n",
    "\n",
    "This problem is unrelated to the first 3 problems, and steps through analyzing the COMPAS data set `compas.csv`.  The variables are roughly explained in the `compas_datadict.csv` file, and ProPublica's analysis is publically available here: https://github.com/propublica/compas-analysis.\n",
    "\n",
    "**4.1** Split the data into 80% training and 20% test stratified by race. Before splitting you may want to process the categorical predictors first so you don't have to do it separately in tain and test later.\n",
    "\n",
    "**4.2** Do a little EDA: explore what variables are related to race. Report 3 variables that appear to have significant differences between Caucasians and African Americans, and provide visuals and numerical summaries to support these chosen variables.\n",
    "\n",
    "**4.3** With respect to these 3 chosen variables, how could bias in the data or data collection be impacting or causing these differences?  Explain in 3-5 sentences.\n",
    "\n",
    "**4.4**. Build 2 seperate models to predict recidivism (`two_year_recid`) from these data (2 different 'classes' of models: $k$-NN, linear, logistic, etc.) and be sure to include race as a predictor. \n",
    "\n",
    "**4.5**. Refit the models in 4.4 without race as a predictor.  Report the overall misclassifcation rates, and compare the differences in false positive and false negative rates between Caucasians and African Americans in these models on the test set.  How do these compare to the models when race is included as a predictor?\n",
    "\n",
    "**4.6**. Given your exploration and modeling of the data, should a predictive tool be trusted to be unbiased even if it doesn’t explicitly use a variable such as race to predict future crime?  Why or why not?  Why is the bias still occurring or not occurring?  Explain in 3-6 sentences total."
   ]
  },
  {
   "cell_type": "markdown",
   "metadata": {},
   "source": [
    "<hr>\n",
    "\n",
    "### Solutions"
   ]
  },
  {
   "cell_type": "markdown",
   "metadata": {},
   "source": [
    "**4.1 Split the data into 80% training and 20% test stratified by race.  Before splitting you may want to process the categorical predictors first so you don't have to do it separately in tain and test later.**"
   ]
  },
  {
   "cell_type": "code",
   "execution_count": 0,
   "metadata": {},
   "outputs": [],
   "source": [
    "compas_df = pd.read_csv('data/compas.csv')\n",
    "\n",
    "# your code here\n",
    "\n"
   ]
  },
  {
   "cell_type": "markdown",
   "metadata": {},
   "source": [
    "**4.2 Do a little EDA: explore what variables are related to race. Report 3 variables that appear to have significant differences between Caucasians and African Americans, and provide visuals and numerical summaries to support these chosen variables.**"
   ]
  },
  {
   "cell_type": "code",
   "execution_count": 0,
   "metadata": {},
   "outputs": [],
   "source": [
    "# your code here\n"
   ]
  },
  {
   "cell_type": "markdown",
   "metadata": {},
   "source": [
    "**4.3 With respect to these 3 chosen variables, how could bias in the data or data collection be impacting or causing these differences? Explain in 3-5 sentences.**"
   ]
  },
  {
   "cell_type": "markdown",
   "metadata": {},
   "source": [
    "*your answer here*"
   ]
  },
  {
   "cell_type": "markdown",
   "metadata": {},
   "source": [
    "**4.4. Build 2 seperate models to predict recidivism (`two_year_recid`) from these data (2 different 'classes' of models:  $k$-NN, linear, logistic, etc.) and be sure to include race as a predictor.**"
   ]
  },
  {
   "cell_type": "code",
   "execution_count": 0,
   "metadata": {},
   "outputs": [],
   "source": [
    "# your code here\n"
   ]
  },
  {
   "cell_type": "markdown",
   "metadata": {},
   "source": [
    "**4.5. Refit the models in 4.4 without race as a predictor. Report the overall misclassifcation rates, and compare the differences in false positive and false negative rates between Caucasians and African Americans in these models on the test set. How do these compare to the models when race is included as a predictor?**"
   ]
  },
  {
   "cell_type": "code",
   "execution_count": 0,
   "metadata": {},
   "outputs": [],
   "source": [
    "# your code here\n"
   ]
  },
  {
   "cell_type": "markdown",
   "metadata": {},
   "source": [
    "**4.6. Given your exploration and modeling of the data, should a predictive tool be trusted to be unbiased even if it doesn’t explicitly use a variable such as race to predict future crime?  Why or why not?  Why is the bias still occurring or not occurring?  Explain in 3-6 sentences total.**"
   ]
  },
  {
   "cell_type": "markdown",
   "metadata": {},
   "source": [
    "*your answer here*\n"
   ]
  },
  {
   "cell_type": "markdown",
   "metadata": {},
   "source": [
    "---"
   ]
  }
 ],
 "metadata": {
  "kernelspec": {
   "display_name": "Python 3",
   "language": "python",
   "name": "python3"
  },
  "language_info": {
   "codemirror_mode": {
    "name": "ipython",
    "version": 3
   },
   "file_extension": ".py",
   "mimetype": "text/x-python",
   "name": "python",
   "nbconvert_exporter": "python",
   "pygments_lexer": "ipython3",
   "version": "3.6.2"
  }
 },
 "nbformat": 4,
 "nbformat_minor": 2
}
