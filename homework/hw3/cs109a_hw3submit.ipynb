{
 "cells": [
  {
   "cell_type": "markdown",
   "metadata": {
    "button": false,
    "new_sheet": false,
    "run_control": {
     "read_only": false
    }
   },
   "source": [
    "# <img style=\"float: left; padding-right: 10px; width: 45px\" src=\"https://raw.githubusercontent.com/Harvard-IACS/2018-CS109A/master/content/styles/iacs.png\"> CS109A Introduction to Data Science: \n",
    "## Homework 3 - Regression Modeling to Forecast Bike Sharing Usage\n",
    "\n",
    "\n",
    "\n",
    "**Harvard University**<br/>\n",
    "**Fall 2019**<br/>\n",
    "**Instructors**: Pavlos Protopapas, Kevin Rader, Chris Tanner\n",
    "\n",
    "<hr style=\"height:2pt\">"
   ]
  },
  {
   "cell_type": "code",
   "execution_count": 2,
   "metadata": {
    "button": false,
    "new_sheet": false,
    "run_control": {
     "read_only": false
    }
   },
   "outputs": [
    {
     "data": {
      "text/html": [
       "<style>\n",
       "blockquote { background: #AEDE94; }\n",
       "h1 { \n",
       "    padding-top: 25px;\n",
       "    padding-bottom: 25px;\n",
       "    text-align: left; \n",
       "    padding-left: 10px;\n",
       "    background-color: #DDDDDD; \n",
       "    color: black;\n",
       "}\n",
       "h2 { \n",
       "    padding-top: 10px;\n",
       "    padding-bottom: 10px;\n",
       "    text-align: left; \n",
       "    padding-left: 5px;\n",
       "    background-color: #EEEEEE; \n",
       "    color: black;\n",
       "}\n",
       "\n",
       "div.exercise {\n",
       "\tbackground-color: #ffcccc;\n",
       "\tborder-color: #E9967A; \t\n",
       "\tborder-left: 5px solid #800080; \n",
       "\tpadding: 0.5em;\n",
       "}\n",
       "\n",
       "span.sub-q {\n",
       "\tfont-weight: bold;\n",
       "}\n",
       "div.theme {\n",
       "\tbackground-color: #DDDDDD;\n",
       "\tborder-color: #E9967A; \t\n",
       "\tborder-left: 5px solid #800080; \n",
       "\tpadding: 0.5em;\n",
       "\tfont-size: 18pt;\n",
       "}\n",
       "div.gc { \n",
       "\tbackground-color: #AEDE94;\n",
       "\tborder-color: #E9967A; \t \n",
       "\tborder-left: 5px solid #800080; \n",
       "\tpadding: 0.5em;\n",
       "\tfont-size: 12pt;\n",
       "}\n",
       "p.q1 { \n",
       "    padding-top: 5px;\n",
       "    padding-bottom: 5px;\n",
       "    text-align: left; \n",
       "    padding-left: 5px;\n",
       "    background-color: #EEEEEE; \n",
       "    color: black;\n",
       "}\n",
       "header {\n",
       "   padding-top: 35px;\n",
       "    padding-bottom: 35px;\n",
       "    text-align: left; \n",
       "    padding-left: 10px;\n",
       "    background-color: #DDDDDD; \n",
       "    color: black;\n",
       "}\n",
       "</style>\n",
       "\n"
      ],
      "text/plain": [
       "<IPython.core.display.HTML object>"
      ]
     },
     "execution_count": 2,
     "metadata": {},
     "output_type": "execute_result"
    }
   ],
   "source": [
    "#RUN THIS CELL \n",
    "import requests\n",
    "from IPython.core.display import HTML\n",
    "styles = requests.get(\"https://raw.githubusercontent.com/Harvard-IACS/2018-CS109A/master/content/styles/cs109.css\").text\n",
    "HTML(styles)"
   ]
  },
  {
   "cell_type": "markdown",
   "metadata": {
    "button": false,
    "new_sheet": false,
    "run_control": {
     "read_only": false
    }
   },
   "source": [
    "### INSTRUCTIONS\n",
    "\n",
    "- To submit your assignment follow the instructions given in Canvas.\n",
    "- Restart the kernel and run the whole notebook again before you submit. \n",
    "- As much as possible, try and stick to the hints and functions we import at the top of the homework, as those are the ideas and tools the class supports and is aiming to teach. And if a problem specifies a particular library you're required to use that library, and possibly others from the import list.\n",
    "- Please use .head() when viewing data. Do not submit a notebook that is excessively long because output was not suppressed or otherwise limited. "
   ]
  },
  {
   "cell_type": "markdown",
   "metadata": {
    "button": false,
    "new_sheet": false,
    "run_control": {
     "read_only": false
    }
   },
   "source": [
    "<hr style=\"height:2pt\">"
   ]
  },
  {
   "cell_type": "markdown",
   "metadata": {
    "run_control": {}
   },
   "source": [
    "![bike_sharing](fig/BSS.png)\n",
    "\n",
    "<div class=\"theme\">  Main Theme: Multiple Linear Regression, Polynomial Regression, Ridge and Lasso Regression </div>\n",
    "### Overview \n",
    "\n",
    "You are hired by the administrators of the [Capital Bikeshare program](https://www.capitalbikeshare.com) program in Washington D.C., to **help them predict the hourly demand for rental bikes** and **give them suggestions on how to increase their revenue**. Your task is to prepare a short report summarizing your findings and make recommendations.\n",
    "\n",
    "The predicted hourly demand could be used for planning the number of bikes that need to be available in the system at any given hour of the day. It costs the program money if bike stations are full and bikes cannot be returned, or empty and there are no bikes available. You will use multiple linear regression and polynomial regression and will explore ridge and lasso regression to predict bike usage. The goal is to build a regression model that can predict the total number of bike rentals in a given hour of the day, based on all available information given to you. \n",
    "\n",
    "An example of a suggestion to increase revenue might be to offer discounts during certain times of the day either during holidays or non-holidays. Your suggestions will depend on your observations of the seasonality of ridership.\n",
    "\n",
    "The data for this problem were collected from the Capital Bikeshare program over the course of two years (2011 and 2012).\n",
    "\n"
   ]
  },
  {
   "cell_type": "markdown",
   "metadata": {
    "run_control": {}
   },
   "source": [
    "### Use only the libraries below:"
   ]
  },
  {
   "cell_type": "code",
   "execution_count": 3,
   "metadata": {
    "button": false,
    "new_sheet": false,
    "run_control": {
     "read_only": false
    }
   },
   "outputs": [],
   "source": [
    "import numpy as np\n",
    "import pandas as pd\n",
    "import matplotlib\n",
    "import matplotlib.pyplot as plt\n",
    "\n",
    "import statsmodels.api as sm\n",
    "from statsmodels.api import OLS\n",
    "\n",
    "from sklearn.model_selection import train_test_split\n",
    "from sklearn.preprocessing import PolynomialFeatures\n",
    "from sklearn.preprocessing import StandardScaler\n",
    "from sklearn.linear_model import LinearRegression\n",
    "from sklearn.linear_model import Ridge\n",
    "from sklearn.linear_model import RidgeCV\n",
    "from sklearn.linear_model import LassoCV\n",
    "from sklearn.metrics import r2_score\n",
    "\n",
    "from pandas.plotting import scatter_matrix"
   ]
  },
  {
   "cell_type": "markdown",
   "metadata": {
    "run_control": {}
   },
   "source": [
    "### Overview\n",
    "The initial data set is provided in the file `data/BSS_hour_raw.csv`. You will first add features that will help with the analysis and then separate the data into training and test sets. Each row in this file represents the number of rides by registered users and casual users in a given hour of a specific date. There are 12 attributes in total describing besides the number of users the weather if it is a holiday or not etc: \n",
    "\n",
    "\n",
    "- `dteday` (date in the format YYYY-MM-DD, e.g. 2011-01-01)\n",
    "- `season` (1 = winter, 2 = spring, 3 = summer, 4 = fall)\n",
    "- `hour` (0 for 12 midnight, 1 for 1:00am, 23 for 11:00pm)\n",
    "- `weekday` (0 through 6, with 0 denoting Sunday)\n",
    "- `holiday` (1 = the day is a holiday, 0 = otherwise)\n",
    "- `weather`\n",
    "    - 1: Clear, Few clouds, Partly cloudy, Partly cloudy\n",
    "    - 2: Mist + Cloudy, Mist + Broken clouds, Mist + Few clouds, Mist\n",
    "    - 3: Light Snow, Light Rain + Thunderstorm\n",
    "    - 4: Heavy Rain + Thunderstorm + Mist, Snow + Fog \n",
    "- `temp` (temperature in Celsius, normalized)\n",
    "- `atemp` (apparent temperature, or relative outdoor temperature, in Celsius, normalized)\n",
    "- `hum` (relative humidity, normalized)\n",
    "- `windspeed` (wind speed, normalized)\n",
    "- `casual` (number of rides that day made by casual riders, not registered in the system)\n",
    "- `registered` (number of rides that day made by registered riders)"
   ]
  },
  {
   "cell_type": "markdown",
   "metadata": {
    "button": false,
    "new_sheet": false,
    "run_control": {
     "read_only": false
    }
   },
   "source": [
    "<div class=\"exercise\"> <b> Question 1 [6pts]: Data Read-In and Processing </b> </div>\n",
    "\n",
    "In this section, we read in the data and begin one of the most important analytic steps: verifying that the data is what it claims to be.\n",
    "\n",
    "**1.1** Load the dataset from the csv file `data/BSS_hour_raw.csv` into a pandas dataframe that you name `bikes_df_raw`. Do any of the variables' ranges or averages seem suspect? Do the data types make sense?\n",
    "\n",
    "**1.2** Notice that the variable in column `dteday` is a pandas `object`, which is **not**  useful when you want to extract the elements of the date such as the year, month, and day. Convert `dteday` into a `datetime` object to prepare it for later analysis.\n",
    "\n",
    "**Hint:** http://pandas.pydata.org/pandas-docs/stable/generated/pandas.to_datetime.html\n",
    "\n",
    "**1.3** Create three new columns in the dataframe:\n",
    "- `year` with 0 for 2011, 1 for 2012, etc.\n",
    "- `month` with 1 through 12, with 1 denoting January.\n",
    "- `counts` with the total number of bike rentals for that **hour** (this is the response variable for later)."
   ]
  },
  {
   "cell_type": "markdown",
   "metadata": {
    "button": false,
    "new_sheet": false,
    "run_control": {
     "read_only": false
    }
   },
   "source": [
    "### Answers"
   ]
  },
  {
   "cell_type": "markdown",
   "metadata": {
    "button": false,
    "new_sheet": false,
    "run_control": {
     "read_only": false
    }
   },
   "source": [
    "**1.1 Load the dataset from the csv file...**"
   ]
  },
  {
   "cell_type": "code",
   "execution_count": 4,
   "metadata": {
    "button": false,
    "new_sheet": false,
    "run_control": {
     "read_only": false
    }
   },
   "outputs": [
    {
     "name": "stdout",
     "output_type": "stream",
     "text": [
      "Length: 17379\n",
      "Index(['dteday', 'season', 'hour', 'holiday', 'weekday', 'workingday',\n",
      "       'weather', 'temp', 'atemp', 'hum', 'windspeed', 'casual', 'registered'],\n",
      "      dtype='object')\n"
     ]
    },
    {
     "data": {
      "text/html": [
       "<div>\n",
       "<style scoped>\n",
       "    .dataframe tbody tr th:only-of-type {\n",
       "        vertical-align: middle;\n",
       "    }\n",
       "\n",
       "    .dataframe tbody tr th {\n",
       "        vertical-align: top;\n",
       "    }\n",
       "\n",
       "    .dataframe thead th {\n",
       "        text-align: right;\n",
       "    }\n",
       "</style>\n",
       "<table border=\"1\" class=\"dataframe\">\n",
       "  <thead>\n",
       "    <tr style=\"text-align: right;\">\n",
       "      <th></th>\n",
       "      <th>dteday</th>\n",
       "      <th>season</th>\n",
       "      <th>hour</th>\n",
       "      <th>holiday</th>\n",
       "      <th>weekday</th>\n",
       "      <th>workingday</th>\n",
       "      <th>weather</th>\n",
       "      <th>temp</th>\n",
       "      <th>atemp</th>\n",
       "      <th>hum</th>\n",
       "      <th>windspeed</th>\n",
       "      <th>casual</th>\n",
       "      <th>registered</th>\n",
       "    </tr>\n",
       "  </thead>\n",
       "  <tbody>\n",
       "    <tr>\n",
       "      <th>0</th>\n",
       "      <td>2011-01-01</td>\n",
       "      <td>1</td>\n",
       "      <td>0</td>\n",
       "      <td>0</td>\n",
       "      <td>6</td>\n",
       "      <td>0</td>\n",
       "      <td>1</td>\n",
       "      <td>0.24</td>\n",
       "      <td>0.2879</td>\n",
       "      <td>0.81</td>\n",
       "      <td>0.0000</td>\n",
       "      <td>3</td>\n",
       "      <td>13</td>\n",
       "    </tr>\n",
       "    <tr>\n",
       "      <th>1</th>\n",
       "      <td>2011-01-01</td>\n",
       "      <td>1</td>\n",
       "      <td>1</td>\n",
       "      <td>0</td>\n",
       "      <td>6</td>\n",
       "      <td>0</td>\n",
       "      <td>1</td>\n",
       "      <td>0.22</td>\n",
       "      <td>0.2727</td>\n",
       "      <td>0.80</td>\n",
       "      <td>0.0000</td>\n",
       "      <td>8</td>\n",
       "      <td>32</td>\n",
       "    </tr>\n",
       "    <tr>\n",
       "      <th>2</th>\n",
       "      <td>2011-01-01</td>\n",
       "      <td>1</td>\n",
       "      <td>2</td>\n",
       "      <td>0</td>\n",
       "      <td>6</td>\n",
       "      <td>0</td>\n",
       "      <td>1</td>\n",
       "      <td>0.22</td>\n",
       "      <td>0.2727</td>\n",
       "      <td>0.80</td>\n",
       "      <td>0.0000</td>\n",
       "      <td>5</td>\n",
       "      <td>27</td>\n",
       "    </tr>\n",
       "    <tr>\n",
       "      <th>3</th>\n",
       "      <td>2011-01-01</td>\n",
       "      <td>1</td>\n",
       "      <td>3</td>\n",
       "      <td>0</td>\n",
       "      <td>6</td>\n",
       "      <td>0</td>\n",
       "      <td>1</td>\n",
       "      <td>0.24</td>\n",
       "      <td>0.2879</td>\n",
       "      <td>0.75</td>\n",
       "      <td>0.0000</td>\n",
       "      <td>3</td>\n",
       "      <td>10</td>\n",
       "    </tr>\n",
       "    <tr>\n",
       "      <th>4</th>\n",
       "      <td>2011-01-01</td>\n",
       "      <td>1</td>\n",
       "      <td>4</td>\n",
       "      <td>0</td>\n",
       "      <td>6</td>\n",
       "      <td>0</td>\n",
       "      <td>1</td>\n",
       "      <td>0.24</td>\n",
       "      <td>0.2879</td>\n",
       "      <td>0.75</td>\n",
       "      <td>0.0000</td>\n",
       "      <td>0</td>\n",
       "      <td>1</td>\n",
       "    </tr>\n",
       "    <tr>\n",
       "      <th>17374</th>\n",
       "      <td>2012-12-31</td>\n",
       "      <td>1</td>\n",
       "      <td>19</td>\n",
       "      <td>0</td>\n",
       "      <td>1</td>\n",
       "      <td>1</td>\n",
       "      <td>2</td>\n",
       "      <td>0.26</td>\n",
       "      <td>0.2576</td>\n",
       "      <td>0.60</td>\n",
       "      <td>0.1642</td>\n",
       "      <td>11</td>\n",
       "      <td>108</td>\n",
       "    </tr>\n",
       "    <tr>\n",
       "      <th>17375</th>\n",
       "      <td>2012-12-31</td>\n",
       "      <td>1</td>\n",
       "      <td>20</td>\n",
       "      <td>0</td>\n",
       "      <td>1</td>\n",
       "      <td>1</td>\n",
       "      <td>2</td>\n",
       "      <td>0.26</td>\n",
       "      <td>0.2576</td>\n",
       "      <td>0.60</td>\n",
       "      <td>0.1642</td>\n",
       "      <td>8</td>\n",
       "      <td>81</td>\n",
       "    </tr>\n",
       "    <tr>\n",
       "      <th>17376</th>\n",
       "      <td>2012-12-31</td>\n",
       "      <td>1</td>\n",
       "      <td>21</td>\n",
       "      <td>0</td>\n",
       "      <td>1</td>\n",
       "      <td>1</td>\n",
       "      <td>1</td>\n",
       "      <td>0.26</td>\n",
       "      <td>0.2576</td>\n",
       "      <td>0.60</td>\n",
       "      <td>0.1642</td>\n",
       "      <td>7</td>\n",
       "      <td>83</td>\n",
       "    </tr>\n",
       "    <tr>\n",
       "      <th>17377</th>\n",
       "      <td>2012-12-31</td>\n",
       "      <td>1</td>\n",
       "      <td>22</td>\n",
       "      <td>0</td>\n",
       "      <td>1</td>\n",
       "      <td>1</td>\n",
       "      <td>1</td>\n",
       "      <td>0.26</td>\n",
       "      <td>0.2727</td>\n",
       "      <td>0.56</td>\n",
       "      <td>0.1343</td>\n",
       "      <td>13</td>\n",
       "      <td>48</td>\n",
       "    </tr>\n",
       "    <tr>\n",
       "      <th>17378</th>\n",
       "      <td>2012-12-31</td>\n",
       "      <td>1</td>\n",
       "      <td>23</td>\n",
       "      <td>0</td>\n",
       "      <td>1</td>\n",
       "      <td>1</td>\n",
       "      <td>1</td>\n",
       "      <td>0.26</td>\n",
       "      <td>0.2727</td>\n",
       "      <td>0.65</td>\n",
       "      <td>0.1343</td>\n",
       "      <td>12</td>\n",
       "      <td>37</td>\n",
       "    </tr>\n",
       "  </tbody>\n",
       "</table>\n",
       "</div>"
      ],
      "text/plain": [
       "           dteday  season  hour  holiday  weekday  workingday  weather  temp  \\\n",
       "0      2011-01-01       1     0        0        6           0        1  0.24   \n",
       "1      2011-01-01       1     1        0        6           0        1  0.22   \n",
       "2      2011-01-01       1     2        0        6           0        1  0.22   \n",
       "3      2011-01-01       1     3        0        6           0        1  0.24   \n",
       "4      2011-01-01       1     4        0        6           0        1  0.24   \n",
       "17374  2012-12-31       1    19        0        1           1        2  0.26   \n",
       "17375  2012-12-31       1    20        0        1           1        2  0.26   \n",
       "17376  2012-12-31       1    21        0        1           1        1  0.26   \n",
       "17377  2012-12-31       1    22        0        1           1        1  0.26   \n",
       "17378  2012-12-31       1    23        0        1           1        1  0.26   \n",
       "\n",
       "        atemp   hum  windspeed  casual  registered  \n",
       "0      0.2879  0.81     0.0000       3          13  \n",
       "1      0.2727  0.80     0.0000       8          32  \n",
       "2      0.2727  0.80     0.0000       5          27  \n",
       "3      0.2879  0.75     0.0000       3          10  \n",
       "4      0.2879  0.75     0.0000       0           1  \n",
       "17374  0.2576  0.60     0.1642      11         108  \n",
       "17375  0.2576  0.60     0.1642       8          81  \n",
       "17376  0.2576  0.60     0.1642       7          83  \n",
       "17377  0.2727  0.56     0.1343      13          48  \n",
       "17378  0.2727  0.65     0.1343      12          37  "
      ]
     },
     "execution_count": 4,
     "metadata": {},
     "output_type": "execute_result"
    }
   ],
   "source": [
    "# your code here\n",
    "bikes_df_raw = pd.read_csv('./data/BSS_hour_raw.csv', low_memory=False)\n",
    "print('Length:', len(bikes_df_raw))\n",
    "print(bikes_df_raw.columns)\n",
    "bikes_df_raw.head(5).append(bikes_df_raw.tail(5))"
   ]
  },
  {
   "cell_type": "markdown",
   "metadata": {
    "button": false,
    "new_sheet": false,
    "run_control": {
     "read_only": false
    }
   },
   "source": [
    "*Your answer here*"
   ]
  },
  {
   "cell_type": "markdown",
   "metadata": {
    "button": false,
    "new_sheet": false,
    "run_control": {
     "read_only": false
    }
   },
   "source": [
    "**1.2 Notice that the variable in column...**"
   ]
  },
  {
   "cell_type": "code",
   "execution_count": 5,
   "metadata": {
    "button": false,
    "new_sheet": false,
    "run_control": {
     "read_only": false
    }
   },
   "outputs": [
    {
     "name": "stdout",
     "output_type": "stream",
     "text": [
      "dteday        datetime64[ns]\n",
      "season                 int64\n",
      "hour                   int64\n",
      "holiday                int64\n",
      "weekday                int64\n",
      "workingday             int64\n",
      "weather                int64\n",
      "temp                 float64\n",
      "atemp                float64\n",
      "hum                  float64\n",
      "windspeed            float64\n",
      "casual                 int64\n",
      "registered             int64\n",
      "dtype: object\n"
     ]
    }
   ],
   "source": [
    "# your code here\n",
    "# Convert dteday to \n",
    "bikes_df_raw['dteday'] = pd.to_datetime(bikes_df_raw['dteday'])\n",
    "data_types = bikes_df_raw.dtypes\n",
    "data_types[bikes_df_raw.applymap(type).eq(str).all()] = 'str'\n",
    "print(data_types)"
   ]
  },
  {
   "cell_type": "markdown",
   "metadata": {
    "button": false,
    "new_sheet": false,
    "run_control": {
     "read_only": false
    }
   },
   "source": [
    "**1.3 Create three new columns in the dataframe:...**"
   ]
  },
  {
   "cell_type": "code",
   "execution_count": 6,
   "metadata": {
    "button": false,
    "new_sheet": false,
    "run_control": {
     "read_only": false
    }
   },
   "outputs": [
    {
     "data": {
      "text/plain": [
       "dteday        2011-01-01 00:00:00\n",
       "season                          1\n",
       "hour                            0\n",
       "holiday                         0\n",
       "weekday                         6\n",
       "workingday                      0\n",
       "weather                         1\n",
       "temp                         0.24\n",
       "atemp                      0.2879\n",
       "hum                          0.81\n",
       "windspeed                       0\n",
       "casual                          3\n",
       "registered                     13\n",
       "year                         2011\n",
       "month                           1\n",
       "count                          16\n",
       "Name: 0, dtype: object"
      ]
     },
     "execution_count": 6,
     "metadata": {},
     "output_type": "execute_result"
    }
   ],
   "source": [
    "# your code here\n",
    "bikes_df_raw['year'] = bikes_df_raw['dteday'].map(lambda x: x.year)\n",
    "bikes_df_raw['month'] = bikes_df_raw['dteday'].map(lambda x: x.month)\n",
    "bikes_df_raw['count'] = bikes_df_raw['casual'] + bikes_df_raw['registered']\n",
    "bikes_df_raw.iloc[0]"
   ]
  },
  {
   "cell_type": "markdown",
   "metadata": {},
   "source": [
    "---"
   ]
  },
  {
   "cell_type": "markdown",
   "metadata": {
    "button": false,
    "new_sheet": false,
    "run_control": {
     "read_only": false
    }
   },
   "source": [
    "<div class='exercise'> <b> Question 2 [20 pts]: Exploratory Data Analysis. </b></div>\n",
    "\n",
    "In this question we begin hunting for patterns in ridership that shed light on who uses the service and why.\n",
    "\n",
    "**2.1** Make a new dataframe with the following subset of attributes from the previous dataset and with each entry being just **one** day: \n",
    "\n",
    "- `dteday`, the timestamp for that day (fine to set to noon or any other time) \n",
    "- `weekday`, the day of the week\n",
    "- `weather`, the most severe weather that day\n",
    "- `season`, the season that day falls in\n",
    "- `temp`, the average temperature\n",
    "- `atemp`, the average atemp that day\n",
    "- `windspeed`, the average windspeed that day\n",
    "- `hum`, the average humidity that day\n",
    "- `casual`, the **total** number of rentals by casual users\n",
    "- `registered`, the **total** number of rentals by registered users\n",
    "- `counts`, the **total** number of rentals of that day\n",
    "\n",
    "Name this dataframe `bikes_by_day`.\n",
    "\n",
    "Make a plot showing  the _distribution_ of the number of casual and registered riders on each day of the week.\n",
    "\n",
    "**Hint:** helpful to use panda's `.groupby()` command\n",
    "\n",
    "**2.2** Use `bikes_by_day` to visualize how the distribution of **total number of rides** per day (casual and registered riders combined) varies with the **season**. Do you see any **outliers**? Here we use the pyplot's boxplot function definition of an outlier as any value 1.5 times the IQR above the 75th percentile or 1.5 times the IQR below the 25th percentiles. If you see any outliers, identify those dates and investigate if they are a chance occurence, an error in the data collection, or a significant event (an online search of those date(s) might help). \n",
    "\n",
    "**2.3** Convert the categorical attributes ('season', 'month', 'weekday', 'weather') into multiple binary attributes using **one-hot encoding** and call this new dataframe `bikes_df`.\n",
    "\n",
    "**2.4** Split the updated `bikes_df` dataset into a 50-50 train-test split (call them `bikes_train` and `bikes_test`, respectively). Do this in a 'stratified' fashion, ensuring that all months are equally represented in each set.  Use `random_state=90`, a test set size of .5, and stratify on month.  Remember to specify the data's index column as you read it in.\n",
    "\n",
    "**2.5** Although we asked you to create your train and test set, for consistency and easy checking, we ask that for the rest of this problem set you use the train and test set provided in the files `data/BSS_train.csv` and `data/BSS_test.csv`. Read these two files into dataframes `BSS_train` and `BSS_test`, respectively. Remove the `dteday` column from both the train and the test dataset (its format cannot be used for analysis). \n",
    "\n",
    "**2.6** Use pandas' `scatter_matrix` command to visualize the inter-dependencies among the list of predictors listed below in the training dataset. Note and comment on any strongly related variables. [This may take a few minutes to run. You may wish to comment it out until your final submission, or only plot a randomly-selected 10% of the rows]\n",
    "\n",
    "`cor_columns = ['hour', 'holiday', 'temp', 'atemp', \n",
    "               'workingday', 'hum', 'windspeed', \n",
    "               'counts', 'casual', 'registered',\n",
    "               'fall', 'summer', 'spring', \n",
    "               'Snow', 'Storm', 'Cloudy']`\n",
    "\n",
    "**2.7** Make a plot showing the _average_ number of casual and registered riders during each hour of the day. `.groupby` and `.aggregate` should make this task easy. Comment on the trends you observe. \n",
    "\n",
    "**2.8** Use the one-hot-encoded `weather` related variables to show how each weather category affects the relationships in question 2.6.  Remember you should have four plots, one for each weather type (Cloudy, Storm, Snow, and Clear), even though there are only three columns related to weather after one-hot-encoding. What do you observe?"
   ]
  },
  {
   "cell_type": "markdown",
   "metadata": {
    "button": false,
    "new_sheet": false,
    "run_control": {
     "read_only": false
    }
   },
   "source": [
    "### Answers"
   ]
  },
  {
   "cell_type": "markdown",
   "metadata": {
    "button": false,
    "new_sheet": false,
    "run_control": {
     "read_only": false
    }
   },
   "source": [
    "**2.1 Make a new dataframe...**"
   ]
  },
  {
   "cell_type": "code",
   "execution_count": 7,
   "metadata": {
    "button": false,
    "new_sheet": false,
    "run_control": {
     "read_only": false
    }
   },
   "outputs": [
    {
     "data": {
      "text/plain": [
       "<Figure size 432x288 with 0 Axes>"
      ]
     },
     "metadata": {},
     "output_type": "display_data"
    },
    {
     "data": {
      "image/png": "[encoded data removed]",
      "text/plain": [
       "<Figure size 1152x432 with 1 Axes>"
      ]
     },
     "metadata": {
      "needs_background": "light"
     },
     "output_type": "display_data"
    }
   ],
   "source": [
    "# your code here\n",
    "bikes_by_day = bikes_df_raw.groupby('dteday').agg(\n",
    "    {'weekday':'first',\n",
    "     'weather':'max',\n",
    "     'season':'first',\n",
    "     'temp':'mean',\n",
    "     'atemp':'mean',\n",
    "     'windspeed':'mean',\n",
    "     'hum':'mean',\n",
    "     'casual':'sum',\n",
    "     'registered':'sum',\n",
    "     'count':'sum'})\n",
    "\n",
    "count_per_day = list()\n",
    "pos = list()\n",
    "for day in range(6):\n",
    "    count_per_day.append(np.array(bikes_by_day.loc[bikes_by_day['weekday'] == day]['casual']))\n",
    "    pos.append(day*3)\n",
    "    count_per_day.append(np.array(bikes_by_day.loc[bikes_by_day['weekday'] == day]['registered']))\n",
    "    pos.append(day*3 + 1)\n",
    "\n",
    "plt.clf()\n",
    "fig, axes = plt.subplots(nrows=1, ncols=1, figsize=(16, 6))\n",
    "axes.violinplot(count_per_day, pos, widths=0.5, showmeans=True, showextrema=True)\n",
    "\n",
    "axes.set_xticks(pos)\n",
    "axes.set_xticklabels(['            Sun [Casual | Registered]','',\n",
    "                      '            Mon [Casual | Registered]','',\n",
    "                      '            Tue [Casual | Registered]','',\n",
    "                      '            Wed [Casual | Registered]','',\n",
    "                      '            Thu [Casual | Registered]','',\n",
    "                      '            Fri [Casual | Registered]','',\n",
    "                      '            Sat [Casual | Registered]',''])\n",
    "axes.set_ylabel('Rides Per Day')\n",
    "axes.set_title('Distribution of Rides Per Day of the Week')\n",
    "plt.show()"
   ]
  },
  {
   "cell_type": "markdown",
   "metadata": {
    "button": false,
    "new_sheet": false,
    "run_control": {
     "read_only": false
    }
   },
   "source": [
    "**2.2 Use `bikes_by_day` to visualize how the distribution...**"
   ]
  },
  {
   "cell_type": "code",
   "execution_count": 8,
   "metadata": {
    "button": false,
    "new_sheet": false,
    "run_control": {
     "read_only": false
    },
    "scrolled": false
   },
   "outputs": [
    {
     "data": {
      "text/plain": [
       "<Figure size 432x288 with 0 Axes>"
      ]
     },
     "metadata": {},
     "output_type": "display_data"
    },
    {
     "data": {
      "image/png": "[encoded data removed]",
      "text/plain": [
       "<Figure size 1152x432 with 1 Axes>"
      ]
     },
     "metadata": {
      "needs_background": "light"
     },
     "output_type": "display_data"
    },
    {
     "name": "stdout",
     "output_type": "stream",
     "text": [
      "IQR Winter : 1918.0\n",
      "IQR Spring : 2374.0\n",
      "IQR Summer : 2342.75\n",
      "IQR Fall : 2009.0\n",
      "\n",
      "Outliers:\n"
     ]
    },
    {
     "data": {
      "text/html": [
       "<div>\n",
       "<style scoped>\n",
       "    .dataframe tbody tr th:only-of-type {\n",
       "        vertical-align: middle;\n",
       "    }\n",
       "\n",
       "    .dataframe tbody tr th {\n",
       "        vertical-align: top;\n",
       "    }\n",
       "\n",
       "    .dataframe thead th {\n",
       "        text-align: right;\n",
       "    }\n",
       "</style>\n",
       "<table border=\"1\" class=\"dataframe\">\n",
       "  <thead>\n",
       "    <tr style=\"text-align: right;\">\n",
       "      <th></th>\n",
       "      <th>weekday</th>\n",
       "      <th>weather</th>\n",
       "      <th>season</th>\n",
       "      <th>temp</th>\n",
       "      <th>atemp</th>\n",
       "      <th>windspeed</th>\n",
       "      <th>hum</th>\n",
       "      <th>casual</th>\n",
       "      <th>registered</th>\n",
       "      <th>count</th>\n",
       "    </tr>\n",
       "    <tr>\n",
       "      <th>dteday</th>\n",
       "      <th></th>\n",
       "      <th></th>\n",
       "      <th></th>\n",
       "      <th></th>\n",
       "      <th></th>\n",
       "      <th></th>\n",
       "      <th></th>\n",
       "      <th></th>\n",
       "      <th></th>\n",
       "      <th></th>\n",
       "    </tr>\n",
       "  </thead>\n",
       "  <tbody>\n",
       "    <tr>\n",
       "      <th>2012-03-17</th>\n",
       "      <td>6</td>\n",
       "      <td>2</td>\n",
       "      <td>1</td>\n",
       "      <td>0.514167</td>\n",
       "      <td>0.505046</td>\n",
       "      <td>0.110704</td>\n",
       "      <td>0.755833</td>\n",
       "      <td>3155</td>\n",
       "      <td>4681</td>\n",
       "      <td>7836</td>\n",
       "    </tr>\n",
       "    <tr>\n",
       "      <th>2012-10-29</th>\n",
       "      <td>1</td>\n",
       "      <td>3</td>\n",
       "      <td>4</td>\n",
       "      <td>0.440000</td>\n",
       "      <td>0.439400</td>\n",
       "      <td>0.358200</td>\n",
       "      <td>0.880000</td>\n",
       "      <td>2</td>\n",
       "      <td>20</td>\n",
       "      <td>22</td>\n",
       "    </tr>\n",
       "  </tbody>\n",
       "</table>\n",
       "</div>"
      ],
      "text/plain": [
       "            weekday  weather  season      temp     atemp  windspeed       hum  \\\n",
       "dteday                                                                          \n",
       "2012-03-17        6        2       1  0.514167  0.505046   0.110704  0.755833   \n",
       "2012-10-29        1        3       4  0.440000  0.439400   0.358200  0.880000   \n",
       "\n",
       "            casual  registered  count  \n",
       "dteday                                 \n",
       "2012-03-17    3155        4681   7836  \n",
       "2012-10-29       2          20     22  "
      ]
     },
     "execution_count": 8,
     "metadata": {},
     "output_type": "execute_result"
    }
   ],
   "source": [
    "# your code here   \n",
    "\n",
    "# Plot data for each season\n",
    "seasons = ['Winter', 'Spring', 'Summer', 'Fall']\n",
    "\n",
    "count_per_season = list()\n",
    "for season in range(1,5):\n",
    "    count_per_season.append(np.array(bikes_by_day.loc[bikes_by_day['season'] == season]['count']))\n",
    "\n",
    "plt.clf()\n",
    "fig, axes = plt.subplots(nrows=1, ncols=1, figsize=(16, 6))\n",
    "axes.violinplot(count_per_season, widths=0.3, showextrema=False)\n",
    "axes.boxplot(count_per_season)\n",
    "\n",
    "axes.set_xticks([1,2,3,4])\n",
    "axes.set_xticklabels(seasons)\n",
    "axes.set_ylabel('Rides Per Day')\n",
    "axes.set_title('Distribution of Total Rides Per Day Per Season')\n",
    "plt.show()\n",
    "\n",
    "# Capture Outliers\n",
    "outliers_df = pd.DataFrame()\n",
    "for season in range(1,5):\n",
    "    season_df = bikes_by_day.loc[bikes_by_day['season'] == season]\n",
    "    Q1 = season_df['count'].quantile(0.25)\n",
    "    Q3 = season_df['count'].quantile(0.75)\n",
    "    IQR = Q3 - Q1\n",
    "    print('IQR', seasons[season - 1],':', IQR)\n",
    "\n",
    "    outliers_df = outliers_df.append(season_df.loc[(season_df['count'] < Q1 - 1.5*IQR) | (season_df['count'] > Q3 + 1.5*IQR)])\n",
    "\n",
    "print('\\nOutliers:')\n",
    "outliers_df"
   ]
  },
  {
   "cell_type": "markdown",
   "metadata": {},
   "source": [
    "2012-03-17\twas an unseasonably warm day and also St. Patricks day. This appears to be a legitimate data point, having extremely high rider count.\n",
    "\n",
    "2012-10-29\twas during hurricaine Sandy. This also appears to be a legitimate data-point, having extremely low ridership."
   ]
  },
  {
   "cell_type": "markdown",
   "metadata": {
    "button": false,
    "new_sheet": false,
    "run_control": {
     "read_only": false
    }
   },
   "source": [
    "**2.3 Convert the categorical attributes...**"
   ]
  },
  {
   "cell_type": "code",
   "execution_count": 9,
   "metadata": {
    "button": false,
    "new_sheet": false,
    "run_control": {
     "read_only": false
    }
   },
   "outputs": [
    {
     "name": "stdout",
     "output_type": "stream",
     "text": [
      "Index(['dteday', 'season', 'hour', 'holiday', 'weekday', 'workingday',\n",
      "       'weather', 'temp', 'atemp', 'hum', 'windspeed', 'casual', 'registered',\n",
      "       'year', 'month', 'count'],\n",
      "      dtype='object')\n"
     ]
    },
    {
     "data": {
      "text/plain": [
       "dteday        2011-01-01 00:00:00\n",
       "hour                            0\n",
       "holiday                         0\n",
       "workingday                      0\n",
       "temp                         0.24\n",
       "atemp                      0.2879\n",
       "hum                          0.81\n",
       "windspeed                       0\n",
       "casual                          3\n",
       "registered                     13\n",
       "year                         2011\n",
       "count                          16\n",
       "spring                          0\n",
       "summer                          0\n",
       "fall                            0\n",
       "month_2                         0\n",
       "month_3                         0\n",
       "month_4                         0\n",
       "month_5                         0\n",
       "month_6                         0\n",
       "month_7                         0\n",
       "month_8                         0\n",
       "month_9                         0\n",
       "month_10                        0\n",
       "month_11                        0\n",
       "month_12                        0\n",
       "mon                             0\n",
       "tue                             0\n",
       "wed                             0\n",
       "thu                             0\n",
       "fri                             0\n",
       "sat                             1\n",
       "weather_2                       0\n",
       "weather_3                       0\n",
       "weather_4                       0\n",
       "month                           1\n",
       "Name: 0, dtype: object"
      ]
     },
     "execution_count": 9,
     "metadata": {},
     "output_type": "execute_result"
    }
   ],
   "source": [
    "# your code here\n",
    "#  ('season', 'month', 'weekday', 'weather')\n",
    "\n",
    "print(bikes_df_raw.columns)\n",
    "bikes_df = bikes_df_raw\n",
    "#bikes_df = pd.concat([bikes_df, pd.get_dummies(bikes_df_raw['season'], drop_first=True)], axis=1)\n",
    "bikes_df = pd.get_dummies(bikes_df_raw, columns=['season', 'month', 'weekday', 'weather'], drop_first=True)\n",
    "bikes_df.rename(columns={'weekday_1':'mon', 'weekday_2':'tue', 'weekday_3':'wed',\n",
    "                         'weekday_4':'thu', 'weekday_5':'fri', 'weekday_6':'sat',\n",
    "                         'season_2':'spring', 'season_3':'summer','season_4':'fall'}, inplace=True)\n",
    "bikes_df['month'] = bikes_df_raw['month']\n",
    "bikes_df.iloc[0]"
   ]
  },
  {
   "cell_type": "markdown",
   "metadata": {
    "button": false,
    "new_sheet": false,
    "run_control": {
     "read_only": false
    }
   },
   "source": [
    "**2.4 Split the updated `bikes_df` dataset into a 50-50 train-test split...** "
   ]
  },
  {
   "cell_type": "code",
   "execution_count": 10,
   "metadata": {
    "button": false,
    "new_sheet": false,
    "run_control": {
     "read_only": false
    }
   },
   "outputs": [],
   "source": [
    "# your code here\n",
    "bikes_train, bikes_test = train_test_split(bikes_df, \n",
    "                                           random_state = 90,\n",
    "                                           test_size = 0.5, \n",
    "                                           stratify = bikes_df['month'])"
   ]
  },
  {
   "cell_type": "markdown",
   "metadata": {
    "button": false,
    "new_sheet": false,
    "run_control": {
     "read_only": false
    }
   },
   "source": [
    "**2.5 Although we asked you to create your train and test set...**"
   ]
  },
  {
   "cell_type": "code",
   "execution_count": 11,
   "metadata": {
    "button": false,
    "new_sheet": false,
    "run_control": {
     "read_only": false
    }
   },
   "outputs": [
    {
     "data": {
      "text/html": [
       "<div>\n",
       "<style scoped>\n",
       "    .dataframe tbody tr th:only-of-type {\n",
       "        vertical-align: middle;\n",
       "    }\n",
       "\n",
       "    .dataframe tbody tr th {\n",
       "        vertical-align: top;\n",
       "    }\n",
       "\n",
       "    .dataframe thead th {\n",
       "        text-align: right;\n",
       "    }\n",
       "</style>\n",
       "<table border=\"1\" class=\"dataframe\">\n",
       "  <thead>\n",
       "    <tr style=\"text-align: right;\">\n",
       "      <th></th>\n",
       "      <th>dteday</th>\n",
       "      <th>hour</th>\n",
       "      <th>holiday</th>\n",
       "      <th>year</th>\n",
       "      <th>workingday</th>\n",
       "      <th>temp</th>\n",
       "      <th>atemp</th>\n",
       "      <th>hum</th>\n",
       "      <th>windspeed</th>\n",
       "      <th>casual</th>\n",
       "      <th>...</th>\n",
       "      <th>Dec</th>\n",
       "      <th>Mon</th>\n",
       "      <th>Tue</th>\n",
       "      <th>Wed</th>\n",
       "      <th>Thu</th>\n",
       "      <th>Fri</th>\n",
       "      <th>Sat</th>\n",
       "      <th>Cloudy</th>\n",
       "      <th>Snow</th>\n",
       "      <th>Storm</th>\n",
       "    </tr>\n",
       "  </thead>\n",
       "  <tbody>\n",
       "    <tr>\n",
       "      <th>0</th>\n",
       "      <td>2012-12-27</td>\n",
       "      <td>21</td>\n",
       "      <td>0</td>\n",
       "      <td>1</td>\n",
       "      <td>1</td>\n",
       "      <td>0.24</td>\n",
       "      <td>0.2273</td>\n",
       "      <td>0.60</td>\n",
       "      <td>0.2537</td>\n",
       "      <td>12</td>\n",
       "      <td>...</td>\n",
       "      <td>1</td>\n",
       "      <td>0</td>\n",
       "      <td>0</td>\n",
       "      <td>0</td>\n",
       "      <td>1</td>\n",
       "      <td>0</td>\n",
       "      <td>0</td>\n",
       "      <td>1</td>\n",
       "      <td>0</td>\n",
       "      <td>0</td>\n",
       "    </tr>\n",
       "    <tr>\n",
       "      <th>1</th>\n",
       "      <td>2011-10-13</td>\n",
       "      <td>17</td>\n",
       "      <td>0</td>\n",
       "      <td>0</td>\n",
       "      <td>1</td>\n",
       "      <td>0.62</td>\n",
       "      <td>0.5758</td>\n",
       "      <td>0.83</td>\n",
       "      <td>0.2537</td>\n",
       "      <td>47</td>\n",
       "      <td>...</td>\n",
       "      <td>0</td>\n",
       "      <td>0</td>\n",
       "      <td>0</td>\n",
       "      <td>0</td>\n",
       "      <td>1</td>\n",
       "      <td>0</td>\n",
       "      <td>0</td>\n",
       "      <td>0</td>\n",
       "      <td>1</td>\n",
       "      <td>0</td>\n",
       "    </tr>\n",
       "    <tr>\n",
       "      <th>2</th>\n",
       "      <td>2012-08-09</td>\n",
       "      <td>9</td>\n",
       "      <td>0</td>\n",
       "      <td>1</td>\n",
       "      <td>1</td>\n",
       "      <td>0.76</td>\n",
       "      <td>0.7273</td>\n",
       "      <td>0.66</td>\n",
       "      <td>0.1642</td>\n",
       "      <td>54</td>\n",
       "      <td>...</td>\n",
       "      <td>0</td>\n",
       "      <td>0</td>\n",
       "      <td>0</td>\n",
       "      <td>0</td>\n",
       "      <td>1</td>\n",
       "      <td>0</td>\n",
       "      <td>0</td>\n",
       "      <td>0</td>\n",
       "      <td>0</td>\n",
       "      <td>0</td>\n",
       "    </tr>\n",
       "    <tr>\n",
       "      <th>3</th>\n",
       "      <td>2012-04-08</td>\n",
       "      <td>17</td>\n",
       "      <td>0</td>\n",
       "      <td>1</td>\n",
       "      <td>0</td>\n",
       "      <td>0.62</td>\n",
       "      <td>0.6061</td>\n",
       "      <td>0.22</td>\n",
       "      <td>0.2985</td>\n",
       "      <td>185</td>\n",
       "      <td>...</td>\n",
       "      <td>0</td>\n",
       "      <td>0</td>\n",
       "      <td>0</td>\n",
       "      <td>0</td>\n",
       "      <td>0</td>\n",
       "      <td>0</td>\n",
       "      <td>0</td>\n",
       "      <td>0</td>\n",
       "      <td>0</td>\n",
       "      <td>0</td>\n",
       "    </tr>\n",
       "    <tr>\n",
       "      <th>4</th>\n",
       "      <td>2012-01-29</td>\n",
       "      <td>8</td>\n",
       "      <td>0</td>\n",
       "      <td>1</td>\n",
       "      <td>0</td>\n",
       "      <td>0.18</td>\n",
       "      <td>0.1970</td>\n",
       "      <td>0.40</td>\n",
       "      <td>0.1343</td>\n",
       "      <td>9</td>\n",
       "      <td>...</td>\n",
       "      <td>0</td>\n",
       "      <td>0</td>\n",
       "      <td>0</td>\n",
       "      <td>0</td>\n",
       "      <td>0</td>\n",
       "      <td>0</td>\n",
       "      <td>0</td>\n",
       "      <td>0</td>\n",
       "      <td>0</td>\n",
       "      <td>0</td>\n",
       "    </tr>\n",
       "  </tbody>\n",
       "</table>\n",
       "<p>5 rows × 35 columns</p>\n",
       "</div>"
      ],
      "text/plain": [
       "       dteday  hour  holiday  year  workingday  temp   atemp   hum  windspeed  \\\n",
       "0  2012-12-27    21        0     1           1  0.24  0.2273  0.60     0.2537   \n",
       "1  2011-10-13    17        0     0           1  0.62  0.5758  0.83     0.2537   \n",
       "2  2012-08-09     9        0     1           1  0.76  0.7273  0.66     0.1642   \n",
       "3  2012-04-08    17        0     1           0  0.62  0.6061  0.22     0.2985   \n",
       "4  2012-01-29     8        0     1           0  0.18  0.1970  0.40     0.1343   \n",
       "\n",
       "   casual  ...  Dec  Mon  Tue  Wed  Thu  Fri  Sat  Cloudy  Snow  Storm  \n",
       "0      12  ...    1    0    0    0    1    0    0       1     0      0  \n",
       "1      47  ...    0    0    0    0    1    0    0       0     1      0  \n",
       "2      54  ...    0    0    0    0    1    0    0       0     0      0  \n",
       "3     185  ...    0    0    0    0    0    0    0       0     0      0  \n",
       "4       9  ...    0    0    0    0    0    0    0       0     0      0  \n",
       "\n",
       "[5 rows x 35 columns]"
      ]
     },
     "execution_count": 11,
     "metadata": {},
     "output_type": "execute_result"
    }
   ],
   "source": [
    "# your code here\n",
    "BSS_train = pd.read_csv('./data/BSS_train.csv', low_memory=False)\n",
    "BSS_test = pd.read_csv('./data/BSS_test.csv', low_memory=False)\n",
    "BSS_train.head(5)"
   ]
  },
  {
   "cell_type": "markdown",
   "metadata": {
    "button": false,
    "new_sheet": false,
    "run_control": {
     "read_only": false
    }
   },
   "source": [
    "**2.6 Use pandas' `scatter_matrix` command to visualize...**"
   ]
  },
  {
   "cell_type": "code",
   "execution_count": 27,
   "metadata": {
    "button": false,
    "new_sheet": false,
    "run_control": {
     "read_only": false
    }
   },
   "outputs": [
    {
     "data": {
      "text/plain": [
       "<Figure size 432x288 with 0 Axes>"
      ]
     },
     "metadata": {},
     "output_type": "display_data"
    },
    {
     "data": {
      "text/plain": [
       "<Figure size 432x288 with 0 Axes>"
      ]
     },
     "metadata": {},
     "output_type": "display_data"
    },
    {
     "data": {
      "image/png": "[encoded data removed]",
      "text/plain": [
       "<Figure size 1152x1152 with 256 Axes>"
      ]
     },
     "metadata": {
      "needs_background": "light"
     },
     "output_type": "display_data"
    }
   ],
   "source": [
    "# your code here\n",
    "plt.clf()\n",
    "fig = plt.figure()\n",
    "fig.subplots_adjust(hspace=1, wspace=1)\n",
    "scatter_matrix(BSS_train[\n",
    "                ['hour', 'holiday', 'temp', 'atemp', \n",
    "                 'workingday', 'hum', 'windspeed', \n",
    "                 'counts', 'casual', 'registered',\n",
    "                 'fall', 'summer', 'spring', \n",
    "                 'Snow', 'Storm', 'Cloudy']],\n",
    "                alpha = 0.1,\n",
    "                figsize=(16, 16))\n",
    "plt.show()"
   ]
  },
  {
   "cell_type": "markdown",
   "metadata": {},
   "source": [
    "Naturally, temperature appears highly correlated with apparent temperature. This is expected and we likely only want to include one of these in our future regression analysis.\n",
    "\n",
    "Counts, registered, and casual are all highly correlated. This makes sense, as they are all effectively dependant variables. \n",
    "\n",
    "Both 'hour' and 'temperature' appear to have slight positive correlation with 'count'. This makes intuitive sense, as bikes would likely be used more in warmer weather, and more throughout the day.\n",
    "\n",
    "There also seems to be a negative correlation with Snow."
   ]
  },
  {
   "cell_type": "markdown",
   "metadata": {
    "button": false,
    "new_sheet": false,
    "run_control": {
     "read_only": false
    }
   },
   "source": [
    "**2.7 Make a plot showing the _average_ number of casual and registered riders...**"
   ]
  },
  {
   "cell_type": "code",
   "execution_count": 12,
   "metadata": {
    "button": false,
    "new_sheet": false,
    "run_control": {
     "read_only": false
    }
   },
   "outputs": [
    {
     "data": {
      "text/plain": [
       "<Figure size 432x288 with 0 Axes>"
      ]
     },
     "metadata": {},
     "output_type": "display_data"
    },
    {
     "data": {
      "image/png": "[encoded data removed]",
      "text/plain": [
       "<Figure size 1152x432 with 1 Axes>"
      ]
     },
     "metadata": {
      "needs_background": "light"
     },
     "output_type": "display_data"
    }
   ],
   "source": [
    "# your code here\n",
    "bikes_by_hour = BSS_train.groupby('hour').agg(\n",
    "    {'casual':'mean',\n",
    "     'registered':'mean'})\n",
    "\n",
    "plt.clf()\n",
    "fig, axes = plt.subplots(nrows=1, ncols=1, figsize=(16, 6))\n",
    "plt.grid(True)\n",
    "plt.margins(0, 0.25)\n",
    "plt.plot(bikes_by_hour.index, bikes_by_hour.casual, label = 'Casual Riders', color = 'grey')\n",
    "plt.plot(bikes_by_hour.index, bikes_by_hour.registered, label = 'Registered Riders', color = 'orange')\n",
    "plt.title('Average Rides per Hour')\n",
    "plt.ylabel('Average Rides')\n",
    "plt.xlabel('Time (24hr)')\n",
    "plt.xticks([0, 4, 8, 12, 16, 20])\n",
    "axes.set_xticklabels(['24:00', '4:00', '8:00', '12:00', '16:00', '20:00'])\n",
    "plt.legend()\n",
    "plt.show()"
   ]
  },
  {
   "cell_type": "markdown",
   "metadata": {},
   "source": [
    "2.7 Make a plot showing the average number of casual and registered riders during each hour of the day. .groupby and .aggregate should make this task easy. Comment on the trends you observe."
   ]
  },
  {
   "cell_type": "markdown",
   "metadata": {
    "button": false,
    "new_sheet": false,
    "run_control": {
     "read_only": false
    }
   },
   "source": [
    "**2.8 Use the weather related variables to show how each weather...** "
   ]
  },
  {
   "cell_type": "code",
   "execution_count": 35,
   "metadata": {
    "button": false,
    "new_sheet": false,
    "run_control": {
     "read_only": false
    }
   },
   "outputs": [
    {
     "data": {
      "text/plain": [
       "<Figure size 432x288 with 0 Axes>"
      ]
     },
     "metadata": {},
     "output_type": "display_data"
    },
    {
     "data": {
      "image/png": "[encoded data removed]",
      "text/plain": [
       "<Figure size 1152x576 with 4 Axes>"
      ]
     },
     "metadata": {
      "needs_background": "light"
     },
     "output_type": "display_data"
    }
   ],
   "source": [
    "# Split data set per weather\n",
    "cloudy_df = BSS_train.loc[BSS_train['Cloudy'] == 1].groupby('hour').agg(\n",
    "    {'casual':'mean','registered':'mean'})\n",
    "storm_df = BSS_train.loc[BSS_train['Storm'] == 1].groupby('hour').agg(\n",
    "    {'casual':'mean','registered':'mean'})\n",
    "snow_df = BSS_train.loc[BSS_train['Snow'] == 1].groupby('hour').agg(\n",
    "    {'casual':'mean','registered':'mean'})\n",
    "clear_df = BSS_train.loc[(BSS_train['Cloudy'] == 0) & \n",
    "              (BSS_train['Storm'] == 0) & \n",
    "              (BSS_train['Snow'] == 0)].groupby('hour').agg(\n",
    "    {'casual':'mean','registered':'mean'})\n",
    "\n",
    "plt.clf()\n",
    "fig, axes = plt.subplots(nrows=2, ncols=2, figsize=(16, 8))\n",
    "fig.suptitle('Riders per Hour by Weather', fontsize=16)\n",
    "\n",
    "axes[0,0].plot(clear_df.index, clear_df.casual, label = 'Casual Riders', color = 'grey')\n",
    "axes[0,0].plot(clear_df.index, clear_df.registered, label = 'Registered Riders', color = 'orange')\n",
    "axes[0,0].set_title('Clear')\n",
    "axes[0,0].grid(True)\n",
    "axes[0,0].set_ylim((0, 500))\n",
    "axes[0,0].margins(0, 0.25)\n",
    "axes[0,0].set_ylabel('Average Rides')\n",
    "axes[0,0].set_xticks([0, 4, 8, 12, 16, 20])\n",
    "axes[0,0].set_xticklabels(['24:00', '4:00', '8:00', '12:00', '16:00', '20:00'])\n",
    "\n",
    "axes[0,1].plot(cloudy_df.index, cloudy_df.casual, label = 'Casual Riders', color = 'grey')\n",
    "axes[0,1].plot(cloudy_df.index, cloudy_df.registered, label = 'Registered Riders', color = 'orange')\n",
    "axes[0,1].set_title('Cloudy')\n",
    "axes[0,1].grid(True)\n",
    "axes[0,1].set_ylim((0, 500))\n",
    "axes[0,1].margins(0, 0.25)\n",
    "axes[0,1].legend()\n",
    "axes[0,1].set_xticks([0, 4, 8, 12, 16, 20])\n",
    "axes[0,1].set_xticklabels(['24:00', '4:00', '8:00', '12:00', '16:00', '20:00'])\n",
    "\n",
    "axes[1,0].plot(storm_df.index, storm_df.casual, label = 'Casual Riders', color = 'grey')\n",
    "axes[1,0].plot(storm_df.index, storm_df.registered, label = 'Registered Riders', color = 'orange')\n",
    "axes[1,0].set_title('Stormy')\n",
    "axes[1,0].grid(True)\n",
    "axes[1,0].set_ylim((0, 500))\n",
    "axes[1,0].set_xlim((0, 24))\n",
    "axes[1,0].margins(0, 0.25)\n",
    "axes[1,0].set_ylabel('Average Rides')\n",
    "axes[1,0].set_xlabel('Time (24hr)')\n",
    "axes[1,0].set_xticks([0, 4, 8, 12, 16, 20])\n",
    "axes[1,0].set_xticklabels(['24:00', '4:00', '8:00', '12:00', '16:00', '20:00'])\n",
    "\n",
    "axes[1,1].plot(snow_df.index, snow_df.casual, label = 'Casual Riders', color = 'grey')\n",
    "axes[1,1].plot(snow_df.index, snow_df.registered, label = 'Registered Riders', color = 'orange')\n",
    "axes[1,1].set_title('Snowy')\n",
    "axes[1,1].grid(True)\n",
    "axes[1,1].set_ylim((0, 500))\n",
    "axes[1,1].margins(0, 0.25)\n",
    "axes[1,1].set_xlabel('Time (24hr)')\n",
    "axes[1,1].set_xticks([0, 4, 8, 12, 16, 20])\n",
    "axes[1,1].set_xticklabels(['24:00', '4:00', '8:00', '12:00', '16:00', '20:00'])\n",
    "plt.show()"
   ]
  },
  {
   "cell_type": "markdown",
   "metadata": {},
   "source": [
    "As we would hypothesize, the ridership decreases as the weather moves from clear to snowy. Snow has about half as many riders at any given time than an average clear day. Cloudy and clear are actually fairly similar, with slightly fewer casual riders on cloudy days. \n",
    "\n",
    "There is not enough information for stormy days to make accurate prediction for this case. Presumably, this classification is not often used. "
   ]
  },
  {
   "cell_type": "markdown",
   "metadata": {},
   "source": [
    "---"
   ]
  },
  {
   "cell_type": "markdown",
   "metadata": {
    "button": false,
    "new_sheet": false,
    "run_control": {
     "read_only": false
    }
   },
   "source": [
    "<div class='exercise'> <b> Question 3 [18pts]: Multiple Linear Regression to Predict Hourly Ridership </b> </div>\n",
    "\n",
    "\n",
    "**3.1** Use statsmodels to fit a multiple linear regression model to the training set using all the useable predictors (nothing that `count` was derived of and no interactions or polynomial terms) to predict `counts`, and report its $R^2$ score on the train and test sets.  Call this set of predictors `X_train`.\n",
    "\n",
    "**3.2** Examine the estimated coefficients and report which ones are statistically significant at a significance level of 5% (p-value < 0.05). \n",
    "\n",
    "**3.3** You should see some strange estimates for the predictors representing months.  Carefully interpret the `July` coefficient, and explain why this result is likely occurring (be as specific as possible). \n",
    "\n",
    "**3.4** To diagnose the model, make two plots: first a histogram of the residuals, and second a plot of the residuals of the fitted model ${e} = y - \\hat{y}$ as a function of the predicted value $\\hat{y}$. Draw a horizontal line denoting the zero residual value on the Y-axis. What do the plots reveal about the OLS assumptions (linearity, constant variance, and normality)?\n",
    "\n",
    "**3.5** Perhaps we can do better via a model with polynomial terms. Build a dataset `X_train_poly` from your `X_train` data from question 3.1 with added $x^2$ terms for `temp`, `hour`, and `humidity`. Are these polynomial terms important? How does predicted ridership change as each of `temp`, `hour`, and `humidity` increase?\n",
    "\n",
    "**3.6** You should have received a warning regarding the presence of _multicolinearity_ in the model in 3.1.  Create a new dataset `X_train_drop` by dropping the following predictors from `X_train`:  `workingday` `atemp` `spring` `summer` and `fall` and fit a multiple linear regression model to the variables the remain.  Are the estimates more sensible in this model?  And explain in your own words why multicolinearity can lead to erroneous coefficient values.\n",
    "\n"
   ]
  },
  {
   "cell_type": "markdown",
   "metadata": {
    "button": false,
    "new_sheet": false,
    "run_control": {
     "read_only": false
    }
   },
   "source": [
    "### Answers"
   ]
  },
  {
   "cell_type": "markdown",
   "metadata": {
    "button": false,
    "new_sheet": false,
    "run_control": {
     "read_only": false
    }
   },
   "source": [
    "**3.1 Use statsmodels to fit a multiple linear regression model...**"
   ]
  },
  {
   "cell_type": "code",
   "execution_count": 61,
   "metadata": {
    "button": false,
    "new_sheet": false,
    "run_control": {
     "read_only": false
    }
   },
   "outputs": [
    {
     "name": "stdout",
     "output_type": "stream",
     "text": [
      "dteday         object\n",
      "hour            int64\n",
      "holiday         int64\n",
      "year            int64\n",
      "workingday      int64\n",
      "temp          float64\n",
      "atemp         float64\n",
      "hum           float64\n",
      "windspeed     float64\n",
      "casual          int64\n",
      "registered      int64\n",
      "counts          int64\n",
      "spring          int64\n",
      "summer          int64\n",
      "fall            int64\n",
      "Feb             int64\n",
      "Mar             int64\n",
      "Apr             int64\n",
      "May             int64\n",
      "Jun             int64\n",
      "Jul             int64\n",
      "Aug             int64\n",
      "Sept            int64\n",
      "Oct             int64\n",
      "Nov             int64\n",
      "Dec             int64\n",
      "Mon             int64\n",
      "Tue             int64\n",
      "Wed             int64\n",
      "Thu             int64\n",
      "Fri             int64\n",
      "Sat             int64\n",
      "Cloudy          int64\n",
      "Snow            int64\n",
      "Storm           int64\n",
      "dtype: object\n",
      "(8689, 31)\n",
      "(8689,)\n"
     ]
    },
    {
     "data": {
      "text/html": [
       "<table class=\"simpletable\">\n",
       "<caption>OLS Regression Results</caption>\n",
       "<tr>\n",
       "  <th>Dep. Variable:</th>            <td>y</td>        <th>  R-squared:         </th> <td>   0.412</td> \n",
       "</tr>\n",
       "<tr>\n",
       "  <th>Model:</th>                   <td>OLS</td>       <th>  Adj. R-squared:    </th> <td>   0.410</td> \n",
       "</tr>\n",
       "<tr>\n",
       "  <th>Method:</th>             <td>Least Squares</td>  <th>  F-statistic:       </th> <td>   201.9</td> \n",
       "</tr>\n",
       "<tr>\n",
       "  <th>Date:</th>             <td>Sun, 06 Oct 2019</td> <th>  Prob (F-statistic):</th>  <td>  0.00</td>  \n",
       "</tr>\n",
       "<tr>\n",
       "  <th>Time:</th>                 <td>15:23:10</td>     <th>  Log-Likelihood:    </th> <td> -55215.</td> \n",
       "</tr>\n",
       "<tr>\n",
       "  <th>No. Observations:</th>      <td>  8689</td>      <th>  AIC:               </th> <td>1.105e+05</td>\n",
       "</tr>\n",
       "<tr>\n",
       "  <th>Df Residuals:</th>          <td>  8658</td>      <th>  BIC:               </th> <td>1.107e+05</td>\n",
       "</tr>\n",
       "<tr>\n",
       "  <th>Df Model:</th>              <td>    30</td>      <th>                     </th>     <td> </td>    \n",
       "</tr>\n",
       "<tr>\n",
       "  <th>Covariance Type:</th>      <td>nonrobust</td>    <th>                     </th>     <td> </td>    \n",
       "</tr>\n",
       "</table>\n",
       "<table class=\"simpletable\">\n",
       "<tr>\n",
       "    <td></td>       <th>coef</th>     <th>std err</th>      <th>t</th>      <th>P>|t|</th>  <th>[0.025</th>    <th>0.975]</th>  \n",
       "</tr>\n",
       "<tr>\n",
       "  <th>const</th> <td>  -30.4075</td> <td>   10.908</td> <td>   -2.788</td> <td> 0.005</td> <td>  -51.789</td> <td>   -9.026</td>\n",
       "</tr>\n",
       "<tr>\n",
       "  <th>x1</th>    <td>    7.2092</td> <td>    0.233</td> <td>   30.975</td> <td> 0.000</td> <td>    6.753</td> <td>    7.665</td>\n",
       "</tr>\n",
       "<tr>\n",
       "  <th>x2</th>    <td>  -19.1510</td> <td>    8.369</td> <td>   -2.288</td> <td> 0.022</td> <td>  -35.556</td> <td>   -2.746</td>\n",
       "</tr>\n",
       "<tr>\n",
       "  <th>x3</th>    <td>   78.1211</td> <td>    3.020</td> <td>   25.864</td> <td> 0.000</td> <td>   72.200</td> <td>   84.042</td>\n",
       "</tr>\n",
       "<tr>\n",
       "  <th>x4</th>    <td>   10.9484</td> <td>    3.512</td> <td>    3.118</td> <td> 0.002</td> <td>    4.065</td> <td>   17.832</td>\n",
       "</tr>\n",
       "<tr>\n",
       "  <th>x5</th>    <td>  273.6625</td> <td>   61.680</td> <td>    4.437</td> <td> 0.000</td> <td>  152.755</td> <td>  394.570</td>\n",
       "</tr>\n",
       "<tr>\n",
       "  <th>x6</th>    <td>  162.5353</td> <td>   64.909</td> <td>    2.504</td> <td> 0.012</td> <td>   35.298</td> <td>  289.773</td>\n",
       "</tr>\n",
       "<tr>\n",
       "  <th>x7</th>    <td> -202.0080</td> <td>    9.927</td> <td>  -20.349</td> <td> 0.000</td> <td> -221.468</td> <td> -182.548</td>\n",
       "</tr>\n",
       "<tr>\n",
       "  <th>x8</th>    <td>   19.3827</td> <td>   13.595</td> <td>    1.426</td> <td> 0.154</td> <td>   -7.268</td> <td>   46.033</td>\n",
       "</tr>\n",
       "<tr>\n",
       "  <th>x9</th>    <td>   50.0754</td> <td>    9.528</td> <td>    5.256</td> <td> 0.000</td> <td>   31.398</td> <td>   68.753</td>\n",
       "</tr>\n",
       "<tr>\n",
       "  <th>x10</th>   <td>   22.6879</td> <td>   11.138</td> <td>    2.037</td> <td> 0.042</td> <td>    0.855</td> <td>   44.521</td>\n",
       "</tr>\n",
       "<tr>\n",
       "  <th>x11</th>   <td>   70.9474</td> <td>    9.448</td> <td>    7.509</td> <td> 0.000</td> <td>   52.426</td> <td>   89.469</td>\n",
       "</tr>\n",
       "<tr>\n",
       "  <th>x12</th>   <td>  -10.7198</td> <td>    7.590</td> <td>   -1.412</td> <td> 0.158</td> <td>  -25.598</td> <td>    4.158</td>\n",
       "</tr>\n",
       "<tr>\n",
       "  <th>x13</th>   <td>  -11.2938</td> <td>    8.385</td> <td>   -1.347</td> <td> 0.178</td> <td>  -27.731</td> <td>    5.143</td>\n",
       "</tr>\n",
       "<tr>\n",
       "  <th>x14</th>   <td>  -44.8326</td> <td>   12.635</td> <td>   -3.548</td> <td> 0.000</td> <td>  -69.600</td> <td>  -20.065</td>\n",
       "</tr>\n",
       "<tr>\n",
       "  <th>x15</th>   <td>  -50.1605</td> <td>   13.493</td> <td>   -3.718</td> <td> 0.000</td> <td>  -76.609</td> <td>  -23.712</td>\n",
       "</tr>\n",
       "<tr>\n",
       "  <th>x16</th>   <td>  -72.2042</td> <td>   13.700</td> <td>   -5.271</td> <td> 0.000</td> <td>  -99.058</td> <td>  -45.350</td>\n",
       "</tr>\n",
       "<tr>\n",
       "  <th>x17</th>   <td>  -90.8965</td> <td>   15.387</td> <td>   -5.907</td> <td> 0.000</td> <td> -121.058</td> <td>  -60.735</td>\n",
       "</tr>\n",
       "<tr>\n",
       "  <th>x18</th>   <td>  -58.3246</td> <td>   15.061</td> <td>   -3.873</td> <td> 0.000</td> <td>  -87.847</td> <td>  -28.802</td>\n",
       "</tr>\n",
       "<tr>\n",
       "  <th>x19</th>   <td>  -16.1686</td> <td>   13.432</td> <td>   -1.204</td> <td> 0.229</td> <td>  -42.499</td> <td>   10.162</td>\n",
       "</tr>\n",
       "<tr>\n",
       "  <th>x20</th>   <td>  -15.8838</td> <td>   12.484</td> <td>   -1.272</td> <td> 0.203</td> <td>  -40.356</td> <td>    8.588</td>\n",
       "</tr>\n",
       "<tr>\n",
       "  <th>x21</th>   <td>  -32.7232</td> <td>   12.049</td> <td>   -2.716</td> <td> 0.007</td> <td>  -56.342</td> <td>   -9.104</td>\n",
       "</tr>\n",
       "<tr>\n",
       "  <th>x22</th>   <td>  -19.2088</td> <td>    9.560</td> <td>   -2.009</td> <td> 0.045</td> <td>  -37.949</td> <td>   -0.469</td>\n",
       "</tr>\n",
       "<tr>\n",
       "  <th>x23</th>   <td>   -3.3336</td> <td>    3.756</td> <td>   -0.888</td> <td> 0.375</td> <td>  -10.697</td> <td>    4.029</td>\n",
       "</tr>\n",
       "<tr>\n",
       "  <th>x24</th>   <td>   -0.0074</td> <td>    4.105</td> <td>   -0.002</td> <td> 0.999</td> <td>   -8.055</td> <td>    8.040</td>\n",
       "</tr>\n",
       "<tr>\n",
       "  <th>x25</th>   <td>   -2.2059</td> <td>    4.082</td> <td>   -0.540</td> <td> 0.589</td> <td>  -10.207</td> <td>    5.795</td>\n",
       "</tr>\n",
       "<tr>\n",
       "  <th>x26</th>   <td>   -5.5698</td> <td>    4.013</td> <td>   -1.388</td> <td> 0.165</td> <td>  -13.436</td> <td>    2.297</td>\n",
       "</tr>\n",
       "<tr>\n",
       "  <th>x27</th>   <td>    2.9140</td> <td>    4.015</td> <td>    0.726</td> <td> 0.468</td> <td>   -4.956</td> <td>   10.784</td>\n",
       "</tr>\n",
       "<tr>\n",
       "  <th>x28</th>   <td>   12.7461</td> <td>    5.587</td> <td>    2.281</td> <td> 0.023</td> <td>    1.793</td> <td>   23.699</td>\n",
       "</tr>\n",
       "<tr>\n",
       "  <th>x29</th>   <td>    6.9163</td> <td>    3.676</td> <td>    1.882</td> <td> 0.060</td> <td>   -0.289</td> <td>   14.122</td>\n",
       "</tr>\n",
       "<tr>\n",
       "  <th>x30</th>   <td>  -26.8155</td> <td>    6.094</td> <td>   -4.401</td> <td> 0.000</td> <td>  -38.760</td> <td>  -14.871</td>\n",
       "</tr>\n",
       "<tr>\n",
       "  <th>x31</th>   <td>   48.2045</td> <td>   98.839</td> <td>    0.488</td> <td> 0.626</td> <td> -145.543</td> <td>  241.952</td>\n",
       "</tr>\n",
       "</table>\n",
       "<table class=\"simpletable\">\n",
       "<tr>\n",
       "  <th>Omnibus:</th>       <td>1691.839</td> <th>  Durbin-Watson:     </th> <td>   1.982</td>\n",
       "</tr>\n",
       "<tr>\n",
       "  <th>Prob(Omnibus):</th>  <td> 0.000</td>  <th>  Jarque-Bera (JB):  </th> <td>3250.657</td>\n",
       "</tr>\n",
       "<tr>\n",
       "  <th>Skew:</th>           <td> 1.191</td>  <th>  Prob(JB):          </th> <td>    0.00</td>\n",
       "</tr>\n",
       "<tr>\n",
       "  <th>Kurtosis:</th>       <td> 4.818</td>  <th>  Cond. No.          </th> <td>1.17e+16</td>\n",
       "</tr>\n",
       "</table><br/><br/>Warnings:<br/>[1] Standard Errors assume that the covariance matrix of the errors is correctly specified.<br/>[2] The smallest eigenvalue is 1.18e-26. This might indicate that there are<br/>strong multicollinearity problems or that the design matrix is singular."
      ],
      "text/plain": [
       "<class 'statsmodels.iolib.summary.Summary'>\n",
       "\"\"\"\n",
       "                            OLS Regression Results                            \n",
       "==============================================================================\n",
       "Dep. Variable:                      y   R-squared:                       0.412\n",
       "Model:                            OLS   Adj. R-squared:                  0.410\n",
       "Method:                 Least Squares   F-statistic:                     201.9\n",
       "Date:                Sun, 06 Oct 2019   Prob (F-statistic):               0.00\n",
       "Time:                        15:23:10   Log-Likelihood:                -55215.\n",
       "No. Observations:                8689   AIC:                         1.105e+05\n",
       "Df Residuals:                    8658   BIC:                         1.107e+05\n",
       "Df Model:                          30                                         \n",
       "Covariance Type:            nonrobust                                         \n",
       "==============================================================================\n",
       "                 coef    std err          t      P>|t|      [0.025      0.975]\n",
       "------------------------------------------------------------------------------\n",
       "const        -30.4075     10.908     -2.788      0.005     -51.789      -9.026\n",
       "x1             7.2092      0.233     30.975      0.000       6.753       7.665\n",
       "x2           -19.1510      8.369     -2.288      0.022     -35.556      -2.746\n",
       "x3            78.1211      3.020     25.864      0.000      72.200      84.042\n",
       "x4            10.9484      3.512      3.118      0.002       4.065      17.832\n",
       "x5           273.6625     61.680      4.437      0.000     152.755     394.570\n",
       "x6           162.5353     64.909      2.504      0.012      35.298     289.773\n",
       "x7          -202.0080      9.927    -20.349      0.000    -221.468    -182.548\n",
       "x8            19.3827     13.595      1.426      0.154      -7.268      46.033\n",
       "x9            50.0754      9.528      5.256      0.000      31.398      68.753\n",
       "x10           22.6879     11.138      2.037      0.042       0.855      44.521\n",
       "x11           70.9474      9.448      7.509      0.000      52.426      89.469\n",
       "x12          -10.7198      7.590     -1.412      0.158     -25.598       4.158\n",
       "x13          -11.2938      8.385     -1.347      0.178     -27.731       5.143\n",
       "x14          -44.8326     12.635     -3.548      0.000     -69.600     -20.065\n",
       "x15          -50.1605     13.493     -3.718      0.000     -76.609     -23.712\n",
       "x16          -72.2042     13.700     -5.271      0.000     -99.058     -45.350\n",
       "x17          -90.8965     15.387     -5.907      0.000    -121.058     -60.735\n",
       "x18          -58.3246     15.061     -3.873      0.000     -87.847     -28.802\n",
       "x19          -16.1686     13.432     -1.204      0.229     -42.499      10.162\n",
       "x20          -15.8838     12.484     -1.272      0.203     -40.356       8.588\n",
       "x21          -32.7232     12.049     -2.716      0.007     -56.342      -9.104\n",
       "x22          -19.2088      9.560     -2.009      0.045     -37.949      -0.469\n",
       "x23           -3.3336      3.756     -0.888      0.375     -10.697       4.029\n",
       "x24           -0.0074      4.105     -0.002      0.999      -8.055       8.040\n",
       "x25           -2.2059      4.082     -0.540      0.589     -10.207       5.795\n",
       "x26           -5.5698      4.013     -1.388      0.165     -13.436       2.297\n",
       "x27            2.9140      4.015      0.726      0.468      -4.956      10.784\n",
       "x28           12.7461      5.587      2.281      0.023       1.793      23.699\n",
       "x29            6.9163      3.676      1.882      0.060      -0.289      14.122\n",
       "x30          -26.8155      6.094     -4.401      0.000     -38.760     -14.871\n",
       "x31           48.2045     98.839      0.488      0.626    -145.543     241.952\n",
       "==============================================================================\n",
       "Omnibus:                     1691.839   Durbin-Watson:                   1.982\n",
       "Prob(Omnibus):                  0.000   Jarque-Bera (JB):             3250.657\n",
       "Skew:                           1.191   Prob(JB):                         0.00\n",
       "Kurtosis:                       4.818   Cond. No.                     1.17e+16\n",
       "==============================================================================\n",
       "\n",
       "Warnings:\n",
       "[1] Standard Errors assume that the covariance matrix of the errors is correctly specified.\n",
       "[2] The smallest eigenvalue is 1.18e-26. This might indicate that there are\n",
       "strong multicollinearity problems or that the design matrix is singular.\n",
       "\"\"\""
      ]
     },
     "execution_count": 61,
     "metadata": {},
     "output_type": "execute_result"
    }
   ],
   "source": [
    "# your code here\n",
    "# Reshape dataset\n",
    "explanatory_vars = ['hour', 'holiday', 'year', 'workingday', 'temp', 'atemp',\n",
    "       'hum', 'windspeed', 'spring',\n",
    "       'summer', 'fall', 'Feb', 'Mar', 'Apr', 'May', 'Jun', 'Jul', 'Aug',\n",
    "       'Sept', 'Oct', 'Nov', 'Dec', 'Mon', 'Tue', 'Wed', 'Thu', 'Fri', 'Sat',\n",
    "       'Cloudy', 'Snow', 'Storm']\n",
    "print(BSS_train.dtypes)\n",
    "X_train = np.array(BSS_train[explanatory_vars])\n",
    "X_train = X_train.reshape(X_train.shape[0], len(explanatory_vars))\n",
    "Y_train = np.array(BSS_train.counts)\n",
    "\n",
    "X_test = np.array(BSS_test[explanatory_vars])\n",
    "X_test = X_test.reshape(X_test.shape[0], len(explanatory_vars))\n",
    "Y_test = np.array(BSS_test.counts)\n",
    "\n",
    "print(X_train.shape)\n",
    "print(Y_train.shape)\n",
    "\n",
    "OLSModel = sm.OLS(Y_train, sm.add_constant(X_train))\n",
    "OLSModel_Fit = OLSModel.fit()\n",
    "\n",
    "OLSModel_Fit.summary()"
   ]
  },
  {
   "cell_type": "markdown",
   "metadata": {
    "button": false,
    "new_sheet": false,
    "run_control": {
     "read_only": false
    }
   },
   "source": [
    "**3.2 Examine the estimated coefficients and report...**"
   ]
  },
  {
   "cell_type": "code",
   "execution_count": 30,
   "metadata": {
    "button": false,
    "new_sheet": false,
    "run_control": {
     "read_only": false
    }
   },
   "outputs": [],
   "source": [
    "# your code here"
   ]
  },
  {
   "cell_type": "markdown",
   "metadata": {
    "run_control": {}
   },
   "source": [
    "**3.3 You should see some strange estimates for the predictors representing months...** "
   ]
  },
  {
   "cell_type": "markdown",
   "metadata": {
    "run_control": {}
   },
   "source": [
    "*your answer here*\n"
   ]
  },
  {
   "cell_type": "markdown",
   "metadata": {
    "button": false,
    "new_sheet": false,
    "run_control": {
     "read_only": false
    }
   },
   "source": [
    "**3.4 To diagnose the model, make two plots:...**"
   ]
  },
  {
   "cell_type": "code",
   "execution_count": 31,
   "metadata": {
    "button": false,
    "new_sheet": false,
    "run_control": {
     "read_only": false
    }
   },
   "outputs": [],
   "source": [
    "# your code here"
   ]
  },
  {
   "cell_type": "markdown",
   "metadata": {
    "button": false,
    "new_sheet": false,
    "run_control": {
     "read_only": false
    }
   },
   "source": [
    "**3.5 Perhaps we can do better via a model...**"
   ]
  },
  {
   "cell_type": "code",
   "execution_count": 32,
   "metadata": {
    "button": false,
    "new_sheet": false,
    "run_control": {
     "read_only": false
    }
   },
   "outputs": [],
   "source": [
    "# your code here"
   ]
  },
  {
   "cell_type": "markdown",
   "metadata": {
    "button": false,
    "new_sheet": false,
    "run_control": {
     "read_only": false
    }
   },
   "source": [
    "**3.6 You should have received a warning regarding the presence of _multicollinearity_...**"
   ]
  },
  {
   "cell_type": "code",
   "execution_count": 33,
   "metadata": {
    "button": false,
    "new_sheet": false,
    "run_control": {
     "read_only": false
    }
   },
   "outputs": [],
   "source": [
    "# your code here"
   ]
  },
  {
   "cell_type": "markdown",
   "metadata": {
    "run_control": {}
   },
   "source": [
    "---"
   ]
  },
  {
   "cell_type": "markdown",
   "metadata": {
    "button": false,
    "new_sheet": false,
    "run_control": {
     "read_only": false
    }
   },
   "source": [
    "<div class='exercise'> <b> Question 4 [20pts]: Regression Models with Polynomial and Interaction Terms </b> </div>\n",
    "\n",
    "**4.1** Drop the variables `workingday`, `atemp`, `spring`, `summer`, `fall`, and  `dteday` from `BSS_train` (if any of them still remain).\n",
    "\n",
    "**4.2** Write a function to standardize a provided subset of columns in your training/validation/test sets. Remember that while you will be scaling all of your data, you must learn the scaling parameters (mean and SD) from only the training set.\n",
    "\n",
    "Test your code by building a list of all non-binary columns from `X_train` into a dataset called `practice_X_train` and scaling only those columns. Call the result `practice_X_train_scaled`. Display the `.describe()` and verify that you have correctly scaled all columns, including the polynomial columns.\n",
    "\n",
    "**Hint: employ the provided list of binary columns and use `pd.columns.difference()`**\n",
    "\n",
    "`binary_columns = [ 'holiday', 'workingday','Feb', 'Mar', 'Apr',\n",
    "       'May', 'Jun', 'Jul', 'Aug', 'Sept', 'Oct', 'Nov', 'Dec', 'spring',\n",
    "       'summer', 'fall', 'Mon', 'Tue', 'Wed', 'Thu', 'Fri', 'Sat',\n",
    "       'Cloudy', 'Snow', 'Storm']`\n",
    "\n",
    "\n",
    "**4.3** Write a code to augment your a dataset with higher-order features for `temp`, `hum`,`windspeed`, and `hour`. You should include ONLY the pure powers of these columns. So with degree=2 you should produce `temp^2` and `hum^2` but not `temp*hum` or any other two-feature interactions. \n",
    "\n",
    "Encapsulate this process as a function with appropriate inputs and outputs, and test your code by producing `practice_X_train_poly`, a training dataset with quadratic and cubic features built from `practice_X_train_scaled`, and printing `practice_X_train_poly`'s column names and `.head()`.\n",
    "\n",
    "**4.4** Write code to add interaction terms to the model. Specifically, we want interactions between the continuous predictors (`temp`, `hum`,`windspeed`) and the month and weekday dummies (`Feb`, `Mar`...`Dec`, `Mon`, `Tue`, ... `Sat`). That means you SHOULD build `temp*Feb` and `hum*Mon` and so on, but NOT `Feb*Mar` and NOT `Feb*Tue`. The interaction terms should always be a continuous feature times a month dummy or a continuous feature times a weekday dummy.\n",
    "\n",
    "Encapsulate this process as a function with appropriate inputs and outputs, and test your code by adding interaction terms to `practice_X_train_poly` and show its column names and `.head()`**\n",
    "\n",
    "**4.5** Combine all your code so far into a function named `get_design_mats` that takes in `BSS_train`, `BSS_test`, the names of columns for polynomial, the target column, the columns to be dropped and produces computation-ready design matrices `X_train` and `X_test` and responses `y_train` and `y_test`. Your final function should build correct, scaled design matrices with the stated interaction terms and any polynomial degree.\n",
    "\n",
    "\n",
    "**4.6** For each degree in 1 through 8:\n",
    "\n",
    "1.  Build the training design matrix and validation design matrix using the function `get_design_mats` with polynomial terms up through the specified degree.\n",
    "\n",
    "2.  Fit a regression model to the training data.\n",
    "\n",
    "3.  Report the model's score on the test data.\n",
    "\n",
    "**4.7** Discuss patterns you see in the results from 4.5. Which model would you select, and why?"
   ]
  },
  {
   "cell_type": "markdown",
   "metadata": {
    "button": false,
    "new_sheet": false,
    "run_control": {
     "read_only": false
    }
   },
   "source": [
    "### Answers"
   ]
  },
  {
   "cell_type": "markdown",
   "metadata": {
    "button": false,
    "new_sheet": false,
    "run_control": {
     "read_only": false
    }
   },
   "source": [
    "**4.1 Drop...**"
   ]
  },
  {
   "cell_type": "code",
   "execution_count": 34,
   "metadata": {
    "button": false,
    "new_sheet": false,
    "run_control": {
     "read_only": false
    }
   },
   "outputs": [],
   "source": [
    "# your code here"
   ]
  },
  {
   "cell_type": "markdown",
   "metadata": {
    "button": false,
    "new_sheet": false,
    "run_control": {
     "read_only": false
    }
   },
   "source": [
    "**4.2 Write a function to standardize...**"
   ]
  },
  {
   "cell_type": "code",
   "execution_count": 35,
   "metadata": {
    "button": false,
    "new_sheet": false,
    "run_control": {
     "read_only": false
    }
   },
   "outputs": [],
   "source": [
    "# your code here"
   ]
  },
  {
   "cell_type": "markdown",
   "metadata": {
    "button": false,
    "new_sheet": false,
    "run_control": {
     "read_only": false
    }
   },
   "source": [
    "**4.3 Write code to augment your a dataset with higher-order features for...**"
   ]
  },
  {
   "cell_type": "code",
   "execution_count": 36,
   "metadata": {
    "button": false,
    "new_sheet": false,
    "run_control": {
     "read_only": false
    }
   },
   "outputs": [],
   "source": [
    "# your code here"
   ]
  },
  {
   "cell_type": "markdown",
   "metadata": {
    "button": false,
    "new_sheet": false,
    "run_control": {
     "read_only": false
    }
   },
   "source": [
    "**4.4 Write code to add interaction terms to the model...**"
   ]
  },
  {
   "cell_type": "code",
   "execution_count": 37,
   "metadata": {
    "button": false,
    "new_sheet": false,
    "run_control": {
     "read_only": false
    }
   },
   "outputs": [],
   "source": [
    "# your code here"
   ]
  },
  {
   "cell_type": "markdown",
   "metadata": {
    "button": false,
    "new_sheet": false,
    "run_control": {
     "read_only": false
    }
   },
   "source": [
    "**4.5 Combine all your code so far into a function named...**"
   ]
  },
  {
   "cell_type": "code",
   "execution_count": 38,
   "metadata": {
    "button": false,
    "new_sheet": false,
    "run_control": {
     "read_only": false
    }
   },
   "outputs": [],
   "source": [
    "def get_design_mats(train_df, val_df,  degree, \n",
    "                    columns_forpoly=['temp', 'hum','windspeed', 'hour'],\n",
    "                    target_col='counts', \n",
    "                    bad_columns=['counts']):\n",
    "    \"\"\"\n",
    "    :param train_df: The training data\n",
    "    :param val_df: Your test/validation data\n",
    "    :param columns_forpoly: List containing the column name for which we want to create \n",
    "                            polynomial terms\n",
    "    :param target_col: The response variable column\n",
    "    :param bad_columns: The columns you want to drop\n",
    "    \"\"\"\n",
    "    \n",
    "    # add code here \n",
    "    return x_train,y_train, x_val,y_val"
   ]
  },
  {
   "cell_type": "markdown",
   "metadata": {
    "button": false,
    "new_sheet": false,
    "run_control": {
     "read_only": false
    }
   },
   "source": [
    "**4.6 For each degree in 1 through 8...**"
   ]
  },
  {
   "cell_type": "code",
   "execution_count": 39,
   "metadata": {
    "button": false,
    "new_sheet": false,
    "run_control": {
     "read_only": false
    }
   },
   "outputs": [],
   "source": [
    "# your code here"
   ]
  },
  {
   "cell_type": "markdown",
   "metadata": {
    "button": false,
    "new_sheet": false,
    "run_control": {
     "read_only": false
    }
   },
   "source": [
    "**4.7 Discuss patterns you see in the results...**"
   ]
  },
  {
   "cell_type": "markdown",
   "metadata": {
    "button": false,
    "new_sheet": false,
    "run_control": {
     "read_only": false
    }
   },
   "source": [
    "*your answer here*"
   ]
  },
  {
   "cell_type": "markdown",
   "metadata": {},
   "source": [
    "---"
   ]
  },
  {
   "cell_type": "markdown",
   "metadata": {
    "button": false,
    "new_sheet": false,
    "run_control": {
     "read_only": false
    }
   },
   "source": [
    "<div class='exercise'> <b> Question 5 [20pts]: Regularized Models </b> </div>\n",
    "\n",
    "**5.1** Let's try regularizing our models via ridge regression. Split the training set, `BSS_train`, into an 80-20 train-validation split.  Build a table showing the validation set $R^2$ of polynomial models with degree from 1-8, regularized at the levels $\\lambda = (.01, .05, .1,.5, 1, 5, 10, 50, 100)$. Do not perform cross validation at this point, simply report performance on the single validation set. \n",
    "\n",
    "**5.2** Find the best-scoring degree and regularization combination.\n",
    "\n",
    "**5.3** It's time to see how well our selected model will do on future data. Use the earlier created test dataset, do any required formatting, and report the best model's $R^2$ score. How does it compare to the validation set score that made us choose this model? Does the test set simply have observations that are more difficult or easier to predict?\n",
    "\n",
    "**5.4** Build a dataset with polynomial degree 1 and fit an OLS model, a Ridge model, and a Lasso model. Use `RidgeCV` and `LassoCV` to select the best regularization level from among `(.1,.5,1,5,10,50,100)`. \n",
    "\n",
    "Note: On the lasso model, you may need to increase `max_iter` (start with 100,000) for the optimization to converge.\n",
    "\n",
    "**5.5** Plot histograms of the coefficients found by each of OLS, ridge, and lasso. What trends do you see in the magnitude of the coefficients?\n",
    "\n",
    "**5.6** The plots above show the overall distribution of coefficient values in each model, but do not show how each model treats individual coefficients. Build a plot which cleanly presents, for each feature in the data, 1) The coefficient assigned by OLS, 2) the coefficient assigned by ridge, and 3) the coefficient assigned by lasso.\n",
    "\n",
    "**Hint: Bar plots are a possible choice, but you are not required to use them**\n",
    "\n",
    "**Hint: use `xticks` to label coefficients with their feature names**\n",
    "\n",
    "**5.7** What trends do you see in the plot above? How do the three approaches handle the correlated pair `temp` and `atemp`?"
   ]
  },
  {
   "cell_type": "markdown",
   "metadata": {
    "button": false,
    "new_sheet": false,
    "run_control": {
     "read_only": false
    }
   },
   "source": [
    "### Answers"
   ]
  },
  {
   "cell_type": "markdown",
   "metadata": {
    "button": false,
    "new_sheet": false,
    "run_control": {
     "read_only": false
    }
   },
   "source": [
    "**5.1 Let's try regularizing our models via...** "
   ]
  },
  {
   "cell_type": "code",
   "execution_count": 40,
   "metadata": {
    "button": false,
    "new_sheet": false,
    "run_control": {
     "read_only": false
    }
   },
   "outputs": [],
   "source": [
    "# your code here"
   ]
  },
  {
   "cell_type": "markdown",
   "metadata": {
    "button": false,
    "new_sheet": false,
    "run_control": {
     "read_only": false
    }
   },
   "source": [
    "**5.2 Find the best-scoring degree and regularization combination.**"
   ]
  },
  {
   "cell_type": "code",
   "execution_count": 41,
   "metadata": {
    "button": false,
    "new_sheet": false,
    "run_control": {
     "read_only": false
    }
   },
   "outputs": [],
   "source": [
    "# your code here"
   ]
  },
  {
   "cell_type": "markdown",
   "metadata": {
    "button": false,
    "new_sheet": false,
    "run_control": {
     "read_only": false
    }
   },
   "source": [
    "**5.3 It's time to see how well our selected model...**\n"
   ]
  },
  {
   "cell_type": "code",
   "execution_count": 42,
   "metadata": {
    "button": false,
    "new_sheet": false,
    "run_control": {
     "read_only": false
    }
   },
   "outputs": [],
   "source": [
    "# your code here"
   ]
  },
  {
   "cell_type": "markdown",
   "metadata": {
    "button": false,
    "new_sheet": false,
    "run_control": {
     "read_only": false
    }
   },
   "source": [
    "**5.4 Build a dataset with polynomial degree 1...**"
   ]
  },
  {
   "cell_type": "code",
   "execution_count": 43,
   "metadata": {
    "button": false,
    "new_sheet": false,
    "run_control": {
     "read_only": false
    }
   },
   "outputs": [],
   "source": [
    "# your code here"
   ]
  },
  {
   "cell_type": "markdown",
   "metadata": {
    "button": false,
    "new_sheet": false,
    "run_control": {
     "read_only": false
    }
   },
   "source": [
    "**5.5 Plot histograms of the coefficients found...**"
   ]
  },
  {
   "cell_type": "code",
   "execution_count": 44,
   "metadata": {
    "button": false,
    "new_sheet": false,
    "run_control": {
     "read_only": false
    }
   },
   "outputs": [],
   "source": [
    "# your code here"
   ]
  },
  {
   "cell_type": "markdown",
   "metadata": {
    "button": false,
    "new_sheet": false,
    "run_control": {
     "read_only": false
    }
   },
   "source": [
    "**5.6 The plots above show the overall distribution of... **"
   ]
  },
  {
   "cell_type": "code",
   "execution_count": 45,
   "metadata": {
    "button": false,
    "new_sheet": false,
    "run_control": {
     "read_only": false
    }
   },
   "outputs": [],
   "source": [
    "# your code here"
   ]
  },
  {
   "cell_type": "markdown",
   "metadata": {
    "button": false,
    "new_sheet": false,
    "run_control": {
     "read_only": false
    }
   },
   "source": [
    "**5.7 What trends do you see...**"
   ]
  },
  {
   "cell_type": "code",
   "execution_count": 46,
   "metadata": {
    "button": false,
    "new_sheet": false,
    "run_control": {
     "read_only": false
    }
   },
   "outputs": [],
   "source": [
    "# your code here"
   ]
  },
  {
   "cell_type": "markdown",
   "metadata": {
    "button": false,
    "new_sheet": false,
    "run_control": {
     "read_only": false
    }
   },
   "source": [
    "*your answer here*"
   ]
  },
  {
   "cell_type": "markdown",
   "metadata": {},
   "source": [
    "---"
   ]
  },
  {
   "cell_type": "markdown",
   "metadata": {
    "button": false,
    "new_sheet": false,
    "run_control": {
     "read_only": false
    }
   },
   "source": [
    "<div class='exercise'> <b> Question 6 [16 pts]: Reflection </b></div>\n",
    "These problems are open-ended, and you are not expected to write more than 2-3 sentences. We are interested in seeing that you have thought about these issues; you will be graded on how well you justify your conclusions here, not on what you conclude.\n",
    "\n",
    "**6.1** Reflect back on the `get_design_mats` function you built. In what way was writing this function useful in your analysis? What issues might you have encountered if you copy/pasted the model-building code instead of tying it together in a function? Does a `get_design_mat` function seem wise in general, or are there better options?\n",
    "\n",
    "**6.2** What are the costs and benefits of applying ridge/lasso regularization to an overfit OLS model, versus setting a specific degree of polynomial or forward selecting polynomial features for the model?\n",
    "\n",
    "**6.3** This pset posed a purely predictive goal: forecast ridership as accurately as possible. How important is interpretability in this context? Considering, e.g., your lasso and ridge models from Question 5, how would you react if the models predicted well, but the coefficient values didn't make sense once interpreted?\n",
    "\n",
    "**6.4** Reflect back on our original goal of helping BikeShare predict what demand will be like in the week ahead, and thus how many bikes they can bring in for maintenance. In your view, did we accomplish this goal? If yes, which model would you put into production and why? If not, which model came closest, what other analyses might you conduct, and how likely do you think they are to work?\n"
   ]
  },
  {
   "cell_type": "markdown",
   "metadata": {
    "button": false,
    "new_sheet": false,
    "run_control": {
     "read_only": false
    }
   },
   "source": [
    "### Answers"
   ]
  },
  {
   "cell_type": "markdown",
   "metadata": {},
   "source": [
    "**6.1 Reflect back on the get_design_mats function you built...**"
   ]
  },
  {
   "cell_type": "markdown",
   "metadata": {},
   "source": [
    "*your answer here*"
   ]
  },
  {
   "cell_type": "markdown",
   "metadata": {},
   "source": [
    "**6.2 What are the costs and benefits of applying ridge/lasso...**"
   ]
  },
  {
   "cell_type": "markdown",
   "metadata": {},
   "source": [
    "*your answer here*"
   ]
  },
  {
   "cell_type": "markdown",
   "metadata": {},
   "source": [
    "**6.3 This pset posed a purely predictive goal: forecast ridership...**"
   ]
  },
  {
   "cell_type": "markdown",
   "metadata": {},
   "source": [
    "*your answer here*"
   ]
  },
  {
   "cell_type": "markdown",
   "metadata": {},
   "source": [
    "**6.4 Reflect back on our original goal of helping BikeShare predict...**"
   ]
  },
  {
   "cell_type": "markdown",
   "metadata": {},
   "source": [
    "*your answer here*"
   ]
  },
  {
   "cell_type": "code",
   "execution_count": null,
   "metadata": {
    "button": false,
    "new_sheet": false,
    "run_control": {
     "read_only": false
    }
   },
   "outputs": [],
   "source": []
  }
 ],
 "metadata": {
  "kernelspec": {
   "display_name": "Python 3",
   "language": "python",
   "name": "python3"
  },
  "language_info": {
   "codemirror_mode": {
    "name": "ipython",
    "version": 3
   },
   "file_extension": ".py",
   "mimetype": "text/x-python",
   "name": "python",
   "nbconvert_exporter": "python",
   "pygments_lexer": "ipython3",
   "version": "3.7.3"
  }
 },
 "nbformat": 4,
 "nbformat_minor": 1
}
