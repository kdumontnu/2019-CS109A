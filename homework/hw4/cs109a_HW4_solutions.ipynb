{
 "cells": [
  {
   "cell_type": "markdown",
   "metadata": {},
   "source": [
    "\n",
    "# <img style=\"float: left; padding-right: 10px; width: 45px\" src=\"https://raw.githubusercontent.com/Harvard-IACS/2018-CS109A/master/content/styles/iacs.png\"> CS109A Introduction to Data Science\n",
    "\n",
    "## Homework 4: Logistic Regression\n",
    "\n",
    "**Harvard University**<br/>\n",
    "**Fall 2019**<br/>\n",
    "**Instructors**: Pavlos Protopapas, Kevin Rader, and Chris Tanner\n",
    "\n",
    "<hr style=\"height:2pt\">\n",
    "\n"
   ]
  },
  {
   "cell_type": "code",
   "execution_count": 1,
   "metadata": {},
   "outputs": [
    {
     "data": {
      "text/html": [
       "<style>\n",
       "blockquote { background: #AEDE94; }\n",
       "h1 { \n",
       "    padding-top: 25px;\n",
       "    padding-bottom: 25px;\n",
       "    text-align: left; \n",
       "    padding-left: 10px;\n",
       "    background-color: #DDDDDD; \n",
       "    color: black;\n",
       "}\n",
       "h2 { \n",
       "    padding-top: 10px;\n",
       "    padding-bottom: 10px;\n",
       "    text-align: left; \n",
       "    padding-left: 5px;\n",
       "    background-color: #EEEEEE; \n",
       "    color: black;\n",
       "}\n",
       "\n",
       "div.exercise {\n",
       "\tbackground-color: #ffcccc;\n",
       "\tborder-color: #E9967A; \t\n",
       "\tborder-left: 5px solid #800080; \n",
       "\tpadding: 0.5em;\n",
       "}\n",
       "\n",
       "span.sub-q {\n",
       "\tfont-weight: bold;\n",
       "}\n",
       "div.theme {\n",
       "\tbackground-color: #DDDDDD;\n",
       "\tborder-color: #E9967A; \t\n",
       "\tborder-left: 5px solid #800080; \n",
       "\tpadding: 0.5em;\n",
       "\tfont-size: 18pt;\n",
       "}\n",
       "div.gc { \n",
       "\tbackground-color: #AEDE94;\n",
       "\tborder-color: #E9967A; \t \n",
       "\tborder-left: 5px solid #800080; \n",
       "\tpadding: 0.5em;\n",
       "\tfont-size: 12pt;\n",
       "}\n",
       "p.q1 { \n",
       "    padding-top: 5px;\n",
       "    padding-bottom: 5px;\n",
       "    text-align: left; \n",
       "    padding-left: 5px;\n",
       "    background-color: #EEEEEE; \n",
       "    color: black;\n",
       "}\n",
       "header {\n",
       "   padding-top: 35px;\n",
       "    padding-bottom: 35px;\n",
       "    text-align: left; \n",
       "    padding-left: 10px;\n",
       "    background-color: #DDDDDD; \n",
       "    color: black;\n",
       "}\n",
       "</style>\n",
       "\n"
      ],
      "text/plain": [
       "<IPython.core.display.HTML object>"
      ]
     },
     "execution_count": 1,
     "metadata": {},
     "output_type": "execute_result"
    }
   ],
   "source": [
    "#RUN THIS CELL \n",
    "import requests\n",
    "from IPython.core.display import HTML\n",
    "styles = requests.get(\"https://raw.githubusercontent.com/Harvard-IACS/2018-CS109A/master/content/styles/cs109.css\").text\n",
    "HTML(styles)"
   ]
  },
  {
   "cell_type": "markdown",
   "metadata": {},
   "source": [
    "### INSTRUCTIONS\n",
    "\n",
    "- **This is an individual homework. No group collaboration.**\n",
    "- To submit your assignment, follow the instructions given in Canvas.\n",
    "- Restart the kernel and run the whole notebook again before you submit. \n",
    "- As much as possible, try and stick to the hints and functions we import at the top of the homework, as those are the ideas and tools the class supports and are aiming to teach. And if a problem specifies a particular library, you're required to use that library, and possibly others from the import list.\n",
    "- Please use .head() when viewing data. Do not submit a notebook that is excessively long because output was not suppressed or otherwise limited. "
   ]
  },
  {
   "cell_type": "code",
   "execution_count": 2,
   "metadata": {},
   "outputs": [],
   "source": [
    "import numpy as np\n",
    "import pandas as pd\n",
    "\n",
    "from sklearn.linear_model import LinearRegression\n",
    "from sklearn.linear_model import LogisticRegression\n",
    "from sklearn.linear_model import LogisticRegressionCV\n",
    "from sklearn.linear_model import LassoCV\n",
    "\n",
    "from sklearn.neighbors import KNeighborsClassifier\n",
    "from sklearn.model_selection import cross_val_score\n",
    "from sklearn.metrics import accuracy_score\n",
    "from sklearn.model_selection import KFold\n",
    "from sklearn.preprocessing import MinMaxScaler\n",
    "from sklearn.model_selection import train_test_split\n",
    "\n",
    "import matplotlib\n",
    "import matplotlib.pyplot as plt\n",
    "%matplotlib inline\n",
    "\n",
    "import zipfile\n",
    "\n",
    "\n",
    "import seaborn as sns\n",
    "sns.set()\n",
    "\n",
    "from scipy.stats import ttest_ind"
   ]
  },
  {
   "cell_type": "markdown",
   "metadata": {},
   "source": [
    "<div class='theme'> Cancer Classification from Gene Expressions </div>\n",
    "\n",
    "In this problem, we will build a classification model to distinguish between two related classes of cancer, acute lymphoblastic leukemia (ALL) and acute myeloid leukemia (AML), using gene expression measurements. The dataset is provided in the file `data/dataset_hw4.csv`. Each row in this file corresponds to a tumor tissue sample from a patient with one of the two forms of Leukemia. The first column contains the cancer type, with **0 indicating the ALL** class and **1 indicating the AML** class. Columns 2-7130 contain expression levels of 7129 genes recorded from each tissue sample. \n",
    "\n",
    "In the following questions, we will use linear and logistic regression to build classification models for this data set. \n"
   ]
  },
  {
   "cell_type": "markdown",
   "metadata": {},
   "source": [
    "<div class='exercise'><b> Question 1 [20 pts]: Data Exploration </b></div>\n",
    "\n",
    "The first step is to split the observations into an approximate 80-20 train-test split.  Below is some code to do this for you (we want to make sure everyone has the same splits). Print dataset shape before splitting and after splitting. `Cancer_type` is our target column.\n",
    "\n",
    "\n",
    "**1.1** Take a peek at your training set: you should notice the severe differences in the measurements from one gene to the next (some are negative, some hover around zero, and some are well into the thousands). To account for these differences in scale and variability, normalize each predictor to vary between 0 and 1. **NOTE: for the entirety of this homework assignment, you will use these normalized values, not the original, raw values**.\n",
    "\n",
    "\n",
    "**1.2** The training set contains more predictors than observations. What problem(s) can this lead to in fitting a classification model to such a dataset? Explain in 3 or fewer sentences.\n",
    "\n",
    "\n",
    "**1.3** Determine which 10 genes individually discriminate between the two cancer classes the best (consider every gene in the dataset).\n",
    "\n",
    "Plot two histograms of best predictor -- one using the training set and another using the testing set. Each histogram should clearly distinguish two different `Cancer_type` classes.\n",
    "\n",
    "**Hint:** You may use t-testing to make this determination: #https://en.wikipedia.org/wiki/Welch%27s_t-test .\n",
    "\n",
    "\n",
    "**1.4** Using your most useful gene from the previous part, create a classification model by simply eye-balling a value for this gene that would discriminate the two classes the best (do not use an algorithm to determine for you the optimal coefficient or threshold; we are asking you to provide a rough estimate / model by manual inspection). Justify your choice in 1-2 sentences. Report the accuracy of your hand-chosen model on the test set (write code to implement and evaluate your hand-created model).\n",
    "\n",
    "<hr> <hr>"
   ]
  },
  {
   "cell_type": "markdown",
   "metadata": {},
   "source": [
    "<hr>\n",
    "\n",
    "### Solutions"
   ]
  },
  {
   "cell_type": "markdown",
   "metadata": {},
   "source": [
    "**The first step is to split the observations into an approximate 80-20 train-test split. Below is some code to do this for you (we want to make sure everyone has the same splits). Print dataset shape before splitting and after splitting. `Cancer_type` is our target column.**"
   ]
  },
  {
   "cell_type": "code",
   "execution_count": 3,
   "metadata": {},
   "outputs": [],
   "source": [
    "np.random.seed(10)\n",
    "df = pd.read_csv('data/hw4_enhance.csv', index_col=0)\n",
    "X_train, X_test, y_train, y_test = train_test_split(df.loc[:, df.columns != 'Cancer_type'], \n",
    "                                                         df.Cancer_type, test_size=0.2, \n",
    "                                                         random_state = 109, \n",
    "                                                         stratify = df.Cancer_type)"
   ]
  },
  {
   "cell_type": "code",
   "execution_count": 4,
   "metadata": {},
   "outputs": [
    {
     "name": "stdout",
     "output_type": "stream",
     "text": [
      "(752, 7130)\n",
      "(601, 7129) (151, 7129) (601,) (151,)\n",
      "0.0    0.511968\n",
      "1.0    0.488032\n",
      "Name: Cancer_type, dtype: float64\n"
     ]
    }
   ],
   "source": [
    "print(df.shape)\n",
    "print(X_train.shape, X_test.shape, y_train.shape, y_test.shape)\n",
    "print(df.Cancer_type.value_counts(normalize=True))"
   ]
  },
  {
   "cell_type": "markdown",
   "metadata": {},
   "source": [
    "**1.1 Take a peek at your training set: you should notice the severe differences in the measurements from one gene to the next (some are negative, some hover around zero, and some are well into the thousands). To account for these differences in scale and variability, normalize each predictor to vary between 0 and 1. **NOTE: for the entirety of this homework assignment, you will use these normalized values, not the original, raw values.**\n"
   ]
  },
  {
   "cell_type": "code",
   "execution_count": 5,
   "metadata": {},
   "outputs": [
    {
     "data": {
      "text/html": [
       "<div>\n",
       "<style scoped>\n",
       "    .dataframe tbody tr th:only-of-type {\n",
       "        vertical-align: middle;\n",
       "    }\n",
       "\n",
       "    .dataframe tbody tr th {\n",
       "        vertical-align: top;\n",
       "    }\n",
       "\n",
       "    .dataframe thead th {\n",
       "        text-align: right;\n",
       "    }\n",
       "</style>\n",
       "<table border=\"1\" class=\"dataframe\">\n",
       "  <thead>\n",
       "    <tr style=\"text-align: right;\">\n",
       "      <th></th>\n",
       "      <th>AFFX-BioB-5_at</th>\n",
       "      <th>AFFX-BioB-M_at</th>\n",
       "      <th>AFFX-BioB-3_at</th>\n",
       "      <th>AFFX-BioC-5_at</th>\n",
       "      <th>AFFX-BioC-3_at</th>\n",
       "      <th>AFFX-BioDn-5_at</th>\n",
       "      <th>AFFX-BioDn-3_at</th>\n",
       "      <th>AFFX-CreX-5_at</th>\n",
       "      <th>AFFX-CreX-3_at</th>\n",
       "      <th>AFFX-BioB-5_st</th>\n",
       "      <th>...</th>\n",
       "      <th>U48730_at</th>\n",
       "      <th>U58516_at</th>\n",
       "      <th>U73738_at</th>\n",
       "      <th>X06956_at</th>\n",
       "      <th>X16699_at</th>\n",
       "      <th>X83863_at</th>\n",
       "      <th>Z17240_at</th>\n",
       "      <th>L49218_f_at</th>\n",
       "      <th>M71243_f_at</th>\n",
       "      <th>Z78285_f_at</th>\n",
       "    </tr>\n",
       "  </thead>\n",
       "  <tbody>\n",
       "    <tr>\n",
       "      <td>count</td>\n",
       "      <td>601.000000</td>\n",
       "      <td>601.000000</td>\n",
       "      <td>601.000000</td>\n",
       "      <td>601.000000</td>\n",
       "      <td>601.000000</td>\n",
       "      <td>601.000000</td>\n",
       "      <td>601.000000</td>\n",
       "      <td>601.000000</td>\n",
       "      <td>601.000000</td>\n",
       "      <td>601.000000</td>\n",
       "      <td>...</td>\n",
       "      <td>601.000000</td>\n",
       "      <td>601.000000</td>\n",
       "      <td>601.000000</td>\n",
       "      <td>601.000000</td>\n",
       "      <td>601.000000</td>\n",
       "      <td>601.000000</td>\n",
       "      <td>601.000000</td>\n",
       "      <td>601.000000</td>\n",
       "      <td>601.000000</td>\n",
       "      <td>601.000000</td>\n",
       "    </tr>\n",
       "    <tr>\n",
       "      <td>mean</td>\n",
       "      <td>-115.860969</td>\n",
       "      <td>-160.846155</td>\n",
       "      <td>26.545301</td>\n",
       "      <td>209.733439</td>\n",
       "      <td>-248.992903</td>\n",
       "      <td>-405.422569</td>\n",
       "      <td>-24.135140</td>\n",
       "      <td>-188.491329</td>\n",
       "      <td>74.777098</td>\n",
       "      <td>97.436777</td>\n",
       "      <td>...</td>\n",
       "      <td>161.766492</td>\n",
       "      <td>707.377318</td>\n",
       "      <td>4.198787</td>\n",
       "      <td>421.466477</td>\n",
       "      <td>-50.023954</td>\n",
       "      <td>819.053113</td>\n",
       "      <td>329.803212</td>\n",
       "      <td>8.803791</td>\n",
       "      <td>507.250039</td>\n",
       "      <td>-24.377549</td>\n",
       "    </tr>\n",
       "    <tr>\n",
       "      <td>std</td>\n",
       "      <td>170.571929</td>\n",
       "      <td>188.676919</td>\n",
       "      <td>207.781982</td>\n",
       "      <td>202.987246</td>\n",
       "      <td>207.328054</td>\n",
       "      <td>261.112412</td>\n",
       "      <td>535.143398</td>\n",
       "      <td>163.077167</td>\n",
       "      <td>174.693115</td>\n",
       "      <td>358.897719</td>\n",
       "      <td>...</td>\n",
       "      <td>165.152970</td>\n",
       "      <td>526.644408</td>\n",
       "      <td>152.401188</td>\n",
       "      <td>589.914084</td>\n",
       "      <td>106.864078</td>\n",
       "      <td>814.898058</td>\n",
       "      <td>367.788891</td>\n",
       "      <td>85.397644</td>\n",
       "      <td>939.394188</td>\n",
       "      <td>71.102874</td>\n",
       "    </tr>\n",
       "    <tr>\n",
       "      <td>min</td>\n",
       "      <td>-894.789505</td>\n",
       "      <td>-1095.737090</td>\n",
       "      <td>-645.439001</td>\n",
       "      <td>-425.750627</td>\n",
       "      <td>-1154.285694</td>\n",
       "      <td>-1091.492494</td>\n",
       "      <td>-2066.516448</td>\n",
       "      <td>-728.996262</td>\n",
       "      <td>-770.025847</td>\n",
       "      <td>-1176.663615</td>\n",
       "      <td>...</td>\n",
       "      <td>-501.285884</td>\n",
       "      <td>-1010.430536</td>\n",
       "      <td>-447.077819</td>\n",
       "      <td>-1870.955269</td>\n",
       "      <td>-432.967768</td>\n",
       "      <td>-2151.593119</td>\n",
       "      <td>-651.051441</td>\n",
       "      <td>-255.419724</td>\n",
       "      <td>-2754.665185</td>\n",
       "      <td>-237.864216</td>\n",
       "    </tr>\n",
       "    <tr>\n",
       "      <td>25%</td>\n",
       "      <td>-222.586579</td>\n",
       "      <td>-270.502055</td>\n",
       "      <td>-95.000000</td>\n",
       "      <td>85.327810</td>\n",
       "      <td>-379.048622</td>\n",
       "      <td>-567.547758</td>\n",
       "      <td>-338.435164</td>\n",
       "      <td>-302.872287</td>\n",
       "      <td>-20.739507</td>\n",
       "      <td>-117.000000</td>\n",
       "      <td>...</td>\n",
       "      <td>67.861184</td>\n",
       "      <td>361.596510</td>\n",
       "      <td>-88.660905</td>\n",
       "      <td>88.409441</td>\n",
       "      <td>-105.000000</td>\n",
       "      <td>270.198265</td>\n",
       "      <td>90.825501</td>\n",
       "      <td>-40.391630</td>\n",
       "      <td>-50.785999</td>\n",
       "      <td>-73.000000</td>\n",
       "    </tr>\n",
       "    <tr>\n",
       "      <td>50%</td>\n",
       "      <td>-105.139096</td>\n",
       "      <td>-145.829450</td>\n",
       "      <td>21.183690</td>\n",
       "      <td>207.291048</td>\n",
       "      <td>-231.007621</td>\n",
       "      <td>-433.214742</td>\n",
       "      <td>-39.581881</td>\n",
       "      <td>-175.586059</td>\n",
       "      <td>90.170754</td>\n",
       "      <td>101.975176</td>\n",
       "      <td>...</td>\n",
       "      <td>153.253301</td>\n",
       "      <td>679.935520</td>\n",
       "      <td>9.960900</td>\n",
       "      <td>381.000000</td>\n",
       "      <td>-35.000000</td>\n",
       "      <td>749.281111</td>\n",
       "      <td>296.978609</td>\n",
       "      <td>7.968505</td>\n",
       "      <td>407.942117</td>\n",
       "      <td>-25.403427</td>\n",
       "    </tr>\n",
       "    <tr>\n",
       "      <td>75%</td>\n",
       "      <td>-4.789696</td>\n",
       "      <td>-40.599329</td>\n",
       "      <td>127.821586</td>\n",
       "      <td>331.277808</td>\n",
       "      <td>-116.000000</td>\n",
       "      <td>-252.587379</td>\n",
       "      <td>325.000000</td>\n",
       "      <td>-74.379003</td>\n",
       "      <td>190.551199</td>\n",
       "      <td>288.503617</td>\n",
       "      <td>...</td>\n",
       "      <td>263.112797</td>\n",
       "      <td>1076.075567</td>\n",
       "      <td>96.051876</td>\n",
       "      <td>720.339588</td>\n",
       "      <td>19.775025</td>\n",
       "      <td>1286.343005</td>\n",
       "      <td>521.096719</td>\n",
       "      <td>62.794411</td>\n",
       "      <td>1092.430279</td>\n",
       "      <td>19.740635</td>\n",
       "    </tr>\n",
       "    <tr>\n",
       "      <td>max</td>\n",
       "      <td>516.618491</td>\n",
       "      <td>384.626762</td>\n",
       "      <td>748.233182</td>\n",
       "      <td>1022.560525</td>\n",
       "      <td>308.876677</td>\n",
       "      <td>607.737258</td>\n",
       "      <td>1385.881293</td>\n",
       "      <td>263.634029</td>\n",
       "      <td>589.778466</td>\n",
       "      <td>1355.537180</td>\n",
       "      <td>...</td>\n",
       "      <td>686.321597</td>\n",
       "      <td>2522.188808</td>\n",
       "      <td>481.820516</td>\n",
       "      <td>3982.980299</td>\n",
       "      <td>215.047697</td>\n",
       "      <td>3743.264860</td>\n",
       "      <td>1996.244626</td>\n",
       "      <td>274.575647</td>\n",
       "      <td>3315.374276</td>\n",
       "      <td>224.773440</td>\n",
       "    </tr>\n",
       "  </tbody>\n",
       "</table>\n",
       "<p>8 rows × 7129 columns</p>\n",
       "</div>"
      ],
      "text/plain": [
       "       AFFX-BioB-5_at  AFFX-BioB-M_at  AFFX-BioB-3_at  AFFX-BioC-5_at  \\\n",
       "count      601.000000      601.000000      601.000000      601.000000   \n",
       "mean      -115.860969     -160.846155       26.545301      209.733439   \n",
       "std        170.571929      188.676919      207.781982      202.987246   \n",
       "min       -894.789505    -1095.737090     -645.439001     -425.750627   \n",
       "25%       -222.586579     -270.502055      -95.000000       85.327810   \n",
       "50%       -105.139096     -145.829450       21.183690      207.291048   \n",
       "75%         -4.789696      -40.599329      127.821586      331.277808   \n",
       "max        516.618491      384.626762      748.233182     1022.560525   \n",
       "\n",
       "       AFFX-BioC-3_at  AFFX-BioDn-5_at  AFFX-BioDn-3_at  AFFX-CreX-5_at  \\\n",
       "count      601.000000       601.000000       601.000000      601.000000   \n",
       "mean      -248.992903      -405.422569       -24.135140     -188.491329   \n",
       "std        207.328054       261.112412       535.143398      163.077167   \n",
       "min      -1154.285694     -1091.492494     -2066.516448     -728.996262   \n",
       "25%       -379.048622      -567.547758      -338.435164     -302.872287   \n",
       "50%       -231.007621      -433.214742       -39.581881     -175.586059   \n",
       "75%       -116.000000      -252.587379       325.000000      -74.379003   \n",
       "max        308.876677       607.737258      1385.881293      263.634029   \n",
       "\n",
       "       AFFX-CreX-3_at  AFFX-BioB-5_st  ...   U48730_at    U58516_at  \\\n",
       "count      601.000000      601.000000  ...  601.000000   601.000000   \n",
       "mean        74.777098       97.436777  ...  161.766492   707.377318   \n",
       "std        174.693115      358.897719  ...  165.152970   526.644408   \n",
       "min       -770.025847    -1176.663615  ... -501.285884 -1010.430536   \n",
       "25%        -20.739507     -117.000000  ...   67.861184   361.596510   \n",
       "50%         90.170754      101.975176  ...  153.253301   679.935520   \n",
       "75%        190.551199      288.503617  ...  263.112797  1076.075567   \n",
       "max        589.778466     1355.537180  ...  686.321597  2522.188808   \n",
       "\n",
       "        U73738_at    X06956_at   X16699_at    X83863_at    Z17240_at  \\\n",
       "count  601.000000   601.000000  601.000000   601.000000   601.000000   \n",
       "mean     4.198787   421.466477  -50.023954   819.053113   329.803212   \n",
       "std    152.401188   589.914084  106.864078   814.898058   367.788891   \n",
       "min   -447.077819 -1870.955269 -432.967768 -2151.593119  -651.051441   \n",
       "25%    -88.660905    88.409441 -105.000000   270.198265    90.825501   \n",
       "50%      9.960900   381.000000  -35.000000   749.281111   296.978609   \n",
       "75%     96.051876   720.339588   19.775025  1286.343005   521.096719   \n",
       "max    481.820516  3982.980299  215.047697  3743.264860  1996.244626   \n",
       "\n",
       "       L49218_f_at  M71243_f_at  Z78285_f_at  \n",
       "count   601.000000   601.000000   601.000000  \n",
       "mean      8.803791   507.250039   -24.377549  \n",
       "std      85.397644   939.394188    71.102874  \n",
       "min    -255.419724 -2754.665185  -237.864216  \n",
       "25%     -40.391630   -50.785999   -73.000000  \n",
       "50%       7.968505   407.942117   -25.403427  \n",
       "75%      62.794411  1092.430279    19.740635  \n",
       "max     274.575647  3315.374276   224.773440  \n",
       "\n",
       "[8 rows x 7129 columns]"
      ]
     },
     "execution_count": 5,
     "metadata": {},
     "output_type": "execute_result"
    }
   ],
   "source": [
    "#your code here\n",
    "X_train.describe()"
   ]
  },
  {
   "cell_type": "code",
   "execution_count": 6,
   "metadata": {},
   "outputs": [],
   "source": [
    "#your code here\n",
    "min_vals = X_train.min()\n",
    "max_vals = X_train.max()\n",
    "\n",
    "X_train = (X_train - min_vals)/(max_vals - min_vals)\n",
    "X_test = (X_test - min_vals)/(max_vals - min_vals)"
   ]
  },
  {
   "cell_type": "markdown",
   "metadata": {},
   "source": [
    "**1.2 The training set contains more predictors than observations. What problem(s) can this lead to in fitting a classification model to such a dataset? Explain in 3 or fewer sentences.**"
   ]
  },
  {
   "cell_type": "markdown",
   "metadata": {},
   "source": [
    "*your answer here*\n",
    "\n",
    "\n",
    "p>>n - Linear Regression and Logisitic Regression does not work. We need to regularize or reduce dimensions. \n",
    "\n",
    "The training set is improper as it contains many more columns compared to number of samples. If we fit models to the given dataset, they will be highly overfitted. This is called the curse of dimensionality.\n",
    "\n",
    "Multicollinearity"
   ]
  },
  {
   "cell_type": "markdown",
   "metadata": {},
   "source": [
    "**1.3 Determine which 10 genes individually discriminate between the two cancer classes the best (consider every gene in the dataset).**\n",
    "\n",
    "**Plot two histograms of best predictor -- one using the training set and another using the testing set. Each histogram should clearly distinguish two different `Cancer_type` classes.**\n",
    "\n",
    "**Hint:** You may use t-testing to make this determination: #https://en.wikipedia.org/wiki/Welch%27s_t-test."
   ]
  },
  {
   "cell_type": "code",
   "execution_count": 7,
   "metadata": {},
   "outputs": [
    {
     "name": "stdout",
     "output_type": "stream",
     "text": [
      "(7129,)\n",
      "M31523_at         12.537397\n",
      "X95735_at         12.435494\n",
      "M84526_at         11.870642\n",
      "X61587_at         11.458105\n",
      "U50136_rna1_at    10.986655\n",
      "X17042_at         10.666939\n",
      "U29175_at         10.487500\n",
      "Y08612_at         10.299221\n",
      "Z11793_at         10.081967\n",
      "X76648_at         10.024521\n",
      "dtype: float64\n",
      "Index(['M31523_at', 'X95735_at', 'M84526_at', 'X61587_at', 'U50136_rna1_at',\n",
      "       'X17042_at', 'U29175_at', 'Y08612_at', 'Z11793_at', 'X76648_at'],\n",
      "      dtype='object')\n",
      "M31523_at\n"
     ]
    }
   ],
   "source": [
    "#your code here\n",
    "predictors = df.columns\n",
    "predictors = predictors.drop('Cancer_type');\n",
    "print(predictors.shape) \n",
    "\n",
    "means_0 = X_train[y_train==0][predictors].mean()\n",
    "means_1 = X_train[y_train==1][predictors].mean()\n",
    "stds_0 = X_train[y_train==0][predictors].std()\n",
    "stds_1 = X_train[y_train==1][predictors].std()\n",
    "n1 = X_train[y_train==0].shape[0]\n",
    "n2 = X_train[y_train==1].shape[0]\n",
    "\n",
    "t_tests = np.abs(means_0-means_1)/np.sqrt( stds_0**2/n1 + stds_1**2/n2) \n",
    "#your code here\n",
    "best_preds_idx = np.argsort(-t_tests.values)\n",
    "best_preds = t_tests.index[best_preds_idx]\n",
    "\n",
    "print(t_tests[best_preds_idx[0:10]])\n",
    "print(t_tests.index[best_preds_idx[0:10]])\n",
    "\n",
    "best_pred = t_tests.index[best_preds_idx[0]]\n",
    "print(best_pred)"
   ]
  },
  {
   "cell_type": "code",
   "execution_count": null,
   "metadata": {},
   "outputs": [],
   "source": []
  },
  {
   "cell_type": "code",
   "execution_count": 8,
   "metadata": {},
   "outputs": [
    {
     "data": {
      "image/png": "[encoded data removed]",
      "text/plain": [
       "<Figure size 864x576 with 2 Axes>"
      ]
     },
     "metadata": {
      "needs_background": "light"
     },
     "output_type": "display_data"
    }
   ],
   "source": [
    "#your code here\n",
    "plt.figure(figsize=(12,8))\n",
    "plt.subplot(211)\n",
    "plt.hist( X_train[y_train==0][best_pred], bins=10, label='Class 0')\n",
    "plt.hist( X_train[y_train==1][best_pred],bins=30, label='Class 1')\n",
    "plt.title(best_pred + \"  train\")\n",
    "plt.legend()\n",
    "plt.subplot(212)\n",
    "plt.hist( X_test[y_test==0][best_pred], bins=30,label='Class 0')\n",
    "plt.hist( X_test[y_test==1][best_pred], bins=30, label='Class 1')\n",
    "plt.title(best_pred + \" test\")\n",
    "plt.legend();"
   ]
  },
  {
   "cell_type": "code",
   "execution_count": 9,
   "metadata": {},
   "outputs": [],
   "source": [
    "# #your code here\n",
    "# from scipy.stats import ttest_ind\n",
    "\n",
    "# predictors = df.columns\n",
    "# predictors = predictors.drop('Cancer_type');\n",
    "# print(predictors.shape) \n",
    "\n",
    "# t_tests = ttest_ind(X_train[y_train==0],X_train[y_train==1],equal_var=False)\n",
    "# best_preds_idx_t_tests = np.argsort(t_tests.pvalue)\n",
    "\n",
    "# predictors[best_preds_idx_t_tests][0:15]\n",
    "\n",
    "# # (7129,)\n",
    "# # Index(['M31523_at', 'X95735_at', 'M84526_at', 'X61587_at', 'U50136_rna1_at',\n",
    "# #        'X17042_at', 'U29175_at', 'Y08612_at', 'Z11793_at', 'J04615_at',\n",
    "# #        'X76648_at', 'U72936_s_at', 'M80254_at', 'M29551_at', 'X62320_at'],\n",
    "# #       dtype='object')"
   ]
  },
  {
   "cell_type": "code",
   "execution_count": null,
   "metadata": {},
   "outputs": [],
   "source": []
  },
  {
   "cell_type": "markdown",
   "metadata": {},
   "source": [
    "**1.4 Using your most useful gene from the previous part, create a classification model by simply eye-balling a value for this gene that would discriminate the two classes the best (do not use an algorithm to determine for you the optimal coefficient or threshold; we are asking you to provide a rough estimate / model by manual inspection). Justify your choice in 1-2 sentences. Report the accuracy of your hand-chosen model on the test set (write code to implement and evaluate your hand-created model)**\n"
   ]
  },
  {
   "cell_type": "code",
   "execution_count": 10,
   "metadata": {},
   "outputs": [
    {
     "data": {
      "text/html": [
       "<div>\n",
       "<style scoped>\n",
       "    .dataframe tbody tr th:only-of-type {\n",
       "        vertical-align: middle;\n",
       "    }\n",
       "\n",
       "    .dataframe tbody tr th {\n",
       "        vertical-align: top;\n",
       "    }\n",
       "\n",
       "    .dataframe thead th {\n",
       "        text-align: right;\n",
       "    }\n",
       "</style>\n",
       "<table border=\"1\" class=\"dataframe\">\n",
       "  <thead>\n",
       "    <tr style=\"text-align: right;\">\n",
       "      <th></th>\n",
       "      <th>0</th>\n",
       "      <th>1</th>\n",
       "    </tr>\n",
       "  </thead>\n",
       "  <tbody>\n",
       "    <tr>\n",
       "      <td>0</td>\n",
       "      <td>naive train</td>\n",
       "      <td>0.703827</td>\n",
       "    </tr>\n",
       "    <tr>\n",
       "      <td>1</td>\n",
       "      <td>naive test</td>\n",
       "      <td>0.688742</td>\n",
       "    </tr>\n",
       "  </tbody>\n",
       "</table>\n",
       "</div>"
      ],
      "text/plain": [
       "             0         1\n",
       "0  naive train  0.703827\n",
       "1   naive test  0.688742"
      ]
     },
     "execution_count": 10,
     "metadata": {},
     "output_type": "execute_result"
    }
   ],
   "source": [
    "#your code here\n",
    "threshold = 0.45\n",
    "\n",
    "train_score = accuracy_score(y_train.values, X_train[best_pred]<=threshold) #Check this!\n",
    "test_score = accuracy_score(y_test.values, X_test[best_pred]<=threshold)\n",
    "results = [['naive train', train_score], ['naive test', test_score]] \n",
    "  \n",
    "\n",
    "df_res = pd.DataFrame.from_dict(results)\n",
    "df_res"
   ]
  },
  {
   "cell_type": "markdown",
   "metadata": {},
   "source": [
    "By observing the distribution of 'M31523_at' in the training histogram above, we roughly estimate that 0.45 distinguishes the two classes, so we use the threshold of 0.45. "
   ]
  },
  {
   "cell_type": "markdown",
   "metadata": {},
   "source": [
    "<div class='exercise'><b> Question 2 [25 pts]: Linear and Logistic Regression  </b></div>\n",
    "\n",
    "In class, we discussed how to use both linear regression and logistic regression for classification. For this question, you will explore these two models by working with the single gene that you identified above as being the best predictor.\n",
    "\n",
    "**2.1** Fit a simple linear regression model to the training set using the single gene predictor \"best_predictor\" to predict cancer type (use the normalized values of the gene). We could interpret the scores predicted by the regression model for a patient as being an estimate of the probability that the patient has Cancer_type=1 (AML). Is this a reasonable interpretation? If not, what is the problem with such?\n",
    "\n",
    "Create a figure with the following items displayed on the same plot (Use training data):\n",
    " - the model's predicted value (the quantitative response from your linear regression model as a function of the normalized value of the best gene predictor)\n",
    " - the true binary response. \n",
    "\n",
    "**2.2** Use your estimated linear regression model to classify observations into 0 and 1 using the standard Bayes classifier. Evaluate the classification accuracy of this classification model on both the training and testing sets.\n",
    "\n",
    "**2.3** Next, fit a simple logistic regression model to the training set. How do the training and test classification accuracies of this model compare with the linear regression model? \n",
    "\n",
    "Remember, you need to set the regularization parameter for sklearn's logistic regression function to be a very large value in order to **not** regularize (use 'C=100000'). \n",
    "\n",
    "\n",
    "**2.4** \n",
    "Print and interpret Logistic regression coefficient and intercept. \n",
    "\n",
    "\n",
    "Create 2 plots (with training and testing data) with 4 items displayed on each plot.\n",
    "- the quantitative response from the linear regression model as a function of the best gene predictor.\n",
    "- the predicted probabilities of the logistic regression model as a function of the best gene predictor. \n",
    "- the true binary response. \n",
    "- a horizontal line at $y=0.5$. \n",
    "\n",
    "Based on these plots, does one of the models appear better suited for binary classification than the other?  Explain in 3 sentences or fewer. \n",
    "\n"
   ]
  },
  {
   "cell_type": "markdown",
   "metadata": {},
   "source": [
    "<hr>\n",
    "\n",
    "### Solutions"
   ]
  },
  {
   "cell_type": "markdown",
   "metadata": {},
   "source": [
    "**2.1 Fit a simple linear regression model to the training set using the single gene predictor \"best_predictor\" to predict cancer type (use the normalized values of the gene). We could interpret the scores predicted by the regression model for a patient as being an estimate of the probability that the patient has Cancer_type=1 (AML). Is this a reasonable interpretation? If not, what is the problem with such?**\n",
    "\n",
    "**Create a figure with the following items displayed on the same plot (Use training data):**\n",
    " - the model's predicted value (the quantitative response from your linear regression model as a function of the normalized value of the best gene predictor)\n",
    " - the true binary response."
   ]
  },
  {
   "cell_type": "code",
   "execution_count": 11,
   "metadata": {},
   "outputs": [
    {
     "name": "stdout",
     "output_type": "stream",
     "text": [
      "M31523_at\n"
     ]
    }
   ],
   "source": [
    "# your code here\n",
    "print(best_pred)\n",
    "\n",
    "linreg = LinearRegression()\n",
    "linreg.fit(X_train[best_pred].values.reshape(-1,1), y_train)\n",
    "\n",
    "y_train_pred = linreg.predict(X_train[best_pred].values.reshape(-1,1))\n",
    "y_test_pred = linreg.predict(X_test[best_pred].values.reshape(-1,1))\n"
   ]
  },
  {
   "cell_type": "code",
   "execution_count": 12,
   "metadata": {},
   "outputs": [
    {
     "data": {
      "image/png": "[encoded data removed]",
      "text/plain": [
       "<Figure size 432x288 with 2 Axes>"
      ]
     },
     "metadata": {
      "needs_background": "light"
     },
     "output_type": "display_data"
    }
   ],
   "source": [
    "# your code here\n",
    "fig = plt.figure();\n",
    "host = fig.add_subplot(111)\n",
    "par1 = host.twinx()\n",
    "\n",
    "host.set_ylabel(\"Probability\")\n",
    "par1.set_ylabel(\"Class\")\n",
    "\n",
    "host.plot(X_train[best_pred], y_train_pred, '-');\n",
    "host.plot(X_train[best_pred], y_train, 's');\n",
    "host.set_xlabel('Normalized best_pred')\n",
    "host.set_ylabel('Probability of being ALM')\n",
    "\n",
    "labels = ['ALL', 'ALM'];\n",
    "\n",
    "# You can specify a rotation for the tick labels in degrees or with keywords.\n",
    "par1.set_yticks( [0.082, 0.81]);\n",
    "par1.set_yticklabels(labels);"
   ]
  },
  {
   "cell_type": "markdown",
   "metadata": {},
   "source": [
    "*your answer here* \n",
    "\n",
    "Yes there is a problem with interpretation -  seems like our probabilities are <0 and >1. "
   ]
  },
  {
   "cell_type": "markdown",
   "metadata": {},
   "source": [
    "**2.2 Use your estimated linear regression model to classify observations into 0 and 1 using the standard Bayes classifier. Evaluate the classification accuracy of this classification model on both the training and testing sets.**"
   ]
  },
  {
   "cell_type": "code",
   "execution_count": 13,
   "metadata": {},
   "outputs": [
    {
     "name": "stdout",
     "output_type": "stream",
     "text": [
      "train score: 0.7088186356073212 test score: 0.6887417218543046\n"
     ]
    },
    {
     "data": {
      "text/html": [
       "<div>\n",
       "<style scoped>\n",
       "    .dataframe tbody tr th:only-of-type {\n",
       "        vertical-align: middle;\n",
       "    }\n",
       "\n",
       "    .dataframe tbody tr th {\n",
       "        vertical-align: top;\n",
       "    }\n",
       "\n",
       "    .dataframe thead th {\n",
       "        text-align: right;\n",
       "    }\n",
       "</style>\n",
       "<table border=\"1\" class=\"dataframe\">\n",
       "  <thead>\n",
       "    <tr style=\"text-align: right;\">\n",
       "      <th></th>\n",
       "      <th>0</th>\n",
       "      <th>1</th>\n",
       "    </tr>\n",
       "  </thead>\n",
       "  <tbody>\n",
       "    <tr>\n",
       "      <td>0</td>\n",
       "      <td>naive train</td>\n",
       "      <td>0.703827</td>\n",
       "    </tr>\n",
       "    <tr>\n",
       "      <td>1</td>\n",
       "      <td>naive test</td>\n",
       "      <td>0.688742</td>\n",
       "    </tr>\n",
       "    <tr>\n",
       "      <td>0</td>\n",
       "      <td>Linear Regression train</td>\n",
       "      <td>0.708819</td>\n",
       "    </tr>\n",
       "    <tr>\n",
       "      <td>1</td>\n",
       "      <td>Linear Regression test</td>\n",
       "      <td>0.688742</td>\n",
       "    </tr>\n",
       "  </tbody>\n",
       "</table>\n",
       "</div>"
      ],
      "text/plain": [
       "                         0         1\n",
       "0              naive train  0.703827\n",
       "1               naive test  0.688742\n",
       "0  Linear Regression train  0.708819\n",
       "1   Linear Regression test  0.688742"
      ]
     },
     "execution_count": 13,
     "metadata": {},
     "output_type": "execute_result"
    }
   ],
   "source": [
    "# your code here\n",
    "train_score = accuracy_score(y_train, y_train_pred>0.5)\n",
    "test_score = accuracy_score(y_test, y_test_pred>0.5)\n",
    "\n",
    "print(\"train score:\", train_score, \"test score:\", test_score)\n",
    "df_res = df_res.append([['Linear Regression train', train_score], ['Linear Regression test', test_score]] )\n",
    "df_res"
   ]
  },
  {
   "cell_type": "markdown",
   "metadata": {},
   "source": [
    "\n",
    "**2.3** **Next, fit a simple logistic regression model to the training set. How do the training and test classification accuracies of this model compare with the linear regression model? Are the classifications substantially different?  Explain why this is the case.**\n",
    "\n",
    "**Remember, you need to set the regularization parameter for sklearn's logistic regression function to be a very large value in order to **not** regularize (use 'C=100000')."
   ]
  },
  {
   "cell_type": "code",
   "execution_count": 14,
   "metadata": {},
   "outputs": [
    {
     "name": "stdout",
     "output_type": "stream",
     "text": [
      "train score: 0.7071547420965059 test score: 0.7086092715231788\n"
     ]
    },
    {
     "data": {
      "text/html": [
       "<div>\n",
       "<style scoped>\n",
       "    .dataframe tbody tr th:only-of-type {\n",
       "        vertical-align: middle;\n",
       "    }\n",
       "\n",
       "    .dataframe tbody tr th {\n",
       "        vertical-align: top;\n",
       "    }\n",
       "\n",
       "    .dataframe thead th {\n",
       "        text-align: right;\n",
       "    }\n",
       "</style>\n",
       "<table border=\"1\" class=\"dataframe\">\n",
       "  <thead>\n",
       "    <tr style=\"text-align: right;\">\n",
       "      <th></th>\n",
       "      <th>0</th>\n",
       "      <th>1</th>\n",
       "    </tr>\n",
       "  </thead>\n",
       "  <tbody>\n",
       "    <tr>\n",
       "      <td>0</td>\n",
       "      <td>naive train</td>\n",
       "      <td>0.703827</td>\n",
       "    </tr>\n",
       "    <tr>\n",
       "      <td>1</td>\n",
       "      <td>naive test</td>\n",
       "      <td>0.688742</td>\n",
       "    </tr>\n",
       "    <tr>\n",
       "      <td>0</td>\n",
       "      <td>Linear Regression train</td>\n",
       "      <td>0.708819</td>\n",
       "    </tr>\n",
       "    <tr>\n",
       "      <td>1</td>\n",
       "      <td>Linear Regression test</td>\n",
       "      <td>0.688742</td>\n",
       "    </tr>\n",
       "    <tr>\n",
       "      <td>0</td>\n",
       "      <td>Logistic Regression train</td>\n",
       "      <td>0.707155</td>\n",
       "    </tr>\n",
       "    <tr>\n",
       "      <td>1</td>\n",
       "      <td>Logistic Regression test</td>\n",
       "      <td>0.708609</td>\n",
       "    </tr>\n",
       "  </tbody>\n",
       "</table>\n",
       "</div>"
      ],
      "text/plain": [
       "                           0         1\n",
       "0                naive train  0.703827\n",
       "1                 naive test  0.688742\n",
       "0    Linear Regression train  0.708819\n",
       "1     Linear Regression test  0.688742\n",
       "0  Logistic Regression train  0.707155\n",
       "1   Logistic Regression test  0.708609"
      ]
     },
     "execution_count": 14,
     "metadata": {},
     "output_type": "execute_result"
    }
   ],
   "source": [
    "# your code here\n",
    "logreg = LogisticRegression(C=100000, solver='lbfgs')\n",
    "logreg.fit(X_train[[best_pred]], y_train) \n",
    "\n",
    "y_train_pred_logreg = logreg.predict(X_train[[best_pred]])\n",
    "y_test_pred_logreg = logreg.predict(X_test[[best_pred]])\n",
    "\n",
    "y_train_pred_logreg_prob = logreg.predict_proba(X_train[[best_pred]])[:,1]\n",
    "y_test_pred_logreg_prob = logreg.predict_proba(X_test[[best_pred]])[:,1]\n",
    "\n",
    "train_score_logreg = accuracy_score(y_train, y_train_pred_logreg)\n",
    "test_score_logreg = accuracy_score(y_test, y_test_pred_logreg)\n",
    "\n",
    "print(\"train score:\", train_score_logreg, \"test score:\", test_score_logreg)\n",
    "\n",
    "df_res = df_res.append([['Logistic Regression train', train_score_logreg], ['Logistic Regression test', test_score_logreg]] )\n",
    "df_res"
   ]
  },
  {
   "cell_type": "markdown",
   "metadata": {},
   "source": [
    "*your answer here* \n",
    "\n",
    "Results are not significantly different. "
   ]
  },
  {
   "cell_type": "markdown",
   "metadata": {},
   "source": [
    "**2.4 Print and interpret Logistic regression coefficient and intercept.**\n",
    "\n",
    "**Create 2 plots (with training and testing data) with 4 items displayed on each plot.**\n",
    "- the quantitative response from the linear regression model as a function of the best gene predictor.\n",
    "- the predicted probabilities of the logistic regression model as a function of the best gene predictor. \n",
    "- the true binary response. \n",
    "- a horizontal line at $y=0.5$. \n",
    "\n",
    "**Based on these plots, does one of the models appear better suited for binary classification than the other?  Explain in 3 sentences or fewer.**\n"
   ]
  },
  {
   "cell_type": "markdown",
   "metadata": {},
   "source": [
    "$ \\hat{p}(X) = \\frac{e^{\\hat{\\beta_0}+\\hat{\\beta_1}X_1 } }{1 + e^{\\hat{\\beta_0}+\\hat{\\beta_1}X_1 }} $"
   ]
  },
  {
   "cell_type": "code",
   "execution_count": 15,
   "metadata": {},
   "outputs": [
    {
     "data": {
      "text/plain": [
       "(array([4.07730445]), array([[-8.75716206]]), array([[0.46559655]]))"
      ]
     },
     "execution_count": 15,
     "metadata": {},
     "output_type": "execute_result"
    }
   ],
   "source": [
    "# your code here\n",
    "logreg.intercept_, logreg.coef_, -logreg.intercept_/logreg.coef_"
   ]
  },
  {
   "cell_type": "markdown",
   "metadata": {},
   "source": [
    "The slope is how steep is the sigmoid function is.  Negative slope indicates probability of predicting y = 1 decreases as X gets larger. The intercept offers an indication of how much right or left shifted the curve (inflection point) is by -intercept/slope: the curve is approx 0.4656 to the right in this case."
   ]
  },
  {
   "cell_type": "code",
   "execution_count": 16,
   "metadata": {},
   "outputs": [
    {
     "name": "stdout",
     "output_type": "stream",
     "text": [
      "Intercept: [4.07730445]\n",
      "When M31523_at is 0, log odds are 4.07730 \n",
      "In other words, we predict `cancer_type` with 0.98333 probability \n"
     ]
    }
   ],
   "source": [
    "print(\"Intercept:\",logreg.intercept_)\n",
    "prob = logreg.predict_proba(np.array([0]).reshape(-1,1))[0,1] #Predictions when best_pred = 0 \n",
    "print(\"When %s is 0, log odds are %.5f \"%(best_pred,logreg.intercept_))\n",
    "print(\"In other words, we predict `cancer_type` with %.5f probability \"%(prob))\n",
    "#np.exp(4.07730445)/(1+np.exp(4.07730445)) = 0.98333\n"
   ]
  },
  {
   "cell_type": "code",
   "execution_count": 17,
   "metadata": {},
   "outputs": [
    {
     "name": "stdout",
     "output_type": "stream",
     "text": [
      "Coefficient:  [[-8.75716206]]\n",
      "A one-unit increase in coefficient (M31523_at) is associated with an increase in the odds of `cancer_type` by 0.00016\n"
     ]
    }
   ],
   "source": [
    "print(\"Coefficient: \",logreg.coef_) \n",
    "\n",
    "print(\"A one-unit increase in coefficient (%s) is associated with an increase in the odds of `cancer_type` by %.5f\"%(best_pred,np.exp(logreg.coef_)))\n",
    " \n",
    "\n",
    "#print(\"A one-unit increase in coefficient (%s) is associated with an increase in the log odds of `cancer_type` by %.5f\"%(best_pred,logreg.coef_))\n",
    "#Explanation \n",
    "# #Assume best_pred = 0.48\n",
    "# prob = logreg.predict_proba(np.array([0.48]).reshape(-1,1))[0,1]\n",
    "# print(\"Prob. when best_pred is 0.48 = \",prob)  \n",
    "# print(\"Log odds  when best_pred is 0.48 = \", np.log(prob/(1-prob)))\n",
    "\n",
    "# #Increase best_pred by 1, best_pred = 1.48\n",
    "# prob1 = logreg.predict_proba(np.array([1.48]).reshape(-1,1))[0,1]\n",
    "# print(\"Prob. when best_pred is 1.48 = \",prob1)  \n",
    "# print(\"Log odds  when best_pred is 1.48 = \", np.log(prob1/(1-prob1)))\n",
    "\n",
    "# np.log(prob1/(1-prob1)) - (np.log(prob/(1-prob))) #coefficient"
   ]
  },
  {
   "cell_type": "code",
   "execution_count": 18,
   "metadata": {},
   "outputs": [
    {
     "data": {
      "image/png": "[encoded data removed]",
      "text/plain": [
       "<Figure size 1152x360 with 2 Axes>"
      ]
     },
     "metadata": {
      "needs_background": "light"
     },
     "output_type": "display_data"
    }
   ],
   "source": [
    "# your code here  \n",
    "fig, ax = plt.subplots(1,2, figsize=(16,5))\n",
    "sort_index = np.argsort(X_train[best_pred].values)\n",
    "\n",
    "# plotting true binary response\n",
    "ax[0].scatter(X_train[best_pred].iloc[sort_index].values, y_train.iloc[sort_index].values, color='red', label = 'Train True Response')\n",
    "# plotting ols output\n",
    "ax[0].plot(X_train[best_pred].iloc[sort_index].values, y_train_pred[sort_index], color='red', alpha=0.3, \\\n",
    "         label = 'Linear Regression Predictions')\n",
    "# plotting logreg prob output\n",
    "ax[0].plot(X_train[best_pred].iloc[sort_index].values, y_train_pred_logreg_prob[sort_index], alpha=0.3,  \\\n",
    "         color='green', label = 'Logistic Regression Predictions Prob')\n",
    "\n",
    "ax[0].axhline(0.5, c='c')\n",
    "ax[0].legend()\n",
    "ax[0].set_title('Train - True response v/s obtained responses')\n",
    "ax[0].set_xlabel('Gene predictor value')\n",
    "ax[0].set_ylabel('Cancer type response');\n",
    "\n",
    "# Test\n",
    "sort_index = np.argsort(X_test[best_pred].values)\n",
    "\n",
    "# plotting true binary response\n",
    "ax[1].scatter(X_test[best_pred].iloc[sort_index].values, y_test.iloc[sort_index].values, color='black', label = 'Test True Response')\n",
    "\n",
    "# plotting ols output\n",
    "ax[1].plot(X_test[best_pred].iloc[sort_index].values, y_test_pred[sort_index], color='red', alpha=0.3, \\\n",
    "         label = 'Linear Regression Predictions')\n",
    "\n",
    "# plotting logreg prob output\n",
    "ax[1].plot(X_test[best_pred].iloc[sort_index].values, y_test_pred_logreg_prob[sort_index], alpha=0.3,  \\\n",
    "         color='green', label = 'Logistic Regression Predictions Prob')\n",
    "\n",
    "ax[1].axhline(0.5, c='c')\n",
    "ax[1].legend()\n",
    "ax[1].set_title('Test - True response v/s obtained responses')\n",
    "ax[1].set_xlabel('Gene predictor value')\n",
    "ax[1].set_ylabel('Cancer type response');"
   ]
  },
  {
   "cell_type": "markdown",
   "metadata": {},
   "source": [
    "Logistic Regression is better suited for this problem, our probabilities are within the range as expected. "
   ]
  },
  {
   "cell_type": "markdown",
   "metadata": {},
   "source": [
    "<div class='exercise'> <b> Question 3 [20pts]: Multiple Logistic Regression </b> </div>\n",
    "\n",
    "\n",
    "**3.1** Next, fit a multiple logistic regression model with **all** the gene predictors from the data set (reminder: for this assignment, we are always using the normalized values). How does the classification accuracy of this model compare with the models fitted in question 2 with a single gene (on both the training and test sets)?  \n",
    "\n",
    "\n",
    "**3.2** How many of the coefficients estimated by this multiple logistic regression in the previous part (P3.1) are significantly different from zero at a *significance level of 5%*? Use the same value of C=100000 as before.\n",
    "\n",
    "**Hint:** To answer this question, use *bootstrapping* with 100 bootstrap samples/iterations.  \n",
    "\n",
    "\n",
    "**3.3** Comment on the classification accuracy of both the training and testing set. Given the results above, how would you assess the generalization capacity of your trained model? What other tests would you suggest to better guard against possibly having a false sense of the overall efficacy/accuracy of the model as a whole?\n",
    "\n",
    "**3.4** Now let's use regularization to improve the predictions from the multiple logistic regression model. Specifically, use LASSO-like regularization and cross-validation to train the model on the training set. Report the classification accuracy on both the training and testing set.\n",
    "\n",
    "**3.5** Do the 10 best predictors from Q1 hold up as important features in this regularized model?  If not, explain why this is the case (feel free to use the data to support your explanation)."
   ]
  },
  {
   "cell_type": "markdown",
   "metadata": {},
   "source": [
    "<hr>\n",
    "### Solutions"
   ]
  },
  {
   "cell_type": "markdown",
   "metadata": {},
   "source": [
    "**3.1 Next, fit a multiple logistic regression model with all the gene predictors from the data set (reminder: for this assignment, we are always using the normalized values). How does the classification accuracy of this model compare with the models fitted in question 2 with a single gene (on both the training and test sets)?**  \n"
   ]
  },
  {
   "cell_type": "code",
   "execution_count": 19,
   "metadata": {},
   "outputs": [
    {
     "name": "stdout",
     "output_type": "stream",
     "text": [
      "Training set accuracy for multiple logistic regression =  1.0\n",
      "Test set accuracy for multiple logistic regression =  0.7682119205298014\n"
     ]
    },
    {
     "data": {
      "text/html": [
       "<div>\n",
       "<style scoped>\n",
       "    .dataframe tbody tr th:only-of-type {\n",
       "        vertical-align: middle;\n",
       "    }\n",
       "\n",
       "    .dataframe tbody tr th {\n",
       "        vertical-align: top;\n",
       "    }\n",
       "\n",
       "    .dataframe thead th {\n",
       "        text-align: right;\n",
       "    }\n",
       "</style>\n",
       "<table border=\"1\" class=\"dataframe\">\n",
       "  <thead>\n",
       "    <tr style=\"text-align: right;\">\n",
       "      <th></th>\n",
       "      <th>0</th>\n",
       "      <th>1</th>\n",
       "    </tr>\n",
       "  </thead>\n",
       "  <tbody>\n",
       "    <tr>\n",
       "      <td>0</td>\n",
       "      <td>naive train</td>\n",
       "      <td>0.703827</td>\n",
       "    </tr>\n",
       "    <tr>\n",
       "      <td>1</td>\n",
       "      <td>naive test</td>\n",
       "      <td>0.688742</td>\n",
       "    </tr>\n",
       "    <tr>\n",
       "      <td>0</td>\n",
       "      <td>Linear Regression train</td>\n",
       "      <td>0.708819</td>\n",
       "    </tr>\n",
       "    <tr>\n",
       "      <td>1</td>\n",
       "      <td>Linear Regression test</td>\n",
       "      <td>0.688742</td>\n",
       "    </tr>\n",
       "    <tr>\n",
       "      <td>0</td>\n",
       "      <td>Logistic Regression train</td>\n",
       "      <td>0.707155</td>\n",
       "    </tr>\n",
       "    <tr>\n",
       "      <td>1</td>\n",
       "      <td>Logistic Regression test</td>\n",
       "      <td>0.708609</td>\n",
       "    </tr>\n",
       "    <tr>\n",
       "      <td>0</td>\n",
       "      <td>Multiple Logistic Regression train</td>\n",
       "      <td>1.000000</td>\n",
       "    </tr>\n",
       "    <tr>\n",
       "      <td>1</td>\n",
       "      <td>Multiple Logistic Regression test</td>\n",
       "      <td>0.768212</td>\n",
       "    </tr>\n",
       "  </tbody>\n",
       "</table>\n",
       "</div>"
      ],
      "text/plain": [
       "                                    0         1\n",
       "0                         naive train  0.703827\n",
       "1                          naive test  0.688742\n",
       "0             Linear Regression train  0.708819\n",
       "1              Linear Regression test  0.688742\n",
       "0           Logistic Regression train  0.707155\n",
       "1            Logistic Regression test  0.708609\n",
       "0  Multiple Logistic Regression train  1.000000\n",
       "1   Multiple Logistic Regression test  0.768212"
      ]
     },
     "execution_count": 19,
     "metadata": {},
     "output_type": "execute_result"
    }
   ],
   "source": [
    "# your code here\n",
    "# fitting multi regression model\n",
    "multi_regr = LogisticRegression(C=100000, solver = \"lbfgs\", max_iter=10000, random_state=109)\n",
    "multi_regr.fit(X_train, y_train)\n",
    "\n",
    "# predictions\n",
    "y_train_pred_multi = multi_regr.predict(X_train) \n",
    "y_test_pred_multi = multi_regr.predict(X_test)\n",
    "\n",
    "# accuracy\n",
    "train_score_multi = accuracy_score(y_train, y_train_pred_multi)\n",
    "test_score_multi = accuracy_score(y_test, y_test_pred_multi)\n",
    "\n",
    "print('Training set accuracy for multiple logistic regression = ', train_score_multi)\n",
    "print('Test set accuracy for multiple logistic regression = ', test_score_multi)\n",
    "\n",
    "df_res = df_res.append([['Multiple Logistic Regression train', train_score_multi],\n",
    "                        ['Multiple Logistic Regression test', test_score_multi]] )\n",
    "df_res"
   ]
  },
  {
   "cell_type": "markdown",
   "metadata": {},
   "source": [
    "*your answer here* \n",
    "\n",
    "Better results, overfitted model."
   ]
  },
  {
   "cell_type": "markdown",
   "metadata": {},
   "source": [
    "**3.2** **How many of the coefficients estimated by this multiple logistic regression in the previous part (P3.1) are significantly different from zero at a *significance level of 5%*? Use the same value of C=100000 as before.**\n",
    "\n",
    "**Hint:** To answer this question, use *bootstrapping* with 100 bootstrap samples/iterations.  "
   ]
  },
  {
   "cell_type": "code",
   "execution_count": 20,
   "metadata": {},
   "outputs": [],
   "source": [
    "# your code here\n",
    "# bootstrapping code\n",
    "n = 100 # Number of iterations\n",
    "boot_coefs = np.zeros((X_train.shape[1],n)) # Create empty storage array for later use\n",
    "\n",
    "# iteration for each sample\n",
    "for i in range(n):\n",
    "    \n",
    "    # Sampling WITH replacement the indices of a resampled dataset \n",
    "    sample_index = np.random.choice(range(y_train.shape[0]), size=y_train.shape[0], replace=True)\n",
    "\n",
    "    # finding subset\n",
    "    x_train_samples = X_train.values[sample_index]\n",
    "    y_train_samples = y_train.values[sample_index]\n",
    "    \n",
    "    # finding logreg coefficient\n",
    "    logistic_mod_boot = LogisticRegression(C=100000, fit_intercept=True, solver = \"lbfgs\", max_iter=10000) \n",
    "    logistic_mod_boot.fit(x_train_samples, y_train_samples) \n",
    "    boot_coefs[:,i] = logistic_mod_boot.coef_"
   ]
  },
  {
   "cell_type": "code",
   "execution_count": 21,
   "metadata": {},
   "outputs": [
    {
     "name": "stdout",
     "output_type": "stream",
     "text": [
      "Significant coefficents at 5pct level = 1194 / 7129\n"
     ]
    }
   ],
   "source": [
    "# your code here\n",
    "\n",
    "ci_upper = np.percentile(boot_coefs, 97.5, axis=1)\n",
    "ci_lower = np.percentile(boot_coefs, 2.5, axis=1)\n",
    "\n",
    "# ct significant predictors\n",
    "sig_b_ct = 0\n",
    "sig_preds = []\n",
    "cols = list(X_train.columns)\n",
    "\n",
    "# if ci contains 0, then insignificant\n",
    "for i in range(len(ci_upper)):\n",
    "    if ci_upper[i]<0 or ci_lower[i]>0:\n",
    "            sig_b_ct += 1\n",
    "            sig_preds.append(cols[i])\n",
    "\n",
    "print(\"Significant coefficents at 5pct level = %i / %i\" % (sig_b_ct, len(ci_upper)))\n",
    "# print('Number of significant columns: ', len(sig_preds))"
   ]
  },
  {
   "cell_type": "markdown",
   "metadata": {},
   "source": [
    "**3.3 Comment on the classification accuracy of both the training and testing set. Given the results above, how would you assess the generalization capacity of your trained model? What other tests would you suggest to better guard against possibly having a false sense of the overall efficacy/accuracy of the model as a whole?**"
   ]
  },
  {
   "cell_type": "markdown",
   "metadata": {},
   "source": [
    "*your answer here*\n",
    "\n",
    "Proper cross validation and/or regularization."
   ]
  },
  {
   "cell_type": "markdown",
   "metadata": {},
   "source": [
    "**3.4 Now let's use regularization to improve the predictions from the multiple logistic regression model. Specifically, use LASSO-like regularization and cross-validation to train the model on the training set. Report the classification accuracy on both the training and testing set.**"
   ]
  },
  {
   "cell_type": "code",
   "execution_count": 22,
   "metadata": {},
   "outputs": [
    {
     "name": "stdout",
     "output_type": "stream",
     "text": [
      "Training set accuracy for multiple logistic regression =  0.9101497504159733\n",
      "Test set accuracy for multiple logistic regression =  0.8609271523178808\n"
     ]
    },
    {
     "data": {
      "text/html": [
       "<div>\n",
       "<style scoped>\n",
       "    .dataframe tbody tr th:only-of-type {\n",
       "        vertical-align: middle;\n",
       "    }\n",
       "\n",
       "    .dataframe tbody tr th {\n",
       "        vertical-align: top;\n",
       "    }\n",
       "\n",
       "    .dataframe thead th {\n",
       "        text-align: right;\n",
       "    }\n",
       "</style>\n",
       "<table border=\"1\" class=\"dataframe\">\n",
       "  <thead>\n",
       "    <tr style=\"text-align: right;\">\n",
       "      <th></th>\n",
       "      <th>0</th>\n",
       "      <th>1</th>\n",
       "    </tr>\n",
       "  </thead>\n",
       "  <tbody>\n",
       "    <tr>\n",
       "      <td>0</td>\n",
       "      <td>naive train</td>\n",
       "      <td>0.703827</td>\n",
       "    </tr>\n",
       "    <tr>\n",
       "      <td>1</td>\n",
       "      <td>naive test</td>\n",
       "      <td>0.688742</td>\n",
       "    </tr>\n",
       "    <tr>\n",
       "      <td>0</td>\n",
       "      <td>Linear Regression train</td>\n",
       "      <td>0.708819</td>\n",
       "    </tr>\n",
       "    <tr>\n",
       "      <td>1</td>\n",
       "      <td>Linear Regression test</td>\n",
       "      <td>0.688742</td>\n",
       "    </tr>\n",
       "    <tr>\n",
       "      <td>0</td>\n",
       "      <td>Logistic Regression train</td>\n",
       "      <td>0.707155</td>\n",
       "    </tr>\n",
       "    <tr>\n",
       "      <td>1</td>\n",
       "      <td>Logistic Regression test</td>\n",
       "      <td>0.708609</td>\n",
       "    </tr>\n",
       "    <tr>\n",
       "      <td>0</td>\n",
       "      <td>Multiple Logistic Regression train</td>\n",
       "      <td>1.000000</td>\n",
       "    </tr>\n",
       "    <tr>\n",
       "      <td>1</td>\n",
       "      <td>Multiple Logistic Regression test</td>\n",
       "      <td>0.768212</td>\n",
       "    </tr>\n",
       "    <tr>\n",
       "      <td>0</td>\n",
       "      <td>Reg-loR train</td>\n",
       "      <td>0.910150</td>\n",
       "    </tr>\n",
       "    <tr>\n",
       "      <td>1</td>\n",
       "      <td>Reg-loR val</td>\n",
       "      <td>0.860927</td>\n",
       "    </tr>\n",
       "  </tbody>\n",
       "</table>\n",
       "</div>"
      ],
      "text/plain": [
       "                                    0         1\n",
       "0                         naive train  0.703827\n",
       "1                          naive test  0.688742\n",
       "0             Linear Regression train  0.708819\n",
       "1              Linear Regression test  0.688742\n",
       "0           Logistic Regression train  0.707155\n",
       "1            Logistic Regression test  0.708609\n",
       "0  Multiple Logistic Regression train  1.000000\n",
       "1   Multiple Logistic Regression test  0.768212\n",
       "0                       Reg-loR train  0.910150\n",
       "1                         Reg-loR val  0.860927"
      ]
     },
     "execution_count": 22,
     "metadata": {},
     "output_type": "execute_result"
    }
   ],
   "source": [
    "# your code here\n",
    "# fitting regularized multi regression model - L1 penalty\n",
    "# Any reason for using liblinear  - Use 5 fold CV\n",
    "multi_regr = LogisticRegressionCV( solver='liblinear', penalty='l1', cv=5)\n",
    "multi_regr.fit(X_train, y_train)\n",
    "\n",
    "# predictions\n",
    "y_train_pred_multi = multi_regr.predict(X_train) \n",
    "y_test_pred_multi = multi_regr.predict(X_test)\n",
    "\n",
    "# accuracy\n",
    "train_score_multi = accuracy_score(y_train, y_train_pred_multi)\n",
    "test_score_multi = accuracy_score(y_test, y_test_pred_multi)\n",
    "\n",
    "print('Training set accuracy for multiple logistic regression = ', train_score_multi)\n",
    "print('Test set accuracy for multiple logistic regression = ', test_score_multi)\n",
    "\n",
    "df_res = df_res.append([['Reg-loR train', train_score_multi], ['Reg-loR val', test_score_multi]] )\n",
    "df_res"
   ]
  },
  {
   "cell_type": "code",
   "execution_count": null,
   "metadata": {},
   "outputs": [],
   "source": []
  },
  {
   "cell_type": "markdown",
   "metadata": {},
   "source": [
    "**3.5 Do the 10 best predictors from Q1 hold up as important features in this regularized model?  If not, explain why this is the case (feel free to use the data to support your explanation).**"
   ]
  },
  {
   "cell_type": "code",
   "execution_count": 23,
   "metadata": {},
   "outputs": [
    {
     "name": "stdout",
     "output_type": "stream",
     "text": [
      "{'U50136_rna1_at', 'X17042_at', 'U29175_at', 'Y08612_at', 'M31523_at', 'Z11793_at', 'X61587_at', 'M84526_at', 'X76648_at', 'X95735_at'}\n"
     ]
    }
   ],
   "source": [
    "# your code here\n",
    "best_pred_1_3 = set(t_tests.index[best_preds_idx[0:10]])\n",
    "print(best_pred_1_3)"
   ]
  },
  {
   "cell_type": "code",
   "execution_count": 24,
   "metadata": {},
   "outputs": [
    {
     "data": {
      "text/plain": [
       "(Index(['AFFX-DapX-3_at', 'AF015950_at', 'D26135_at', 'D28416_at', 'D42043_at',\n",
       "        'D79998_at', 'D86975_at', 'D87457_at', 'HG1869-HT1904_at',\n",
       "        'HG3993-HT4263_at', 'HG831-HT831_at', 'J04444_at', 'L05148_at',\n",
       "        'L25851_at', 'L41559_at', 'L76703_at', 'L78833_cds2_at', 'M14016_at',\n",
       "        'M16038_at', 'M19507_at', 'M20218_at', 'M27891_at', 'M31303_rna1_at',\n",
       "        'M37815_cds1_at', 'M68895_rna1_at', 'M69023_at', 'M80254_at',\n",
       "        'M84526_at', 'M86737_at', 'S55606_at', 'U02493_at', 'U10868_at',\n",
       "        'U17280_at', 'U19878_at', 'U28687_at', 'U43586_at', 'U46499_at',\n",
       "        'U50136_rna1_at', 'U53468_at', 'U60521_at', 'U77604_at', 'U91316_at',\n",
       "        'X07109_at', 'X53331_at', 'X59350_at', 'X60484_at', 'X60992_at',\n",
       "        'X61587_at', 'X62535_at', 'X63753_at', 'X69150_at', 'X70297_at',\n",
       "        'X71348_at', 'X71973_at', 'X82068_at', 'X83572_at', 'X95735_at',\n",
       "        'X98172_at', 'Y07604_at', 'Z11793_at', 'Z21966_at', 'Z48054_at',\n",
       "        'Z93784_at', 'HG2846-HT2983_at', 'L00058_at', 'L07615_at', 'M76729_at',\n",
       "        'U34587_at', 'U41518_at', 'X52228_at', 'L06797_s_at', 'D17408_s_at',\n",
       "        'X62153_s_at', 'D38496_s_at', 'HG2562-HT2658_s_at', 'X75755_rna1_s_at',\n",
       "        'HG3730-HT4000_s_at', 'U09851_s_at', 'Z68228_s_at', 'M27504_s_at',\n",
       "        'M65214_s_at', 'M83667_rna1_s_at', 'U18271_cds3_s_at',\n",
       "        'X85116_rna1_s_at', 'U69126_s_at', 'X97267_rna1_s_at', 'M31523_at',\n",
       "        'U29175_at'],\n",
       "       dtype='object'), 88)"
      ]
     },
     "execution_count": 24,
     "metadata": {},
     "output_type": "execute_result"
    }
   ],
   "source": [
    "# your code here\n",
    "multi_regr_coefs =multi_regr.coef_!=0\n",
    "#Followin is a list of Lasso coefficients and # of Log Reg L1 coefficients\n",
    "predictors[multi_regr_coefs[0]] , np.sum(multi_regr_coefs[0])  "
   ]
  },
  {
   "cell_type": "code",
   "execution_count": 25,
   "metadata": {},
   "outputs": [
    {
     "data": {
      "text/plain": [
       "{'X17042_at', 'X76648_at', 'Y08612_at'}"
      ]
     },
     "execution_count": 25,
     "metadata": {},
     "output_type": "execute_result"
    }
   ],
   "source": [
    "# your code here\n",
    "best_pred_1_3.difference(predictors[multi_regr_coefs[0]]) \n",
    "#Following predictors were important using t-test, however not for Log Reg - L1."
   ]
  },
  {
   "cell_type": "code",
   "execution_count": 26,
   "metadata": {},
   "outputs": [
    {
     "data": {
      "text/html": [
       "<style  type=\"text/css\" >\n",
       "    #T_8becf274_f8ff_11e9_ad61_acde48001122row0_col0 {\n",
       "            background-color:  #08306b;\n",
       "            color:  #f1f1f1;\n",
       "        }    #T_8becf274_f8ff_11e9_ad61_acde48001122row0_col1 {\n",
       "            background-color:  #f7fbff;\n",
       "            color:  #000000;\n",
       "        }    #T_8becf274_f8ff_11e9_ad61_acde48001122row0_col2 {\n",
       "            background-color:  #f7fbff;\n",
       "            color:  #000000;\n",
       "        }    #T_8becf274_f8ff_11e9_ad61_acde48001122row0_col3 {\n",
       "            background-color:  #f7fbff;\n",
       "            color:  #000000;\n",
       "        }    #T_8becf274_f8ff_11e9_ad61_acde48001122row1_col0 {\n",
       "            background-color:  #f2f7fd;\n",
       "            color:  #000000;\n",
       "        }    #T_8becf274_f8ff_11e9_ad61_acde48001122row1_col1 {\n",
       "            background-color:  #08306b;\n",
       "            color:  #f1f1f1;\n",
       "        }    #T_8becf274_f8ff_11e9_ad61_acde48001122row1_col2 {\n",
       "            background-color:  #4f9bcb;\n",
       "            color:  #000000;\n",
       "        }    #T_8becf274_f8ff_11e9_ad61_acde48001122row1_col3 {\n",
       "            background-color:  #4594c7;\n",
       "            color:  #000000;\n",
       "        }    #T_8becf274_f8ff_11e9_ad61_acde48001122row2_col0 {\n",
       "            background-color:  #f7fbff;\n",
       "            color:  #000000;\n",
       "        }    #T_8becf274_f8ff_11e9_ad61_acde48001122row2_col1 {\n",
       "            background-color:  #539ecd;\n",
       "            color:  #000000;\n",
       "        }    #T_8becf274_f8ff_11e9_ad61_acde48001122row2_col2 {\n",
       "            background-color:  #08306b;\n",
       "            color:  #f1f1f1;\n",
       "        }    #T_8becf274_f8ff_11e9_ad61_acde48001122row2_col3 {\n",
       "            background-color:  #61a7d2;\n",
       "            color:  #000000;\n",
       "        }    #T_8becf274_f8ff_11e9_ad61_acde48001122row3_col0 {\n",
       "            background-color:  #ebf3fb;\n",
       "            color:  #000000;\n",
       "        }    #T_8becf274_f8ff_11e9_ad61_acde48001122row3_col1 {\n",
       "            background-color:  #4191c6;\n",
       "            color:  #000000;\n",
       "        }    #T_8becf274_f8ff_11e9_ad61_acde48001122row3_col2 {\n",
       "            background-color:  #58a1cf;\n",
       "            color:  #000000;\n",
       "        }    #T_8becf274_f8ff_11e9_ad61_acde48001122row3_col3 {\n",
       "            background-color:  #08306b;\n",
       "            color:  #f1f1f1;\n",
       "        }</style><table id=\"T_8becf274_f8ff_11e9_ad61_acde48001122\" ><thead>    <tr>        <th class=\"blank level0\" ></th>        <th class=\"col_heading level0 col0\" >X17042_at</th>        <th class=\"col_heading level0 col1\" >X76648_at</th>        <th class=\"col_heading level0 col2\" >Y08612_at</th>        <th class=\"col_heading level0 col3\" >M31523_at</th>    </tr></thead><tbody>\n",
       "                <tr>\n",
       "                        <th id=\"T_8becf274_f8ff_11e9_ad61_acde48001122level0_row0\" class=\"row_heading level0 row0\" >X17042_at</th>\n",
       "                        <td id=\"T_8becf274_f8ff_11e9_ad61_acde48001122row0_col0\" class=\"data row0 col0\" >1</td>\n",
       "                        <td id=\"T_8becf274_f8ff_11e9_ad61_acde48001122row0_col1\" class=\"data row0 col1\" >-0.358066</td>\n",
       "                        <td id=\"T_8becf274_f8ff_11e9_ad61_acde48001122row0_col2\" class=\"data row0 col2\" >-0.396514</td>\n",
       "                        <td id=\"T_8becf274_f8ff_11e9_ad61_acde48001122row0_col3\" class=\"data row0 col3\" >-0.313124</td>\n",
       "            </tr>\n",
       "            <tr>\n",
       "                        <th id=\"T_8becf274_f8ff_11e9_ad61_acde48001122level0_row1\" class=\"row_heading level0 row1\" >X76648_at</th>\n",
       "                        <td id=\"T_8becf274_f8ff_11e9_ad61_acde48001122row1_col0\" class=\"data row1 col0\" >-0.358066</td>\n",
       "                        <td id=\"T_8becf274_f8ff_11e9_ad61_acde48001122row1_col1\" class=\"data row1 col1\" >1</td>\n",
       "                        <td id=\"T_8becf274_f8ff_11e9_ad61_acde48001122row1_col2\" class=\"data row1 col2\" >0.417654</td>\n",
       "                        <td id=\"T_8becf274_f8ff_11e9_ad61_acde48001122row1_col3\" class=\"data row1 col3\" >0.495989</td>\n",
       "            </tr>\n",
       "            <tr>\n",
       "                        <th id=\"T_8becf274_f8ff_11e9_ad61_acde48001122level0_row2\" class=\"row_heading level0 row2\" >Y08612_at</th>\n",
       "                        <td id=\"T_8becf274_f8ff_11e9_ad61_acde48001122row2_col0\" class=\"data row2 col0\" >-0.396514</td>\n",
       "                        <td id=\"T_8becf274_f8ff_11e9_ad61_acde48001122row2_col1\" class=\"data row2 col1\" >0.417654</td>\n",
       "                        <td id=\"T_8becf274_f8ff_11e9_ad61_acde48001122row2_col2\" class=\"data row2 col2\" >1</td>\n",
       "                        <td id=\"T_8becf274_f8ff_11e9_ad61_acde48001122row2_col3\" class=\"data row2 col3\" >0.382711</td>\n",
       "            </tr>\n",
       "            <tr>\n",
       "                        <th id=\"T_8becf274_f8ff_11e9_ad61_acde48001122level0_row3\" class=\"row_heading level0 row3\" >M31523_at</th>\n",
       "                        <td id=\"T_8becf274_f8ff_11e9_ad61_acde48001122row3_col0\" class=\"data row3 col0\" >-0.313124</td>\n",
       "                        <td id=\"T_8becf274_f8ff_11e9_ad61_acde48001122row3_col1\" class=\"data row3 col1\" >0.495989</td>\n",
       "                        <td id=\"T_8becf274_f8ff_11e9_ad61_acde48001122row3_col2\" class=\"data row3 col2\" >0.382711</td>\n",
       "                        <td id=\"T_8becf274_f8ff_11e9_ad61_acde48001122row3_col3\" class=\"data row3 col3\" >1</td>\n",
       "            </tr>\n",
       "    </tbody></table>"
      ],
      "text/plain": [
       "<pandas.io.formats.style.Styler at 0x7ffb89ded128>"
      ]
     },
     "execution_count": 26,
     "metadata": {},
     "output_type": "execute_result"
    }
   ],
   "source": [
    "# your code here\n",
    "#checking correlation between above list and best predictor\n",
    "df[['X17042_at', 'X76648_at', 'Y08612_at','M31523_at']].corr().style.background_gradient(cmap='Blues')\n"
   ]
  },
  {
   "cell_type": "markdown",
   "metadata": {},
   "source": [
    "*your answer here* \n",
    "\n",
    "Idea here is that the predictors that did not make it to the list of regularization ... are the ones strongly correlated with the the best predictor. Notice high (absolute) correlation values in last row / last column.\n"
   ]
  },
  {
   "cell_type": "code",
   "execution_count": null,
   "metadata": {},
   "outputs": [],
   "source": []
  },
  {
   "cell_type": "markdown",
   "metadata": {},
   "source": [
    "<div class='exercise'> <b> Question 4 [25pts]: Multiclass Logistic Regression </b> </div>"
   ]
  },
  {
   "cell_type": "markdown",
   "metadata": {},
   "source": [
    "**4.1** Load the data `hw4_mc_enhance.csv.zip` and examine its structure. How many instances of each class are there in our dataset? \n",
    "\n",
    "**4.2** Split the dataset into train and test, 80-20 split, random_state = 8. \n",
    "\n",
    "We are going to use two particular features/predictors -- 'M31523_at', 'X95735_at'. Create a scatter plot of these two features using training set. We should be able to discern from the plot which sample belongs to which `cancer_type`.\n",
    "\n",
    "**4.3** Fit the following two models using cross-validation: \n",
    "- Logistic Regression Multiclass model with linear features. \n",
    "- Logistic Regression Multiclass model with Polynomial features, degree = 2.\n",
    "\n",
    "**4.4** Plot the decision boundary and interpret results. **Hint:** You may utilize the function `overlay_decision_boundary` \n",
    "\n",
    "**4.5** Report and plot the CV scores for the two models and interpret the results.\n"
   ]
  },
  {
   "cell_type": "markdown",
   "metadata": {},
   "source": [
    "<hr>\n",
    "### Solutions"
   ]
  },
  {
   "cell_type": "markdown",
   "metadata": {},
   "source": [
    "**4.1 Load the data `hw4_mc_enhance.csv.zip` and examine its structure. How many instances of each class are there in our dataset?**"
   ]
  },
  {
   "cell_type": "code",
   "execution_count": 27,
   "metadata": {},
   "outputs": [
    {
     "data": {
      "text/html": [
       "<div>\n",
       "<style scoped>\n",
       "    .dataframe tbody tr th:only-of-type {\n",
       "        vertical-align: middle;\n",
       "    }\n",
       "\n",
       "    .dataframe tbody tr th {\n",
       "        vertical-align: top;\n",
       "    }\n",
       "\n",
       "    .dataframe thead th {\n",
       "        text-align: right;\n",
       "    }\n",
       "</style>\n",
       "<table border=\"1\" class=\"dataframe\">\n",
       "  <thead>\n",
       "    <tr style=\"text-align: right;\">\n",
       "      <th></th>\n",
       "      <th>Unnamed: 0</th>\n",
       "      <th>AFFX-BioB-5_at</th>\n",
       "      <th>AFFX-BioB-M_at</th>\n",
       "      <th>AFFX-BioB-3_at</th>\n",
       "      <th>AFFX-BioC-5_at</th>\n",
       "      <th>AFFX-BioC-3_at</th>\n",
       "      <th>AFFX-BioDn-5_at</th>\n",
       "      <th>AFFX-BioDn-3_at</th>\n",
       "      <th>AFFX-CreX-5_at</th>\n",
       "      <th>AFFX-CreX-3_at</th>\n",
       "      <th>...</th>\n",
       "      <th>U58516_at</th>\n",
       "      <th>U73738_at</th>\n",
       "      <th>X06956_at</th>\n",
       "      <th>X16699_at</th>\n",
       "      <th>X83863_at</th>\n",
       "      <th>Z17240_at</th>\n",
       "      <th>L49218_f_at</th>\n",
       "      <th>M71243_f_at</th>\n",
       "      <th>Z78285_f_at</th>\n",
       "      <th>cancer_type</th>\n",
       "    </tr>\n",
       "  </thead>\n",
       "  <tbody>\n",
       "    <tr>\n",
       "      <td>count</td>\n",
       "      <td>750.00000</td>\n",
       "      <td>750.000000</td>\n",
       "      <td>750.000000</td>\n",
       "      <td>750.000000</td>\n",
       "      <td>750.000000</td>\n",
       "      <td>750.000000</td>\n",
       "      <td>750.000000</td>\n",
       "      <td>750.000000</td>\n",
       "      <td>750.000000</td>\n",
       "      <td>750.000000</td>\n",
       "      <td>...</td>\n",
       "      <td>750.000000</td>\n",
       "      <td>750.000000</td>\n",
       "      <td>750.000000</td>\n",
       "      <td>750.000000</td>\n",
       "      <td>750.000000</td>\n",
       "      <td>750.000000</td>\n",
       "      <td>750.000000</td>\n",
       "      <td>750.000000</td>\n",
       "      <td>750.000000</td>\n",
       "      <td>750.000000</td>\n",
       "    </tr>\n",
       "    <tr>\n",
       "      <td>mean</td>\n",
       "      <td>374.50000</td>\n",
       "      <td>-1014.598658</td>\n",
       "      <td>-1048.357272</td>\n",
       "      <td>-823.358695</td>\n",
       "      <td>-315.636838</td>\n",
       "      <td>-1295.949886</td>\n",
       "      <td>-1625.120199</td>\n",
       "      <td>-826.955064</td>\n",
       "      <td>-1175.612555</td>\n",
       "      <td>-588.598064</td>\n",
       "      <td>...</td>\n",
       "      <td>812.768978</td>\n",
       "      <td>-747.263549</td>\n",
       "      <td>16.272227</td>\n",
       "      <td>-801.847334</td>\n",
       "      <td>1031.081628</td>\n",
       "      <td>-3.162310</td>\n",
       "      <td>-723.364564</td>\n",
       "      <td>-40.495922</td>\n",
       "      <td>-810.150889</td>\n",
       "      <td>1.000000</td>\n",
       "    </tr>\n",
       "    <tr>\n",
       "      <td>std</td>\n",
       "      <td>216.65064</td>\n",
       "      <td>297.369331</td>\n",
       "      <td>233.933609</td>\n",
       "      <td>392.662256</td>\n",
       "      <td>215.534283</td>\n",
       "      <td>320.799277</td>\n",
       "      <td>419.687380</td>\n",
       "      <td>562.688520</td>\n",
       "      <td>288.546511</td>\n",
       "      <td>227.362605</td>\n",
       "      <td>...</td>\n",
       "      <td>663.320928</td>\n",
       "      <td>176.481127</td>\n",
       "      <td>751.988770</td>\n",
       "      <td>157.068732</td>\n",
       "      <td>966.569338</td>\n",
       "      <td>495.241653</td>\n",
       "      <td>138.805059</td>\n",
       "      <td>882.681724</td>\n",
       "      <td>176.347552</td>\n",
       "      <td>0.817041</td>\n",
       "    </tr>\n",
       "    <tr>\n",
       "      <td>min</td>\n",
       "      <td>0.00000</td>\n",
       "      <td>-2010.202020</td>\n",
       "      <td>-1772.451092</td>\n",
       "      <td>-1619.756151</td>\n",
       "      <td>-930.821077</td>\n",
       "      <td>-1984.530972</td>\n",
       "      <td>-2514.619404</td>\n",
       "      <td>-2766.759937</td>\n",
       "      <td>-1725.591441</td>\n",
       "      <td>-1255.146509</td>\n",
       "      <td>...</td>\n",
       "      <td>-375.241836</td>\n",
       "      <td>-1484.465401</td>\n",
       "      <td>-853.838447</td>\n",
       "      <td>-1367.829068</td>\n",
       "      <td>-571.900054</td>\n",
       "      <td>-838.747726</td>\n",
       "      <td>-1162.232820</td>\n",
       "      <td>-1266.486530</td>\n",
       "      <td>-1298.638023</td>\n",
       "      <td>0.000000</td>\n",
       "    </tr>\n",
       "    <tr>\n",
       "      <td>25%</td>\n",
       "      <td>187.25000</td>\n",
       "      <td>-1141.429466</td>\n",
       "      <td>-1218.887728</td>\n",
       "      <td>-1076.151552</td>\n",
       "      <td>-454.824979</td>\n",
       "      <td>-1548.108060</td>\n",
       "      <td>-1848.322368</td>\n",
       "      <td>-1203.978707</td>\n",
       "      <td>-1371.756006</td>\n",
       "      <td>-718.014815</td>\n",
       "      <td>...</td>\n",
       "      <td>322.566010</td>\n",
       "      <td>-847.468558</td>\n",
       "      <td>-335.783011</td>\n",
       "      <td>-924.099294</td>\n",
       "      <td>337.355440</td>\n",
       "      <td>-356.629007</td>\n",
       "      <td>-820.617263</td>\n",
       "      <td>-435.750013</td>\n",
       "      <td>-933.182073</td>\n",
       "      <td>0.000000</td>\n",
       "    </tr>\n",
       "    <tr>\n",
       "      <td>50%</td>\n",
       "      <td>374.50000</td>\n",
       "      <td>-1033.862143</td>\n",
       "      <td>-1024.510062</td>\n",
       "      <td>-896.612263</td>\n",
       "      <td>-255.321214</td>\n",
       "      <td>-1257.060242</td>\n",
       "      <td>-1701.504007</td>\n",
       "      <td>-875.340089</td>\n",
       "      <td>-1138.486182</td>\n",
       "      <td>-586.848142</td>\n",
       "      <td>...</td>\n",
       "      <td>639.993676</td>\n",
       "      <td>-750.170322</td>\n",
       "      <td>-130.115409</td>\n",
       "      <td>-783.870080</td>\n",
       "      <td>777.827303</td>\n",
       "      <td>-180.519462</td>\n",
       "      <td>-733.242628</td>\n",
       "      <td>-261.276132</td>\n",
       "      <td>-816.239345</td>\n",
       "      <td>1.000000</td>\n",
       "    </tr>\n",
       "    <tr>\n",
       "      <td>75%</td>\n",
       "      <td>561.75000</td>\n",
       "      <td>-837.607536</td>\n",
       "      <td>-885.604686</td>\n",
       "      <td>-560.246417</td>\n",
       "      <td>-196.687009</td>\n",
       "      <td>-1092.191607</td>\n",
       "      <td>-1259.153655</td>\n",
       "      <td>-508.663556</td>\n",
       "      <td>-978.433566</td>\n",
       "      <td>-416.287415</td>\n",
       "      <td>...</td>\n",
       "      <td>1355.814050</td>\n",
       "      <td>-654.438425</td>\n",
       "      <td>117.823076</td>\n",
       "      <td>-706.793736</td>\n",
       "      <td>1571.382500</td>\n",
       "      <td>209.283781</td>\n",
       "      <td>-609.175359</td>\n",
       "      <td>36.278669</td>\n",
       "      <td>-708.453545</td>\n",
       "      <td>2.000000</td>\n",
       "    </tr>\n",
       "    <tr>\n",
       "      <td>max</td>\n",
       "      <td>749.00000</td>\n",
       "      <td>-385.768608</td>\n",
       "      <td>-477.363374</td>\n",
       "      <td>130.829434</td>\n",
       "      <td>257.521293</td>\n",
       "      <td>-304.800847</td>\n",
       "      <td>-850.745403</td>\n",
       "      <td>929.737460</td>\n",
       "      <td>-466.326738</td>\n",
       "      <td>196.149024</td>\n",
       "      <td>...</td>\n",
       "      <td>2482.375600</td>\n",
       "      <td>-230.208352</td>\n",
       "      <td>5082.744968</td>\n",
       "      <td>-428.086002</td>\n",
       "      <td>4221.275650</td>\n",
       "      <td>1363.790953</td>\n",
       "      <td>-427.657222</td>\n",
       "      <td>5845.204223</td>\n",
       "      <td>-268.531949</td>\n",
       "      <td>2.000000</td>\n",
       "    </tr>\n",
       "  </tbody>\n",
       "</table>\n",
       "<p>8 rows × 7131 columns</p>\n",
       "</div>"
      ],
      "text/plain": [
       "       Unnamed: 0  AFFX-BioB-5_at  AFFX-BioB-M_at  AFFX-BioB-3_at  \\\n",
       "count   750.00000      750.000000      750.000000      750.000000   \n",
       "mean    374.50000    -1014.598658    -1048.357272     -823.358695   \n",
       "std     216.65064      297.369331      233.933609      392.662256   \n",
       "min       0.00000    -2010.202020    -1772.451092    -1619.756151   \n",
       "25%     187.25000    -1141.429466    -1218.887728    -1076.151552   \n",
       "50%     374.50000    -1033.862143    -1024.510062     -896.612263   \n",
       "75%     561.75000     -837.607536     -885.604686     -560.246417   \n",
       "max     749.00000     -385.768608     -477.363374      130.829434   \n",
       "\n",
       "       AFFX-BioC-5_at  AFFX-BioC-3_at  AFFX-BioDn-5_at  AFFX-BioDn-3_at  \\\n",
       "count      750.000000      750.000000       750.000000       750.000000   \n",
       "mean      -315.636838    -1295.949886     -1625.120199      -826.955064   \n",
       "std        215.534283      320.799277       419.687380       562.688520   \n",
       "min       -930.821077    -1984.530972     -2514.619404     -2766.759937   \n",
       "25%       -454.824979    -1548.108060     -1848.322368     -1203.978707   \n",
       "50%       -255.321214    -1257.060242     -1701.504007      -875.340089   \n",
       "75%       -196.687009    -1092.191607     -1259.153655      -508.663556   \n",
       "max        257.521293     -304.800847      -850.745403       929.737460   \n",
       "\n",
       "       AFFX-CreX-5_at  AFFX-CreX-3_at  ...    U58516_at    U73738_at  \\\n",
       "count      750.000000      750.000000  ...   750.000000   750.000000   \n",
       "mean     -1175.612555     -588.598064  ...   812.768978  -747.263549   \n",
       "std        288.546511      227.362605  ...   663.320928   176.481127   \n",
       "min      -1725.591441    -1255.146509  ...  -375.241836 -1484.465401   \n",
       "25%      -1371.756006     -718.014815  ...   322.566010  -847.468558   \n",
       "50%      -1138.486182     -586.848142  ...   639.993676  -750.170322   \n",
       "75%       -978.433566     -416.287415  ...  1355.814050  -654.438425   \n",
       "max       -466.326738      196.149024  ...  2482.375600  -230.208352   \n",
       "\n",
       "         X06956_at    X16699_at    X83863_at    Z17240_at  L49218_f_at  \\\n",
       "count   750.000000   750.000000   750.000000   750.000000   750.000000   \n",
       "mean     16.272227  -801.847334  1031.081628    -3.162310  -723.364564   \n",
       "std     751.988770   157.068732   966.569338   495.241653   138.805059   \n",
       "min    -853.838447 -1367.829068  -571.900054  -838.747726 -1162.232820   \n",
       "25%    -335.783011  -924.099294   337.355440  -356.629007  -820.617263   \n",
       "50%    -130.115409  -783.870080   777.827303  -180.519462  -733.242628   \n",
       "75%     117.823076  -706.793736  1571.382500   209.283781  -609.175359   \n",
       "max    5082.744968  -428.086002  4221.275650  1363.790953  -427.657222   \n",
       "\n",
       "       M71243_f_at  Z78285_f_at  cancer_type  \n",
       "count   750.000000   750.000000   750.000000  \n",
       "mean    -40.495922  -810.150889     1.000000  \n",
       "std     882.681724   176.347552     0.817041  \n",
       "min   -1266.486530 -1298.638023     0.000000  \n",
       "25%    -435.750013  -933.182073     0.000000  \n",
       "50%    -261.276132  -816.239345     1.000000  \n",
       "75%      36.278669  -708.453545     2.000000  \n",
       "max    5845.204223  -268.531949     2.000000  \n",
       "\n",
       "[8 rows x 7131 columns]"
      ]
     },
     "metadata": {},
     "output_type": "display_data"
    },
    {
     "data": {
      "text/html": [
       "<div>\n",
       "<style scoped>\n",
       "    .dataframe tbody tr th:only-of-type {\n",
       "        vertical-align: middle;\n",
       "    }\n",
       "\n",
       "    .dataframe tbody tr th {\n",
       "        vertical-align: top;\n",
       "    }\n",
       "\n",
       "    .dataframe thead th {\n",
       "        text-align: right;\n",
       "    }\n",
       "</style>\n",
       "<table border=\"1\" class=\"dataframe\">\n",
       "  <thead>\n",
       "    <tr style=\"text-align: right;\">\n",
       "      <th></th>\n",
       "      <th>Unnamed: 0</th>\n",
       "      <th>AFFX-BioB-5_at</th>\n",
       "      <th>AFFX-BioB-M_at</th>\n",
       "      <th>AFFX-BioB-3_at</th>\n",
       "      <th>AFFX-BioC-5_at</th>\n",
       "      <th>AFFX-BioC-3_at</th>\n",
       "      <th>AFFX-BioDn-5_at</th>\n",
       "      <th>AFFX-BioDn-3_at</th>\n",
       "      <th>AFFX-CreX-5_at</th>\n",
       "      <th>AFFX-CreX-3_at</th>\n",
       "      <th>...</th>\n",
       "      <th>U58516_at</th>\n",
       "      <th>U73738_at</th>\n",
       "      <th>X06956_at</th>\n",
       "      <th>X16699_at</th>\n",
       "      <th>X83863_at</th>\n",
       "      <th>Z17240_at</th>\n",
       "      <th>L49218_f_at</th>\n",
       "      <th>M71243_f_at</th>\n",
       "      <th>Z78285_f_at</th>\n",
       "      <th>cancer_type</th>\n",
       "    </tr>\n",
       "  </thead>\n",
       "  <tbody>\n",
       "    <tr>\n",
       "      <td>0</td>\n",
       "      <td>0</td>\n",
       "      <td>-1363.276427</td>\n",
       "      <td>-1058.585495</td>\n",
       "      <td>-541.469194</td>\n",
       "      <td>74.349803</td>\n",
       "      <td>-1110.082554</td>\n",
       "      <td>-1545.661845</td>\n",
       "      <td>-2037.029616</td>\n",
       "      <td>-1255.990888</td>\n",
       "      <td>-335.480958</td>\n",
       "      <td>...</td>\n",
       "      <td>1565.618803</td>\n",
       "      <td>-485.680714</td>\n",
       "      <td>-170.261227</td>\n",
       "      <td>-919.114293</td>\n",
       "      <td>1675.050053</td>\n",
       "      <td>389.769289</td>\n",
       "      <td>-526.449219</td>\n",
       "      <td>-268.963924</td>\n",
       "      <td>-779.643092</td>\n",
       "      <td>0.0</td>\n",
       "    </tr>\n",
       "    <tr>\n",
       "      <td>1</td>\n",
       "      <td>1</td>\n",
       "      <td>-796.285053</td>\n",
       "      <td>-1167.103365</td>\n",
       "      <td>7.538493</td>\n",
       "      <td>83.544731</td>\n",
       "      <td>-1116.432539</td>\n",
       "      <td>-1731.392100</td>\n",
       "      <td>249.376523</td>\n",
       "      <td>-1636.960108</td>\n",
       "      <td>-149.080421</td>\n",
       "      <td>...</td>\n",
       "      <td>622.498054</td>\n",
       "      <td>-1275.354673</td>\n",
       "      <td>214.828233</td>\n",
       "      <td>-750.220666</td>\n",
       "      <td>-441.589276</td>\n",
       "      <td>9.841713</td>\n",
       "      <td>-671.911209</td>\n",
       "      <td>-671.911209</td>\n",
       "      <td>-644.272577</td>\n",
       "      <td>0.0</td>\n",
       "    </tr>\n",
       "    <tr>\n",
       "      <td>2</td>\n",
       "      <td>2</td>\n",
       "      <td>-679.139168</td>\n",
       "      <td>-1069.832308</td>\n",
       "      <td>-690.301829</td>\n",
       "      <td>-112.075981</td>\n",
       "      <td>-1199.319178</td>\n",
       "      <td>-1286.387935</td>\n",
       "      <td>-605.465604</td>\n",
       "      <td>-1043.041921</td>\n",
       "      <td>-728.254877</td>\n",
       "      <td>...</td>\n",
       "      <td>162.525483</td>\n",
       "      <td>-692.534361</td>\n",
       "      <td>517.498108</td>\n",
       "      <td>-674.674103</td>\n",
       "      <td>1265.396405</td>\n",
       "      <td>-65.192805</td>\n",
       "      <td>-714.859684</td>\n",
       "      <td>3672.066149</td>\n",
       "      <td>-822.021231</td>\n",
       "      <td>0.0</td>\n",
       "    </tr>\n",
       "    <tr>\n",
       "      <td>3</td>\n",
       "      <td>3</td>\n",
       "      <td>-1164.400197</td>\n",
       "      <td>-1109.939891</td>\n",
       "      <td>-990.127218</td>\n",
       "      <td>-238.574994</td>\n",
       "      <td>-1264.607160</td>\n",
       "      <td>-1218.860503</td>\n",
       "      <td>-1255.893511</td>\n",
       "      <td>-1009.732928</td>\n",
       "      <td>-521.768585</td>\n",
       "      <td>...</td>\n",
       "      <td>-31.625831</td>\n",
       "      <td>-621.975549</td>\n",
       "      <td>-458.594630</td>\n",
       "      <td>-630.689198</td>\n",
       "      <td>937.767618</td>\n",
       "      <td>-264.715941</td>\n",
       "      <td>-635.046022</td>\n",
       "      <td>475.944222</td>\n",
       "      <td>-794.070116</td>\n",
       "      <td>0.0</td>\n",
       "    </tr>\n",
       "    <tr>\n",
       "      <td>4</td>\n",
       "      <td>4</td>\n",
       "      <td>-1299.653758</td>\n",
       "      <td>-1401.998536</td>\n",
       "      <td>-1077.543813</td>\n",
       "      <td>-437.344560</td>\n",
       "      <td>-1386.755697</td>\n",
       "      <td>-1726.453259</td>\n",
       "      <td>-1499.988218</td>\n",
       "      <td>-1219.084464</td>\n",
       "      <td>-994.796971</td>\n",
       "      <td>...</td>\n",
       "      <td>383.591216</td>\n",
       "      <td>-905.517483</td>\n",
       "      <td>-36.675640</td>\n",
       "      <td>-1116.739685</td>\n",
       "      <td>316.087213</td>\n",
       "      <td>-210.879518</td>\n",
       "      <td>-953.423549</td>\n",
       "      <td>-291.448812</td>\n",
       "      <td>-1057.945876</td>\n",
       "      <td>0.0</td>\n",
       "    </tr>\n",
       "  </tbody>\n",
       "</table>\n",
       "<p>5 rows × 7131 columns</p>\n",
       "</div>"
      ],
      "text/plain": [
       "   Unnamed: 0  AFFX-BioB-5_at  AFFX-BioB-M_at  AFFX-BioB-3_at  AFFX-BioC-5_at  \\\n",
       "0           0    -1363.276427    -1058.585495     -541.469194       74.349803   \n",
       "1           1     -796.285053    -1167.103365        7.538493       83.544731   \n",
       "2           2     -679.139168    -1069.832308     -690.301829     -112.075981   \n",
       "3           3    -1164.400197    -1109.939891     -990.127218     -238.574994   \n",
       "4           4    -1299.653758    -1401.998536    -1077.543813     -437.344560   \n",
       "\n",
       "   AFFX-BioC-3_at  AFFX-BioDn-5_at  AFFX-BioDn-3_at  AFFX-CreX-5_at  \\\n",
       "0    -1110.082554     -1545.661845     -2037.029616    -1255.990888   \n",
       "1    -1116.432539     -1731.392100       249.376523    -1636.960108   \n",
       "2    -1199.319178     -1286.387935      -605.465604    -1043.041921   \n",
       "3    -1264.607160     -1218.860503     -1255.893511    -1009.732928   \n",
       "4    -1386.755697     -1726.453259     -1499.988218    -1219.084464   \n",
       "\n",
       "   AFFX-CreX-3_at  ...    U58516_at    U73738_at   X06956_at    X16699_at  \\\n",
       "0     -335.480958  ...  1565.618803  -485.680714 -170.261227  -919.114293   \n",
       "1     -149.080421  ...   622.498054 -1275.354673  214.828233  -750.220666   \n",
       "2     -728.254877  ...   162.525483  -692.534361  517.498108  -674.674103   \n",
       "3     -521.768585  ...   -31.625831  -621.975549 -458.594630  -630.689198   \n",
       "4     -994.796971  ...   383.591216  -905.517483  -36.675640 -1116.739685   \n",
       "\n",
       "     X83863_at   Z17240_at  L49218_f_at  M71243_f_at  Z78285_f_at  cancer_type  \n",
       "0  1675.050053  389.769289  -526.449219  -268.963924  -779.643092          0.0  \n",
       "1  -441.589276    9.841713  -671.911209  -671.911209  -644.272577          0.0  \n",
       "2  1265.396405  -65.192805  -714.859684  3672.066149  -822.021231          0.0  \n",
       "3   937.767618 -264.715941  -635.046022   475.944222  -794.070116          0.0  \n",
       "4   316.087213 -210.879518  -953.423549  -291.448812 -1057.945876          0.0  \n",
       "\n",
       "[5 rows x 7131 columns]"
      ]
     },
     "metadata": {},
     "output_type": "display_data"
    }
   ],
   "source": [
    "#your code here\n",
    "zf = zipfile.ZipFile('data/hw4_mc_enhance.csv.zip') \n",
    "df = pd.read_csv(zf.open('hw4_mc_enhance.csv'))\n",
    "display(df.describe())\n",
    "display(df.head())\n"
   ]
  },
  {
   "cell_type": "code",
   "execution_count": 28,
   "metadata": {},
   "outputs": [
    {
     "name": "stdout",
     "output_type": "stream",
     "text": [
      "Index(['Unnamed: 0', 'AFFX-BioB-5_at', 'AFFX-BioB-M_at', 'AFFX-BioB-3_at',\n",
      "       'AFFX-BioC-5_at', 'AFFX-BioC-3_at', 'AFFX-BioDn-5_at',\n",
      "       'AFFX-BioDn-3_at', 'AFFX-CreX-5_at', 'AFFX-CreX-3_at',\n",
      "       ...\n",
      "       'U58516_at', 'U73738_at', 'X06956_at', 'X16699_at', 'X83863_at',\n",
      "       'Z17240_at', 'L49218_f_at', 'M71243_f_at', 'Z78285_f_at',\n",
      "       'cancer_type'],\n",
      "      dtype='object', length=7131)\n"
     ]
    }
   ],
   "source": [
    "#your code here \n",
    "print(df.columns)\n"
   ]
  },
  {
   "cell_type": "code",
   "execution_count": 29,
   "metadata": {},
   "outputs": [
    {
     "name": "stdout",
     "output_type": "stream",
     "text": [
      "2.0    250\n",
      "1.0    250\n",
      "0.0    250\n",
      "Name: cancer_type, dtype: int64\n"
     ]
    }
   ],
   "source": [
    "#How many instances of each class are there in our dataset ? \n",
    "print(df.cancer_type.value_counts())"
   ]
  },
  {
   "cell_type": "markdown",
   "metadata": {},
   "source": [
    "**4.2 Split the dataset into train and test, 80-20 split, random_state = 8.**\n",
    "\n",
    "**We are going to utilize these two features - 'M31523_at', 'X95735_at'.  Create a scatter plot of these two features using training dataset.  We should be able to discern from the plot which sample belongs to which `cancer_type`.** "
   ]
  },
  {
   "cell_type": "code",
   "execution_count": 30,
   "metadata": {},
   "outputs": [
    {
     "name": "stdout",
     "output_type": "stream",
     "text": [
      "Index(['M31523_at', 'X95735_at'], dtype='object')\n"
     ]
    }
   ],
   "source": [
    "# your code here\n",
    "# Split data\n",
    "from sklearn.model_selection import train_test_split\n",
    "random_state = 8 \n",
    "\n",
    "data_train, data_test = train_test_split(df, test_size=.2, random_state=random_state)\n",
    "\n",
    "data_train_X = data_train[best_preds[0:2]]\n",
    "data_train_Y = data_train['cancer_type']\n",
    "\n",
    "# your code here\n",
    "print(best_preds[0:2])"
   ]
  },
  {
   "cell_type": "code",
   "execution_count": 31,
   "metadata": {},
   "outputs": [
    {
     "data": {
      "image/png": "[encoded data removed]",
      "text/plain": [
       "<Figure size 720x432 with 1 Axes>"
      ]
     },
     "metadata": {
      "needs_background": "light"
     },
     "output_type": "display_data"
    }
   ],
   "source": [
    "# your code here\n",
    "X = data_train_X.values\n",
    "y = data_train_Y.values\n",
    "\n",
    "pal = sns.utils.get_color_cycle()\n",
    "class_colors = {0: pal[0], 1: pal[1], 2: pal[2]}\n",
    "class_markers = {0: 'o', 1: '^', 2: 'v'}\n",
    "class_names = {\"ClassA\": 0, \"ClassB\": 1, \"ClassC\": 2}\n",
    "def plot_cancer_data(ax, X, y):\n",
    "    for class_name, response in class_names.items():\n",
    "        subset = X[y == response]\n",
    "        ax.scatter(\n",
    "            subset[:, 0],\n",
    "            subset[:, 1], \n",
    "            label=class_name,\n",
    "            alpha=.9, color=class_colors[response],\n",
    "            lw=.5, edgecolor='k', marker=class_markers[response])\n",
    "        \n",
    "        ax.set(xlabel='Biomarker 1', ylabel='Biomarker 2')\n",
    "        ax.legend(loc=\"lower right\")\n",
    "\n",
    "fig, ax = plt.subplots(figsize=(10,6))\n",
    "ax.set_title( 'M31523_at vs. X95735_at')\n",
    "plot_cancer_data(ax, X, y)"
   ]
  },
  {
   "cell_type": "markdown",
   "metadata": {},
   "source": [
    "**4.3  Fit the following two models using crossvalidation:**\n",
    "\n",
    "**Logistic Regression Multiclass model with linear features.**\n",
    "\n",
    "**Logistic Regression Multiclass model with Polynomial features, degree = 2.**\n"
   ]
  },
  {
   "cell_type": "code",
   "execution_count": 32,
   "metadata": {},
   "outputs": [],
   "source": [
    "# your code here\n",
    "from sklearn.pipeline import make_pipeline\n",
    "from sklearn.preprocessing import PolynomialFeatures\n",
    "from sklearn.preprocessing import StandardScaler\n",
    "\n",
    "polynomial_logreg_estimator = make_pipeline(\n",
    "    PolynomialFeatures(degree=2, include_bias=False),\n",
    "    LogisticRegressionCV(multi_class=\"ovr\"))\n",
    "\n",
    "# Since this is a Pipeline, you can call `.fit` and `.predict` just as if it were any other estimator.\n",
    "#\n",
    "# Note that you can access the logistic regression classifier itself by\n",
    "# polynomial_logreg_estimator.named_steps['logisticregressioncv']"
   ]
  },
  {
   "cell_type": "code",
   "execution_count": 33,
   "metadata": {},
   "outputs": [],
   "source": [
    "# your code here\n",
    "standardize_before_logreg = True\n",
    "if not standardize_before_logreg:\n",
    "    # without standardizing...\n",
    "    logreg_ovr = LogisticRegressionCV(multi_class=\"ovr\", cv=5, max_iter=300).fit(X, y)\n",
    "    polynomial_logreg_estimator = make_pipeline(\n",
    "        PolynomialFeatures(degree=2, include_bias=False),\n",
    "        LogisticRegressionCV(multi_class=\"ovr\", cv=5, max_iter=300)).fit(X, y);\n",
    "\n",
    "else:\n",
    "    # with standardizing... since we want to standardize all features, it's really this easy:\n",
    "    logreg_ovr = make_pipeline(\n",
    "        StandardScaler(),\n",
    "        LogisticRegressionCV(multi_class=\"ovr\", cv=5, max_iter=300)).fit(X, y)\n",
    "    polynomial_logreg_estimator = make_pipeline(\n",
    "        PolynomialFeatures(degree=2, include_bias=False),\n",
    "        StandardScaler(),\n",
    "        LogisticRegressionCV(multi_class=\"ovr\", cv=5)).fit(X, y);"
   ]
  },
  {
   "cell_type": "markdown",
   "metadata": {},
   "source": [
    "**4.4 Plot the decision boundary and interpret results. Hint: You may utilize the function `overlay_decision_boundary`** \n"
   ]
  },
  {
   "cell_type": "code",
   "execution_count": 34,
   "metadata": {},
   "outputs": [],
   "source": [
    "def overlay_decision_boundary(ax, model, colors=None, nx=200, ny=200, desaturate=.5, xlim=None, ylim=None):\n",
    "    \"\"\"\n",
    "    A function that visualizes the decision boundaries of a classifier.\n",
    "    \n",
    "    ax: Matplotlib Axes to plot on\n",
    "    model: Classifier to use.\n",
    "     - if `model` has a `.predict` method, like an sklearn classifier, we call `model.predict(X)`\n",
    "     - otherwise, we simply call `model(X)`\n",
    "    colors: list or dict of colors to use. Use color `colors[i]` for class i.\n",
    "     - If colors is not provided, uses the current color cycle\n",
    "    nx, ny: number of mesh points to evaluated the classifier on\n",
    "    desaturate: how much to desaturate each of the colors (for better contrast with the sample points)\n",
    "    xlim, ylim: range to plot on. (If the default, None, is passed, the limits will be taken from `ax`.)\n",
    "    \"\"\"\n",
    "    # Create mesh.\n",
    "    xmin, xmax = ax.get_xlim() if xlim is None else xlim\n",
    "    ymin, ymax = ax.get_ylim() if ylim is None else ylim\n",
    "    xx, yy = np.meshgrid(\n",
    "        np.linspace(xmin, xmax, nx),\n",
    "        np.linspace(ymin, ymax, ny))\n",
    "    X = np.c_[xx.flatten(), yy.flatten()]\n",
    "\n",
    "    # Predict on mesh of points.\n",
    "    model = getattr(model, 'predict', model)\n",
    "    y = model(X)\n",
    "    #print(\"Do I predict\" , y)\n",
    "    \n",
    "    \n",
    "#     y[np.where(y=='aml')]=3\n",
    "#     y[np.where(y=='allT')]=2\n",
    "#     y[np.where(y=='allB')]=1\n",
    "    \n",
    "    \n",
    "    \n",
    "    y = y.astype(int) # This may be necessary for 32-bit Python.\n",
    "    y = y.reshape((nx, ny))\n",
    "\n",
    "    # Generate colormap.\n",
    "    if colors is None:\n",
    "        # If colors not provided, use the current color cycle.\n",
    "        # Shift the indices so that the lowest class actually predicted gets the first color.\n",
    "        # ^ This is a bit magic, consider removing for next year.\n",
    "        colors = (['white'] * np.min(y)) + sns.utils.get_color_cycle()\n",
    "\n",
    "    if isinstance(colors, dict):\n",
    "        missing_colors = [idx for idx in np.unique(y) if idx not in colors]\n",
    "        assert len(missing_colors) == 0, f\"Color not specified for predictions {missing_colors}.\"\n",
    "\n",
    "        # Make a list of colors, filling in items from the dict.\n",
    "        color_list = ['white'] * (np.max(y) + 1)\n",
    "        for idx, val in colors.items():\n",
    "            color_list[idx] = val\n",
    "    else:\n",
    "        assert len(colors) >= np.max(y) + 1, \"Insufficient colors passed for all predictions.\"\n",
    "        color_list = colors\n",
    "    color_list = [sns.utils.desaturate(color, desaturate) for color in color_list]\n",
    "    cmap = matplotlib.colors.ListedColormap(color_list)\n",
    "\n",
    "    # Plot decision surface\n",
    "    ax.pcolormesh(xx, yy, y, zorder=-2, cmap=cmap, norm=matplotlib.colors.NoNorm(), vmin=0, vmax=y.max() + 1)\n",
    "    xx = xx.reshape(nx, ny)\n",
    "    yy = yy.reshape(nx, ny)\n",
    "    if len(np.unique(y)) > 1:\n",
    "        ax.contour(xx, yy, y, colors=\"black\", linewidths=1, zorder=-1)\n",
    "    else:\n",
    "        print(\"Warning: only one class predicted, so not plotting contour lines.\")"
   ]
  },
  {
   "cell_type": "code",
   "execution_count": 35,
   "metadata": {},
   "outputs": [],
   "source": [
    "# Your code here\n",
    "def plot_decision_boundary(x, y, model, title, ax):\n",
    "    plot_cancer_data(ax, x, y)\n",
    "    overlay_decision_boundary(ax, model, colors=class_colors)\n",
    "    ax.set_title(title)\n"
   ]
  },
  {
   "cell_type": "code",
   "execution_count": 36,
   "metadata": {},
   "outputs": [
    {
     "data": {
      "image/png": "[encoded data removed]",
      "text/plain": [
       "<Figure size 864x360 with 2 Axes>"
      ]
     },
     "metadata": {
      "needs_background": "light"
     },
     "output_type": "display_data"
    }
   ],
   "source": [
    "# your code here\n",
    "fig, axs = plt.subplots(1, 2, figsize=(12, 5))\n",
    "named_classifiers = [\n",
    "    (\"Linear\", logreg_ovr),\n",
    "    (\"Polynomial\", polynomial_logreg_estimator)\n",
    "]\n",
    "for ax, (name, clf) in zip(axs, named_classifiers):\n",
    "    plot_decision_boundary(X, y, clf, name, ax)"
   ]
  },
  {
   "cell_type": "markdown",
   "metadata": {},
   "source": [
    "**4.5 Report and plot the CV scores for the two models and interpret the results.**"
   ]
  },
  {
   "cell_type": "code",
   "execution_count": 37,
   "metadata": {},
   "outputs": [
    {
     "data": {
      "image/png": "[encoded data removed]",
      "text/plain": [
       "<Figure size 432x288 with 1 Axes>"
      ]
     },
     "metadata": {
      "needs_background": "light"
     },
     "output_type": "display_data"
    }
   ],
   "source": [
    "# your code here\n",
    "cv_scores = [\n",
    "    cross_val_score(model, X, y, cv=3)\n",
    "    for name, model in named_classifiers]\n",
    "\n",
    "plt.boxplot(cv_scores);\n",
    "plt.xticks(np.arange(1, 4), [name for name, model in named_classifiers])\n",
    "plt.xlabel(\"Logistic Regression variant\")\n",
    "plt.ylabel(\"Validation-Set Accuracy\");"
   ]
  },
  {
   "cell_type": "code",
   "execution_count": 38,
   "metadata": {},
   "outputs": [
    {
     "name": "stdout",
     "output_type": "stream",
     "text": [
      "Cross-validation accuracy:\n"
     ]
    },
    {
     "data": {
      "text/html": [
       "<div>\n",
       "<style scoped>\n",
       "    .dataframe tbody tr th:only-of-type {\n",
       "        vertical-align: middle;\n",
       "    }\n",
       "\n",
       "    .dataframe tbody tr th {\n",
       "        vertical-align: top;\n",
       "    }\n",
       "\n",
       "    .dataframe thead th {\n",
       "        text-align: right;\n",
       "    }\n",
       "</style>\n",
       "<table border=\"1\" class=\"dataframe\">\n",
       "  <thead>\n",
       "    <tr style=\"text-align: right;\">\n",
       "      <th></th>\n",
       "      <th>mean</th>\n",
       "      <th>std</th>\n",
       "    </tr>\n",
       "  </thead>\n",
       "  <tbody>\n",
       "    <tr>\n",
       "      <td>Linear</td>\n",
       "      <td>0.848409</td>\n",
       "      <td>0.019916</td>\n",
       "    </tr>\n",
       "    <tr>\n",
       "      <td>Polynomial</td>\n",
       "      <td>0.919971</td>\n",
       "      <td>0.013423</td>\n",
       "    </tr>\n",
       "  </tbody>\n",
       "</table>\n",
       "</div>"
      ],
      "text/plain": [
       "                mean       std\n",
       "Linear      0.848409  0.019916\n",
       "Polynomial  0.919971  0.013423"
      ]
     },
     "execution_count": 38,
     "metadata": {},
     "output_type": "execute_result"
    }
   ],
   "source": [
    "# your code here\n",
    "print(\"Cross-validation accuracy:\")\n",
    "pd.DataFrame(cv_scores, index=[name for name, model in named_classifiers]).T.aggregate(['mean', 'std']).T"
   ]
  },
  {
   "cell_type": "markdown",
   "metadata": {},
   "source": [
    "We are looking for low standard deviations in cross validation scores. If standard deviation is low (like in this case), we expect accuracy on an unseen dataset/test datasets to be rougly equal to mean cross validation accuracy. "
   ]
  },
  {
   "cell_type": "markdown",
   "metadata": {},
   "source": [
    "<div class='exercise'><b> Question 5: [10 pts] Including an 'abstain' option </b></div>\n",
    "\n",
    "One of the reasons a hospital might be hesitant to use your cancer classification model is that a misdiagnosis by the model on a patient can sometimes prove to be very costly (e.g., missing a diagnosis or wrongly diagnosing a condition, and subsequently, one may file a lawsuit seeking a compensation for damages). One way to mitigate this concern is to allow the model to 'abstain' from making a prediction whenever it is uncertain about the diagnosis for a patient. However, when the model abstains from making a prediction, the hospital will have to forward the patient to a specialist, which would incur additional cost. How could one design a cancer classification model with an abstain option, such that the cost to the hospital is minimized?\n",
    "\n",
    "**Hint:** Think of ways to build on top of the logistic regression model and have it abstain on patients who are difficult to classify."
   ]
  },
  {
   "cell_type": "markdown",
   "metadata": {},
   "source": [
    "**5.1** More specifically, suppose the cost incurred by a hospital when a model mis-predicts on a patient is $\\$5000$ , and the cost incurred when the model abstains from making a prediction is \\$1000. What is the average cost per patient for the OvR logistic regression model (without quadratic or interaction terms) from **Question 4**.  Note that this needs to be evaluated on the patients in the testing set. "
   ]
  },
  {
   "cell_type": "markdown",
   "metadata": {},
   "source": [
    "**5.2** Design a classification strategy (into the 3 groups plus the *abstain* group) that has a low cost as possible per patient (certainly lower cost per patient than the logistic regression model). Give a justification for your approach."
   ]
  },
  {
   "cell_type": "markdown",
   "metadata": {},
   "source": [
    "<hr>\n",
    "### Solutions"
   ]
  },
  {
   "cell_type": "markdown",
   "metadata": {},
   "source": [
    "**5.1 More specifically, suppose the cost incurred by a hospital when a model mis-predicts on a patient is $\\$5000$ , and the cost incurred when the model abstains from making a prediction is \\$1000. What is the average cost per patient for the OvR logistic regression model (without quadratic or interaction terms) from Question 4.** <br><bR> Note that this needs to be evaluated on the patients in the testing set. "
   ]
  },
  {
   "cell_type": "markdown",
   "metadata": {},
   "source": [
    "*your answer here* \n",
    "\n",
    "**Philosophy:** Assuming the OvR logistic regression model, we estimate $p_j$ for $j\\in \\{1,2,3\\}$, the marginal probability of being in each class. `sklearn` handles the normalization for us, although the normalization step is not necessary for the multinomial model since the softmax function is already constrained to sum to 1. \n",
    "\n",
    "Following the hint, we will proceed by using the trained OvR logistic regression model to estimate $\\hat{p}_j$ and then use the missclassifications to estimate the cost of them. \n"
   ]
  },
  {
   "cell_type": "code",
   "execution_count": 39,
   "metadata": {},
   "outputs": [
    {
     "data": {
      "text/html": [
       "<div>\n",
       "<style scoped>\n",
       "    .dataframe tbody tr th:only-of-type {\n",
       "        vertical-align: middle;\n",
       "    }\n",
       "\n",
       "    .dataframe tbody tr th {\n",
       "        vertical-align: top;\n",
       "    }\n",
       "\n",
       "    .dataframe thead th {\n",
       "        text-align: right;\n",
       "    }\n",
       "</style>\n",
       "<table border=\"1\" class=\"dataframe\">\n",
       "  <thead>\n",
       "    <tr style=\"text-align: right;\">\n",
       "      <th></th>\n",
       "      <th>Unnamed: 0</th>\n",
       "      <th>AFFX-BioB-5_at</th>\n",
       "      <th>AFFX-BioB-M_at</th>\n",
       "      <th>AFFX-BioB-3_at</th>\n",
       "      <th>AFFX-BioC-5_at</th>\n",
       "      <th>AFFX-BioC-3_at</th>\n",
       "      <th>AFFX-BioDn-5_at</th>\n",
       "      <th>AFFX-BioDn-3_at</th>\n",
       "      <th>AFFX-CreX-5_at</th>\n",
       "      <th>AFFX-CreX-3_at</th>\n",
       "      <th>...</th>\n",
       "      <th>U58516_at</th>\n",
       "      <th>U73738_at</th>\n",
       "      <th>X06956_at</th>\n",
       "      <th>X16699_at</th>\n",
       "      <th>X83863_at</th>\n",
       "      <th>Z17240_at</th>\n",
       "      <th>L49218_f_at</th>\n",
       "      <th>M71243_f_at</th>\n",
       "      <th>Z78285_f_at</th>\n",
       "      <th>cancer_type</th>\n",
       "    </tr>\n",
       "  </thead>\n",
       "  <tbody>\n",
       "    <tr>\n",
       "      <td>694</td>\n",
       "      <td>694</td>\n",
       "      <td>-508.759511</td>\n",
       "      <td>-837.458324</td>\n",
       "      <td>-445.837813</td>\n",
       "      <td>-125.088868</td>\n",
       "      <td>-742.445347</td>\n",
       "      <td>-923.159050</td>\n",
       "      <td>369.544276</td>\n",
       "      <td>-659.463036</td>\n",
       "      <td>-541.814354</td>\n",
       "      <td>...</td>\n",
       "      <td>1325.856037</td>\n",
       "      <td>-394.942745</td>\n",
       "      <td>223.155195</td>\n",
       "      <td>-636.161838</td>\n",
       "      <td>949.753661</td>\n",
       "      <td>-79.503089</td>\n",
       "      <td>-623.255984</td>\n",
       "      <td>-184.752179</td>\n",
       "      <td>-319.145786</td>\n",
       "      <td>0.0</td>\n",
       "    </tr>\n",
       "    <tr>\n",
       "      <td>407</td>\n",
       "      <td>407</td>\n",
       "      <td>-1124.873709</td>\n",
       "      <td>-999.916690</td>\n",
       "      <td>-945.925308</td>\n",
       "      <td>-92.663192</td>\n",
       "      <td>-1246.474790</td>\n",
       "      <td>-1755.151889</td>\n",
       "      <td>-949.482528</td>\n",
       "      <td>-1327.335281</td>\n",
       "      <td>-1021.768267</td>\n",
       "      <td>...</td>\n",
       "      <td>1241.000063</td>\n",
       "      <td>-921.140073</td>\n",
       "      <td>147.915618</td>\n",
       "      <td>-879.690813</td>\n",
       "      <td>1601.257679</td>\n",
       "      <td>-199.689132</td>\n",
       "      <td>-763.699857</td>\n",
       "      <td>-464.983480</td>\n",
       "      <td>-852.430952</td>\n",
       "      <td>2.0</td>\n",
       "    </tr>\n",
       "    <tr>\n",
       "      <td>535</td>\n",
       "      <td>535</td>\n",
       "      <td>-1319.714408</td>\n",
       "      <td>-1261.696819</td>\n",
       "      <td>-921.241742</td>\n",
       "      <td>-586.837972</td>\n",
       "      <td>-1554.056204</td>\n",
       "      <td>-1540.356876</td>\n",
       "      <td>-760.851436</td>\n",
       "      <td>-1253.483929</td>\n",
       "      <td>-838.579586</td>\n",
       "      <td>...</td>\n",
       "      <td>141.169935</td>\n",
       "      <td>-916.607723</td>\n",
       "      <td>1434.307846</td>\n",
       "      <td>-1092.884459</td>\n",
       "      <td>175.952946</td>\n",
       "      <td>-356.082343</td>\n",
       "      <td>-915.988067</td>\n",
       "      <td>-1266.486530</td>\n",
       "      <td>-1001.912831</td>\n",
       "      <td>0.0</td>\n",
       "    </tr>\n",
       "    <tr>\n",
       "      <td>78</td>\n",
       "      <td>78</td>\n",
       "      <td>-845.320689</td>\n",
       "      <td>-998.080799</td>\n",
       "      <td>-584.909139</td>\n",
       "      <td>-266.280699</td>\n",
       "      <td>-1030.496411</td>\n",
       "      <td>-1484.891954</td>\n",
       "      <td>-1014.027851</td>\n",
       "      <td>-1079.956639</td>\n",
       "      <td>-395.081089</td>\n",
       "      <td>...</td>\n",
       "      <td>642.117825</td>\n",
       "      <td>-514.641963</td>\n",
       "      <td>125.877584</td>\n",
       "      <td>-565.851700</td>\n",
       "      <td>1712.403134</td>\n",
       "      <td>-275.402960</td>\n",
       "      <td>-594.887488</td>\n",
       "      <td>514.377683</td>\n",
       "      <td>-624.503836</td>\n",
       "      <td>2.0</td>\n",
       "    </tr>\n",
       "    <tr>\n",
       "      <td>542</td>\n",
       "      <td>542</td>\n",
       "      <td>-1033.862143</td>\n",
       "      <td>-931.594226</td>\n",
       "      <td>-1483.768944</td>\n",
       "      <td>-190.050404</td>\n",
       "      <td>-1765.754820</td>\n",
       "      <td>-2290.233745</td>\n",
       "      <td>-697.958723</td>\n",
       "      <td>-1630.799889</td>\n",
       "      <td>-433.994036</td>\n",
       "      <td>...</td>\n",
       "      <td>1685.701733</td>\n",
       "      <td>-772.096997</td>\n",
       "      <td>-338.758922</td>\n",
       "      <td>-777.302277</td>\n",
       "      <td>1735.502020</td>\n",
       "      <td>716.758586</td>\n",
       "      <td>-751.595471</td>\n",
       "      <td>-260.090546</td>\n",
       "      <td>-974.584788</td>\n",
       "      <td>1.0</td>\n",
       "    </tr>\n",
       "  </tbody>\n",
       "</table>\n",
       "<p>5 rows × 7131 columns</p>\n",
       "</div>"
      ],
      "text/plain": [
       "     Unnamed: 0  AFFX-BioB-5_at  AFFX-BioB-M_at  AFFX-BioB-3_at  \\\n",
       "694         694     -508.759511     -837.458324     -445.837813   \n",
       "407         407    -1124.873709     -999.916690     -945.925308   \n",
       "535         535    -1319.714408    -1261.696819     -921.241742   \n",
       "78           78     -845.320689     -998.080799     -584.909139   \n",
       "542         542    -1033.862143     -931.594226    -1483.768944   \n",
       "\n",
       "     AFFX-BioC-5_at  AFFX-BioC-3_at  AFFX-BioDn-5_at  AFFX-BioDn-3_at  \\\n",
       "694     -125.088868     -742.445347      -923.159050       369.544276   \n",
       "407      -92.663192    -1246.474790     -1755.151889      -949.482528   \n",
       "535     -586.837972    -1554.056204     -1540.356876      -760.851436   \n",
       "78      -266.280699    -1030.496411     -1484.891954     -1014.027851   \n",
       "542     -190.050404    -1765.754820     -2290.233745      -697.958723   \n",
       "\n",
       "     AFFX-CreX-5_at  AFFX-CreX-3_at  ...    U58516_at   U73738_at  \\\n",
       "694     -659.463036     -541.814354  ...  1325.856037 -394.942745   \n",
       "407    -1327.335281    -1021.768267  ...  1241.000063 -921.140073   \n",
       "535    -1253.483929     -838.579586  ...   141.169935 -916.607723   \n",
       "78     -1079.956639     -395.081089  ...   642.117825 -514.641963   \n",
       "542    -1630.799889     -433.994036  ...  1685.701733 -772.096997   \n",
       "\n",
       "       X06956_at    X16699_at    X83863_at   Z17240_at  L49218_f_at  \\\n",
       "694   223.155195  -636.161838   949.753661  -79.503089  -623.255984   \n",
       "407   147.915618  -879.690813  1601.257679 -199.689132  -763.699857   \n",
       "535  1434.307846 -1092.884459   175.952946 -356.082343  -915.988067   \n",
       "78    125.877584  -565.851700  1712.403134 -275.402960  -594.887488   \n",
       "542  -338.758922  -777.302277  1735.502020  716.758586  -751.595471   \n",
       "\n",
       "     M71243_f_at  Z78285_f_at  cancer_type  \n",
       "694  -184.752179  -319.145786          0.0  \n",
       "407  -464.983480  -852.430952          2.0  \n",
       "535 -1266.486530 -1001.912831          0.0  \n",
       "78    514.377683  -624.503836          2.0  \n",
       "542  -260.090546  -974.584788          1.0  \n",
       "\n",
       "[5 rows x 7131 columns]"
      ]
     },
     "execution_count": 39,
     "metadata": {},
     "output_type": "execute_result"
    }
   ],
   "source": [
    "data_test.head()"
   ]
  },
  {
   "cell_type": "code",
   "execution_count": 40,
   "metadata": {},
   "outputs": [],
   "source": [
    "# predict only in two best predictors\n",
    "dec = logreg_ovr.predict(data_test.loc[:,best_preds[0:2]].values) \n",
    "dec = pd.Series(dec).astype('category').cat.codes\n",
    "\n",
    "# true values in test, our y_test\n",
    "vl = np.array(data_test.cancer_type.astype('category').cat.codes)"
   ]
  },
  {
   "cell_type": "code",
   "execution_count": 41,
   "metadata": {},
   "outputs": [],
   "source": [
    "# your code here\n",
    "def cost(predictions, truth):\n",
    "    ''' Counts the cost when we have missclassifications in the predictions vs. the truth set.\n",
    "    Option = -1 is the abstain option and is only relevant when the values include the abstain option, \n",
    "    otherwise initial cost defaults to 0 (for question 5.1). \n",
    "    \n",
    "    Arguments: prediction values and true values\n",
    "    Returns: the numerical cost\n",
    "    '''\n",
    "    cost = 1000 * len(predictions[predictions == -1]) # defaults to 0 for 5.1\n",
    "    true_vals = truth[predictions != -1]              # defaults to truth for 5.1\n",
    "    \n",
    "    predicted_vals = predictions[predictions != -1]   # defaults to predictions for 5.1\n",
    "    \n",
    "    cost += 5000 * np.sum(true_vals != predicted_vals)\n",
    "    return cost"
   ]
  },
  {
   "cell_type": "code",
   "execution_count": 42,
   "metadata": {},
   "outputs": [
    {
     "name": "stdout",
     "output_type": "stream",
     "text": [
      "Cost incurred for OvR Logistic Regression Model without abstain: $ 800.0\n"
     ]
    }
   ],
   "source": [
    "print(\"Cost incurred for OvR Logistic Regression Model without abstain: $\", cost(dec,vl)/len(vl))"
   ]
  },
  {
   "cell_type": "markdown",
   "metadata": {},
   "source": [
    "**5.2 Design a classification strategy (into the 3 groups plus the *abstain* group) that has a low cost as possible per patient (certainly lower cost per patient than the logistic regression model). Give a justification for your approach.**"
   ]
  },
  {
   "cell_type": "markdown",
   "metadata": {},
   "source": [
    "Following 5.1, we make the decision to abstain or not based on minimizing the expected cost. \n",
    "<br><br>\n",
    "The expected cost for abstaining is $\\$1000$. The expected cost for predicting is $ \\$5000 * P(\\text{misdiagnosis}) = 5000 * (1 - \\hat{p}_k)$ where $k$ is the label of the predicted class. \n",
    "\n",
    "So our decision rule is if the cost of making a missdiagnosis is less than the cost of abstaining (expressed by the formula $5000 * (1 - \\hat{p}_k) < 1000$), then attempt a prediction. Otherwise, abstain."
   ]
  },
  {
   "cell_type": "code",
   "execution_count": 43,
   "metadata": {},
   "outputs": [
    {
     "name": "stdout",
     "output_type": "stream",
     "text": [
      "Cost incurred for new model: $ 653.3333333333334\n"
     ]
    }
   ],
   "source": [
    "# your code here\n",
    "def decision_rule(lrm_mod,input_data):\n",
    "    probs = lrm_mod.predict_proba(input_data)\n",
    "    predicted_class = np.argmax(probs,axis = 1)\n",
    "    conf = 1.0 - np.max(probs,axis = 1)\n",
    "    predicted_class[5000*conf > 1000.0] = -1 #Abstain\n",
    "    return predicted_class\n",
    "    \n",
    "inp = data_test.loc[:,best_preds[0:2]].values\n",
    "dec2 = decision_rule(logreg_ovr,inp)\n",
    "\n",
    "print(\"Cost incurred for new model: $\", cost(dec2,vl)/len(vl))"
   ]
  },
  {
   "cell_type": "code",
   "execution_count": null,
   "metadata": {},
   "outputs": [],
   "source": []
  }
 ],
 "metadata": {
  "kernelspec": {
   "display_name": "Python 3",
   "language": "python",
   "name": "python3"
  },
  "language_info": {
   "codemirror_mode": {
    "name": "ipython",
    "version": 3
   },
   "file_extension": ".py",
   "mimetype": "text/x-python",
   "name": "python",
   "nbconvert_exporter": "python",
   "pygments_lexer": "ipython3",
   "version": "3.6.2"
  }
 },
 "nbformat": 4,
 "nbformat_minor": 4
}
