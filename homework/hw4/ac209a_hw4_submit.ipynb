{
  "cells": [
    {
      "cell_type": "markdown",
      "metadata": {},
      "source": [
        "# <img style=\"float: left; padding-right: 10px; width: 45px\" src=\"https://raw.githubusercontent.com/Harvard-IACS/2018-CS109A/master/content/styles/iacs.png\"> CS109A Introduction to Data Science: \n",
        "\n",
        "## Homework 4  AC 209 : GLMs\n",
        "\n",
        "\n",
        "**Harvard University**<br/>\n",
        "**Fall 2019**<br/>\n",
        "**Instructors**: Pavlos Protopapas, Kevin Rader, and Chris Tanner\n"
      ]
    },
    {
      "cell_type": "markdown",
      "metadata": {},
      "source": [
        "<hr style=\"height:2pt\">"
      ]
    },
    {
      "cell_type": "code",
      "execution_count": 2,
      "metadata": {},
      "outputs": [],
      "source": [
        "# RUN THIS CELL FOR FORMAT\n",
        "import requests\n",
        "from IPython.core.display import HTML\n",
        "styles = requests.get(\"https://raw.githubusercontent.com/Harvard-IACS/2018-CS109A/master/content/styles/cs109.css\").text\n",
        "HTML(styles)"
      ]
    },
    {
      "cell_type": "markdown",
      "metadata": {},
      "source": [
        "<div class='exercise'> <b> Question 1 [10 pts] </b> </div>\n",
        "\n",
        "The probability density function of Poisson distribution is given by:\n",
        "$$ p(y|\\lambda) =  \\frac{\\lambda^{y}}{y!} e^{-\\lambda}.$$\n",
        "\n",
        "\n",
        "**1.1** Show that Poisson distribution belongs to the general exponential distribution family with probability density:\n",
        "\n",
        "$$f(y|\\theta)= \\exp\\left( \\frac{y  \\,\\theta-b(\\theta)}{\\phi}+c(y,\\phi)\\right).$$\n",
        "\n",
        "**1.2** For the Poisson distribution calculate the canonical parameter $\\theta$ in terms of $\\lambda$, the cumulant function $b(\\theta)$, the dispersion parameter $\\phi$, and the normalization function $c(y,\\phi)$.\n",
        "\n",
        "**1.3**  Show that the canonical link $g(.)$ for the Poisson regression model is given by:\n",
        "$$\\eta = g(\\lambda) = \\log(\\lambda).$$\n",
        "\n",
        "**1.4** Derive to the *normal equations* that maximizes the likelihood in the Poisson regression model.\n"
      ]
    },
    {
      "cell_type": "markdown",
      "metadata": {},
      "source": [
        "<hr style=\"height:1pt\"> \n",
        "### Solutions\n",
        "\n"
      ]
    },
    {
      "cell_type": "markdown",
      "metadata": {},
      "source": [
        "**1.1 Show that Poisson distribution belongs to the general exponential distribution family with probability density:**\n",
        "\n",
        "$$f(y|\\theta)= \\exp\\left( \\frac{y  \\,\\theta-b(\\theta)}{\\phi}+c(y,\\phi)\\right).$$\n"
      ]
    },
    {
      "cell_type": "markdown",
      "metadata": {},
      "source": [
        "*your answer here*\n"
      ]
    },
    {
      "cell_type": "markdown",
      "metadata": {},
      "source": [
        "**1.2 For the Poisson distribution calculate the canonical parameter $\\theta$ in terms of $\\lambda$, the cumulant function $b(\\theta)$, the dispersion parameter $\\phi$, and the normalization function $c(y,\\phi)$. **\n"
      ]
    },
    {
      "cell_type": "markdown",
      "metadata": {},
      "source": [
        "*your answer here*\n"
      ]
    },
    {
      "cell_type": "markdown",
      "metadata": {},
      "source": [
        "**1.3  Show that the canonical link $g(.)$ for the Poisson regression model is given by:\n",
        "$$\\eta = g(\\lambda) = \\log(\\lambda).$$ **"
      ]
    },
    {
      "cell_type": "markdown",
      "metadata": {},
      "source": [
        "*your answer here* \n"
      ]
    },
    {
      "cell_type": "markdown",
      "metadata": {},
      "source": [
        "**1.4  Derive to the *normal equations* that maximizes the likelihood in the Poisson regression model. **\n"
      ]
    },
    {
      "cell_type": "markdown",
      "metadata": {
        "collapsed": true
      },
      "source": [
        "*your answer here* \n"
      ]
    },
    {
      "cell_type": "code",
      "execution_count": null,
      "metadata": {},
      "outputs": [],
      "source": []
    },
    {
      "cell_type": "code",
      "execution_count": null,
      "metadata": {},
      "outputs": [],
      "source": []
    }
  ],
  "metadata": {
    "kernelspec": {
      "display_name": "Python 3",
      "language": "python",
      "name": "python3"
    },
    "language_info": {
      "codemirror_mode": {
        "name": "ipython",
        "version": 3
      },
      "file_extension": ".py",
      "mimetype": "text/x-python",
      "name": "python",
      "nbconvert_exporter": "python",
      "pygments_lexer": "ipython3",
      "version": "3.6.8"
    }
  },
  "nbformat": 4,
  "nbformat_minor": 2
}