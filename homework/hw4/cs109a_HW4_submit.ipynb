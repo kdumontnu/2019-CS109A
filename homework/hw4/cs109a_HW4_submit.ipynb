{
 "cells": [
  {
   "cell_type": "markdown",
   "metadata": {},
   "source": [
    "\n",
    "# <img style=\"float: left; padding-right: 10px; width: 45px\" src=\"https://raw.githubusercontent.com/Harvard-IACS/2018-CS109A/master/content/styles/iacs.png\"> CS109A Introduction to Data Science\n",
    "\n",
    "## Homework 4: Logistic Regression\n",
    "\n",
    "**Harvard University**<br/>\n",
    "**Fall 2019**<br/>\n",
    "**Instructors**: Pavlos Protopapas, Kevin Rader, and Chris Tanner\n",
    "\n",
    "<hr style=\"height:2pt\">\n",
    "\n"
   ]
  },
  {
   "cell_type": "code",
   "execution_count": 4,
   "metadata": {},
   "outputs": [
    {
     "data": {
      "text/html": [
       "<style>\n",
       "blockquote { background: #AEDE94; }\n",
       "h1 { \n",
       "    padding-top: 25px;\n",
       "    padding-bottom: 25px;\n",
       "    text-align: left; \n",
       "    padding-left: 10px;\n",
       "    background-color: #DDDDDD; \n",
       "    color: black;\n",
       "}\n",
       "h2 { \n",
       "    padding-top: 10px;\n",
       "    padding-bottom: 10px;\n",
       "    text-align: left; \n",
       "    padding-left: 5px;\n",
       "    background-color: #EEEEEE; \n",
       "    color: black;\n",
       "}\n",
       "\n",
       "div.exercise {\n",
       "\tbackground-color: #ffcccc;\n",
       "\tborder-color: #E9967A; \t\n",
       "\tborder-left: 5px solid #800080; \n",
       "\tpadding: 0.5em;\n",
       "}\n",
       "\n",
       "span.sub-q {\n",
       "\tfont-weight: bold;\n",
       "}\n",
       "div.theme {\n",
       "\tbackground-color: #DDDDDD;\n",
       "\tborder-color: #E9967A; \t\n",
       "\tborder-left: 5px solid #800080; \n",
       "\tpadding: 0.5em;\n",
       "\tfont-size: 18pt;\n",
       "}\n",
       "div.gc { \n",
       "\tbackground-color: #AEDE94;\n",
       "\tborder-color: #E9967A; \t \n",
       "\tborder-left: 5px solid #800080; \n",
       "\tpadding: 0.5em;\n",
       "\tfont-size: 12pt;\n",
       "}\n",
       "p.q1 { \n",
       "    padding-top: 5px;\n",
       "    padding-bottom: 5px;\n",
       "    text-align: left; \n",
       "    padding-left: 5px;\n",
       "    background-color: #EEEEEE; \n",
       "    color: black;\n",
       "}\n",
       "header {\n",
       "   padding-top: 35px;\n",
       "    padding-bottom: 35px;\n",
       "    text-align: left; \n",
       "    padding-left: 10px;\n",
       "    background-color: #DDDDDD; \n",
       "    color: black;\n",
       "}\n",
       "</style>\n",
       "\n"
      ],
      "text/plain": [
       "<IPython.core.display.HTML object>"
      ]
     },
     "execution_count": 4,
     "metadata": {},
     "output_type": "execute_result"
    }
   ],
   "source": [
    "#RUN THIS CELL \n",
    "import requests\n",
    "from IPython.core.display import HTML\n",
    "styles = requests.get(\"https://raw.githubusercontent.com/Harvard-IACS/2018-CS109A/master/content/styles/cs109.css\").text\n",
    "HTML(styles)"
   ]
  },
  {
   "cell_type": "markdown",
   "metadata": {},
   "source": [
    "### INSTRUCTIONS\n",
    "\n",
    "- **This is an individual homework. No group collaboration.**\n",
    "- To submit your assignment follow the instructions given in Canvas.\n",
    "- Restart the kernel and run the whole notebook again before you submit. \n",
    "- As much as possible, try and stick to the hints and functions we import at the top of the homework, as those are the ideas and tools the class supports and is aiming to teach. And if a problem specifies a particular library you're required to use that library, and possibly others from the import list.\n",
    "- Please use .head() when viewing data. Do not submit a notebook that is excessively long because output was not suppressed or otherwise limited. "
   ]
  },
  {
   "cell_type": "code",
   "execution_count": 101,
   "metadata": {
    "collapsed": true
   },
   "outputs": [],
   "source": [
    "import numpy as np\n",
    "import pandas as pd\n",
    "\n",
    "from sklearn.linear_model import LinearRegression\n",
    "from sklearn.linear_model import LogisticRegression\n",
    "from sklearn.linear_model import LogisticRegressionCV\n",
    "from sklearn.linear_model import LassoCV\n",
    "\n",
    "from sklearn.neighbors import KNeighborsClassifier\n",
    "from sklearn.model_selection import cross_val_score\n",
    "from sklearn.metrics import accuracy_score\n",
    "from sklearn.model_selection import KFold\n",
    "from sklearn.preprocessing import MinMaxScaler\n",
    "from sklearn.model_selection import train_test_split\n",
    "\n",
    "import matplotlib\n",
    "import matplotlib.pyplot as plt\n",
    "%matplotlib inline\n",
    "\n",
    "import zipfile\n",
    "\n",
    "\n",
    "import seaborn as sns\n",
    "sns.set()\n"
   ]
  },
  {
   "cell_type": "markdown",
   "metadata": {},
   "source": [
    "<div class='theme'> Cancer Classification from Gene Expressions </div>\n",
    "\n",
    "In this problem, we will build a classification model to distinguish between two related classes of cancer, acute lymphoblastic leukemia (ALL) and acute myeloid leukemia (AML), using gene expression measurements. The data set is provided in the file `data/dataset_hw4.csv`. Each row in this file corresponds to a tumor tissue sample from a patient with one of the two forms of Leukemia. The first column contains the cancer type, with **0 indicating the ALL** class and **1 indicating the AML** class. Columns 2-7130 contain expression levels of 7129 genes recorded from each tissue sample. \n",
    "\n",
    "In the following questions, we will use linear and logistic regression to build classification models for this data set. \n"
   ]
  },
  {
   "cell_type": "markdown",
   "metadata": {},
   "source": [
    "<div class='exercise'><b> Question 1 [20 pts]: Data Exploration </b></div>\n",
    "\n",
    "First step is to  split  the observations into an approximate 80-20 train-test split.  Below is some code to do this for you (we want to make sure everyone has the same splits). Print dataset shape before splitting and after splitting. `Cancer_type` is our target column.\n",
    "\n",
    "\n",
    "**1.1** Take a peek at your training set (show a glimpse of what you did): you should notice the severe differences in the measurements from one gene to the next (some are negative, some hover around zero, and some are well into the thousands).  To account for these differences in scale and variability, normalize each predictor to vary between 0 and 1.\n",
    "\n",
    "\n",
    "**1.2** The training set contains more predictors than observations. What problem(s) can this lead to in fitting a classification model to such a data set? Explain in 3 or fewer sentences.\n",
    "\n",
    "\n",
    "**1.3** Identify and report which 10 genes individually discriminate between the two cancer classes the best (consider every gene in the data set).  Note: it wil lbe useful to save this list for future parts.\n",
    "\n",
    "Plot two histograms ofyour best predictor - one using training and another for the testing dataset. Each histogram should clearly distinguish two different `Cancer_type` classes.\n",
    "\n",
    "Hint: You may use t-testing to make this determination: #https://en.wikipedia.org/wiki/Welch%27s_t-test.\n",
    "\n",
    "\n",
    "**1.4** Using your top gene from the previous part (call it  `best_predictor`), create a classification model by manually eye-balling a value for this gene that would discriminate the two classes the best. Justify your choice in 1-2 sentences. Report the accuracy of this hand-chosen model on the test set.\n",
    "\n",
    "<hr> <hr>"
   ]
  },
  {
   "cell_type": "markdown",
   "metadata": {},
   "source": [
    "<hr>\n",
    "### Solutions"
   ]
  },
  {
   "cell_type": "markdown",
   "metadata": {},
   "source": [
    "**First step is to split the observations into an approximate 80-20 train-test split. Below is some code to do this for you (we want to make sure everyone has the same splits). Print dataset shape before splitting and after splitting. `Cancer_type` is our target column.**"
   ]
  },
  {
   "cell_type": "code",
   "execution_count": 102,
   "metadata": {
    "collapsed": true
   },
   "outputs": [],
   "source": [
    "np.random.seed(10)\n",
    "df = pd.read_csv('data/hw4_enhance.csv', index_col=0)\n",
    "\n",
    "\n",
    "X_train, X_test, y_train, y_test =train_test_split(df.loc[:, df.columns != 'Cancer_type'], \n",
    "                                                         df.Cancer_type, test_size=0.2, \n",
    "                                                         random_state = 109, \n",
    "                                                         stratify = df.Cancer_type)"
   ]
  },
  {
   "cell_type": "code",
   "execution_count": 103,
   "metadata": {},
   "outputs": [
    {
     "name": "stdout",
     "output_type": "stream",
     "text": [
      "(752, 7130)\n",
      "((601, 7129), (151, 7129), (601L,), (151L,))\n",
      "0.0    0.511968\n",
      "1.0    0.488032\n",
      "Name: Cancer_type, dtype: float64\n"
     ]
    }
   ],
   "source": [
    "\n",
    "print(df.shape)\n",
    "\n",
    "print(X_train.shape, X_test.shape, y_train.shape, y_test.shape)\n",
    "print(df.Cancer_type.value_counts(normalize=True))\n"
   ]
  },
  {
   "cell_type": "markdown",
   "metadata": {},
   "source": [
    "**1.1 Take a peek at your training set (show a glimpse of what you did): you should notice the severe differences in the measurements from one gene to the next (some are negative, some hover around zero, and some are well into the thousands).  To account for these differences in scale and variability, normalize each predictor to vary between 0 and 1.**\n"
   ]
  },
  {
   "cell_type": "code",
   "execution_count": 104,
   "metadata": {},
   "outputs": [
    {
     "data": {
      "text/html": [
       "<div>\n",
       "<style>\n",
       "    .dataframe thead tr:only-child th {\n",
       "        text-align: right;\n",
       "    }\n",
       "\n",
       "    .dataframe thead th {\n",
       "        text-align: left;\n",
       "    }\n",
       "\n",
       "    .dataframe tbody tr th {\n",
       "        vertical-align: top;\n",
       "    }\n",
       "</style>\n",
       "<table border=\"1\" class=\"dataframe\">\n",
       "  <thead>\n",
       "    <tr style=\"text-align: right;\">\n",
       "      <th></th>\n",
       "      <th>AFFX-BioB-5_at</th>\n",
       "      <th>AFFX-BioB-M_at</th>\n",
       "      <th>AFFX-BioB-3_at</th>\n",
       "      <th>AFFX-BioC-5_at</th>\n",
       "      <th>AFFX-BioC-3_at</th>\n",
       "      <th>AFFX-BioDn-5_at</th>\n",
       "      <th>AFFX-BioDn-3_at</th>\n",
       "      <th>AFFX-CreX-5_at</th>\n",
       "      <th>AFFX-CreX-3_at</th>\n",
       "      <th>AFFX-BioB-5_st</th>\n",
       "      <th>...</th>\n",
       "      <th>U48730_at</th>\n",
       "      <th>U58516_at</th>\n",
       "      <th>U73738_at</th>\n",
       "      <th>X06956_at</th>\n",
       "      <th>X16699_at</th>\n",
       "      <th>X83863_at</th>\n",
       "      <th>Z17240_at</th>\n",
       "      <th>L49218_f_at</th>\n",
       "      <th>M71243_f_at</th>\n",
       "      <th>Z78285_f_at</th>\n",
       "    </tr>\n",
       "  </thead>\n",
       "  <tbody>\n",
       "    <tr>\n",
       "      <th>486</th>\n",
       "      <td>-83.669345</td>\n",
       "      <td>-129.202197</td>\n",
       "      <td>91.188553</td>\n",
       "      <td>-132.634919</td>\n",
       "      <td>-416.659258</td>\n",
       "      <td>-566.248620</td>\n",
       "      <td>-549.255222</td>\n",
       "      <td>-208.415176</td>\n",
       "      <td>213.331881</td>\n",
       "      <td>-135.518811</td>\n",
       "      <td>...</td>\n",
       "      <td>111.849800</td>\n",
       "      <td>371.083898</td>\n",
       "      <td>252.006568</td>\n",
       "      <td>963.153393</td>\n",
       "      <td>9.955941</td>\n",
       "      <td>142.181944</td>\n",
       "      <td>442.730023</td>\n",
       "      <td>42.848269</td>\n",
       "      <td>512.106908</td>\n",
       "      <td>4.677488</td>\n",
       "    </tr>\n",
       "    <tr>\n",
       "      <th>604</th>\n",
       "      <td>-65.718571</td>\n",
       "      <td>-302.842019</td>\n",
       "      <td>-297.819728</td>\n",
       "      <td>-177.485917</td>\n",
       "      <td>-52.709137</td>\n",
       "      <td>-218.295750</td>\n",
       "      <td>195.983474</td>\n",
       "      <td>-268.235930</td>\n",
       "      <td>-328.630912</td>\n",
       "      <td>240.058672</td>\n",
       "      <td>...</td>\n",
       "      <td>252.867110</td>\n",
       "      <td>110.033722</td>\n",
       "      <td>203.197907</td>\n",
       "      <td>101.612259</td>\n",
       "      <td>-138.398658</td>\n",
       "      <td>245.767616</td>\n",
       "      <td>247.519122</td>\n",
       "      <td>-15.430358</td>\n",
       "      <td>-398.165984</td>\n",
       "      <td>-61.694246</td>\n",
       "    </tr>\n",
       "    <tr>\n",
       "      <th>341</th>\n",
       "      <td>-264.191248</td>\n",
       "      <td>-162.255274</td>\n",
       "      <td>127.997172</td>\n",
       "      <td>173.771779</td>\n",
       "      <td>-185.191211</td>\n",
       "      <td>40.011778</td>\n",
       "      <td>-1562.983106</td>\n",
       "      <td>-85.344926</td>\n",
       "      <td>-119.622143</td>\n",
       "      <td>219.619110</td>\n",
       "      <td>...</td>\n",
       "      <td>20.797496</td>\n",
       "      <td>-184.115075</td>\n",
       "      <td>-227.872398</td>\n",
       "      <td>140.876523</td>\n",
       "      <td>42.543763</td>\n",
       "      <td>28.594281</td>\n",
       "      <td>204.479474</td>\n",
       "      <td>9.831559</td>\n",
       "      <td>21.718266</td>\n",
       "      <td>19.522122</td>\n",
       "    </tr>\n",
       "    <tr>\n",
       "      <th>117</th>\n",
       "      <td>-92.558574</td>\n",
       "      <td>-109.788332</td>\n",
       "      <td>379.542547</td>\n",
       "      <td>391.641129</td>\n",
       "      <td>-184.507364</td>\n",
       "      <td>-577.178389</td>\n",
       "      <td>-293.421369</td>\n",
       "      <td>-372.534572</td>\n",
       "      <td>190.551199</td>\n",
       "      <td>-487.331438</td>\n",
       "      <td>...</td>\n",
       "      <td>180.678776</td>\n",
       "      <td>577.889184</td>\n",
       "      <td>-50.443125</td>\n",
       "      <td>417.586154</td>\n",
       "      <td>-11.190519</td>\n",
       "      <td>1478.997020</td>\n",
       "      <td>15.923333</td>\n",
       "      <td>112.986515</td>\n",
       "      <td>-107.706335</td>\n",
       "      <td>-25.673203</td>\n",
       "    </tr>\n",
       "    <tr>\n",
       "      <th>516</th>\n",
       "      <td>-143.099813</td>\n",
       "      <td>140.202023</td>\n",
       "      <td>-147.163850</td>\n",
       "      <td>222.339115</td>\n",
       "      <td>-231.007621</td>\n",
       "      <td>-753.616356</td>\n",
       "      <td>274.500343</td>\n",
       "      <td>-217.513332</td>\n",
       "      <td>-107.135509</td>\n",
       "      <td>-62.470938</td>\n",
       "      <td>...</td>\n",
       "      <td>139.821329</td>\n",
       "      <td>909.588696</td>\n",
       "      <td>43.531613</td>\n",
       "      <td>718.462679</td>\n",
       "      <td>-58.238405</td>\n",
       "      <td>232.494165</td>\n",
       "      <td>754.787059</td>\n",
       "      <td>-58.160474</td>\n",
       "      <td>1808.764690</td>\n",
       "      <td>-20.782346</td>\n",
       "    </tr>\n",
       "  </tbody>\n",
       "</table>\n",
       "<p>5 rows × 7129 columns</p>\n",
       "</div>"
      ],
      "text/plain": [
       "     AFFX-BioB-5_at  AFFX-BioB-M_at  AFFX-BioB-3_at  AFFX-BioC-5_at  \\\n",
       "486      -83.669345     -129.202197       91.188553     -132.634919   \n",
       "604      -65.718571     -302.842019     -297.819728     -177.485917   \n",
       "341     -264.191248     -162.255274      127.997172      173.771779   \n",
       "117      -92.558574     -109.788332      379.542547      391.641129   \n",
       "516     -143.099813      140.202023     -147.163850      222.339115   \n",
       "\n",
       "     AFFX-BioC-3_at  AFFX-BioDn-5_at  AFFX-BioDn-3_at  AFFX-CreX-5_at  \\\n",
       "486     -416.659258      -566.248620      -549.255222     -208.415176   \n",
       "604      -52.709137      -218.295750       195.983474     -268.235930   \n",
       "341     -185.191211        40.011778     -1562.983106      -85.344926   \n",
       "117     -184.507364      -577.178389      -293.421369     -372.534572   \n",
       "516     -231.007621      -753.616356       274.500343     -217.513332   \n",
       "\n",
       "     AFFX-CreX-3_at  AFFX-BioB-5_st     ...        U48730_at   U58516_at  \\\n",
       "486      213.331881     -135.518811     ...       111.849800  371.083898   \n",
       "604     -328.630912      240.058672     ...       252.867110  110.033722   \n",
       "341     -119.622143      219.619110     ...        20.797496 -184.115075   \n",
       "117      190.551199     -487.331438     ...       180.678776  577.889184   \n",
       "516     -107.135509      -62.470938     ...       139.821329  909.588696   \n",
       "\n",
       "      U73738_at   X06956_at   X16699_at    X83863_at   Z17240_at  L49218_f_at  \\\n",
       "486  252.006568  963.153393    9.955941   142.181944  442.730023    42.848269   \n",
       "604  203.197907  101.612259 -138.398658   245.767616  247.519122   -15.430358   \n",
       "341 -227.872398  140.876523   42.543763    28.594281  204.479474     9.831559   \n",
       "117  -50.443125  417.586154  -11.190519  1478.997020   15.923333   112.986515   \n",
       "516   43.531613  718.462679  -58.238405   232.494165  754.787059   -58.160474   \n",
       "\n",
       "     M71243_f_at  Z78285_f_at  \n",
       "486   512.106908     4.677488  \n",
       "604  -398.165984   -61.694246  \n",
       "341    21.718266    19.522122  \n",
       "117  -107.706335   -25.673203  \n",
       "516  1808.764690   -20.782346  \n",
       "\n",
       "[5 rows x 7129 columns]"
      ]
     },
     "metadata": {},
     "output_type": "display_data"
    }
   ],
   "source": [
    "#your code here\n",
    "display(X_train.head(5))"
   ]
  },
  {
   "cell_type": "code",
   "execution_count": 107,
   "metadata": {},
   "outputs": [
    {
     "data": {
      "text/html": [
       "<div>\n",
       "<style>\n",
       "    .dataframe thead tr:only-child th {\n",
       "        text-align: right;\n",
       "    }\n",
       "\n",
       "    .dataframe thead th {\n",
       "        text-align: left;\n",
       "    }\n",
       "\n",
       "    .dataframe tbody tr th {\n",
       "        vertical-align: top;\n",
       "    }\n",
       "</style>\n",
       "<table border=\"1\" class=\"dataframe\">\n",
       "  <thead>\n",
       "    <tr style=\"text-align: right;\">\n",
       "      <th></th>\n",
       "      <th>AFFX-BioB-5_at</th>\n",
       "      <th>AFFX-BioB-M_at</th>\n",
       "      <th>AFFX-BioB-3_at</th>\n",
       "      <th>AFFX-BioC-5_at</th>\n",
       "      <th>AFFX-BioC-3_at</th>\n",
       "      <th>AFFX-BioDn-5_at</th>\n",
       "      <th>AFFX-BioDn-3_at</th>\n",
       "      <th>AFFX-CreX-5_at</th>\n",
       "      <th>AFFX-CreX-3_at</th>\n",
       "      <th>AFFX-BioB-5_st</th>\n",
       "      <th>...</th>\n",
       "      <th>U48730_at</th>\n",
       "      <th>U58516_at</th>\n",
       "      <th>U73738_at</th>\n",
       "      <th>X06956_at</th>\n",
       "      <th>X16699_at</th>\n",
       "      <th>X83863_at</th>\n",
       "      <th>Z17240_at</th>\n",
       "      <th>L49218_f_at</th>\n",
       "      <th>M71243_f_at</th>\n",
       "      <th>Z78285_f_at</th>\n",
       "    </tr>\n",
       "  </thead>\n",
       "  <tbody>\n",
       "    <tr>\n",
       "      <th>486</th>\n",
       "      <td>0.574689</td>\n",
       "      <td>0.652904</td>\n",
       "      <td>0.528552</td>\n",
       "      <td>0.202384</td>\n",
       "      <td>0.504132</td>\n",
       "      <td>0.309107</td>\n",
       "      <td>0.439480</td>\n",
       "      <td>0.524446</td>\n",
       "      <td>0.723161</td>\n",
       "      <td>0.411162</td>\n",
       "      <td>...</td>\n",
       "      <td>0.516278</td>\n",
       "      <td>0.391074</td>\n",
       "      <td>0.752595</td>\n",
       "      <td>0.484137</td>\n",
       "      <td>0.683508</td>\n",
       "      <td>0.389115</td>\n",
       "      <td>0.413169</td>\n",
       "      <td>0.562775</td>\n",
       "      <td>0.538180</td>\n",
       "      <td>0.524258</td>\n",
       "    </tr>\n",
       "    <tr>\n",
       "      <th>604</th>\n",
       "      <td>0.587407</td>\n",
       "      <td>0.535608</td>\n",
       "      <td>0.249427</td>\n",
       "      <td>0.171417</td>\n",
       "      <td>0.752874</td>\n",
       "      <td>0.513878</td>\n",
       "      <td>0.655342</td>\n",
       "      <td>0.464181</td>\n",
       "      <td>0.324602</td>\n",
       "      <td>0.559483</td>\n",
       "      <td>...</td>\n",
       "      <td>0.635019</td>\n",
       "      <td>0.317177</td>\n",
       "      <td>0.700050</td>\n",
       "      <td>0.336964</td>\n",
       "      <td>0.454571</td>\n",
       "      <td>0.406687</td>\n",
       "      <td>0.339430</td>\n",
       "      <td>0.452814</td>\n",
       "      <td>0.388218</td>\n",
       "      <td>0.380795</td>\n",
       "    </tr>\n",
       "    <tr>\n",
       "      <th>341</th>\n",
       "      <td>0.446787</td>\n",
       "      <td>0.630576</td>\n",
       "      <td>0.554963</td>\n",
       "      <td>0.413946</td>\n",
       "      <td>0.662329</td>\n",
       "      <td>0.665892</td>\n",
       "      <td>0.145850</td>\n",
       "      <td>0.648430</td>\n",
       "      <td>0.478307</td>\n",
       "      <td>0.551411</td>\n",
       "      <td>...</td>\n",
       "      <td>0.439609</td>\n",
       "      <td>0.233910</td>\n",
       "      <td>0.235984</td>\n",
       "      <td>0.343672</td>\n",
       "      <td>0.733797</td>\n",
       "      <td>0.369846</td>\n",
       "      <td>0.323172</td>\n",
       "      <td>0.500478</td>\n",
       "      <td>0.457391</td>\n",
       "      <td>0.556345</td>\n",
       "    </tr>\n",
       "    <tr>\n",
       "      <th>117</th>\n",
       "      <td>0.568391</td>\n",
       "      <td>0.666018</td>\n",
       "      <td>0.735454</td>\n",
       "      <td>0.564376</td>\n",
       "      <td>0.662796</td>\n",
       "      <td>0.302675</td>\n",
       "      <td>0.513584</td>\n",
       "      <td>0.359108</td>\n",
       "      <td>0.706408</td>\n",
       "      <td>0.272227</td>\n",
       "      <td>...</td>\n",
       "      <td>0.574234</td>\n",
       "      <td>0.449615</td>\n",
       "      <td>0.426995</td>\n",
       "      <td>0.390941</td>\n",
       "      <td>0.650875</td>\n",
       "      <td>0.615891</td>\n",
       "      <td>0.251946</td>\n",
       "      <td>0.695112</td>\n",
       "      <td>0.436069</td>\n",
       "      <td>0.458655</td>\n",
       "    </tr>\n",
       "    <tr>\n",
       "      <th>516</th>\n",
       "      <td>0.532581</td>\n",
       "      <td>0.834889</td>\n",
       "      <td>0.357527</td>\n",
       "      <td>0.447480</td>\n",
       "      <td>0.631015</td>\n",
       "      <td>0.198841</td>\n",
       "      <td>0.678084</td>\n",
       "      <td>0.515280</td>\n",
       "      <td>0.487490</td>\n",
       "      <td>0.440010</td>\n",
       "      <td>...</td>\n",
       "      <td>0.539831</td>\n",
       "      <td>0.543511</td>\n",
       "      <td>0.528163</td>\n",
       "      <td>0.442338</td>\n",
       "      <td>0.578272</td>\n",
       "      <td>0.404435</td>\n",
       "      <td>0.531047</td>\n",
       "      <td>0.372191</td>\n",
       "      <td>0.751796</td>\n",
       "      <td>0.469227</td>\n",
       "    </tr>\n",
       "  </tbody>\n",
       "</table>\n",
       "<p>5 rows × 7129 columns</p>\n",
       "</div>"
      ],
      "text/plain": [
       "     AFFX-BioB-5_at  AFFX-BioB-M_at  AFFX-BioB-3_at  AFFX-BioC-5_at  \\\n",
       "486        0.574689        0.652904        0.528552        0.202384   \n",
       "604        0.587407        0.535608        0.249427        0.171417   \n",
       "341        0.446787        0.630576        0.554963        0.413946   \n",
       "117        0.568391        0.666018        0.735454        0.564376   \n",
       "516        0.532581        0.834889        0.357527        0.447480   \n",
       "\n",
       "     AFFX-BioC-3_at  AFFX-BioDn-5_at  AFFX-BioDn-3_at  AFFX-CreX-5_at  \\\n",
       "486        0.504132         0.309107         0.439480        0.524446   \n",
       "604        0.752874         0.513878         0.655342        0.464181   \n",
       "341        0.662329         0.665892         0.145850        0.648430   \n",
       "117        0.662796         0.302675         0.513584        0.359108   \n",
       "516        0.631015         0.198841         0.678084        0.515280   \n",
       "\n",
       "     AFFX-CreX-3_at  AFFX-BioB-5_st     ...       U48730_at  U58516_at  \\\n",
       "486        0.723161        0.411162     ...        0.516278   0.391074   \n",
       "604        0.324602        0.559483     ...        0.635019   0.317177   \n",
       "341        0.478307        0.551411     ...        0.439609   0.233910   \n",
       "117        0.706408        0.272227     ...        0.574234   0.449615   \n",
       "516        0.487490        0.440010     ...        0.539831   0.543511   \n",
       "\n",
       "     U73738_at  X06956_at  X16699_at  X83863_at  Z17240_at  L49218_f_at  \\\n",
       "486   0.752595   0.484137   0.683508   0.389115   0.413169     0.562775   \n",
       "604   0.700050   0.336964   0.454571   0.406687   0.339430     0.452814   \n",
       "341   0.235984   0.343672   0.733797   0.369846   0.323172     0.500478   \n",
       "117   0.426995   0.390941   0.650875   0.615891   0.251946     0.695112   \n",
       "516   0.528163   0.442338   0.578272   0.404435   0.531047     0.372191   \n",
       "\n",
       "     M71243_f_at  Z78285_f_at  \n",
       "486     0.538180     0.524258  \n",
       "604     0.388218     0.380795  \n",
       "341     0.457391     0.556345  \n",
       "117     0.436069     0.458655  \n",
       "516     0.751796     0.469227  \n",
       "\n",
       "[5 rows x 7129 columns]"
      ]
     },
     "metadata": {},
     "output_type": "display_data"
    }
   ],
   "source": [
    "X_train_n = \\\n",
    "    pd.DataFrame(MinMaxScaler().fit_transform(X_train.values), columns=X_train.columns, index=X_train.index)\n",
    "\n",
    "display(X_train_n.head(5))\n",
    "\n",
    "X_test_n = \\\n",
    "    pd.DataFrame(MinMaxScaler().fit_transform(X_test.values), columns=X_test.columns, index=X_test.index)"
   ]
  },
  {
   "cell_type": "markdown",
   "metadata": {},
   "source": [
    "**1.2 The training set contains more predictors than observations. What problem(s) can this lead to in fitting a classification model to such a data set? Explain in 3 or fewer sentences.**"
   ]
  },
  {
   "cell_type": "markdown",
   "metadata": {},
   "source": [
    "More predictors than observations can lead to overfitting of the model."
   ]
  },
  {
   "cell_type": "markdown",
   "metadata": {},
   "source": [
    "**1.3** **Identify and report which 10 genes individually discriminate between the two cancer classes the best (consider every gene in the data set).  Note: it wil lbe useful to save this list for future parts.**\n",
    "\n",
    "**Plot two histograms of your best predictor - one using training and another for the testing dataset. Each histogram should clearly distinguish two different `Cancer_type` classes.**\n",
    "\n",
    "**Hint: You may use t-testing to make this determination: #https://en.wikipedia.org/wiki/Welch%27s_t-test.**"
   ]
  },
  {
   "cell_type": "code",
   "execution_count": 140,
   "metadata": {},
   "outputs": [
    {
     "data": {
      "text/plain": [
       "'Top Gene Expression: '"
      ]
     },
     "metadata": {},
     "output_type": "display_data"
    },
    {
     "data": {
      "text/plain": [
       "'M31523_at'"
      ]
     },
     "metadata": {},
     "output_type": "display_data"
    },
    {
     "name": "stdout",
     "output_type": "stream",
     "text": [
      "Top 10 genes based on t-test:\n",
      "M31523_at\n",
      "X95735_at\n",
      "M84526_at\n",
      "X61587_at\n",
      "U50136_rna1_at\n",
      "X17042_at\n",
      "U29175_at\n",
      "Y08612_at\n",
      "Z11793_at\n",
      "X76648_at\n"
     ]
    },
    {
     "data": {
      "text/plain": [
       "<matplotlib.figure.Figure at 0x23702fd0>"
      ]
     },
     "metadata": {},
     "output_type": "display_data"
    },
    {
     "data": {
      "image/png": "[encoded data removed]",
      "text/plain": [
       "<matplotlib.figure.Figure at 0x1676f9b0>"
      ]
     },
     "metadata": {},
     "output_type": "display_data"
    }
   ],
   "source": [
    "# Split into datasets that contain only AML and only ALL values\n",
    "X_train_AML = X_train_n.loc[y_train == 1.0]\n",
    "X_train_ALL = X_train_n.loc[y_train == 0.0]\n",
    "\n",
    "assert (X_train_AML.size + X_train_ALL.size == X_train_n.size)\n",
    "\n",
    "# Run t-test, sort array, reverse array, and grab top 10 classifiers\n",
    "relevant_genes = np.argsort(np.abs(X_train_AML.mean() - X_train_ALL.mean()) / \\\n",
    "    np.sqrt(X_train_AML.var()/X_train_AML.shape[0] + X_train_ALL.var()/X_train_ALL.shape[0]))[::-1][0:10]\n",
    "\n",
    "best_predictor = X_train_n.columns[relevant_genes.iloc[0]]\n",
    "\n",
    "display('Top Gene Expression: ', best_predictor)\n",
    "\n",
    "print(\"Top 10 genes based on t-test:\")\n",
    "print('\\n'.join([X_train_n.columns[col] for col in relevant_genes]))\n",
    "\n",
    "plt.clf()\n",
    "fig, axes = plt.subplots(nrows=1, ncols=2, figsize=(12, 5))\n",
    "fig.suptitle(best_predictor + ' Results by Cancer Type', fontsize=16)\n",
    "\n",
    "axes[0].hist(X_train_AML[best_predictor], bins=20, alpha=0.4, label='acute myeloid leukemia (AML)')\n",
    "axes[0].hist(X_train_ALL[best_predictor], bins=20, alpha=0.4, label='acute lymphoblastic leukemia (ALL)')\n",
    "axes[0].grid(True)\n",
    "axes[0].legend()\n",
    "axes[0].set_xlim((0,1))\n",
    "axes[0].set_ylim((0,50))\n",
    "axes[0].set_title('Training Set')\n",
    "\n",
    "X_test_AML = X_test_n.loc[y_test == 1.0]\n",
    "X_test_ALL = X_test_n.loc[y_test == 0.0]\n",
    "\n",
    "axes[1].hist(X_test_AML[best_predictor], bins=20, alpha=0.4, label='acute myeloid leukemia (AML)')\n",
    "axes[1].hist(X_test_ALL[best_predictor], bins=20, alpha=0.4, label='acute lymphoblastic leukemia (ALL)')\n",
    "axes[1].grid(True)\n",
    "axes[1].legend()\n",
    "axes[1].set_xlim((0,1))\n",
    "axes[1].set_ylim((0,20))\n",
    "axes[1].set_title('Test Set')\n",
    "\n",
    "plt.show()"
   ]
  },
  {
   "cell_type": "code",
   "execution_count": 11,
   "metadata": {
    "collapsed": true
   },
   "outputs": [],
   "source": [
    "#your code here\n"
   ]
  },
  {
   "cell_type": "code",
   "execution_count": 12,
   "metadata": {
    "collapsed": true
   },
   "outputs": [],
   "source": [
    "#your code here\n"
   ]
  },
  {
   "cell_type": "markdown",
   "metadata": {},
   "source": [
    "**1.4 Using your top gene from the previous part (call it  `best_predictor`), create a classification model by eye-balling a value for this gene that would discriminate the two classes the best. Justify your choice in 1-2 sentences. Report the accuracy of this hand-chosen model on the test set.**\n"
   ]
  },
  {
   "cell_type": "code",
   "execution_count": 142,
   "metadata": {},
   "outputs": [
    {
     "name": "stdout",
     "output_type": "stream",
     "text": [
      "Using gene expression, M31523_at, with a threshold of 0.474, we correctly predict cancer type with accuracy of 68.9%\n"
     ]
    }
   ],
   "source": [
    "best_predictor = X_train_n.columns[relevant_genes.iloc[0]]\n",
    "\n",
    "# Take the average between the two means to set as our threshold\n",
    "threshold = np.mean([X_train_AML[best_predictor].mean(), X_train_ALL[best_predictor].mean()])\n",
    "\n",
    "cancer_type_predict = X_train_n[best_predictor] < threshold\n",
    "accuracy_train = (cancer_type_predict == y_train).mean()\n",
    "\n",
    "accuracy_test = ((X_test_n[best_predictor] < threshold) == y_test).mean()\n",
    "\n",
    "print(\"Using gene expression, {}, with a threshold of {:.3}, we correctly predict cancer type with accuracy of {:2.3}%\"\n",
    "      .format(best_predictor, threshold, accuracy_test*100))"
   ]
  },
  {
   "cell_type": "markdown",
   "metadata": {},
   "source": [
    "<div class='exercise'><b> Question 2 [25 pts]: Linear and Logistic Regression  </b></div>\n",
    "\n",
    "\n",
    "In class we discussed how to use both linear regression and logistic regression for classification. For this question, you will work with a single gene predictor that you identify as the best predictor above to explore these two methods.\n",
    "\n",
    "**2.1** Fit a simple linear regression model to the training set using the single gene predictor `best_predictor` to predict cancer type. The scores predicted by the regression model for a patient could be interpreted as an estimate of the probability that the patient has Cancer_type=1 (AML). Is there a problem with this interpretation?\n",
    "\n",
    "\n",
    "Create a figure with following items displayed on the same plot (use training data):\n",
    " - the predicted quantitative response from the linear regression model as a function of the best gene predictor\n",
    " - the true binary response. \n",
    "\n",
    "\n",
    "**2.2** Use your estimated linear regression model to classify observations into 0 and 1 using the standard Bayes' classifier.  Evaluate the classification accuracy of this classification model on both the training and test sets.\n",
    "\n",
    "\n",
    "**2.3** Next, fit a simple logistic regression model to the training set. How do the training and test classification accuracies of this model compare with the linear regression model? \n",
    "\n",
    "Remember, you need to set the regularization parameter for sklearn's logistic regression function to be a very large value in order to **not** regularize (use 'C=100000'). \n",
    "\n",
    "\n",
    "**2.4** \n",
    "Print and interpret the logistic regression coefficients: the 'slope' and intercept. \n",
    "\n",
    "\n",
    "Create 2 plots (one each for training and testing data) with 4 items displayed on each plot.\n",
    "- the predicted quantitative response from the linear regression model as a function of the best gene predictor.\n",
    "- the predicted probabilities of the logistic regression model as a function of the best gene predictor. \n",
    "- the true binary response. \n",
    "- a horizontal line at $y=0.5$. \n",
    "\n",
    "Based on these plots, does one of the models appear better suited for binary classification than the other?  Explain in 3 sentences or fewer. \n",
    "\n"
   ]
  },
  {
   "cell_type": "markdown",
   "metadata": {},
   "source": [
    "<hr>\n",
    "### Solutions"
   ]
  },
  {
   "cell_type": "markdown",
   "metadata": {},
   "source": [
    "**2.1** **Fit a simple linear regression model to the training set using the single gene predictor `best_predictor` to predict cancer type. The scores predicted by the regression model for a patient could be interpreted as an estimate of the probability that the patient has Cancer_type=1 (AML).  Is there a problem with this interpretation?**\n",
    "\n"
   ]
  },
  {
   "cell_type": "code",
   "execution_count": 143,
   "metadata": {},
   "outputs": [
    {
     "data": {
      "text/plain": [
       "const        1.260137\n",
       "M31523_at   -1.623278\n",
       "dtype: float64"
      ]
     },
     "metadata": {},
     "output_type": "display_data"
    },
    {
     "data": {
      "text/plain": [
       "0.20711999168180639"
      ]
     },
     "metadata": {},
     "output_type": "display_data"
    }
   ],
   "source": [
    "import statsmodels.api as sm\n",
    "from statsmodels.api import OLS\n",
    "\n",
    "# your code here\n",
    "OLSModel = sm.OLS(y_train.values, sm.add_constant(X_train_n[best_predictor]))\n",
    "OLSModel_Fit = OLSModel.fit()\n",
    "\n",
    "display(OLSModel_Fit.params)\n",
    "display(OLSModel_Fit.rsquared)"
   ]
  },
  {
   "cell_type": "code",
   "execution_count": 144,
   "metadata": {},
   "outputs": [
    {
     "data": {
      "text/plain": [
       "<matplotlib.legend.Legend at 0x176e9fd0>"
      ]
     },
     "execution_count": 144,
     "metadata": {},
     "output_type": "execute_result"
    },
    {
     "data": {
      "text/plain": [
       "<matplotlib.figure.Figure at 0x23726518>"
      ]
     },
     "metadata": {},
     "output_type": "display_data"
    },
    {
     "data": {
      "image/png": "[encoded data removed]",
      "text/plain": [
       "<matplotlib.figure.Figure at 0x16bd0978>"
      ]
     },
     "metadata": {},
     "output_type": "display_data"
    }
   ],
   "source": [
    "plt.clf()\n",
    "fig, axes = plt.subplots(nrows=1, ncols=1, figsize=(6, 6))\n",
    "\n",
    "x = np.linspace(min(X_train_n[best_predictor]), max(X_train_n[best_predictor]), 100)\n",
    "y = OLSModel_Fit.params[0] + OLSModel_Fit.params[1]*x\n",
    "\n",
    "axes.scatter(X_train_n[best_predictor], y_train.values, color='grey', marker='.', alpha=0.2)\n",
    "axes.plot(x, y, color='orange', ls='--', linewidth=3, label='Univariate Linear Regression Model')\n",
    "axes.set_title('Cancer Type vs. ' + best_predictor + ' (Normalized)')\n",
    "axes.grid(True)\n",
    "axes.legend()"
   ]
  },
  {
   "cell_type": "markdown",
   "metadata": {},
   "source": [
    "One problem with using a linear model for classification is that it does not approach 0 or 1. In fact, it's possible to get values above and below 0 and 1 for some values of x."
   ]
  },
  {
   "cell_type": "markdown",
   "metadata": {},
   "source": [
    "**2.2** **Use your estimated linear regression model to classify observations into 0 and 1 using the standard Bayes' classifier.  Evaluate the classification accuracy of this classification model on both the training and test sets.**"
   ]
  },
  {
   "cell_type": "code",
   "execution_count": 145,
   "metadata": {},
   "outputs": [
    {
     "name": "stdout",
     "output_type": "stream",
     "text": [
      "Using gene expression, M31523_at, with linear model y = 1.3 + -1.6*x, we predict cancer type with accuracy of 68.2%\n"
     ]
    }
   ],
   "source": [
    "cancer_type_predict = OLSModel_Fit.params[0] + OLSModel_Fit.params[1]*X_train_n[best_predictor] > 0.5\n",
    "accuracy_train = (cancer_type_predict == y_train).mean()\n",
    "\n",
    "accuracy_test = ((OLSModel_Fit.params[0] + OLSModel_Fit.params[1]*X_test_n[best_predictor] > 0.5) == y_test).mean()\n",
    "\n",
    "print(\"Using gene expression, {}, with linear model y = {:0.2} + {:0.2}*x, we predict cancer type with accuracy of {:2.3}%\"\n",
    "      .format(best_predictor, OLSModel_Fit.params[0], OLSModel_Fit.params[1], accuracy_test*100))"
   ]
  },
  {
   "cell_type": "markdown",
   "metadata": {},
   "source": [
    "\n",
    "**2.3** **Next, fit a simple logistic regression model to the training set. How do the training and test classification accuracies of this model compare with the linear regression model? Are the classifications substantially different?  Explain why this is the case.**\n",
    "\n",
    "**Remember, you need to set the regularization parameter for sklearn's logistic regression function to be a very large value in order to **not** regularize (use 'C=100000')."
   ]
  },
  {
   "cell_type": "code",
   "execution_count": 146,
   "metadata": {},
   "outputs": [
    {
     "name": "stdout",
     "output_type": "stream",
     "text": [
      "0.668874172185\n",
      "[[ 2.03863637 -8.75711199]]\n"
     ]
    }
   ],
   "source": [
    "lr = LogisticRegression(C=100000, solver='liblinear')\n",
    "lr.fit(sm.add_constant(X_train_n[best_predictor]), y_train)\n",
    "y_hat_test = lr.predict(sm.add_constant(X_test_n[best_predictor]))\n",
    "cur_accuracy = accuracy_score(y_test.values, y_hat_test)\n",
    "\n",
    "print(cur_accuracy)\n",
    "print(lr.coef_)"
   ]
  },
  {
   "cell_type": "markdown",
   "metadata": {},
   "source": [
    "The classifications are actually almost exactly the same. The only difference is that the logistic model tapers off towards each extreme, as the sigmoid function will only approach 0 and 1.\n"
   ]
  },
  {
   "cell_type": "markdown",
   "metadata": {},
   "source": [
    "**2.4 Print and interpret the logistic regression coefficients: the 'slope' and the intercept.**\n",
    "\n",
    "**Create 2 plots (with training and test data) with 4 items displayed on each plot.**\n",
    "- the predicted quantitative response from the linear regression model as a function of the best gene predictor.\n",
    "- the predicted probabilities of the logistic regression model as a function of the best gene predictor. \n",
    "- the true binary response. \n",
    "- a horizontal line at $y=0.5$.\n",
    "\n",
    "**Based on these plots, does one of the models appear better suited for binary classification than the other?  Explain in 3 sentences or fewer.** \n"
   ]
  },
  {
   "cell_type": "code",
   "execution_count": 152,
   "metadata": {},
   "outputs": [
    {
     "data": {
      "text/plain": [
       "<matplotlib.figure.Figure at 0x1dad7828>"
      ]
     },
     "metadata": {},
     "output_type": "display_data"
    },
    {
     "data": {
      "image/png": "[encoded data removed]",
      "text/plain": [
       "<matplotlib.figure.Figure at 0x1dad7208>"
      ]
     },
     "metadata": {},
     "output_type": "display_data"
    }
   ],
   "source": [
    "plt.clf()\n",
    "fig, axes = plt.subplots(nrows=1, ncols=2, figsize=(13, 6), sharey=True)\n",
    "\n",
    "x = np.linspace(0, 1, 101)\n",
    "#y = 1/(1+np.exp(-(x*lr.coef_[0][1] + lr.coef_[0][0])))\n",
    "y = OLSModel_Fit.params[0] + OLSModel_Fit.params[1]*x\n",
    "\n",
    "# Plot \n",
    "axes[0].plot(x, lr.predict(sm.add_constant(x)), color='black', ls='--', linewidth=2, label='Classified Model')\n",
    "axes[0].scatter(X_train_n[best_predictor], y_train.values, color='grey', marker='.', alpha=0.4, zorder=20)\n",
    "axes[0].plot(x, lr.predict_proba(sm.add_constant(x))[:,1], color='orange', ls='--', linewidth=2, label='Logistic Regression Model')\n",
    "axes[0].plot(x, y, color='#19647E', ls='--', linewidth=2, label='Univariate Linear Regression Model')\n",
    "axes[0].axhline(y=0.5, ls='--', color='gray')\n",
    "axes[0].set_title('Cancer Type vs. ' + best_predictor + ' (Normalized) - Train')\n",
    "axes[0].grid(True)\n",
    "axes[0].legend()\n",
    "axes[0].text(0, 0.25, r\"\"\"$B_0$={:1.2f}\"\"\".format(lr.coef_[0][0]))\n",
    "axes[0].text(0, 0.15, r\"\"\"$B_1$={:1.2f}\"\"\".format(lr.coef_[0][1]))\n",
    "axes[0].text(0, 0.05, r\"\"\"$p=\\frac{1}{1 + e^{B_0 + B1x}}$\"\"\")\n",
    "\n",
    "axes[1].plot(x, lr.predict(sm.add_constant(x)), color='black', ls='--', linewidth=2, label='Classified Model')\n",
    "axes[1].scatter(X_test_n[best_predictor], y_test.values, color='grey', marker='.', alpha=0.4, zorder=20)\n",
    "axes[1].plot(x, lr.predict_proba(sm.add_constant(x))[:,1], color='orange', ls='--', linewidth=2, label='Logistic Regression Model')\n",
    "axes[1].plot(x, y, color='#19647E', ls='--', linewidth=2, label='Univariate Linear Regression Model')\n",
    "axes[1].axhline(y=0.5, ls='--', color='gray')\n",
    "axes[1].set_title('Cancer Type vs. ' + best_predictor + ' (Normalized) - Test')\n",
    "axes[1].grid(True)\n",
    "axes[1].text(0, 0.05, r\"\"\"     Accuracy={:1.2f}%\"\"\".format(cur_accuracy))\n",
    "plt.show()"
   ]
  },
  {
   "cell_type": "code",
   "execution_count": 274,
   "metadata": {},
   "outputs": [],
   "source": [
    "# Some code to build a status bar\n",
    "from IPython.display import clear_output\n",
    "\n",
    "def updateStatusBar(progress):\n",
    "    bar_length = 40\n",
    "    progress = float(progress)\n",
    "    if progress < 0:\n",
    "        progress = 0\n",
    "    if progress >= 1:\n",
    "        progress = 1\n",
    "\n",
    "    block = int(bar_length * progress)\n",
    "\n",
    "    clear_output(wait = True)\n",
    "    text = \"Progress: [{0}] {1:.1f}%\".format( \"#\" * block + \"-\" * (bar_length - block), progress * 100)\n",
    "    print(text)"
   ]
  },
  {
   "cell_type": "markdown",
   "metadata": {
    "collapsed": true
   },
   "source": [
    "Over the range of data we have seen, both of the models seem to fit the data equivilently. More importantly, both of the models are fairly poor at predicting. The models would be better if category was more correlated with the single gene expression we have selected, in which case we would see that the logistic classifier would have more resonable probability rates at the extremes."
   ]
  },
  {
   "cell_type": "markdown",
   "metadata": {},
   "source": [
    "<div class='exercise'> <b> Question 3 [20pts]: Multiple Logistic Regression </b> </div>\n",
    "\n",
    "\n",
    "**3.1** Next, fit a multiple logistic regression model with all the gene predictors from the data set.  How does the classification accuracy of this model compare with the models fitted in question 2 with a single gene (on both the training and test sets)?  \n",
    "\n",
    "\n",
    "**3.2** How many of the coefficients estimated by this multiple logistic regression in the previous part are significantly different from zero at a *significance level of 5%*? Use the same value of C=100000 as before.\n",
    "\n",
    "**Hint:** To answer this question, use *bootstrapping* with 100 bootstrap samples/iterations.  \n",
    "\n",
    "\n",
    "**3.3** Comment on the classification accuracy of training and test set? Given the results above how would you assess the generalization capacity of your trained model? What other tests would you suggest to better guard against false sense of security on the accuracy of the model as a whole? \n",
    "\n",
    "**3.4** Now use regularization to improve predictions from the multiple logistic regression model.  Use LASSO-like regularization and cross-validation within the training set to tune the model.  Report the classification accuracy on both the training and test set.\n",
    "\n",
    "**3.5** Do the 10 best predictors from Q1 hold up as important features in this regularized model?  If not, explain why this is the case (feel free to use the data to support your explanation)."
   ]
  },
  {
   "cell_type": "markdown",
   "metadata": {},
   "source": [
    "<hr>\n",
    "### Solutions"
   ]
  },
  {
   "cell_type": "markdown",
   "metadata": {},
   "source": [
    "**3.1** **Next, fit a multiple logistic regression model with all the gene predictors from the data set.  How does the classification accuracy of this model compare with the models fitted in question 2 with a single gene (on both the training and test sets)?**  \n"
   ]
  },
  {
   "cell_type": "code",
   "execution_count": 154,
   "metadata": {},
   "outputs": [
    {
     "name": "stdout",
     "output_type": "stream",
     "text": [
      "('Training Accuracy:', 1.0)\n",
      "('Test Accuracy:', 0.76158940397350994)\n",
      "('Coefficients:', array([[-0.00869259,  0.62361236,  0.16003856, ..., -0.14957648,\n",
      "         0.36888304,  0.31650229]]))\n"
     ]
    }
   ],
   "source": [
    "lr = LogisticRegression(C=100000, solver='liblinear')\n",
    "lr.fit(sm.add_constant(X_train_n), y_train)\n",
    "\n",
    "y_hat_train = lr.predict(sm.add_constant(X_train_n))\n",
    "train_accuracy = accuracy_score(y_train.values, y_hat_train)\n",
    "y_hat_test = lr.predict(sm.add_constant(X_test_n))\n",
    "test_accuracy = accuracy_score(y_test.values, y_hat_test)\n",
    "\n",
    "print('Training Accuracy:', train_accuracy)\n",
    "print('Test Accuracy:', test_accuracy)\n",
    "print('Coefficients:', lr.coef_)"
   ]
  },
  {
   "cell_type": "markdown",
   "metadata": {},
   "source": [
    "The accuracy for this model increases from 67% to 76%. However, on our training data we have an accuracy of 100%. This indicates that the model is highly over-fit, because a. We can not have 100% accuracy in this case, and b. The accuracy on the training set is MUCH higher than the test set."
   ]
  },
  {
   "cell_type": "markdown",
   "metadata": {},
   "source": [
    "**3.2** **How many of the coefficients estimated by this multiple logistic regression in the previous part are significantly different from zero at a *significance level of 5%*? Use the same value of C=100000 as before.**\n",
    "\n",
    "**Hint:** **To answer this question, use *bootstrapping* with 1000 bootstrap samples/iterations.**  \n"
   ]
  },
  {
   "cell_type": "code",
   "execution_count": 273,
   "metadata": {},
   "outputs": [
    {
     "name": "stdout",
     "output_type": "stream",
     "text": [
      "Progress: [####################] 100.0%\n"
     ]
    }
   ],
   "source": [
    "np.random.seed(None)\n",
    "\n",
    "samples = 1000\n",
    "alpha = 0.05\n",
    "\n",
    "x_vals = len(X_train_bs.columns)\n",
    "\n",
    "updateStatusBar(0)\n",
    "slopes = np.zeros((samples, x_vals + 1))\n",
    "for i in range(samples):\n",
    "    X, X_bs, y, y_bs = train_test_split(df.loc[:, df.columns != 'Cancer_type'], \n",
    "                                                         df.Cancer_type, test_size=0.2, \n",
    "                                                         random_state = None, \n",
    "                                                         stratify = df.Cancer_type)\n",
    "    \n",
    "    #X_bs = df_bs.drop('Cancer_type', axis=1)\n",
    "    #y_bs = df_bs['Cancer_type']\n",
    "    \n",
    "    X_bs_n = \\\n",
    "        pd.DataFrame(MinMaxScaler().fit_transform(X_bs.values), columns=X_bs.columns, index=X_bs.index)\n",
    "    \n",
    "    # Update timing status\n",
    "    updateStatusBar(float(i)/samples)\n",
    "    \n",
    "    # Perfrorm logistic regression on new sample\n",
    "    lr = LogisticRegression(C=100000, solver='liblinear')\n",
    "    lr.fit(sm.add_constant(X_bs_n), y_bs)\n",
    "    \n",
    "    # Save slope\n",
    "    slopes[i] = lr.coef_\n",
    "updateStatusBar(1)"
   ]
  },
  {
   "cell_type": "code",
   "execution_count": 275,
   "metadata": {},
   "outputs": [
    {
     "name": "stdout",
     "output_type": "stream",
     "text": [
      "[ 0.892  0.588  0.334 ...,  0.296  0.866  0.667]\n",
      "\n",
      "27 predictors significant at 5.0% level at indices:\n",
      "[ 411  429  773 1709 1778 1881 2241 2287 2736 3251 3319 3558 4115 4341 4365\n",
      " 4406 4672 4846 4950 5106 5650 5744 5983 6040 6214 6377 6841]\n"
     ]
    },
    {
     "data": {
      "image/png": "[encoded data removed]",
      "text/plain": [
       "<matplotlib.figure.Figure at 0xe4c56a0>"
      ]
     },
     "metadata": {},
     "output_type": "display_data"
    }
   ],
   "source": [
    "# For each predictor, calculat the percentage of positive coefficients from bootstrapping\n",
    "p_values = np.zeros(x_vals)\n",
    "for x in range(1,x_vals + 1):\n",
    "    p_values[x-1] = float(len([num for num in slopes[:,x] if num > 0]))/len(slopes[:,x])\n",
    "print(p_values)\n",
    "\n",
    "stat_sig = np.argwhere((p_values<=alpha/2) | (p_values>=(1-alpha/2))).T[0]\n",
    "print('\\n{} predictors significant at {:1.2}% level at indices:'.format(len(stat_sig), alpha*100))\n",
    "print(stat_sig)\n",
    "plt.hist(p_values,bins=20)\n",
    "plt.title = 'p-value distribution'\n",
    "plt.show()"
   ]
  },
  {
   "cell_type": "code",
   "execution_count": 277,
   "metadata": {},
   "outputs": [
    {
     "name": "stdout",
     "output_type": "stream",
     "text": [
      "('Training Accuracy:', 0.57737104825291186)\n",
      "('Test Accuracy:', 0.47019867549668876)\n",
      "('Coefficients:', array([[-0.26375955, -0.48383394, -1.43796671,  1.23718629,  0.40412198,\n",
      "         0.18577576,  0.0255213 , -0.08739685, -0.16844562,  0.58530993,\n",
      "         0.49113528, -0.97935082,  0.50576255, -0.17482137,  0.36244309,\n",
      "        -0.66078182, -0.19541494,  0.02336708, -0.05845579,  0.36437376,\n",
      "        -0.67812565,  0.0677059 , -0.33035635,  1.07411593,  1.91408623,\n",
      "        -0.14013386, -0.4893639 , -0.68534317]]))\n"
     ]
    }
   ],
   "source": [
    "# Run logistic regression using only statistically significant values\n",
    "lr = LogisticRegression(C=100000, solver='liblinear')\n",
    "lr.fit(sm.add_constant(X_train_n.iloc[:,stat_sig]), y_train)\n",
    "\n",
    "y_hat_train = lr.predict(sm.add_constant(X_train_n.iloc[:,stat_sig]))\n",
    "train_accuracy = accuracy_score(y_train.values, y_hat_train)\n",
    "y_hat_test = lr.predict(sm.add_constant(X_test_n.iloc[:,stat_sig]))\n",
    "test_accuracy = accuracy_score(y_test.values, y_hat_test)\n",
    "\n",
    "print('Training Accuracy:', train_accuracy)\n",
    "print('Test Accuracy:', test_accuracy)\n",
    "print('Coefficients:', lr.coef_)"
   ]
  },
  {
   "cell_type": "markdown",
   "metadata": {},
   "source": [
    "###### **3.3 Open question: Comment on the classification accuracy of training and test set? Given the results above how would you assest the generalization capacity of your trained model? What other tests would you suggest to better guard against false sense of security on the accuracy of the model as a whole.**"
   ]
  },
  {
   "cell_type": "markdown",
   "metadata": {},
   "source": [
    "The training and test set are far over-fitting the data by included data that is not statistically significant. I would remove the values that don't meet a significance level of 0.05"
   ]
  },
  {
   "cell_type": "markdown",
   "metadata": {},
   "source": [
    "**3.4 Now use regularization to improve predictions from the multiple logistic regression model.  Use LASSO-like regularization and cross-validation within the training set to tune the model.  Report the classification accuracy on both the training and test set.**"
   ]
  },
  {
   "cell_type": "code",
   "execution_count": 28,
   "metadata": {
    "collapsed": true
   },
   "outputs": [],
   "source": [
    "# your code here\n"
   ]
  },
  {
   "cell_type": "code",
   "execution_count": 245,
   "metadata": {},
   "outputs": [
    {
     "data": {
      "text/plain": [
       "array([6854, 4846, 2287, 4365, 3319, 4195, 7118, 4972, 5053, 4581], dtype=int64)"
      ]
     },
     "execution_count": 245,
     "metadata": {},
     "output_type": "execute_result"
    }
   ],
   "source": [
    "relevant_genes.values\n",
    "print(np.where(p))"
   ]
  },
  {
   "cell_type": "code",
   "execution_count": null,
   "metadata": {
    "collapsed": true
   },
   "outputs": [],
   "source": []
  },
  {
   "cell_type": "markdown",
   "metadata": {},
   "source": [
    "**3.5: Do the 10 best predictors from Q1 hold up as important features in this regularized model?  If not, explain why this is the case (feel free to use the data to support your explanation).**"
   ]
  },
  {
   "cell_type": "code",
   "execution_count": 29,
   "metadata": {
    "collapsed": true
   },
   "outputs": [],
   "source": [
    "# your code here\n"
   ]
  },
  {
   "cell_type": "code",
   "execution_count": 30,
   "metadata": {
    "collapsed": true
   },
   "outputs": [],
   "source": [
    "# your code here\n"
   ]
  },
  {
   "cell_type": "code",
   "execution_count": 31,
   "metadata": {
    "collapsed": true
   },
   "outputs": [],
   "source": [
    "# your code here\n"
   ]
  },
  {
   "cell_type": "code",
   "execution_count": 32,
   "metadata": {
    "collapsed": true
   },
   "outputs": [],
   "source": [
    "# your code here\n"
   ]
  },
  {
   "cell_type": "markdown",
   "metadata": {},
   "source": [
    "*your answer here* \n"
   ]
  },
  {
   "cell_type": "code",
   "execution_count": null,
   "metadata": {
    "collapsed": true
   },
   "outputs": [],
   "source": []
  },
  {
   "cell_type": "code",
   "execution_count": null,
   "metadata": {
    "collapsed": true
   },
   "outputs": [],
   "source": []
  },
  {
   "cell_type": "markdown",
   "metadata": {},
   "source": [
    "<div class='exercise'> <b> Question 4 [25pts]: Multi Class Log Regression </b> </div>"
   ]
  },
  {
   "cell_type": "markdown",
   "metadata": {},
   "source": [
    "**4.1** Load the data from `hw4_mc_enhance.csv.zip` and examine its structure. How many instances of each class are there in our dataset? \n",
    "\n",
    "**4.2** Split the dataset into train and test, 80-20 split, random_state = 8. \n",
    "\n",
    "We are going to utilize these two features - 'M31523_at', 'X95735_at'.  Create a scatter plot of these two features using the training dataset.  It should be easily discernable via labeling/marking in the plot which observations belong to which `cancer_type`.\n",
    "\n",
    "**4.3** Fit the following two models using crossvalidation: \n",
    "- Logistic Regression Multiclass model with linear features. \n",
    "- Logistic Regression Multiclass model with Polynomial features, degree = 2.\n",
    "\n",
    "**4.4** Plot the decision boundaries for each model and interpret the results. Hint: You may utilize the function `overlay_decision_boundary`. \n",
    "\n",
    "**4.5** Report and plot the CV scores for the two models and interpret. \n"
   ]
  },
  {
   "cell_type": "markdown",
   "metadata": {},
   "source": [
    "<hr>\n",
    "### Solutions"
   ]
  },
  {
   "cell_type": "markdown",
   "metadata": {},
   "source": [
    "**4.1 Load the data from `hw4_mc_enhance.csv.zip` and examine its structure. How many instances of each class are there in our dataset?**"
   ]
  },
  {
   "cell_type": "code",
   "execution_count": 37,
   "metadata": {
    "collapsed": true
   },
   "outputs": [],
   "source": [
    "#your code here\n"
   ]
  },
  {
   "cell_type": "code",
   "execution_count": 41,
   "metadata": {
    "collapsed": true
   },
   "outputs": [],
   "source": [
    "#your code here \n"
   ]
  },
  {
   "cell_type": "markdown",
   "metadata": {},
   "source": [
    "**4.2 Split the dataset into train and test, 80-20 split, random_state = 8.**\n",
    "\n",
    "**We are going to utilize these two features - 'M31523_at', 'X95735_at'.  Create a scatter plot of these two features using training dataset.  We should be able to discern from the plot which sample belongs to which `cancer_type`.** "
   ]
  },
  {
   "cell_type": "code",
   "execution_count": 42,
   "metadata": {
    "collapsed": true
   },
   "outputs": [],
   "source": [
    "# your code here\n"
   ]
  },
  {
   "cell_type": "code",
   "execution_count": 62,
   "metadata": {
    "collapsed": true
   },
   "outputs": [],
   "source": [
    "# your code here\n"
   ]
  },
  {
   "cell_type": "markdown",
   "metadata": {},
   "source": [
    "**4.3  Fit the following two models using crossvalidation:**\n",
    "\n",
    "**Logistic Regression Multiclass model with linear features.**\n",
    "\n",
    "**Logistic Regression Multiclass model with Polynomial features, degree = 2.**\n"
   ]
  },
  {
   "cell_type": "code",
   "execution_count": 63,
   "metadata": {
    "collapsed": true
   },
   "outputs": [],
   "source": [
    "# your code here\n"
   ]
  },
  {
   "cell_type": "code",
   "execution_count": 66,
   "metadata": {
    "collapsed": true
   },
   "outputs": [],
   "source": [
    "# your code here\n"
   ]
  },
  {
   "cell_type": "markdown",
   "metadata": {},
   "source": [
    "**4.4 Plot the decision boundary and interpret results. Hint: You may utilize the function `overlay_decision_boundary`** \n"
   ]
  },
  {
   "cell_type": "code",
   "execution_count": 67,
   "metadata": {
    "collapsed": true
   },
   "outputs": [],
   "source": [
    "def overlay_decision_boundary(ax, model, colors=None, nx=200, ny=200, desaturate=.5, xlim=None, ylim=None):\n",
    "    \"\"\"\n",
    "    A function that visualizes the decision boundaries of a classifier.\n",
    "    \n",
    "    ax: Matplotlib Axes to plot on\n",
    "    model: Classifier to use.\n",
    "     - if `model` has a `.predict` method, like an sklearn classifier, we call `model.predict(X)`\n",
    "     - otherwise, we simply call `model(X)`\n",
    "    colors: list or dict of colors to use. Use color `colors[i]` for class i.\n",
    "     - If colors is not provided, uses the current color cycle\n",
    "    nx, ny: number of mesh points to evaluated the classifier on\n",
    "    desaturate: how much to desaturate each of the colors (for better contrast with the sample points)\n",
    "    xlim, ylim: range to plot on. (If the default, None, is passed, the limits will be taken from `ax`.)\n",
    "    \"\"\"\n",
    "    # Create mesh.\n",
    "    xmin, xmax = ax.get_xlim() if xlim is None else xlim\n",
    "    ymin, ymax = ax.get_ylim() if ylim is None else ylim\n",
    "    xx, yy = np.meshgrid(\n",
    "        np.linspace(xmin, xmax, nx),\n",
    "        np.linspace(ymin, ymax, ny))\n",
    "    X = np.c_[xx.flatten(), yy.flatten()]\n",
    "\n",
    "    # Predict on mesh of points.\n",
    "    model = getattr(model, 'predict', model)\n",
    "    y = model(X)\n",
    "    #print(\"Do I predict\" , y)\n",
    "    \n",
    "    \n",
    "#     y[np.where(y=='aml')]=3\n",
    "#     y[np.where(y=='allT')]=2\n",
    "#     y[np.where(y=='allB')]=1\n",
    "    \n",
    "    \n",
    "    \n",
    "    y = y.astype(int) # This may be necessary for 32-bit Python.\n",
    "    y = y.reshape((nx, ny))\n",
    "\n",
    "    # Generate colormap.\n",
    "    if colors is None:\n",
    "        # If colors not provided, use the current color cycle.\n",
    "        # Shift the indices so that the lowest class actually predicted gets the first color.\n",
    "        # ^ This is a bit magic, consider removing for next year.\n",
    "        colors = (['white'] * np.min(y)) + sns.utils.get_color_cycle()\n",
    "\n",
    "    if isinstance(colors, dict):\n",
    "        missing_colors = [idx for idx in np.unique(y) if idx not in colors]\n",
    "        assert len(missing_colors) == 0, f\"Color not specified for predictions {missing_colors}.\"\n",
    "\n",
    "        # Make a list of colors, filling in items from the dict.\n",
    "        color_list = ['white'] * (np.max(y) + 1)\n",
    "        for idx, val in colors.items():\n",
    "            color_list[idx] = val\n",
    "    else:\n",
    "        assert len(colors) >= np.max(y) + 1, \"Insufficient colors passed for all predictions.\"\n",
    "        color_list = colors\n",
    "    color_list = [sns.utils.desaturate(color, desaturate) for color in color_list]\n",
    "    cmap = matplotlib.colors.ListedColormap(color_list)\n",
    "\n",
    "    # Plot decision surface\n",
    "    ax.pcolormesh(xx, yy, y, zorder=-2, cmap=cmap, norm=matplotlib.colors.NoNorm(), vmin=0, vmax=y.max() + 1)\n",
    "    xx = xx.reshape(nx, ny)\n",
    "    yy = yy.reshape(nx, ny)\n",
    "    if len(np.unique(y)) > 1:\n",
    "        ax.contour(xx, yy, y, colors=\"black\", linewidths=1, zorder=-1)\n",
    "    else:\n",
    "        print(\"Warning: only one class predicted, so not plotting contour lines.\")"
   ]
  },
  {
   "cell_type": "code",
   "execution_count": 68,
   "metadata": {
    "collapsed": true
   },
   "outputs": [],
   "source": [
    "# Your code here\n"
   ]
  },
  {
   "cell_type": "code",
   "execution_count": 70,
   "metadata": {
    "collapsed": true
   },
   "outputs": [],
   "source": [
    "# your code here\n"
   ]
  },
  {
   "cell_type": "markdown",
   "metadata": {},
   "source": [
    "**4.5 Report and plot the CV scores for the two models and interpret.**"
   ]
  },
  {
   "cell_type": "code",
   "execution_count": 71,
   "metadata": {
    "collapsed": true
   },
   "outputs": [],
   "source": [
    "# your code here\n"
   ]
  },
  {
   "cell_type": "code",
   "execution_count": 72,
   "metadata": {
    "collapsed": true
   },
   "outputs": [],
   "source": [
    "# your code here\n"
   ]
  },
  {
   "cell_type": "markdown",
   "metadata": {},
   "source": [
    "<div class='exercise'><b> Question 5: [10 pts] Including an 'abstain' option </b></div>\n",
    "\n",
    "One of the reasons a hospital might be hesitant to use your cancer classification model is that a misdiagnosis by the model on a patient can sometimes prove to be very costly (e.g. if the patient were to file a law suit seeking a compensation for damages). One way to mitigate this concern is to allow the model to 'abstain' from making a prediction: whenever it is uncertain about the diagnosis for a patient. However, when the model abstains from making a prediction, the hospital will have to forward the patient to a specialist, which would incur additional cost.  How could one design a cancer classification model with an abstain option, such that the cost to the hospital is minimized?\n",
    "\n",
    "*Hint:* Think of ways to build on top of the logistic regression model and have it abstain on patients who are difficult to classify."
   ]
  },
  {
   "cell_type": "markdown",
   "metadata": {},
   "source": [
    "**5.1** More specifically, suppose the cost incurred by a hospital when a model mis-predicts on a patient is $\\$5000$ , and the cost incurred when the model abstains from making a prediction is \\$1000. What is the average cost per patient for the OvR logistic regression model (without quadratic or interaction terms) from **Question 4**.  Note that this needs to be evaluated on the patients in the test set. "
   ]
  },
  {
   "cell_type": "markdown",
   "metadata": {},
   "source": [
    "**5.2** Design a classification strategy (into the 3 groups plus the *abstain* group) that has as low cost as possible per patient (certainly lower cost per patient than the logistic regression model).   Give a justification for your approach."
   ]
  },
  {
   "cell_type": "markdown",
   "metadata": {},
   "source": [
    "<hr>\n",
    "### Solutions"
   ]
  },
  {
   "cell_type": "markdown",
   "metadata": {},
   "source": [
    "**5.1 More specifically, suppose the cost incurred by a hospital when a model mis-predicts on a patient is $\\$5000$ , and the cost incurred when the model abstains from making a prediction is \\$1000. What is the average cost per patient for the OvR logistic regression model (without quadratic or interaction terms) from Question 4.  Note that this needs to be evaluated on the patients in the test set.**\n",
    "**\n",
    "...\n",
    "**"
   ]
  },
  {
   "cell_type": "markdown",
   "metadata": {},
   "source": [
    "*your answer here* \n"
   ]
  },
  {
   "cell_type": "code",
   "execution_count": 73,
   "metadata": {
    "collapsed": true
   },
   "outputs": [],
   "source": [
    "# your code here\n"
   ]
  },
  {
   "cell_type": "markdown",
   "metadata": {},
   "source": [
    "**5.2 Design a classification strategy (into the 3 groups plus the *abstain* group) that has as low cost as possible per patient (certainly lower cost per patient than the logistic regression model).   Give a justification for your approach.**"
   ]
  },
  {
   "cell_type": "code",
   "execution_count": 74,
   "metadata": {
    "collapsed": true
   },
   "outputs": [],
   "source": [
    "# your code here\n"
   ]
  },
  {
   "cell_type": "code",
   "execution_count": null,
   "metadata": {
    "collapsed": true
   },
   "outputs": [],
   "source": []
  },
  {
   "cell_type": "code",
   "execution_count": null,
   "metadata": {
    "collapsed": true
   },
   "outputs": [],
   "source": []
  }
 ],
 "metadata": {
  "kernelspec": {
   "display_name": "Python 2",
   "language": "python",
   "name": "python2"
  },
  "language_info": {
   "codemirror_mode": {
    "name": "ipython",
    "version": 2
   },
   "file_extension": ".py",
   "mimetype": "text/x-python",
   "name": "python",
   "nbconvert_exporter": "python",
   "pygments_lexer": "ipython2",
   "version": "2.7.13"
  }
 },
 "nbformat": 4,
 "nbformat_minor": 2
}
